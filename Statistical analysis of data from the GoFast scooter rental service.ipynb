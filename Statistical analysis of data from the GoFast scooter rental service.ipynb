{
 "cells": [
  {
   "cell_type": "markdown",
   "id": "3c09c1b3",
   "metadata": {},
   "source": [
    "**Проект: Статистический анализ данных сервиса аренды самокатов GoFast**"
   ]
  },
  {
   "cell_type": "markdown",
   "id": "f7dcc5eb",
   "metadata": {},
   "source": [
    "## Введение"
   ]
  },
  {
   "cell_type": "markdown",
   "id": "c2fc9999",
   "metadata": {},
   "source": [
    "**Задачи исследования** - проанализировать данные, провести расчеты, проверить гипотезы, которые мешают бизнесу вырасти.\n",
    "\n",
    "**Цель исследования** - на основе полученных результатов сделать выводы и дать рекомендации по усовершенствованию бизнеса.\n",
    "\n",
    "**Данные для анализа** – информация о пользователях сервиса аренды самокатов Go Fast, их поездках и подписках.\n",
    "\n",
    "**Этапы исследования**\n",
    "\n",
    "Работу над проектом будем проводить в несколько этапов:\n",
    "\n",
    "* Шаг 1. *Загрузка данных*\n",
    "* Шаг 2. *Предобработка данных* (данный этап включает в себя также создание вспомогательных столбцов/параметров, которые потребуются для дальнейшего исследования)\n",
    "* Шаг 3. *Исследовательский анализ данных* (на этом этапе проанализируем некотороые параметры, рассмотрим выбросы: частота встречаемости городов; соотношение пользователей с подпиской и без подписки; возраст пользователей; расстояние, которое пользователь преодолел за одну поездку; продолжительность поездок)\n",
    "* Шаг 4. *Объединение данных* (создадим общий датафрейм с информацией о пользователях, поездках и подписках, а также создадим отдельные датафреймы c данными о пользователях без подписки и с подпиской)\n",
    "* Шаг 5. *Подсчёт выручки* (рассчитаем помесячную выручку, которую принёс каждый пользователь)\n",
    "* Шаг 6. *Проверка гипотез* (проверим гипотезы, сделаем выводы)\n",
    "* Шаг 7. *Распределения* (проведем исследования, сделаем выводы)"
   ]
  },
  {
   "cell_type": "code",
   "execution_count": 1,
   "id": "226f9dad",
   "metadata": {},
   "outputs": [],
   "source": [
    "import pandas as pd\n",
    "import numpy as np\n",
    "import seaborn as sns\n",
    "import matplotlib.pyplot as plt\n",
    "from math import sqrt, factorial\n",
    "from scipy import stats as st\n",
    "from scipy.stats import binom, poisson, norm"
   ]
  },
  {
   "cell_type": "markdown",
   "id": "c42cbe00",
   "metadata": {},
   "source": [
    "## Шаг 1. Загрузка данных"
   ]
  },
  {
   "cell_type": "markdown",
   "id": "2d900fcd",
   "metadata": {},
   "source": [
    "### Считаем и сохраним данные\n",
    "\n",
    "Считаем CSV-файлы с данными с помощью библиотеки pandas и сохраним их в датафреймы. \n",
    "В основных данных есть информация о пользователях, их поездках и подписках."
   ]
  },
  {
   "cell_type": "code",
   "execution_count": 2,
   "id": "005777c7",
   "metadata": {},
   "outputs": [],
   "source": [
    "data_users = pd.read_csv('/datasets/users_go.csv') # информация о пользователях"
   ]
  },
  {
   "cell_type": "code",
   "execution_count": 3,
   "id": "42716670",
   "metadata": {},
   "outputs": [],
   "source": [
    "data_rides = pd.read_csv('/datasets/rides_go.csv') # информация о поездках"
   ]
  },
  {
   "cell_type": "code",
   "execution_count": 4,
   "id": "8b004291",
   "metadata": {},
   "outputs": [],
   "source": [
    "data_subscriptions = pd.read_csv('/datasets/subscriptions_go.csv') # информация о подписках"
   ]
  },
  {
   "cell_type": "markdown",
   "id": "4a8d16f1",
   "metadata": {},
   "source": [
    "### Изучение общей информации"
   ]
  },
  {
   "cell_type": "markdown",
   "id": "dbdb484c",
   "metadata": {},
   "source": [
    "Выведем первые строки каждого набора данных. Изучим общую информацию о каждом датафрейме.\n",
    "\n",
    "В целях оптимизации кода для получения информации о каждом датафрейме создадим функцию check_df:"
   ]
  },
  {
   "cell_type": "code",
   "execution_count": 5,
   "id": "fa3ffaca",
   "metadata": {},
   "outputs": [],
   "source": [
    "def check_df (df):\n",
    "    display(df.head())  # первые 5 строк\n",
    "    display(df.info())  # общая информация\n",
    "    display(df.columns) # наименования столбцов"
   ]
  },
  {
   "cell_type": "markdown",
   "id": "64f377e5",
   "metadata": {},
   "source": [
    "#### Датафрейм с информацей о пользователях (data_users)"
   ]
  },
  {
   "cell_type": "code",
   "execution_count": 6,
   "id": "0a54be7b",
   "metadata": {},
   "outputs": [
    {
     "data": {
      "text/html": [
       "<div>\n",
       "<style scoped>\n",
       "    .dataframe tbody tr th:only-of-type {\n",
       "        vertical-align: middle;\n",
       "    }\n",
       "\n",
       "    .dataframe tbody tr th {\n",
       "        vertical-align: top;\n",
       "    }\n",
       "\n",
       "    .dataframe thead th {\n",
       "        text-align: right;\n",
       "    }\n",
       "</style>\n",
       "<table border=\"1\" class=\"dataframe\">\n",
       "  <thead>\n",
       "    <tr style=\"text-align: right;\">\n",
       "      <th></th>\n",
       "      <th>user_id</th>\n",
       "      <th>name</th>\n",
       "      <th>age</th>\n",
       "      <th>city</th>\n",
       "      <th>subscription_type</th>\n",
       "    </tr>\n",
       "  </thead>\n",
       "  <tbody>\n",
       "    <tr>\n",
       "      <th>0</th>\n",
       "      <td>1</td>\n",
       "      <td>Кира</td>\n",
       "      <td>22</td>\n",
       "      <td>Тюмень</td>\n",
       "      <td>ultra</td>\n",
       "    </tr>\n",
       "    <tr>\n",
       "      <th>1</th>\n",
       "      <td>2</td>\n",
       "      <td>Станислав</td>\n",
       "      <td>31</td>\n",
       "      <td>Омск</td>\n",
       "      <td>ultra</td>\n",
       "    </tr>\n",
       "    <tr>\n",
       "      <th>2</th>\n",
       "      <td>3</td>\n",
       "      <td>Алексей</td>\n",
       "      <td>20</td>\n",
       "      <td>Москва</td>\n",
       "      <td>ultra</td>\n",
       "    </tr>\n",
       "    <tr>\n",
       "      <th>3</th>\n",
       "      <td>4</td>\n",
       "      <td>Константин</td>\n",
       "      <td>26</td>\n",
       "      <td>Ростов-на-Дону</td>\n",
       "      <td>ultra</td>\n",
       "    </tr>\n",
       "    <tr>\n",
       "      <th>4</th>\n",
       "      <td>5</td>\n",
       "      <td>Адель</td>\n",
       "      <td>28</td>\n",
       "      <td>Омск</td>\n",
       "      <td>ultra</td>\n",
       "    </tr>\n",
       "  </tbody>\n",
       "</table>\n",
       "</div>"
      ],
      "text/plain": [
       "   user_id        name  age            city subscription_type\n",
       "0        1        Кира   22          Тюмень             ultra\n",
       "1        2   Станислав   31            Омск             ultra\n",
       "2        3     Алексей   20          Москва             ultra\n",
       "3        4  Константин   26  Ростов-на-Дону             ultra\n",
       "4        5       Адель   28            Омск             ultra"
      ]
     },
     "metadata": {},
     "output_type": "display_data"
    },
    {
     "name": "stdout",
     "output_type": "stream",
     "text": [
      "<class 'pandas.core.frame.DataFrame'>\n",
      "RangeIndex: 1565 entries, 0 to 1564\n",
      "Data columns (total 5 columns):\n",
      " #   Column             Non-Null Count  Dtype \n",
      "---  ------             --------------  ----- \n",
      " 0   user_id            1565 non-null   int64 \n",
      " 1   name               1565 non-null   object\n",
      " 2   age                1565 non-null   int64 \n",
      " 3   city               1565 non-null   object\n",
      " 4   subscription_type  1565 non-null   object\n",
      "dtypes: int64(2), object(3)\n",
      "memory usage: 61.3+ KB\n"
     ]
    },
    {
     "data": {
      "text/plain": [
       "None"
      ]
     },
     "metadata": {},
     "output_type": "display_data"
    },
    {
     "data": {
      "text/plain": [
       "Index(['user_id', 'name', 'age', 'city', 'subscription_type'], dtype='object')"
      ]
     },
     "metadata": {},
     "output_type": "display_data"
    }
   ],
   "source": [
    "check_df (data_users)"
   ]
  },
  {
   "cell_type": "markdown",
   "id": "1e1e21f6",
   "metadata": {},
   "source": [
    "Итак, мы видим, что в данной выборке с информацей о пользователях содержится:\n",
    "\n",
    "* 1565 строк (количество пользователей)\n",
    "* 5 столбцов (каждое описание пользователя содержит 5 параметров)\n",
    "\n",
    "Все наименования столбцов корректны и пригодны для дальнейшей работы:\n",
    "* **user_id** - уникальный идентификатор пользователя\n",
    "* **name** - имя пользователя\n",
    "* **age** - возраст\n",
    "* **city** - город\n",
    "* **subscription_type** - тип подписки (free, ultra)\n",
    "\n",
    "Заметим, что пропусков нет, тип данных корректный во всех столбцах. Все наименования столбцов корректны и пригодны для дальнейшей работы."
   ]
  },
  {
   "cell_type": "markdown",
   "id": "fb99562e",
   "metadata": {},
   "source": [
    "#### Датафрейм с информацей о поездках (data_rides)"
   ]
  },
  {
   "cell_type": "code",
   "execution_count": 7,
   "id": "340fec91",
   "metadata": {},
   "outputs": [
    {
     "data": {
      "text/html": [
       "<div>\n",
       "<style scoped>\n",
       "    .dataframe tbody tr th:only-of-type {\n",
       "        vertical-align: middle;\n",
       "    }\n",
       "\n",
       "    .dataframe tbody tr th {\n",
       "        vertical-align: top;\n",
       "    }\n",
       "\n",
       "    .dataframe thead th {\n",
       "        text-align: right;\n",
       "    }\n",
       "</style>\n",
       "<table border=\"1\" class=\"dataframe\">\n",
       "  <thead>\n",
       "    <tr style=\"text-align: right;\">\n",
       "      <th></th>\n",
       "      <th>user_id</th>\n",
       "      <th>distance</th>\n",
       "      <th>duration</th>\n",
       "      <th>date</th>\n",
       "    </tr>\n",
       "  </thead>\n",
       "  <tbody>\n",
       "    <tr>\n",
       "      <th>0</th>\n",
       "      <td>1</td>\n",
       "      <td>4409.919140</td>\n",
       "      <td>25.599769</td>\n",
       "      <td>2021-01-01</td>\n",
       "    </tr>\n",
       "    <tr>\n",
       "      <th>1</th>\n",
       "      <td>1</td>\n",
       "      <td>2617.592153</td>\n",
       "      <td>15.816871</td>\n",
       "      <td>2021-01-18</td>\n",
       "    </tr>\n",
       "    <tr>\n",
       "      <th>2</th>\n",
       "      <td>1</td>\n",
       "      <td>754.159807</td>\n",
       "      <td>6.232113</td>\n",
       "      <td>2021-04-20</td>\n",
       "    </tr>\n",
       "    <tr>\n",
       "      <th>3</th>\n",
       "      <td>1</td>\n",
       "      <td>2694.783254</td>\n",
       "      <td>18.511000</td>\n",
       "      <td>2021-08-11</td>\n",
       "    </tr>\n",
       "    <tr>\n",
       "      <th>4</th>\n",
       "      <td>1</td>\n",
       "      <td>4028.687306</td>\n",
       "      <td>26.265803</td>\n",
       "      <td>2021-08-28</td>\n",
       "    </tr>\n",
       "  </tbody>\n",
       "</table>\n",
       "</div>"
      ],
      "text/plain": [
       "   user_id     distance   duration        date\n",
       "0        1  4409.919140  25.599769  2021-01-01\n",
       "1        1  2617.592153  15.816871  2021-01-18\n",
       "2        1   754.159807   6.232113  2021-04-20\n",
       "3        1  2694.783254  18.511000  2021-08-11\n",
       "4        1  4028.687306  26.265803  2021-08-28"
      ]
     },
     "metadata": {},
     "output_type": "display_data"
    },
    {
     "name": "stdout",
     "output_type": "stream",
     "text": [
      "<class 'pandas.core.frame.DataFrame'>\n",
      "RangeIndex: 18068 entries, 0 to 18067\n",
      "Data columns (total 4 columns):\n",
      " #   Column    Non-Null Count  Dtype  \n",
      "---  ------    --------------  -----  \n",
      " 0   user_id   18068 non-null  int64  \n",
      " 1   distance  18068 non-null  float64\n",
      " 2   duration  18068 non-null  float64\n",
      " 3   date      18068 non-null  object \n",
      "dtypes: float64(2), int64(1), object(1)\n",
      "memory usage: 564.8+ KB\n"
     ]
    },
    {
     "data": {
      "text/plain": [
       "None"
      ]
     },
     "metadata": {},
     "output_type": "display_data"
    },
    {
     "data": {
      "text/plain": [
       "Index(['user_id', 'distance', 'duration', 'date'], dtype='object')"
      ]
     },
     "metadata": {},
     "output_type": "display_data"
    }
   ],
   "source": [
    "check_df (data_rides)"
   ]
  },
  {
   "cell_type": "markdown",
   "id": "70d33616",
   "metadata": {},
   "source": [
    "Итак, мы видим, что в данной выборке с информацей о поездках содержится:\n",
    "\n",
    "* 18068 строк (количество поездок)\n",
    "* 4 столбца (описание каждой поездки содержит 4 параметра)\n",
    "\n",
    "Все наименования столбцов корректны и пригодны для дальнейшей работы:\n",
    "* **user_id** -\tуникальный идентификатор пользователя\n",
    "* **distance** - расстояние, которое пользователь проехал в текущей сессии (в метрах)\n",
    "* **duration** - продолжительность сессии (в минутах) — время с того момента, как пользователь нажал кнопку «Начать поездку» до момента, как он нажал кнопку «Завершить поездку»\n",
    "* **date** - дата совершения поездки\n",
    "\n",
    "Пропусков в столбцах нет. Заметим, что в столбце 'date' некорректный тип данных (к этому вопросу вернемся на следующем этапе). Все наименования столбцов корректны и пригодны для дальнейшей работы."
   ]
  },
  {
   "cell_type": "markdown",
   "id": "7470ca76",
   "metadata": {},
   "source": [
    "#### Датафрейм с информацей о подписках (data_subscriptions)"
   ]
  },
  {
   "cell_type": "code",
   "execution_count": 8,
   "id": "cda5829c",
   "metadata": {},
   "outputs": [
    {
     "data": {
      "text/html": [
       "<div>\n",
       "<style scoped>\n",
       "    .dataframe tbody tr th:only-of-type {\n",
       "        vertical-align: middle;\n",
       "    }\n",
       "\n",
       "    .dataframe tbody tr th {\n",
       "        vertical-align: top;\n",
       "    }\n",
       "\n",
       "    .dataframe thead th {\n",
       "        text-align: right;\n",
       "    }\n",
       "</style>\n",
       "<table border=\"1\" class=\"dataframe\">\n",
       "  <thead>\n",
       "    <tr style=\"text-align: right;\">\n",
       "      <th></th>\n",
       "      <th>subscription_type</th>\n",
       "      <th>minute_price</th>\n",
       "      <th>start_ride_price</th>\n",
       "      <th>subscription_fee</th>\n",
       "    </tr>\n",
       "  </thead>\n",
       "  <tbody>\n",
       "    <tr>\n",
       "      <th>0</th>\n",
       "      <td>free</td>\n",
       "      <td>8</td>\n",
       "      <td>50</td>\n",
       "      <td>0</td>\n",
       "    </tr>\n",
       "    <tr>\n",
       "      <th>1</th>\n",
       "      <td>ultra</td>\n",
       "      <td>6</td>\n",
       "      <td>0</td>\n",
       "      <td>199</td>\n",
       "    </tr>\n",
       "  </tbody>\n",
       "</table>\n",
       "</div>"
      ],
      "text/plain": [
       "  subscription_type  minute_price  start_ride_price  subscription_fee\n",
       "0              free             8                50                 0\n",
       "1             ultra             6                 0               199"
      ]
     },
     "metadata": {},
     "output_type": "display_data"
    },
    {
     "name": "stdout",
     "output_type": "stream",
     "text": [
      "<class 'pandas.core.frame.DataFrame'>\n",
      "RangeIndex: 2 entries, 0 to 1\n",
      "Data columns (total 4 columns):\n",
      " #   Column             Non-Null Count  Dtype \n",
      "---  ------             --------------  ----- \n",
      " 0   subscription_type  2 non-null      object\n",
      " 1   minute_price       2 non-null      int64 \n",
      " 2   start_ride_price   2 non-null      int64 \n",
      " 3   subscription_fee   2 non-null      int64 \n",
      "dtypes: int64(3), object(1)\n",
      "memory usage: 192.0+ bytes\n"
     ]
    },
    {
     "data": {
      "text/plain": [
       "None"
      ]
     },
     "metadata": {},
     "output_type": "display_data"
    },
    {
     "data": {
      "text/plain": [
       "Index(['subscription_type', 'minute_price', 'start_ride_price',\n",
       "       'subscription_fee'],\n",
       "      dtype='object')"
      ]
     },
     "metadata": {},
     "output_type": "display_data"
    }
   ],
   "source": [
    "check_df (data_subscriptions)"
   ]
  },
  {
   "cell_type": "markdown",
   "id": "843b9da0",
   "metadata": {},
   "source": [
    "Выборка с информацей о подписках содержит:\n",
    "\n",
    "* 2 строки (2 возможных типа подписки)\n",
    "* 4 столбца (описание каждого типа подписки содержит 4 параметра)\n",
    "\n",
    "Все наименования столбцов корректны и пригодны для дальнейшей работы:\n",
    "* **subscription_type** - тип подписки\n",
    "* **minute_price** - стоимость одной минуты поездки по данной подписке\n",
    "* **start_ride_price** - стоимость начала поездки\n",
    "* **subscription_fee** - стоимость ежемесячного платежа\n",
    "\n",
    "Пропусков нет, тип данных и названия столбцов корректны.\n"
   ]
  },
  {
   "cell_type": "markdown",
   "id": "466b7828",
   "metadata": {},
   "source": [
    "## Шаг 2. Предобработка данных\n",
    "\n",
    "### Работа с некорректными типами переменных\n",
    "\n",
    "Как мы отметили ранее, в датафрейме data_rides в стоблце 'date' некорректный тип данных (object). Переведем данные в формат datetime:"
   ]
  },
  {
   "cell_type": "code",
   "execution_count": 9,
   "id": "2f873d60",
   "metadata": {},
   "outputs": [],
   "source": [
    "data_rides['date'] = pd.to_datetime(data_rides.date)"
   ]
  },
  {
   "cell_type": "code",
   "execution_count": 10,
   "id": "e8795b4c",
   "metadata": {},
   "outputs": [
    {
     "name": "stdout",
     "output_type": "stream",
     "text": [
      "<class 'pandas.core.frame.DataFrame'>\n",
      "RangeIndex: 18068 entries, 0 to 18067\n",
      "Data columns (total 4 columns):\n",
      " #   Column    Non-Null Count  Dtype         \n",
      "---  ------    --------------  -----         \n",
      " 0   user_id   18068 non-null  int64         \n",
      " 1   distance  18068 non-null  float64       \n",
      " 2   duration  18068 non-null  float64       \n",
      " 3   date      18068 non-null  datetime64[ns]\n",
      "dtypes: datetime64[ns](1), float64(2), int64(1)\n",
      "memory usage: 564.8 KB\n"
     ]
    }
   ],
   "source": [
    "data_rides.info()"
   ]
  },
  {
   "cell_type": "code",
   "execution_count": 11,
   "id": "11578471",
   "metadata": {},
   "outputs": [
    {
     "data": {
      "text/html": [
       "<div>\n",
       "<style scoped>\n",
       "    .dataframe tbody tr th:only-of-type {\n",
       "        vertical-align: middle;\n",
       "    }\n",
       "\n",
       "    .dataframe tbody tr th {\n",
       "        vertical-align: top;\n",
       "    }\n",
       "\n",
       "    .dataframe thead th {\n",
       "        text-align: right;\n",
       "    }\n",
       "</style>\n",
       "<table border=\"1\" class=\"dataframe\">\n",
       "  <thead>\n",
       "    <tr style=\"text-align: right;\">\n",
       "      <th></th>\n",
       "      <th>user_id</th>\n",
       "      <th>distance</th>\n",
       "      <th>duration</th>\n",
       "      <th>date</th>\n",
       "    </tr>\n",
       "  </thead>\n",
       "  <tbody>\n",
       "    <tr>\n",
       "      <th>0</th>\n",
       "      <td>1</td>\n",
       "      <td>4409.919140</td>\n",
       "      <td>25.599769</td>\n",
       "      <td>2021-01-01</td>\n",
       "    </tr>\n",
       "    <tr>\n",
       "      <th>1</th>\n",
       "      <td>1</td>\n",
       "      <td>2617.592153</td>\n",
       "      <td>15.816871</td>\n",
       "      <td>2021-01-18</td>\n",
       "    </tr>\n",
       "    <tr>\n",
       "      <th>2</th>\n",
       "      <td>1</td>\n",
       "      <td>754.159807</td>\n",
       "      <td>6.232113</td>\n",
       "      <td>2021-04-20</td>\n",
       "    </tr>\n",
       "    <tr>\n",
       "      <th>3</th>\n",
       "      <td>1</td>\n",
       "      <td>2694.783254</td>\n",
       "      <td>18.511000</td>\n",
       "      <td>2021-08-11</td>\n",
       "    </tr>\n",
       "    <tr>\n",
       "      <th>4</th>\n",
       "      <td>1</td>\n",
       "      <td>4028.687306</td>\n",
       "      <td>26.265803</td>\n",
       "      <td>2021-08-28</td>\n",
       "    </tr>\n",
       "  </tbody>\n",
       "</table>\n",
       "</div>"
      ],
      "text/plain": [
       "   user_id     distance   duration       date\n",
       "0        1  4409.919140  25.599769 2021-01-01\n",
       "1        1  2617.592153  15.816871 2021-01-18\n",
       "2        1   754.159807   6.232113 2021-04-20\n",
       "3        1  2694.783254  18.511000 2021-08-11\n",
       "4        1  4028.687306  26.265803 2021-08-28"
      ]
     },
     "execution_count": 11,
     "metadata": {},
     "output_type": "execute_result"
    }
   ],
   "source": [
    "data_rides.head()"
   ]
  },
  {
   "cell_type": "markdown",
   "id": "2a3ef7a2",
   "metadata": {},
   "source": [
    "### Добавление новых столбцов\n",
    "\n",
    "В датафрейме data_rides cоздадим новый столбец 'month' с номером месяца на основе столбца 'date':"
   ]
  },
  {
   "cell_type": "code",
   "execution_count": 12,
   "id": "4a286a61",
   "metadata": {},
   "outputs": [],
   "source": [
    "data_rides['month'] = data_rides['date'].dt.month"
   ]
  },
  {
   "cell_type": "markdown",
   "id": "59f5bb5f",
   "metadata": {},
   "source": [
    "Проверим, за какой год предоставлены данные, чтобы убедиться, что они актуальные. Также, если в данных присутствует информация за разные года, то проводить анализ нужно соответствующим образом - рассматривать данные по каждому году отдельно."
   ]
  },
  {
   "cell_type": "code",
   "execution_count": 13,
   "id": "401372b9",
   "metadata": {},
   "outputs": [
    {
     "data": {
      "text/plain": [
       "array([2021])"
      ]
     },
     "execution_count": 13,
     "metadata": {},
     "output_type": "execute_result"
    }
   ],
   "source": [
    "year_info = data_rides['date'].dt.year\n",
    "year_info.unique()"
   ]
  },
  {
   "cell_type": "markdown",
   "id": "f50b509e",
   "metadata": {},
   "source": [
    "Итак, все данные предоставлены за 2021 год, можно проводить анализ, рассматривая далее только месяц."
   ]
  },
  {
   "cell_type": "code",
   "execution_count": 14,
   "id": "fddede59",
   "metadata": {},
   "outputs": [
    {
     "name": "stdout",
     "output_type": "stream",
     "text": [
      "<class 'pandas.core.frame.DataFrame'>\n",
      "RangeIndex: 18068 entries, 0 to 18067\n",
      "Data columns (total 5 columns):\n",
      " #   Column    Non-Null Count  Dtype         \n",
      "---  ------    --------------  -----         \n",
      " 0   user_id   18068 non-null  int64         \n",
      " 1   distance  18068 non-null  float64       \n",
      " 2   duration  18068 non-null  float64       \n",
      " 3   date      18068 non-null  datetime64[ns]\n",
      " 4   month     18068 non-null  int64         \n",
      "dtypes: datetime64[ns](1), float64(2), int64(2)\n",
      "memory usage: 705.9 KB\n"
     ]
    }
   ],
   "source": [
    "data_rides.info()"
   ]
  },
  {
   "cell_type": "code",
   "execution_count": 15,
   "id": "aa4ba36f",
   "metadata": {},
   "outputs": [
    {
     "data": {
      "text/html": [
       "<div>\n",
       "<style scoped>\n",
       "    .dataframe tbody tr th:only-of-type {\n",
       "        vertical-align: middle;\n",
       "    }\n",
       "\n",
       "    .dataframe tbody tr th {\n",
       "        vertical-align: top;\n",
       "    }\n",
       "\n",
       "    .dataframe thead th {\n",
       "        text-align: right;\n",
       "    }\n",
       "</style>\n",
       "<table border=\"1\" class=\"dataframe\">\n",
       "  <thead>\n",
       "    <tr style=\"text-align: right;\">\n",
       "      <th></th>\n",
       "      <th>user_id</th>\n",
       "      <th>distance</th>\n",
       "      <th>duration</th>\n",
       "      <th>date</th>\n",
       "      <th>month</th>\n",
       "    </tr>\n",
       "  </thead>\n",
       "  <tbody>\n",
       "    <tr>\n",
       "      <th>0</th>\n",
       "      <td>1</td>\n",
       "      <td>4409.919140</td>\n",
       "      <td>25.599769</td>\n",
       "      <td>2021-01-01</td>\n",
       "      <td>1</td>\n",
       "    </tr>\n",
       "    <tr>\n",
       "      <th>1</th>\n",
       "      <td>1</td>\n",
       "      <td>2617.592153</td>\n",
       "      <td>15.816871</td>\n",
       "      <td>2021-01-18</td>\n",
       "      <td>1</td>\n",
       "    </tr>\n",
       "    <tr>\n",
       "      <th>2</th>\n",
       "      <td>1</td>\n",
       "      <td>754.159807</td>\n",
       "      <td>6.232113</td>\n",
       "      <td>2021-04-20</td>\n",
       "      <td>4</td>\n",
       "    </tr>\n",
       "    <tr>\n",
       "      <th>3</th>\n",
       "      <td>1</td>\n",
       "      <td>2694.783254</td>\n",
       "      <td>18.511000</td>\n",
       "      <td>2021-08-11</td>\n",
       "      <td>8</td>\n",
       "    </tr>\n",
       "    <tr>\n",
       "      <th>4</th>\n",
       "      <td>1</td>\n",
       "      <td>4028.687306</td>\n",
       "      <td>26.265803</td>\n",
       "      <td>2021-08-28</td>\n",
       "      <td>8</td>\n",
       "    </tr>\n",
       "  </tbody>\n",
       "</table>\n",
       "</div>"
      ],
      "text/plain": [
       "   user_id     distance   duration       date  month\n",
       "0        1  4409.919140  25.599769 2021-01-01      1\n",
       "1        1  2617.592153  15.816871 2021-01-18      1\n",
       "2        1   754.159807   6.232113 2021-04-20      4\n",
       "3        1  2694.783254  18.511000 2021-08-11      8\n",
       "4        1  4028.687306  26.265803 2021-08-28      8"
      ]
     },
     "execution_count": 15,
     "metadata": {},
     "output_type": "execute_result"
    }
   ],
   "source": [
    "data_rides.head()"
   ]
  },
  {
   "cell_type": "markdown",
   "id": "0b3a95a4",
   "metadata": {},
   "source": [
    "### Работа с пропусками и дубликатами\n",
    "\n",
    "Как было отмечено ранее, пропущенных значений не было обнаружено ни в одном из рассматриваемых датафреймов. \n",
    "\n",
    "На этом этапе проведем работу с дубликатами:"
   ]
  },
  {
   "cell_type": "code",
   "execution_count": 16,
   "id": "d6090ec4",
   "metadata": {},
   "outputs": [],
   "source": [
    "data_users = data_users.drop_duplicates().reset_index() # удалим дубликаты в выборке с информацей о пользователях"
   ]
  },
  {
   "cell_type": "code",
   "execution_count": 17,
   "id": "f602c38b",
   "metadata": {},
   "outputs": [
    {
     "data": {
      "text/plain": [
       "1534"
      ]
     },
     "execution_count": 17,
     "metadata": {},
     "output_type": "execute_result"
    }
   ],
   "source": [
    "len(data_users)"
   ]
  },
  {
   "cell_type": "code",
   "execution_count": 18,
   "id": "f740af7e",
   "metadata": {},
   "outputs": [],
   "source": [
    "data_rides = data_rides.drop_duplicates().reset_index() # удалим дубликаты в выборке с информацей о поездках"
   ]
  },
  {
   "cell_type": "code",
   "execution_count": 19,
   "id": "b7786354",
   "metadata": {},
   "outputs": [
    {
     "data": {
      "text/plain": [
       "18068"
      ]
     },
     "execution_count": 19,
     "metadata": {},
     "output_type": "execute_result"
    }
   ],
   "source": [
    "len(data_rides)"
   ]
  },
  {
   "cell_type": "markdown",
   "id": "371a662a",
   "metadata": {},
   "source": [
    "В выборке с информацей о пользователях data_users было удален 31 дубликат (к дальнейшему рассмотрению осталось 1534 строк).\n",
    "\n",
    "В выборке информацей о поездках data_rides дубликатов не оказалось. В датафрейме с информацией о подписках data_subscriptions дубликатов также нет (что очевидно).\n",
    "\n",
    "---\n",
    "Итак, на этапе предобработки данных сделали следующее:\n",
    "* провели работу с некорректными типами данных (в датафрейме data_rides в столбце 'date' изменили тип с object на datetime)\n",
    "* в датафрейме data_rides добавили новый столбец 'month' с номером месяца на основе столбца 'date'\n",
    "* провели работу с дубликатами (устранили 31 дубликат в выборке с информацей о пользователях data_users). \n",
    "\n",
    "Таким образом, данные готовы к дальнейшему анализу."
   ]
  },
  {
   "cell_type": "markdown",
   "id": "212593c7",
   "metadata": {},
   "source": [
    "## Шаг 3. Исследовательский анализ данных\n",
    "\n",
    "На этом этапе опишем и визуализируем общую информацию о пользователях и поездках:\n",
    "* частота встречаемости городов\n",
    "* соотношение пользователей с подпиской и без подписки\n",
    "* возраст пользователей\n",
    "* расстояние, которое пользователь преодолел за одну поездку\n",
    "* продолжительность поездок"
   ]
  },
  {
   "cell_type": "markdown",
   "id": "0c574ac8",
   "metadata": {},
   "source": [
    "### Частота встречаемости городов\n",
    "\n",
    "Рассмотрим датафрейм data_users и параметр 'city' (город). Выясним, сколько клиентов сервиса аренды самокатов в каждом из городов (как часто встречается каждый город в списке пользователей). Данные визуализируем."
   ]
  },
  {
   "cell_type": "code",
   "execution_count": 20,
   "id": "8d449c85",
   "metadata": {},
   "outputs": [
    {
     "data": {
      "text/plain": [
       "8"
      ]
     },
     "execution_count": 20,
     "metadata": {},
     "output_type": "execute_result"
    }
   ],
   "source": [
    "data_users['city'].nunique() # количество городов"
   ]
  },
  {
   "cell_type": "code",
   "execution_count": 21,
   "id": "72620c20",
   "metadata": {},
   "outputs": [
    {
     "data": {
      "text/plain": [
       "city\n",
       "Пятигорск         219\n",
       "Екатеринбург      204\n",
       "Ростов-на-Дону    198\n",
       "Краснодар         193\n",
       "Сочи              189\n",
       "Омск              183\n",
       "Тюмень            180\n",
       "Москва            168\n",
       "dtype: int64"
      ]
     },
     "execution_count": 21,
     "metadata": {},
     "output_type": "execute_result"
    }
   ],
   "source": [
    "data_users.value_counts('city', ascending=False) # количество пользователей в каждом из городов"
   ]
  },
  {
   "cell_type": "code",
   "execution_count": 22,
   "id": "788c4258",
   "metadata": {},
   "outputs": [
    {
     "data": {
      "image/png": "[encoded data removed]",
      "text/plain": [
       "<Figure size 432x288 with 1 Axes>"
      ]
     },
     "metadata": {
      "needs_background": "light"
     },
     "output_type": "display_data"
    }
   ],
   "source": [
    "data_users.value_counts('city').plot( kind='barh', grid = True) # визуализируем данные\n",
    "plt.title('Частота встречаемости городов')\n",
    "plt.xlabel('количество пользователей')\n",
    "plt.ylabel('города')\n",
    "plt.show()"
   ]
  },
  {
   "cell_type": "markdown",
   "id": "1b32eaef",
   "metadata": {},
   "source": [
    "Отметим, что сервис аренды самокатов GoFast работал 8 городах. Больше всего клиентов в Пятигорске (219 человек), меньше всего - в Москве (168 человек).\n",
    "\n",
    "---\n",
    "Возможно, такие результаты связаны с тем, что в каких-то городах удобнее передвигаться на самокате, чем, к примеру на автомобиле. Но наиболее вероятно, что основная причина заключается в наличии конкурентов - во многих городах существуют другие сервисы аренды самокатов, которые пользуются большей популярностью. Можно предположить, что, например, в Москве много таких сервисов и по каким-то причинам пользователи делают выбор не в пользу GoFast."
   ]
  },
  {
   "cell_type": "markdown",
   "id": "82e94f27",
   "metadata": {},
   "source": [
    "### Соотношение пользователей с подпиской и без подписки\n",
    "\n",
    "Рассмотрим датафрейм data_users и параметр 'subscription_type' (тип подписки). \n",
    "\n",
    "Как нам известно, существует всего два типа подписки: \n",
    "* *free* - без подписки: абонентская плата отсутствует, стоимость одной минуты поездки — 8 руб, стоимость старта (начала поездки) — 50 руб\n",
    "* *ultra* - c подпиской: абонентская плата — 199 руб в месяц, стоимость одной минуты поездки — 6 руб, стоимость старта — бесплатно\n",
    "\n",
    "Выясним, каких пользователей больше, результаты также визуализируем."
   ]
  },
  {
   "cell_type": "code",
   "execution_count": 23,
   "id": "9698612a",
   "metadata": {},
   "outputs": [
    {
     "data": {
      "text/plain": [
       "subscription_type\n",
       "free     835\n",
       "ultra    699\n",
       "dtype: int64"
      ]
     },
     "execution_count": 23,
     "metadata": {},
     "output_type": "execute_result"
    }
   ],
   "source": [
    "data_users.value_counts('subscription_type')"
   ]
  },
  {
   "cell_type": "code",
   "execution_count": 24,
   "id": "2f62a4b3",
   "metadata": {},
   "outputs": [
    {
     "data": {
      "image/png": "[encoded data removed]",
      "text/plain": [
       "<Figure size 432x288 with 1 Axes>"
      ]
     },
     "metadata": {
      "needs_background": "light"
     },
     "output_type": "display_data"
    }
   ],
   "source": [
    "data_users.value_counts('subscription_type').plot(kind='barh')\n",
    "plt.title('Соотношение пользователей с подпиской / без подписки')\n",
    "plt.xlabel('количество пользователей')\n",
    "plt.ylabel('тип подписки')\n",
    "plt.show()"
   ]
  },
  {
   "cell_type": "markdown",
   "id": "191a6902",
   "metadata": {},
   "source": [
    "Посчитаем разбивку пользователей по тарифам в долях:"
   ]
  },
  {
   "cell_type": "code",
   "execution_count": 25,
   "id": "ba62e236",
   "metadata": {},
   "outputs": [
    {
     "name": "stdout",
     "output_type": "stream",
     "text": [
      "Доля пользователей с подпиской: 0.54\n"
     ]
    }
   ],
   "source": [
    "free = (len(data_users.query('subscription_type == \"free\"')) / len(data_users))\n",
    "print('Доля пользователей с подпиской:', round(free, 2)) # доля пользователей без подписки"
   ]
  },
  {
   "cell_type": "code",
   "execution_count": 26,
   "id": "b80638c1",
   "metadata": {},
   "outputs": [
    {
     "name": "stdout",
     "output_type": "stream",
     "text": [
      "Доля пользователей с подпиской: 0.46\n"
     ]
    }
   ],
   "source": [
    "ultra = len(data_users.query('subscription_type == \"ultra\"')) / len(data_users) \n",
    "print('Доля пользователей с подпиской:', round(ultra, 2)) # доля пользователей с подпиской"
   ]
  },
  {
   "cell_type": "markdown",
   "id": "94003404",
   "metadata": {},
   "source": [
    "---\n",
    "Заметим, что любителей самокатов без подписки больше, чем с подпиской. Сервисом без подписки пользуются 54 % всех пользователей (835 человека), а с подпиской - 46 % (699 человек).\n",
    "\n",
    "Безусловно, если часто пользоваться услугами сервиса, намного выгоднее приобрести подписку. Но, как правило, в любом сервисе (в любой сфере) количество бесплатных пользователей превышает количество платных. Сервис аренды самокатов GoFast - не исключение. Данные кажутся правдоподобными."
   ]
  },
  {
   "cell_type": "markdown",
   "id": "cc94a368",
   "metadata": {},
   "source": [
    "### Возраст пользователей\n",
    "\n",
    "Рассмотрим датафрейм data_users и столбец 'age' (возраст). Проанализируем этот параметр. Данные представим на графике."
   ]
  },
  {
   "cell_type": "code",
   "execution_count": 27,
   "id": "6ce1c678",
   "metadata": {},
   "outputs": [
    {
     "data": {
      "image/png": "[encoded data removed]",
      "text/plain": [
       "<Figure size 504x216 with 1 Axes>"
      ]
     },
     "metadata": {
      "needs_background": "light"
     },
     "output_type": "display_data"
    }
   ],
   "source": [
    "data_users['age'].plot(kind = 'hist', grid=True, figsize = (7,3), bins = 30, title='Возраст пользователей')\n",
    "plt.xlabel('возраст')\n",
    "plt.ylabel('количество пользователей')\n",
    "plt.show()"
   ]
  },
  {
   "cell_type": "code",
   "execution_count": 28,
   "id": "7076cce8",
   "metadata": {},
   "outputs": [
    {
     "data": {
      "text/plain": [
       "count    1534.000000\n",
       "mean       24.903520\n",
       "std         4.572367\n",
       "min        12.000000\n",
       "25%        22.000000\n",
       "50%        25.000000\n",
       "75%        28.000000\n",
       "max        43.000000\n",
       "Name: age, dtype: float64"
      ]
     },
     "execution_count": 28,
     "metadata": {},
     "output_type": "execute_result"
    }
   ],
   "source": [
    "data_users['age'].describe()"
   ]
  },
  {
   "cell_type": "code",
   "execution_count": 29,
   "id": "c4097c8d",
   "metadata": {},
   "outputs": [
    {
     "data": {
      "text/plain": [
       "age\n",
       "25    145\n",
       "24    132\n",
       "26    131\n",
       "23    129\n",
       "27    119\n",
       "22    119\n",
       "28    112\n",
       "21     93\n",
       "20     71\n",
       "30     68\n",
       "dtype: int64"
      ]
     },
     "execution_count": 29,
     "metadata": {},
     "output_type": "execute_result"
    }
   ],
   "source": [
    "data_users.value_counts('age').head(10)\n",
    "# сервис наиболее популярен среди клиентов этих возрастов (возраст / количество клиентов этого возраста)"
   ]
  },
  {
   "cell_type": "code",
   "execution_count": 30,
   "id": "b3f6861b",
   "metadata": {},
   "outputs": [
    {
     "data": {
      "text/plain": [
       "age\n",
       "35    15\n",
       "15    13\n",
       "14     9\n",
       "13     8\n",
       "36     6\n",
       "12     4\n",
       "38     3\n",
       "37     2\n",
       "39     1\n",
       "43     1\n",
       "dtype: int64"
      ]
     },
     "execution_count": 30,
     "metadata": {},
     "output_type": "execute_result"
    }
   ],
   "source": [
    "data_users.value_counts('age').tail(10)\n",
    "# сервис наименее популярен среди клиентов этих возрастов (возраст / количество клиентов этого возраста)"
   ]
  },
  {
   "cell_type": "markdown",
   "id": "47c2d9b0",
   "metadata": {},
   "source": [
    "---\n",
    "Как видим, наибольшей популярностью аренда самокатов пользуется у молодежи (22-28 лет), меньше всего любителей самокатов среднего возраста (37-43) и очень молодых (12-14). Средний возрат клиента сервиса GoFast - 25 лет, самый молодой клиент - 12 лет, самый взрослый - 43 года.\n",
    "\n",
    "Распределение нормальное, данные кажутся реальными. Действительно, школьников на самокатах можно встретить нечасто. Большинство взрослых людей (35+) также предпочитают другой способ передвижения."
   ]
  },
  {
   "cell_type": "markdown",
   "id": "0326f32c",
   "metadata": {},
   "source": [
    "### Расстояние, которое пользователь преодолел за одну поездку"
   ]
  },
  {
   "cell_type": "code",
   "execution_count": 31,
   "id": "48ac1406",
   "metadata": {},
   "outputs": [
    {
     "data": {
      "image/png": "[encoded data removed]",
      "text/plain": [
       "<Figure size 432x288 with 1 Axes>"
      ]
     },
     "metadata": {
      "needs_background": "light"
     },
     "output_type": "display_data"
    }
   ],
   "source": [
    "data_rides['distance'].plot(kind = 'hist', grid=True, bins = 30)\n",
    "plt.title('Расстояние за одну поездку')\n",
    "plt.xlabel('расстояние (м)')\n",
    "plt.ylabel('количество пользователей')\n",
    "plt.show()"
   ]
  },
  {
   "cell_type": "code",
   "execution_count": 32,
   "id": "acdada08",
   "metadata": {},
   "outputs": [
    {
     "data": {
      "text/plain": [
       "count    18068.000000\n",
       "mean      3070.659976\n",
       "std       1116.831209\n",
       "min          0.855683\n",
       "25%       2543.226360\n",
       "50%       3133.609994\n",
       "75%       3776.222735\n",
       "max       7211.007745\n",
       "Name: distance, dtype: float64"
      ]
     },
     "execution_count": 32,
     "metadata": {},
     "output_type": "execute_result"
    }
   ],
   "source": [
    "data_rides['distance'].describe()"
   ]
  },
  {
   "cell_type": "code",
   "execution_count": 33,
   "id": "fe5748cb",
   "metadata": {},
   "outputs": [
    {
     "data": {
      "text/plain": [
       "16309    7211.007745\n",
       "16484    7066.003772\n",
       "15580    6908.491343\n",
       "17171    6760.940067\n",
       "17242    6724.932981\n",
       "10341    6671.969833\n",
       "11385    6601.197575\n",
       "12086    6538.937375\n",
       "10915    6535.386520\n",
       "11319    6503.600402\n",
       "Name: distance, dtype: float64"
      ]
     },
     "execution_count": 33,
     "metadata": {},
     "output_type": "execute_result"
    }
   ],
   "source": [
    "data_rides['distance'].sort_values(ascending=False).head(10) # 10 самых длинных поездок (в метрах)"
   ]
  },
  {
   "cell_type": "code",
   "execution_count": 34,
   "id": "091e9c27",
   "metadata": {},
   "outputs": [
    {
     "data": {
      "text/plain": [
       "11862    15.630873\n",
       "15626    15.366168\n",
       "13940    15.000606\n",
       "8324     12.233115\n",
       "8906     11.283615\n",
       "7841      7.097072\n",
       "8658      6.784447\n",
       "13690     4.329506\n",
       "9541      2.570787\n",
       "11555     0.855683\n",
       "Name: distance, dtype: float64"
      ]
     },
     "execution_count": 34,
     "metadata": {},
     "output_type": "execute_result"
    }
   ],
   "source": [
    "data_rides['distance'].sort_values(ascending=False).tail(10) # 10 самых коротких поездок (в метрах)"
   ]
  },
  {
   "cell_type": "code",
   "execution_count": 35,
   "id": "f7c90194",
   "metadata": {},
   "outputs": [
    {
     "data": {
      "image/png": "[encoded data removed]",
      "text/plain": [
       "<Figure size 432x288 with 1 Axes>"
      ]
     },
     "metadata": {
      "needs_background": "light"
     },
     "output_type": "display_data"
    },
    {
     "data": {
      "image/png": "[encoded data removed]",
      "text/plain": [
       "<Figure size 432x288 with 1 Axes>"
      ]
     },
     "metadata": {
      "needs_background": "light"
     },
     "output_type": "display_data"
    }
   ],
   "source": [
    "data_rides.boxplot(column='distance')\n",
    "plt.title('Диаграмма размаха для параметра distance')\n",
    "plt.ylabel('расстояние за одну поездку')\n",
    "plt.show()\n",
    "\n",
    "data_rides.boxplot(column='distance')\n",
    "plt.title('*с ограничением 600 - 5750 м')\n",
    "plt.ylabel('расстояние за одну поездку')\n",
    "plt.ylim(600, 5750)\n",
    "plt.show()"
   ]
  },
  {
   "cell_type": "code",
   "execution_count": 36,
   "id": "6aac271e",
   "metadata": {},
   "outputs": [
    {
     "data": {
      "text/plain": [
       "819"
      ]
     },
     "execution_count": 36,
     "metadata": {},
     "output_type": "execute_result"
    }
   ],
   "source": [
    "len(data_rides.query('distance < 600 or distance > 5750')) # сколько всего строк с выбросами"
   ]
  },
  {
   "cell_type": "code",
   "execution_count": 37,
   "id": "6ec9800b",
   "metadata": {},
   "outputs": [
    {
     "data": {
      "text/plain": [
       "0.04532875802523799"
      ]
     },
     "execution_count": 37,
     "metadata": {},
     "output_type": "execute_result"
    }
   ],
   "source": [
    "len(data_rides.query('distance < 600 or distance > 5750')) / len(data_rides) # доля строк с выбросами от всего датафрейма"
   ]
  },
  {
   "cell_type": "code",
   "execution_count": 38,
   "id": "87a83a03",
   "metadata": {},
   "outputs": [
    {
     "data": {
      "text/plain": [
       "5"
      ]
     },
     "execution_count": 38,
     "metadata": {},
     "output_type": "execute_result"
    }
   ],
   "source": [
    "len(data_rides.query('distance < 10')) # сколько всего строк с расстоянием до 10 м"
   ]
  },
  {
   "cell_type": "code",
   "execution_count": 39,
   "id": "dc4e4e8f",
   "metadata": {},
   "outputs": [
    {
     "data": {
      "text/plain": [
       "0.0002767323444764224"
      ]
     },
     "execution_count": 39,
     "metadata": {},
     "output_type": "execute_result"
    }
   ],
   "source": [
    "len(data_rides.query('distance < 10')) / len(data_rides) # доля строк с с расстоянием до 10 м от всего датафрейма"
   ]
  },
  {
   "cell_type": "markdown",
   "id": "25217707",
   "metadata": {},
   "source": [
    "---\n",
    "Распределение нормальное, в целом данные кажутся реальными. Среднее расстояние большинства поездок немного превышает 3 км (среднее - 3070 м, медианное - 3133 м). Максимальное расстояние, на которое клиент совершил поездку - 7211,01 м. Минимальное расстояние - 0.86 (клиент не проехал ни метра). \n",
    "\n",
    "Можно предположить, что такие слишком короткие поездки (на расстояние в несколько метров) связаны с тем, что клиент уже начал поездку, но по каким-то причинам передумал / отменил (это могут быть личные причины или неисправность самоката). Также не исключена вероятность технического сбоя программного обеспечения, в результате чего данные о поездке были зафиксированы неверно.\n",
    "\n",
    "На гистограмме можно заметить небольшой всплеск около расстояния на 600 м - возможно, пользователи совершали такие короткие поездки, чтобы добраться до метро, парковок или остановок транспорта.\n",
    "\n",
    "Благодаря диаграмме размаха удалось выяснить, что поездки на расстояние меньше 600 м и свыше 5750 м является выбросами (819 строк, что составляет 5 % от всего датафрейма data_rides). Как вариант, можно исключить из рассмотрения не все выбросы, а только самые короткие поездки, где очевидно, что фактически поездки не было. Например, поездки на расстояние до 10 м (31 строка, что составляет 0 % от всего датафрейма data_rides).\n",
    "\n",
    "*На текущий момент строки с выбросами не удаляю, данную информацию зафиксирую как рекомендацию.*"
   ]
  },
  {
   "cell_type": "markdown",
   "id": "b97169cc",
   "metadata": {},
   "source": [
    "### Продолжительность поездок"
   ]
  },
  {
   "cell_type": "code",
   "execution_count": 40,
   "id": "14491584",
   "metadata": {},
   "outputs": [
    {
     "data": {
      "image/png": "[encoded data removed]",
      "text/plain": [
       "<Figure size 432x288 with 1 Axes>"
      ]
     },
     "metadata": {
      "needs_background": "light"
     },
     "output_type": "display_data"
    }
   ],
   "source": [
    "data_rides['duration'].plot(kind = 'hist', grid=True, bins = 30)\n",
    "plt.title('Продолжительность одной поездки')\n",
    "plt.xlabel('продолжительность (мин)')\n",
    "plt.ylabel('количество пользователей')\n",
    "plt.show()"
   ]
  },
  {
   "cell_type": "code",
   "execution_count": 41,
   "id": "33a8bce8",
   "metadata": {},
   "outputs": [
    {
     "data": {
      "text/plain": [
       "count    18068.000000\n",
       "mean        17.805011\n",
       "std          6.091051\n",
       "min          0.500000\n",
       "25%         13.597563\n",
       "50%         17.678395\n",
       "75%         21.724800\n",
       "max         40.823963\n",
       "Name: duration, dtype: float64"
      ]
     },
     "execution_count": 41,
     "metadata": {},
     "output_type": "execute_result"
    }
   ],
   "source": [
    "data_rides['duration'].describe()"
   ]
  },
  {
   "cell_type": "code",
   "execution_count": 42,
   "id": "f157bc2a",
   "metadata": {},
   "outputs": [
    {
     "data": {
      "text/plain": [
       "4215    40.823963\n",
       "4709    39.873856\n",
       "2623    39.526602\n",
       "1998    38.352763\n",
       "6453    38.265229\n",
       "143     38.125729\n",
       "3729    37.014141\n",
       "499     36.906491\n",
       "6348    36.809310\n",
       "4653    36.622595\n",
       "Name: duration, dtype: float64"
      ]
     },
     "execution_count": 42,
     "metadata": {},
     "output_type": "execute_result"
    }
   ],
   "source": [
    "data_rides['duration'].sort_values(ascending=False).head(10) # 10 самых долгих поездок (в минутах)"
   ]
  },
  {
   "cell_type": "code",
   "execution_count": 43,
   "id": "4d81c5df",
   "metadata": {},
   "outputs": [
    {
     "data": {
      "text/plain": [
       "6531     0.5\n",
       "16540    0.5\n",
       "10650    0.5\n",
       "11445    0.5\n",
       "6570     0.5\n",
       "6768     0.5\n",
       "7883     0.5\n",
       "16179    0.5\n",
       "9497     0.5\n",
       "16704    0.5\n",
       "Name: duration, dtype: float64"
      ]
     },
     "execution_count": 43,
     "metadata": {},
     "output_type": "execute_result"
    }
   ],
   "source": [
    "data_rides['duration'].sort_values(ascending=False).tail(10) # 10 самых быстрых поездок (в минутах)"
   ]
  },
  {
   "cell_type": "code",
   "execution_count": 44,
   "id": "77ceadde",
   "metadata": {},
   "outputs": [
    {
     "data": {
      "image/png": "[encoded data removed]",
      "text/plain": [
       "<Figure size 432x288 with 1 Axes>"
      ]
     },
     "metadata": {
      "needs_background": "light"
     },
     "output_type": "display_data"
    },
    {
     "data": {
      "image/png": "[encoded data removed]",
      "text/plain": [
       "<Figure size 432x288 with 1 Axes>"
      ]
     },
     "metadata": {
      "needs_background": "light"
     },
     "output_type": "display_data"
    }
   ],
   "source": [
    "data_rides.boxplot(column='duration')\n",
    "plt.title('Диаграмма размаха для параметра duration')\n",
    "plt.ylabel('длительность одной поездки')\n",
    "plt.show()\n",
    "\n",
    "data_rides.boxplot(column='duration')\n",
    "plt.title('*с ограничением 1 - 35 мин')\n",
    "plt.ylabel('длительность одной поездки')\n",
    "plt.ylim(1, 35)\n",
    "plt.show()"
   ]
  },
  {
   "cell_type": "code",
   "execution_count": 45,
   "id": "b2d6dc4b",
   "metadata": {},
   "outputs": [
    {
     "data": {
      "text/plain": [
       "123"
      ]
     },
     "execution_count": 45,
     "metadata": {},
     "output_type": "execute_result"
    }
   ],
   "source": [
    "len(data_rides.query('duration < 1 or duration > 35'))"
   ]
  },
  {
   "cell_type": "code",
   "execution_count": 46,
   "id": "5267afc7",
   "metadata": {},
   "outputs": [
    {
     "data": {
      "text/plain": [
       "0.006807615674119991"
      ]
     },
     "execution_count": 46,
     "metadata": {},
     "output_type": "execute_result"
    }
   ],
   "source": [
    "len(data_rides.query('duration < 1 or duration > 35')) / len(data_rides)"
   ]
  },
  {
   "cell_type": "markdown",
   "id": "03aeb18a",
   "metadata": {},
   "source": [
    "---\n",
    "Распределение нормальное, в целом данные кажутся реалистичными.\n",
    "\n",
    "Среднее время большинства поездок достигает почти 18 мин (среднее значение - 17.81 мин, медианное - 17.68 мин). Самая долгая поездка - 40.82 мин. Самая короткая - 0.5 мин. \n",
    "\n",
    "Вероятно, такие неправдоподобно быстрые поездки - это те короткие поездки, которые мы рассматривали ранее. Возможные причины такой длительности поездок аналогичные: клиент по личным или техническим причинам отменил поездку, сбой ПО и некорректная запись информации о поездке.\n",
    "\n",
    "Благодаря диаграмме размаха удалось выяснить, что поездки длительностью меньше 1 мин и свыше 35 мин является выбросами (123 строки, что составляет 0.1 % от всего датафрейма data_rides). Эти строки можно удалить из дальнейшего рассмотрения.\n",
    "\n",
    "*На текущий момент строки с выбросами не удаляю, данную информацию зафиксирую как рекомендацию.*"
   ]
  },
  {
   "cell_type": "markdown",
   "id": "89a03dbf",
   "metadata": {},
   "source": [
    "---\n",
    "**Вывод:**\n",
    "\n",
    "Cервис аренды самокатов GoFast работал 8 городах. Больше всего клиентов в Пятигорске (219 человек), меньше всего - в Москве (168 человек). Можно предположить, что такие результаты в некоторых городах связаны с наличием конкурентов, которые пользуются большей популярностью, чем GoFast.\n",
    "\n",
    "Большинство любителей самокатов не приобретают подписку: 835 клиентов сервиса без подписки, с подпиской только 699. Эти данные кажутся правдоподобными, поскольку практически в любом сервисе количество бесплатных пользователей превышает платных.\n",
    "  \n",
    "Наибольшей популярностью аренда самокатов пользуется у молодежи, cредний возрат клиента сервиса GoFast - 25 лет. Самому взрослому клиенту - 43 года, а самому молодому всего 12 лет. Распределение нормальное, данные кажутся реалистичными. \n",
    " \n",
    "Также мы рассмотрели расстояние, которое пользователь преодолел за одну поездку. Распределение нормальное, данные кажутся реальными. На гистограмме есть небольшой всплеск около расстояния 600 м - возможно, пользователи совершали такие короткие поездки, чтобы добраться до метро, парковок или остановок транспорта. Среднее расстояние большинства поездок немного превышает 3 км. Максимальное расстояние - 7211,01 м, а минимальное - 0.86 (клиент не проехал ни метра). \n",
    "\n",
    "Была проанализирована продолжительность поездок. Распределение нормальное, данные выглядят правдоподобно. Среднее время большинства поездок достигает почти 18 мин. Самая долгая поездка - 40.82 мин, а самая короткая - 0.5 мин (фактически поездки не было).\n",
    "\n",
    "Можно предположить, что такие слишком короткие и слишком быстрые поездки (расстояние в несколько метров и длительностью меньше минуты) связаны с тем, что клиент передумал / отменил поездку (по личным или техническим причинам). Также не исключена вероятность сбоя ПО и некорректной записи информации о поездке.\n",
    "\n",
    "Благодаря диаграммам размаха удалось обнаружить выбросы - это поездки на расстояние меньше 600 м и свыше 5750 (819 строк - 5 % от всего датафрейма) и поездки длительностью меньше 1 мин и свыше 35 мин (123 строки - 0.1 % от всего датафрейма). Эти строки можно исключить из дальнейшего рассмотрения. Как вариант, можно исключить из рассмотрения не все поездки меньше 600 м и свыше 5750, а только самые короткие поездки, на расстояние до 10 м, где поездка явно не случилась (таких данных всего 31 строка, что составляет 0 % от всего датафрейма).\n",
    "\n",
    "*На текущий момент строки с выбросами не удаляю, данную информацию зафиксирую как рекомендацию.*"
   ]
  },
  {
   "cell_type": "markdown",
   "id": "4ef51331",
   "metadata": {},
   "source": [
    "## Шаг 4. Объединение данных\n",
    "\n",
    "### Объединим данные о пользователях, поездках и подписках в один датафрейм с помощью метода merge()"
   ]
  },
  {
   "cell_type": "code",
   "execution_count": 47,
   "id": "f754cd28",
   "metadata": {},
   "outputs": [
    {
     "data": {
      "text/plain": [
       "Index(['index', 'user_id', 'name', 'age', 'city', 'subscription_type'], dtype='object')"
      ]
     },
     "execution_count": 47,
     "metadata": {},
     "output_type": "execute_result"
    }
   ],
   "source": [
    "data_users.columns"
   ]
  },
  {
   "cell_type": "code",
   "execution_count": 48,
   "id": "a3636a1d",
   "metadata": {},
   "outputs": [
    {
     "data": {
      "text/plain": [
       "Index(['index', 'user_id', 'distance', 'duration', 'date', 'month'], dtype='object')"
      ]
     },
     "execution_count": 48,
     "metadata": {},
     "output_type": "execute_result"
    }
   ],
   "source": [
    "data_rides.columns"
   ]
  },
  {
   "cell_type": "code",
   "execution_count": 49,
   "id": "2b08abbb",
   "metadata": {},
   "outputs": [
    {
     "data": {
      "text/plain": [
       "Index(['subscription_type', 'minute_price', 'start_ride_price',\n",
       "       'subscription_fee'],\n",
       "      dtype='object')"
      ]
     },
     "execution_count": 49,
     "metadata": {},
     "output_type": "execute_result"
    }
   ],
   "source": [
    "data_subscriptions.columns"
   ]
  },
  {
   "cell_type": "code",
   "execution_count": 50,
   "id": "3e6cda24",
   "metadata": {},
   "outputs": [
    {
     "name": "stdout",
     "output_type": "stream",
     "text": [
      "<class 'pandas.core.frame.DataFrame'>\n",
      "RangeIndex: 1534 entries, 0 to 1533\n",
      "Data columns (total 6 columns):\n",
      " #   Column             Non-Null Count  Dtype \n",
      "---  ------             --------------  ----- \n",
      " 0   index              1534 non-null   int64 \n",
      " 1   user_id            1534 non-null   int64 \n",
      " 2   name               1534 non-null   object\n",
      " 3   age                1534 non-null   int64 \n",
      " 4   city               1534 non-null   object\n",
      " 5   subscription_type  1534 non-null   object\n",
      "dtypes: int64(3), object(3)\n",
      "memory usage: 72.0+ KB\n"
     ]
    }
   ],
   "source": [
    "data_users.info()"
   ]
  },
  {
   "cell_type": "code",
   "execution_count": 51,
   "id": "ed9d30d2",
   "metadata": {},
   "outputs": [
    {
     "name": "stdout",
     "output_type": "stream",
     "text": [
      "<class 'pandas.core.frame.DataFrame'>\n",
      "RangeIndex: 18068 entries, 0 to 18067\n",
      "Data columns (total 6 columns):\n",
      " #   Column    Non-Null Count  Dtype         \n",
      "---  ------    --------------  -----         \n",
      " 0   index     18068 non-null  int64         \n",
      " 1   user_id   18068 non-null  int64         \n",
      " 2   distance  18068 non-null  float64       \n",
      " 3   duration  18068 non-null  float64       \n",
      " 4   date      18068 non-null  datetime64[ns]\n",
      " 5   month     18068 non-null  int64         \n",
      "dtypes: datetime64[ns](1), float64(2), int64(3)\n",
      "memory usage: 847.1 KB\n"
     ]
    }
   ],
   "source": [
    "data_rides.info()"
   ]
  },
  {
   "cell_type": "code",
   "execution_count": 52,
   "id": "07dd5ef6",
   "metadata": {},
   "outputs": [
    {
     "data": {
      "text/html": [
       "<div>\n",
       "<style scoped>\n",
       "    .dataframe tbody tr th:only-of-type {\n",
       "        vertical-align: middle;\n",
       "    }\n",
       "\n",
       "    .dataframe tbody tr th {\n",
       "        vertical-align: top;\n",
       "    }\n",
       "\n",
       "    .dataframe thead th {\n",
       "        text-align: right;\n",
       "    }\n",
       "</style>\n",
       "<table border=\"1\" class=\"dataframe\">\n",
       "  <thead>\n",
       "    <tr style=\"text-align: right;\">\n",
       "      <th></th>\n",
       "      <th>index_x</th>\n",
       "      <th>user_id</th>\n",
       "      <th>name</th>\n",
       "      <th>age</th>\n",
       "      <th>city</th>\n",
       "      <th>subscription_type</th>\n",
       "      <th>index_y</th>\n",
       "      <th>distance</th>\n",
       "      <th>duration</th>\n",
       "      <th>date</th>\n",
       "      <th>month</th>\n",
       "      <th>minute_price</th>\n",
       "      <th>start_ride_price</th>\n",
       "      <th>subscription_fee</th>\n",
       "    </tr>\n",
       "  </thead>\n",
       "  <tbody>\n",
       "    <tr>\n",
       "      <th>0</th>\n",
       "      <td>0</td>\n",
       "      <td>1</td>\n",
       "      <td>Кира</td>\n",
       "      <td>22</td>\n",
       "      <td>Тюмень</td>\n",
       "      <td>ultra</td>\n",
       "      <td>0</td>\n",
       "      <td>4409.919140</td>\n",
       "      <td>25.599769</td>\n",
       "      <td>2021-01-01</td>\n",
       "      <td>1</td>\n",
       "      <td>6</td>\n",
       "      <td>0</td>\n",
       "      <td>199</td>\n",
       "    </tr>\n",
       "    <tr>\n",
       "      <th>1</th>\n",
       "      <td>0</td>\n",
       "      <td>1</td>\n",
       "      <td>Кира</td>\n",
       "      <td>22</td>\n",
       "      <td>Тюмень</td>\n",
       "      <td>ultra</td>\n",
       "      <td>1</td>\n",
       "      <td>2617.592153</td>\n",
       "      <td>15.816871</td>\n",
       "      <td>2021-01-18</td>\n",
       "      <td>1</td>\n",
       "      <td>6</td>\n",
       "      <td>0</td>\n",
       "      <td>199</td>\n",
       "    </tr>\n",
       "    <tr>\n",
       "      <th>2</th>\n",
       "      <td>0</td>\n",
       "      <td>1</td>\n",
       "      <td>Кира</td>\n",
       "      <td>22</td>\n",
       "      <td>Тюмень</td>\n",
       "      <td>ultra</td>\n",
       "      <td>2</td>\n",
       "      <td>754.159807</td>\n",
       "      <td>6.232113</td>\n",
       "      <td>2021-04-20</td>\n",
       "      <td>4</td>\n",
       "      <td>6</td>\n",
       "      <td>0</td>\n",
       "      <td>199</td>\n",
       "    </tr>\n",
       "    <tr>\n",
       "      <th>3</th>\n",
       "      <td>0</td>\n",
       "      <td>1</td>\n",
       "      <td>Кира</td>\n",
       "      <td>22</td>\n",
       "      <td>Тюмень</td>\n",
       "      <td>ultra</td>\n",
       "      <td>3</td>\n",
       "      <td>2694.783254</td>\n",
       "      <td>18.511000</td>\n",
       "      <td>2021-08-11</td>\n",
       "      <td>8</td>\n",
       "      <td>6</td>\n",
       "      <td>0</td>\n",
       "      <td>199</td>\n",
       "    </tr>\n",
       "    <tr>\n",
       "      <th>4</th>\n",
       "      <td>0</td>\n",
       "      <td>1</td>\n",
       "      <td>Кира</td>\n",
       "      <td>22</td>\n",
       "      <td>Тюмень</td>\n",
       "      <td>ultra</td>\n",
       "      <td>4</td>\n",
       "      <td>4028.687306</td>\n",
       "      <td>26.265803</td>\n",
       "      <td>2021-08-28</td>\n",
       "      <td>8</td>\n",
       "      <td>6</td>\n",
       "      <td>0</td>\n",
       "      <td>199</td>\n",
       "    </tr>\n",
       "    <tr>\n",
       "      <th>...</th>\n",
       "      <td>...</td>\n",
       "      <td>...</td>\n",
       "      <td>...</td>\n",
       "      <td>...</td>\n",
       "      <td>...</td>\n",
       "      <td>...</td>\n",
       "      <td>...</td>\n",
       "      <td>...</td>\n",
       "      <td>...</td>\n",
       "      <td>...</td>\n",
       "      <td>...</td>\n",
       "      <td>...</td>\n",
       "      <td>...</td>\n",
       "      <td>...</td>\n",
       "    </tr>\n",
       "    <tr>\n",
       "      <th>18063</th>\n",
       "      <td>1533</td>\n",
       "      <td>1534</td>\n",
       "      <td>Альберт</td>\n",
       "      <td>25</td>\n",
       "      <td>Краснодар</td>\n",
       "      <td>free</td>\n",
       "      <td>18063</td>\n",
       "      <td>3781.098080</td>\n",
       "      <td>19.822962</td>\n",
       "      <td>2021-11-04</td>\n",
       "      <td>11</td>\n",
       "      <td>8</td>\n",
       "      <td>50</td>\n",
       "      <td>0</td>\n",
       "    </tr>\n",
       "    <tr>\n",
       "      <th>18064</th>\n",
       "      <td>1533</td>\n",
       "      <td>1534</td>\n",
       "      <td>Альберт</td>\n",
       "      <td>25</td>\n",
       "      <td>Краснодар</td>\n",
       "      <td>free</td>\n",
       "      <td>18064</td>\n",
       "      <td>2840.423057</td>\n",
       "      <td>21.409799</td>\n",
       "      <td>2021-11-16</td>\n",
       "      <td>11</td>\n",
       "      <td>8</td>\n",
       "      <td>50</td>\n",
       "      <td>0</td>\n",
       "    </tr>\n",
       "    <tr>\n",
       "      <th>18065</th>\n",
       "      <td>1533</td>\n",
       "      <td>1534</td>\n",
       "      <td>Альберт</td>\n",
       "      <td>25</td>\n",
       "      <td>Краснодар</td>\n",
       "      <td>free</td>\n",
       "      <td>18065</td>\n",
       "      <td>3826.185507</td>\n",
       "      <td>18.435051</td>\n",
       "      <td>2021-11-18</td>\n",
       "      <td>11</td>\n",
       "      <td>8</td>\n",
       "      <td>50</td>\n",
       "      <td>0</td>\n",
       "    </tr>\n",
       "    <tr>\n",
       "      <th>18066</th>\n",
       "      <td>1533</td>\n",
       "      <td>1534</td>\n",
       "      <td>Альберт</td>\n",
       "      <td>25</td>\n",
       "      <td>Краснодар</td>\n",
       "      <td>free</td>\n",
       "      <td>18066</td>\n",
       "      <td>2902.308661</td>\n",
       "      <td>16.674362</td>\n",
       "      <td>2021-11-27</td>\n",
       "      <td>11</td>\n",
       "      <td>8</td>\n",
       "      <td>50</td>\n",
       "      <td>0</td>\n",
       "    </tr>\n",
       "    <tr>\n",
       "      <th>18067</th>\n",
       "      <td>1533</td>\n",
       "      <td>1534</td>\n",
       "      <td>Альберт</td>\n",
       "      <td>25</td>\n",
       "      <td>Краснодар</td>\n",
       "      <td>free</td>\n",
       "      <td>18067</td>\n",
       "      <td>2371.711192</td>\n",
       "      <td>15.893917</td>\n",
       "      <td>2021-12-29</td>\n",
       "      <td>12</td>\n",
       "      <td>8</td>\n",
       "      <td>50</td>\n",
       "      <td>0</td>\n",
       "    </tr>\n",
       "  </tbody>\n",
       "</table>\n",
       "<p>18068 rows × 14 columns</p>\n",
       "</div>"
      ],
      "text/plain": [
       "       index_x  user_id     name  age       city subscription_type  index_y  \\\n",
       "0            0        1     Кира   22     Тюмень             ultra        0   \n",
       "1            0        1     Кира   22     Тюмень             ultra        1   \n",
       "2            0        1     Кира   22     Тюмень             ultra        2   \n",
       "3            0        1     Кира   22     Тюмень             ultra        3   \n",
       "4            0        1     Кира   22     Тюмень             ultra        4   \n",
       "...        ...      ...      ...  ...        ...               ...      ...   \n",
       "18063     1533     1534  Альберт   25  Краснодар              free    18063   \n",
       "18064     1533     1534  Альберт   25  Краснодар              free    18064   \n",
       "18065     1533     1534  Альберт   25  Краснодар              free    18065   \n",
       "18066     1533     1534  Альберт   25  Краснодар              free    18066   \n",
       "18067     1533     1534  Альберт   25  Краснодар              free    18067   \n",
       "\n",
       "          distance   duration       date  month  minute_price  \\\n",
       "0      4409.919140  25.599769 2021-01-01      1             6   \n",
       "1      2617.592153  15.816871 2021-01-18      1             6   \n",
       "2       754.159807   6.232113 2021-04-20      4             6   \n",
       "3      2694.783254  18.511000 2021-08-11      8             6   \n",
       "4      4028.687306  26.265803 2021-08-28      8             6   \n",
       "...            ...        ...        ...    ...           ...   \n",
       "18063  3781.098080  19.822962 2021-11-04     11             8   \n",
       "18064  2840.423057  21.409799 2021-11-16     11             8   \n",
       "18065  3826.185507  18.435051 2021-11-18     11             8   \n",
       "18066  2902.308661  16.674362 2021-11-27     11             8   \n",
       "18067  2371.711192  15.893917 2021-12-29     12             8   \n",
       "\n",
       "       start_ride_price  subscription_fee  \n",
       "0                     0               199  \n",
       "1                     0               199  \n",
       "2                     0               199  \n",
       "3                     0               199  \n",
       "4                     0               199  \n",
       "...                 ...               ...  \n",
       "18063                50                 0  \n",
       "18064                50                 0  \n",
       "18065                50                 0  \n",
       "18066                50                 0  \n",
       "18067                50                 0  \n",
       "\n",
       "[18068 rows x 14 columns]"
      ]
     },
     "execution_count": 52,
     "metadata": {},
     "output_type": "execute_result"
    }
   ],
   "source": [
    "general_data = data_users.merge(data_rides, on='user_id')\n",
    "# объединили датафреймы data_users и data_rides в один датафрейм general_data по столбцу 'user_id'\n",
    "general_data = general_data.merge(data_subscriptions, on='subscription_type')\n",
    "# объединили новый датафрейм general_data и data_subscriptions по столбцу 'subscription_type'\n",
    "general_data"
   ]
  },
  {
   "cell_type": "code",
   "execution_count": 53,
   "id": "77b52c14",
   "metadata": {},
   "outputs": [
    {
     "name": "stdout",
     "output_type": "stream",
     "text": [
      "<class 'pandas.core.frame.DataFrame'>\n",
      "Int64Index: 18068 entries, 0 to 18067\n",
      "Data columns (total 14 columns):\n",
      " #   Column             Non-Null Count  Dtype         \n",
      "---  ------             --------------  -----         \n",
      " 0   index_x            18068 non-null  int64         \n",
      " 1   user_id            18068 non-null  int64         \n",
      " 2   name               18068 non-null  object        \n",
      " 3   age                18068 non-null  int64         \n",
      " 4   city               18068 non-null  object        \n",
      " 5   subscription_type  18068 non-null  object        \n",
      " 6   index_y            18068 non-null  int64         \n",
      " 7   distance           18068 non-null  float64       \n",
      " 8   duration           18068 non-null  float64       \n",
      " 9   date               18068 non-null  datetime64[ns]\n",
      " 10  month              18068 non-null  int64         \n",
      " 11  minute_price       18068 non-null  int64         \n",
      " 12  start_ride_price   18068 non-null  int64         \n",
      " 13  subscription_fee   18068 non-null  int64         \n",
      "dtypes: datetime64[ns](1), float64(2), int64(8), object(3)\n",
      "memory usage: 2.1+ MB\n"
     ]
    }
   ],
   "source": [
    "general_data.info()"
   ]
  },
  {
   "cell_type": "code",
   "execution_count": 54,
   "id": "5666b95d",
   "metadata": {},
   "outputs": [
    {
     "data": {
      "text/plain": [
       "1534"
      ]
     },
     "execution_count": 54,
     "metadata": {},
     "output_type": "execute_result"
    }
   ],
   "source": [
    "general_data['user_id'].nunique()"
   ]
  },
  {
   "cell_type": "markdown",
   "id": "d7f0e47d",
   "metadata": {},
   "source": [
    "До объединения данных в таблицах было представлено 1534 пользователя, общее количество поездок, которые они совершили — 18068.\n",
    "\n",
    "После объединения в общей таблице general_data содержится 18068 записей о поездках 1534 пользователей. Пропусков в полученном датафрейме нет."
   ]
  },
  {
   "cell_type": "markdown",
   "id": "001e8fe2",
   "metadata": {},
   "source": [
    "### Создадим ещё два датафрейма из датафрейма, созданного на этапе 4.1: c данными о пользователях без подписки; с данными о пользователях с подпиской"
   ]
  },
  {
   "cell_type": "code",
   "execution_count": 55,
   "id": "d6dbbe4d",
   "metadata": {},
   "outputs": [
    {
     "data": {
      "text/html": [
       "<div>\n",
       "<style scoped>\n",
       "    .dataframe tbody tr th:only-of-type {\n",
       "        vertical-align: middle;\n",
       "    }\n",
       "\n",
       "    .dataframe tbody tr th {\n",
       "        vertical-align: top;\n",
       "    }\n",
       "\n",
       "    .dataframe thead th {\n",
       "        text-align: right;\n",
       "    }\n",
       "</style>\n",
       "<table border=\"1\" class=\"dataframe\">\n",
       "  <thead>\n",
       "    <tr style=\"text-align: right;\">\n",
       "      <th></th>\n",
       "      <th>index_x</th>\n",
       "      <th>user_id</th>\n",
       "      <th>name</th>\n",
       "      <th>age</th>\n",
       "      <th>city</th>\n",
       "      <th>subscription_type</th>\n",
       "      <th>index_y</th>\n",
       "      <th>distance</th>\n",
       "      <th>duration</th>\n",
       "      <th>date</th>\n",
       "      <th>month</th>\n",
       "      <th>minute_price</th>\n",
       "      <th>start_ride_price</th>\n",
       "      <th>subscription_fee</th>\n",
       "    </tr>\n",
       "  </thead>\n",
       "  <tbody>\n",
       "    <tr>\n",
       "      <th>6500</th>\n",
       "      <td>699</td>\n",
       "      <td>700</td>\n",
       "      <td>Айдар</td>\n",
       "      <td>22</td>\n",
       "      <td>Омск</td>\n",
       "      <td>free</td>\n",
       "      <td>6500</td>\n",
       "      <td>2515.690719</td>\n",
       "      <td>14.944286</td>\n",
       "      <td>2021-01-02</td>\n",
       "      <td>1</td>\n",
       "      <td>8</td>\n",
       "      <td>50</td>\n",
       "      <td>0</td>\n",
       "    </tr>\n",
       "    <tr>\n",
       "      <th>6501</th>\n",
       "      <td>699</td>\n",
       "      <td>700</td>\n",
       "      <td>Айдар</td>\n",
       "      <td>22</td>\n",
       "      <td>Омск</td>\n",
       "      <td>free</td>\n",
       "      <td>6501</td>\n",
       "      <td>846.932642</td>\n",
       "      <td>16.234663</td>\n",
       "      <td>2021-02-01</td>\n",
       "      <td>2</td>\n",
       "      <td>8</td>\n",
       "      <td>50</td>\n",
       "      <td>0</td>\n",
       "    </tr>\n",
       "    <tr>\n",
       "      <th>6502</th>\n",
       "      <td>699</td>\n",
       "      <td>700</td>\n",
       "      <td>Айдар</td>\n",
       "      <td>22</td>\n",
       "      <td>Омск</td>\n",
       "      <td>free</td>\n",
       "      <td>6502</td>\n",
       "      <td>4004.434142</td>\n",
       "      <td>20.016628</td>\n",
       "      <td>2021-02-04</td>\n",
       "      <td>2</td>\n",
       "      <td>8</td>\n",
       "      <td>50</td>\n",
       "      <td>0</td>\n",
       "    </tr>\n",
       "    <tr>\n",
       "      <th>6503</th>\n",
       "      <td>699</td>\n",
       "      <td>700</td>\n",
       "      <td>Айдар</td>\n",
       "      <td>22</td>\n",
       "      <td>Омск</td>\n",
       "      <td>free</td>\n",
       "      <td>6503</td>\n",
       "      <td>1205.911290</td>\n",
       "      <td>9.782872</td>\n",
       "      <td>2021-02-10</td>\n",
       "      <td>2</td>\n",
       "      <td>8</td>\n",
       "      <td>50</td>\n",
       "      <td>0</td>\n",
       "    </tr>\n",
       "    <tr>\n",
       "      <th>6504</th>\n",
       "      <td>699</td>\n",
       "      <td>700</td>\n",
       "      <td>Айдар</td>\n",
       "      <td>22</td>\n",
       "      <td>Омск</td>\n",
       "      <td>free</td>\n",
       "      <td>6504</td>\n",
       "      <td>3047.379435</td>\n",
       "      <td>17.427673</td>\n",
       "      <td>2021-02-14</td>\n",
       "      <td>2</td>\n",
       "      <td>8</td>\n",
       "      <td>50</td>\n",
       "      <td>0</td>\n",
       "    </tr>\n",
       "  </tbody>\n",
       "</table>\n",
       "</div>"
      ],
      "text/plain": [
       "      index_x  user_id   name  age  city subscription_type  index_y  \\\n",
       "6500      699      700  Айдар   22  Омск              free     6500   \n",
       "6501      699      700  Айдар   22  Омск              free     6501   \n",
       "6502      699      700  Айдар   22  Омск              free     6502   \n",
       "6503      699      700  Айдар   22  Омск              free     6503   \n",
       "6504      699      700  Айдар   22  Омск              free     6504   \n",
       "\n",
       "         distance   duration       date  month  minute_price  \\\n",
       "6500  2515.690719  14.944286 2021-01-02      1             8   \n",
       "6501   846.932642  16.234663 2021-02-01      2             8   \n",
       "6502  4004.434142  20.016628 2021-02-04      2             8   \n",
       "6503  1205.911290   9.782872 2021-02-10      2             8   \n",
       "6504  3047.379435  17.427673 2021-02-14      2             8   \n",
       "\n",
       "      start_ride_price  subscription_fee  \n",
       "6500                50                 0  \n",
       "6501                50                 0  \n",
       "6502                50                 0  \n",
       "6503                50                 0  \n",
       "6504                50                 0  "
      ]
     },
     "execution_count": 55,
     "metadata": {},
     "output_type": "execute_result"
    }
   ],
   "source": [
    "without_subscription = general_data.query('subscription_type == \"free\"') # с данными о пользователях без подписки\n",
    "without_subscription.head()"
   ]
  },
  {
   "cell_type": "code",
   "execution_count": 56,
   "id": "10156a9a",
   "metadata": {},
   "outputs": [
    {
     "data": {
      "text/html": [
       "<div>\n",
       "<style scoped>\n",
       "    .dataframe tbody tr th:only-of-type {\n",
       "        vertical-align: middle;\n",
       "    }\n",
       "\n",
       "    .dataframe tbody tr th {\n",
       "        vertical-align: top;\n",
       "    }\n",
       "\n",
       "    .dataframe thead th {\n",
       "        text-align: right;\n",
       "    }\n",
       "</style>\n",
       "<table border=\"1\" class=\"dataframe\">\n",
       "  <thead>\n",
       "    <tr style=\"text-align: right;\">\n",
       "      <th></th>\n",
       "      <th>index_x</th>\n",
       "      <th>user_id</th>\n",
       "      <th>name</th>\n",
       "      <th>age</th>\n",
       "      <th>city</th>\n",
       "      <th>subscription_type</th>\n",
       "      <th>index_y</th>\n",
       "      <th>distance</th>\n",
       "      <th>duration</th>\n",
       "      <th>date</th>\n",
       "      <th>month</th>\n",
       "      <th>minute_price</th>\n",
       "      <th>start_ride_price</th>\n",
       "      <th>subscription_fee</th>\n",
       "    </tr>\n",
       "  </thead>\n",
       "  <tbody>\n",
       "    <tr>\n",
       "      <th>0</th>\n",
       "      <td>0</td>\n",
       "      <td>1</td>\n",
       "      <td>Кира</td>\n",
       "      <td>22</td>\n",
       "      <td>Тюмень</td>\n",
       "      <td>ultra</td>\n",
       "      <td>0</td>\n",
       "      <td>4409.919140</td>\n",
       "      <td>25.599769</td>\n",
       "      <td>2021-01-01</td>\n",
       "      <td>1</td>\n",
       "      <td>6</td>\n",
       "      <td>0</td>\n",
       "      <td>199</td>\n",
       "    </tr>\n",
       "    <tr>\n",
       "      <th>1</th>\n",
       "      <td>0</td>\n",
       "      <td>1</td>\n",
       "      <td>Кира</td>\n",
       "      <td>22</td>\n",
       "      <td>Тюмень</td>\n",
       "      <td>ultra</td>\n",
       "      <td>1</td>\n",
       "      <td>2617.592153</td>\n",
       "      <td>15.816871</td>\n",
       "      <td>2021-01-18</td>\n",
       "      <td>1</td>\n",
       "      <td>6</td>\n",
       "      <td>0</td>\n",
       "      <td>199</td>\n",
       "    </tr>\n",
       "    <tr>\n",
       "      <th>2</th>\n",
       "      <td>0</td>\n",
       "      <td>1</td>\n",
       "      <td>Кира</td>\n",
       "      <td>22</td>\n",
       "      <td>Тюмень</td>\n",
       "      <td>ultra</td>\n",
       "      <td>2</td>\n",
       "      <td>754.159807</td>\n",
       "      <td>6.232113</td>\n",
       "      <td>2021-04-20</td>\n",
       "      <td>4</td>\n",
       "      <td>6</td>\n",
       "      <td>0</td>\n",
       "      <td>199</td>\n",
       "    </tr>\n",
       "    <tr>\n",
       "      <th>3</th>\n",
       "      <td>0</td>\n",
       "      <td>1</td>\n",
       "      <td>Кира</td>\n",
       "      <td>22</td>\n",
       "      <td>Тюмень</td>\n",
       "      <td>ultra</td>\n",
       "      <td>3</td>\n",
       "      <td>2694.783254</td>\n",
       "      <td>18.511000</td>\n",
       "      <td>2021-08-11</td>\n",
       "      <td>8</td>\n",
       "      <td>6</td>\n",
       "      <td>0</td>\n",
       "      <td>199</td>\n",
       "    </tr>\n",
       "    <tr>\n",
       "      <th>4</th>\n",
       "      <td>0</td>\n",
       "      <td>1</td>\n",
       "      <td>Кира</td>\n",
       "      <td>22</td>\n",
       "      <td>Тюмень</td>\n",
       "      <td>ultra</td>\n",
       "      <td>4</td>\n",
       "      <td>4028.687306</td>\n",
       "      <td>26.265803</td>\n",
       "      <td>2021-08-28</td>\n",
       "      <td>8</td>\n",
       "      <td>6</td>\n",
       "      <td>0</td>\n",
       "      <td>199</td>\n",
       "    </tr>\n",
       "  </tbody>\n",
       "</table>\n",
       "</div>"
      ],
      "text/plain": [
       "   index_x  user_id  name  age    city subscription_type  index_y  \\\n",
       "0        0        1  Кира   22  Тюмень             ultra        0   \n",
       "1        0        1  Кира   22  Тюмень             ultra        1   \n",
       "2        0        1  Кира   22  Тюмень             ultra        2   \n",
       "3        0        1  Кира   22  Тюмень             ultra        3   \n",
       "4        0        1  Кира   22  Тюмень             ultra        4   \n",
       "\n",
       "      distance   duration       date  month  minute_price  start_ride_price  \\\n",
       "0  4409.919140  25.599769 2021-01-01      1             6                 0   \n",
       "1  2617.592153  15.816871 2021-01-18      1             6                 0   \n",
       "2   754.159807   6.232113 2021-04-20      4             6                 0   \n",
       "3  2694.783254  18.511000 2021-08-11      8             6                 0   \n",
       "4  4028.687306  26.265803 2021-08-28      8             6                 0   \n",
       "\n",
       "   subscription_fee  \n",
       "0               199  \n",
       "1               199  \n",
       "2               199  \n",
       "3               199  \n",
       "4               199  "
      ]
     },
     "execution_count": 56,
     "metadata": {},
     "output_type": "execute_result"
    }
   ],
   "source": [
    "with_subscription = general_data.query('subscription_type == \"ultra\"') # с данными о пользователях с подпиской\n",
    "with_subscription.head()"
   ]
  },
  {
   "cell_type": "code",
   "execution_count": 57,
   "id": "d1f11a48",
   "metadata": {},
   "outputs": [
    {
     "data": {
      "text/plain": [
       "18068"
      ]
     },
     "execution_count": 57,
     "metadata": {},
     "output_type": "execute_result"
    }
   ],
   "source": [
    "len(without_subscription) + len(with_subscription)"
   ]
  },
  {
   "cell_type": "code",
   "execution_count": 58,
   "id": "50bb4299",
   "metadata": {},
   "outputs": [
    {
     "data": {
      "text/plain": [
       "18068"
      ]
     },
     "execution_count": 58,
     "metadata": {},
     "output_type": "execute_result"
    }
   ],
   "source": [
    "len(general_data)"
   ]
  },
  {
   "cell_type": "code",
   "execution_count": 59,
   "id": "492fd3d9",
   "metadata": {},
   "outputs": [
    {
     "data": {
      "text/plain": [
       "1"
      ]
     },
     "execution_count": 59,
     "metadata": {},
     "output_type": "execute_result"
    }
   ],
   "source": [
    "without_subscription['subscription_type'].nunique()"
   ]
  },
  {
   "cell_type": "code",
   "execution_count": 60,
   "id": "eda8a82a",
   "metadata": {},
   "outputs": [
    {
     "data": {
      "text/plain": [
       "1"
      ]
     },
     "execution_count": 60,
     "metadata": {},
     "output_type": "execute_result"
    }
   ],
   "source": [
    "with_subscription['subscription_type'].nunique()"
   ]
  },
  {
   "cell_type": "code",
   "execution_count": 61,
   "id": "1297e542",
   "metadata": {},
   "outputs": [
    {
     "name": "stdout",
     "output_type": "stream",
     "text": [
      "<class 'pandas.core.frame.DataFrame'>\n",
      "Int64Index: 11568 entries, 6500 to 18067\n",
      "Data columns (total 14 columns):\n",
      " #   Column             Non-Null Count  Dtype         \n",
      "---  ------             --------------  -----         \n",
      " 0   index_x            11568 non-null  int64         \n",
      " 1   user_id            11568 non-null  int64         \n",
      " 2   name               11568 non-null  object        \n",
      " 3   age                11568 non-null  int64         \n",
      " 4   city               11568 non-null  object        \n",
      " 5   subscription_type  11568 non-null  object        \n",
      " 6   index_y            11568 non-null  int64         \n",
      " 7   distance           11568 non-null  float64       \n",
      " 8   duration           11568 non-null  float64       \n",
      " 9   date               11568 non-null  datetime64[ns]\n",
      " 10  month              11568 non-null  int64         \n",
      " 11  minute_price       11568 non-null  int64         \n",
      " 12  start_ride_price   11568 non-null  int64         \n",
      " 13  subscription_fee   11568 non-null  int64         \n",
      "dtypes: datetime64[ns](1), float64(2), int64(8), object(3)\n",
      "memory usage: 1.3+ MB\n"
     ]
    }
   ],
   "source": [
    "without_subscription.info()"
   ]
  },
  {
   "cell_type": "code",
   "execution_count": 62,
   "id": "9edcba42",
   "metadata": {},
   "outputs": [
    {
     "name": "stdout",
     "output_type": "stream",
     "text": [
      "<class 'pandas.core.frame.DataFrame'>\n",
      "Int64Index: 6500 entries, 0 to 6499\n",
      "Data columns (total 14 columns):\n",
      " #   Column             Non-Null Count  Dtype         \n",
      "---  ------             --------------  -----         \n",
      " 0   index_x            6500 non-null   int64         \n",
      " 1   user_id            6500 non-null   int64         \n",
      " 2   name               6500 non-null   object        \n",
      " 3   age                6500 non-null   int64         \n",
      " 4   city               6500 non-null   object        \n",
      " 5   subscription_type  6500 non-null   object        \n",
      " 6   index_y            6500 non-null   int64         \n",
      " 7   distance           6500 non-null   float64       \n",
      " 8   duration           6500 non-null   float64       \n",
      " 9   date               6500 non-null   datetime64[ns]\n",
      " 10  month              6500 non-null   int64         \n",
      " 11  minute_price       6500 non-null   int64         \n",
      " 12  start_ride_price   6500 non-null   int64         \n",
      " 13  subscription_fee   6500 non-null   int64         \n",
      "dtypes: datetime64[ns](1), float64(2), int64(8), object(3)\n",
      "memory usage: 761.7+ KB\n"
     ]
    }
   ],
   "source": [
    "with_subscription.info()"
   ]
  },
  {
   "cell_type": "code",
   "execution_count": 63,
   "id": "21b4fea1",
   "metadata": {},
   "outputs": [
    {
     "data": {
      "text/html": [
       "<div>\n",
       "<style scoped>\n",
       "    .dataframe tbody tr th:only-of-type {\n",
       "        vertical-align: middle;\n",
       "    }\n",
       "\n",
       "    .dataframe tbody tr th {\n",
       "        vertical-align: top;\n",
       "    }\n",
       "\n",
       "    .dataframe thead th {\n",
       "        text-align: right;\n",
       "    }\n",
       "</style>\n",
       "<table border=\"1\" class=\"dataframe\">\n",
       "  <thead>\n",
       "    <tr style=\"text-align: right;\">\n",
       "      <th></th>\n",
       "      <th>index_x</th>\n",
       "      <th>user_id</th>\n",
       "      <th>age</th>\n",
       "      <th>index_y</th>\n",
       "      <th>distance</th>\n",
       "      <th>duration</th>\n",
       "      <th>month</th>\n",
       "      <th>minute_price</th>\n",
       "      <th>start_ride_price</th>\n",
       "      <th>subscription_fee</th>\n",
       "    </tr>\n",
       "  </thead>\n",
       "  <tbody>\n",
       "    <tr>\n",
       "      <th>count</th>\n",
       "      <td>11568.000000</td>\n",
       "      <td>11568.000000</td>\n",
       "      <td>11568.000000</td>\n",
       "      <td>11568.000000</td>\n",
       "      <td>11568.000000</td>\n",
       "      <td>11568.000000</td>\n",
       "      <td>11568.000000</td>\n",
       "      <td>11568.0</td>\n",
       "      <td>11568.0</td>\n",
       "      <td>11568.0</td>\n",
       "    </tr>\n",
       "    <tr>\n",
       "      <th>mean</th>\n",
       "      <td>1119.527230</td>\n",
       "      <td>1120.527230</td>\n",
       "      <td>24.893326</td>\n",
       "      <td>12283.500000</td>\n",
       "      <td>3045.495282</td>\n",
       "      <td>17.390909</td>\n",
       "      <td>6.522994</td>\n",
       "      <td>8.0</td>\n",
       "      <td>50.0</td>\n",
       "      <td>0.0</td>\n",
       "    </tr>\n",
       "    <tr>\n",
       "      <th>std</th>\n",
       "      <td>241.165628</td>\n",
       "      <td>241.165628</td>\n",
       "      <td>4.481100</td>\n",
       "      <td>3339.538291</td>\n",
       "      <td>1246.173806</td>\n",
       "      <td>6.326803</td>\n",
       "      <td>3.449770</td>\n",
       "      <td>0.0</td>\n",
       "      <td>0.0</td>\n",
       "      <td>0.0</td>\n",
       "    </tr>\n",
       "    <tr>\n",
       "      <th>min</th>\n",
       "      <td>699.000000</td>\n",
       "      <td>700.000000</td>\n",
       "      <td>12.000000</td>\n",
       "      <td>6500.000000</td>\n",
       "      <td>0.855683</td>\n",
       "      <td>0.500000</td>\n",
       "      <td>1.000000</td>\n",
       "      <td>8.0</td>\n",
       "      <td>50.0</td>\n",
       "      <td>0.0</td>\n",
       "    </tr>\n",
       "    <tr>\n",
       "      <th>25%</th>\n",
       "      <td>914.000000</td>\n",
       "      <td>915.000000</td>\n",
       "      <td>22.000000</td>\n",
       "      <td>9391.750000</td>\n",
       "      <td>2366.562689</td>\n",
       "      <td>12.958437</td>\n",
       "      <td>4.000000</td>\n",
       "      <td>8.0</td>\n",
       "      <td>50.0</td>\n",
       "      <td>0.0</td>\n",
       "    </tr>\n",
       "    <tr>\n",
       "      <th>50%</th>\n",
       "      <td>1122.000000</td>\n",
       "      <td>1123.000000</td>\n",
       "      <td>25.000000</td>\n",
       "      <td>12283.500000</td>\n",
       "      <td>3114.648465</td>\n",
       "      <td>17.326890</td>\n",
       "      <td>7.000000</td>\n",
       "      <td>8.0</td>\n",
       "      <td>50.0</td>\n",
       "      <td>0.0</td>\n",
       "    </tr>\n",
       "    <tr>\n",
       "      <th>75%</th>\n",
       "      <td>1327.000000</td>\n",
       "      <td>1328.000000</td>\n",
       "      <td>28.000000</td>\n",
       "      <td>15175.250000</td>\n",
       "      <td>3905.697894</td>\n",
       "      <td>21.594071</td>\n",
       "      <td>9.000000</td>\n",
       "      <td>8.0</td>\n",
       "      <td>50.0</td>\n",
       "      <td>0.0</td>\n",
       "    </tr>\n",
       "    <tr>\n",
       "      <th>max</th>\n",
       "      <td>1533.000000</td>\n",
       "      <td>1534.000000</td>\n",
       "      <td>43.000000</td>\n",
       "      <td>18067.000000</td>\n",
       "      <td>7211.007745</td>\n",
       "      <td>34.948498</td>\n",
       "      <td>12.000000</td>\n",
       "      <td>8.0</td>\n",
       "      <td>50.0</td>\n",
       "      <td>0.0</td>\n",
       "    </tr>\n",
       "  </tbody>\n",
       "</table>\n",
       "</div>"
      ],
      "text/plain": [
       "            index_x       user_id           age       index_y      distance  \\\n",
       "count  11568.000000  11568.000000  11568.000000  11568.000000  11568.000000   \n",
       "mean    1119.527230   1120.527230     24.893326  12283.500000   3045.495282   \n",
       "std      241.165628    241.165628      4.481100   3339.538291   1246.173806   \n",
       "min      699.000000    700.000000     12.000000   6500.000000      0.855683   \n",
       "25%      914.000000    915.000000     22.000000   9391.750000   2366.562689   \n",
       "50%     1122.000000   1123.000000     25.000000  12283.500000   3114.648465   \n",
       "75%     1327.000000   1328.000000     28.000000  15175.250000   3905.697894   \n",
       "max     1533.000000   1534.000000     43.000000  18067.000000   7211.007745   \n",
       "\n",
       "           duration         month  minute_price  start_ride_price  \\\n",
       "count  11568.000000  11568.000000       11568.0           11568.0   \n",
       "mean      17.390909      6.522994           8.0              50.0   \n",
       "std        6.326803      3.449770           0.0               0.0   \n",
       "min        0.500000      1.000000           8.0              50.0   \n",
       "25%       12.958437      4.000000           8.0              50.0   \n",
       "50%       17.326890      7.000000           8.0              50.0   \n",
       "75%       21.594071      9.000000           8.0              50.0   \n",
       "max       34.948498     12.000000           8.0              50.0   \n",
       "\n",
       "       subscription_fee  \n",
       "count           11568.0  \n",
       "mean                0.0  \n",
       "std                 0.0  \n",
       "min                 0.0  \n",
       "25%                 0.0  \n",
       "50%                 0.0  \n",
       "75%                 0.0  \n",
       "max                 0.0  "
      ]
     },
     "execution_count": 63,
     "metadata": {},
     "output_type": "execute_result"
    }
   ],
   "source": [
    "without_subscription.describe()"
   ]
  },
  {
   "cell_type": "code",
   "execution_count": 64,
   "id": "6a35254b",
   "metadata": {},
   "outputs": [
    {
     "data": {
      "text/html": [
       "<div>\n",
       "<style scoped>\n",
       "    .dataframe tbody tr th:only-of-type {\n",
       "        vertical-align: middle;\n",
       "    }\n",
       "\n",
       "    .dataframe tbody tr th {\n",
       "        vertical-align: top;\n",
       "    }\n",
       "\n",
       "    .dataframe thead th {\n",
       "        text-align: right;\n",
       "    }\n",
       "</style>\n",
       "<table border=\"1\" class=\"dataframe\">\n",
       "  <thead>\n",
       "    <tr style=\"text-align: right;\">\n",
       "      <th></th>\n",
       "      <th>index_x</th>\n",
       "      <th>user_id</th>\n",
       "      <th>age</th>\n",
       "      <th>index_y</th>\n",
       "      <th>distance</th>\n",
       "      <th>duration</th>\n",
       "      <th>month</th>\n",
       "      <th>minute_price</th>\n",
       "      <th>start_ride_price</th>\n",
       "      <th>subscription_fee</th>\n",
       "    </tr>\n",
       "  </thead>\n",
       "  <tbody>\n",
       "    <tr>\n",
       "      <th>count</th>\n",
       "      <td>6500.000000</td>\n",
       "      <td>6500.000000</td>\n",
       "      <td>6500.000000</td>\n",
       "      <td>6500.000000</td>\n",
       "      <td>6500.000000</td>\n",
       "      <td>6500.000000</td>\n",
       "      <td>6500.000000</td>\n",
       "      <td>6500.0</td>\n",
       "      <td>6500.0</td>\n",
       "      <td>6500.0</td>\n",
       "    </tr>\n",
       "    <tr>\n",
       "      <th>mean</th>\n",
       "      <td>347.725385</td>\n",
       "      <td>348.725385</td>\n",
       "      <td>24.892615</td>\n",
       "      <td>3249.500000</td>\n",
       "      <td>3115.445388</td>\n",
       "      <td>18.541985</td>\n",
       "      <td>6.422308</td>\n",
       "      <td>6.0</td>\n",
       "      <td>0.0</td>\n",
       "      <td>199.0</td>\n",
       "    </tr>\n",
       "    <tr>\n",
       "      <th>std</th>\n",
       "      <td>201.099339</td>\n",
       "      <td>201.099339</td>\n",
       "      <td>4.757208</td>\n",
       "      <td>1876.532707</td>\n",
       "      <td>836.895330</td>\n",
       "      <td>5.572048</td>\n",
       "      <td>3.414616</td>\n",
       "      <td>0.0</td>\n",
       "      <td>0.0</td>\n",
       "      <td>0.0</td>\n",
       "    </tr>\n",
       "    <tr>\n",
       "      <th>min</th>\n",
       "      <td>0.000000</td>\n",
       "      <td>1.000000</td>\n",
       "      <td>12.000000</td>\n",
       "      <td>0.000000</td>\n",
       "      <td>244.210438</td>\n",
       "      <td>3.760353</td>\n",
       "      <td>1.000000</td>\n",
       "      <td>6.0</td>\n",
       "      <td>0.0</td>\n",
       "      <td>199.0</td>\n",
       "    </tr>\n",
       "    <tr>\n",
       "      <th>25%</th>\n",
       "      <td>174.000000</td>\n",
       "      <td>175.000000</td>\n",
       "      <td>22.000000</td>\n",
       "      <td>1624.750000</td>\n",
       "      <td>2785.444017</td>\n",
       "      <td>14.524654</td>\n",
       "      <td>4.000000</td>\n",
       "      <td>6.0</td>\n",
       "      <td>0.0</td>\n",
       "      <td>199.0</td>\n",
       "    </tr>\n",
       "    <tr>\n",
       "      <th>50%</th>\n",
       "      <td>350.000000</td>\n",
       "      <td>351.000000</td>\n",
       "      <td>25.000000</td>\n",
       "      <td>3249.500000</td>\n",
       "      <td>3148.637229</td>\n",
       "      <td>18.178153</td>\n",
       "      <td>6.000000</td>\n",
       "      <td>6.0</td>\n",
       "      <td>0.0</td>\n",
       "      <td>199.0</td>\n",
       "    </tr>\n",
       "    <tr>\n",
       "      <th>75%</th>\n",
       "      <td>524.000000</td>\n",
       "      <td>525.000000</td>\n",
       "      <td>28.000000</td>\n",
       "      <td>4874.250000</td>\n",
       "      <td>3560.574425</td>\n",
       "      <td>21.884129</td>\n",
       "      <td>9.000000</td>\n",
       "      <td>6.0</td>\n",
       "      <td>0.0</td>\n",
       "      <td>199.0</td>\n",
       "    </tr>\n",
       "    <tr>\n",
       "      <th>max</th>\n",
       "      <td>698.000000</td>\n",
       "      <td>699.000000</td>\n",
       "      <td>38.000000</td>\n",
       "      <td>6499.000000</td>\n",
       "      <td>5699.769662</td>\n",
       "      <td>40.823963</td>\n",
       "      <td>12.000000</td>\n",
       "      <td>6.0</td>\n",
       "      <td>0.0</td>\n",
       "      <td>199.0</td>\n",
       "    </tr>\n",
       "  </tbody>\n",
       "</table>\n",
       "</div>"
      ],
      "text/plain": [
       "           index_x      user_id          age      index_y     distance  \\\n",
       "count  6500.000000  6500.000000  6500.000000  6500.000000  6500.000000   \n",
       "mean    347.725385   348.725385    24.892615  3249.500000  3115.445388   \n",
       "std     201.099339   201.099339     4.757208  1876.532707   836.895330   \n",
       "min       0.000000     1.000000    12.000000     0.000000   244.210438   \n",
       "25%     174.000000   175.000000    22.000000  1624.750000  2785.444017   \n",
       "50%     350.000000   351.000000    25.000000  3249.500000  3148.637229   \n",
       "75%     524.000000   525.000000    28.000000  4874.250000  3560.574425   \n",
       "max     698.000000   699.000000    38.000000  6499.000000  5699.769662   \n",
       "\n",
       "          duration        month  minute_price  start_ride_price  \\\n",
       "count  6500.000000  6500.000000        6500.0            6500.0   \n",
       "mean     18.541985     6.422308           6.0               0.0   \n",
       "std       5.572048     3.414616           0.0               0.0   \n",
       "min       3.760353     1.000000           6.0               0.0   \n",
       "25%      14.524654     4.000000           6.0               0.0   \n",
       "50%      18.178153     6.000000           6.0               0.0   \n",
       "75%      21.884129     9.000000           6.0               0.0   \n",
       "max      40.823963    12.000000           6.0               0.0   \n",
       "\n",
       "       subscription_fee  \n",
       "count            6500.0  \n",
       "mean              199.0  \n",
       "std                 0.0  \n",
       "min               199.0  \n",
       "25%               199.0  \n",
       "50%               199.0  \n",
       "75%               199.0  \n",
       "max               199.0  "
      ]
     },
     "execution_count": 64,
     "metadata": {},
     "output_type": "execute_result"
    }
   ],
   "source": [
    "with_subscription.describe()"
   ]
  },
  {
   "cell_type": "markdown",
   "id": "e654415f",
   "metadata": {},
   "source": [
    "Итак, в результате получили две таблицы: without_subscription (все поездки с данными о пользователях без подписки), with_subscription (все поездки с данными о пользователях c подпиской). \n",
    "\n",
    "Датафрейм without_subscription содержит 11568 строк, with_subscription - 6500 строк. Общая сумма стров в обоих таблицах 18068, как и было до разделения таблицы general_data.\n",
    "Пропусков в новых таблицах нет."
   ]
  },
  {
   "cell_type": "markdown",
   "id": "aebaac73",
   "metadata": {},
   "source": [
    "### Визуализируем информацию о расстоянии и времени поездок для пользователей обеих категорий"
   ]
  },
  {
   "cell_type": "markdown",
   "id": "b6898edf",
   "metadata": {},
   "source": [
    "* Визуализируем параметр 'distance' (расстояние одной поездки) для пользователей с подпиской и без:"
   ]
  },
  {
   "cell_type": "code",
   "execution_count": 65,
   "id": "b360e887",
   "metadata": {},
   "outputs": [
    {
     "data": {
      "image/png": "[encoded data removed]",
      "text/plain": [
       "<Figure size 432x288 with 1 Axes>"
      ]
     },
     "metadata": {
      "needs_background": "light"
     },
     "output_type": "display_data"
    }
   ],
   "source": [
    "ax = with_subscription['distance'].plot(kind = 'hist', grid=True, histtype =  'step', bins = 30, label='без подписки')\n",
    "ax = without_subscription['distance'].plot(kind = 'hist', grid=True, histtype =  'step', bins = 30, label='с подпиской')\n",
    "plt.title('Расстояние одной поездки для пользователей с подпиской и без')\n",
    "plt.xlabel('расстояние (м)')\n",
    "plt.ylabel('количество поездок')\n",
    "plt.legend(loc='upper right')\n",
    "plt.show()"
   ]
  },
  {
   "cell_type": "markdown",
   "id": "029ac74d",
   "metadata": {},
   "source": [
    "<div class=\"alert alert-block alert-success\">\n",
    "\n",
    "**Комментарий ревьювера (все отлично)**\n",
    "    \n",
    "Отличное решение совместить два распределения на одном графике👍\n",
    "</div>"
   ]
  },
  {
   "cell_type": "markdown",
   "id": "e1ff0ad4",
   "metadata": {},
   "source": [
    "* Визуализируем параметр 'duration' (продолжительность одной поездки) для пользователей с подпиской и без:"
   ]
  },
  {
   "cell_type": "code",
   "execution_count": 66,
   "id": "05c9e3d1",
   "metadata": {},
   "outputs": [
    {
     "data": {
      "image/png": "[encoded data removed]",
      "text/plain": [
       "<Figure size 432x288 with 1 Axes>"
      ]
     },
     "metadata": {
      "needs_background": "light"
     },
     "output_type": "display_data"
    }
   ],
   "source": [
    "ax = with_subscription['duration'].plot(kind = 'hist', grid=True, histtype =  'step', bins = 30, label='без подписки')\n",
    "ax = without_subscription['duration'].plot(kind = 'hist', grid=True, histtype =  'step', bins = 30, label='с подпиской Ultra')\n",
    "plt.title('Продолжительность одной поездки пользователей с подпиской и без')\n",
    "plt.xlabel('время (мин)')\n",
    "plt.ylabel('количество поездок')\n",
    "plt.legend(loc='upper right')\n",
    "plt.show()"
   ]
  },
  {
   "cell_type": "markdown",
   "id": "d75f654f",
   "metadata": {},
   "source": [
    "---\n",
    "Итак, три исходных датафрейма: data_users (с данными о пользователях), data_rides (с данными о поездках) и data_subscriptions (с информацией о подписках) объединили в один датафрейм general_data с помощью метода merge().\n",
    "\n",
    "На основе полученного датафрейма были созданые ещё два: without_subscription (все поездки с данными о пользователях без подписки), with_subscription (все поездки с данными о пользователях c подпиской).\n",
    "\n",
    "Сравним данные по поездкам с подпиской и без (*отметим, что на текущий момент из рассмотрения еще не исключили выбросы - слишком быстрые и слишком короткие поездки*):  \n",
    "* Поездок без подписки на 5068 больше, чем с подпиской  \n",
    "* Возрастные показатели пользователей с разным типом подписки в целом схожи, за исключением максимального возраста, который выше у пользователей без подписки на 5 лет\n",
    "* Дистанция поездок без подписки более разнообразна, о чем говорит стандартное отклонение, которое без подписки больше на 409 м Максимальная дистанция без подписки больше на 1511 м, а средняя дистанция на 70 м короче, чем с подпиской \n",
    "* Продолжительность поездок без подписки по всем показателям меньше, чем с подпиской\n",
    "* Сезонность использования разного типа подписки схожа за исключением медианы, которая у пользователей с подпиской ultra приходится на июнь, а у пользователей без подписки - на июль"
   ]
  },
  {
   "cell_type": "markdown",
   "id": "402d620f",
   "metadata": {},
   "source": [
    "## Шаг 5. Подсчёт выручки "
   ]
  },
  {
   "cell_type": "markdown",
   "id": "2e31d2bd",
   "metadata": {},
   "source": [
    "### Создадим датафрейм с агрегированными данными о поездках на основе датафрейма с объединёнными данными из шага 4: найдём суммарное расстояние, количество поездок и суммарное время для каждого пользователя за каждый месяц"
   ]
  },
  {
   "cell_type": "markdown",
   "id": "261a0ee1",
   "metadata": {},
   "source": [
    "Продолжительность каждой поездки в каждой строке исходного датафрейма для подсчёта стоимости округлим до следующего целого числа: например, значения 25.3, 25.5, 26.0 будут преобразованы к 26. \n",
    "\n",
    "Операцию выполним с помощью метода «потолок» библиотеки numpy — np.ceil() и приведем к типу int:"
   ]
  },
  {
   "cell_type": "code",
   "execution_count": 67,
   "id": "0c62aa3b",
   "metadata": {},
   "outputs": [],
   "source": [
    "general_data['duration'] = np.ceil(general_data['duration'])\n",
    "general_data['duration'] = general_data['duration'].astype('int')"
   ]
  },
  {
   "cell_type": "code",
   "execution_count": 68,
   "id": "66c7c6aa",
   "metadata": {},
   "outputs": [
    {
     "data": {
      "text/html": [
       "<div>\n",
       "<style scoped>\n",
       "    .dataframe tbody tr th:only-of-type {\n",
       "        vertical-align: middle;\n",
       "    }\n",
       "\n",
       "    .dataframe tbody tr th {\n",
       "        vertical-align: top;\n",
       "    }\n",
       "\n",
       "    .dataframe thead th {\n",
       "        text-align: right;\n",
       "    }\n",
       "</style>\n",
       "<table border=\"1\" class=\"dataframe\">\n",
       "  <thead>\n",
       "    <tr style=\"text-align: right;\">\n",
       "      <th></th>\n",
       "      <th>user_id</th>\n",
       "      <th>month</th>\n",
       "      <th>count_riders</th>\n",
       "      <th>sum_distance</th>\n",
       "      <th>sum_duration</th>\n",
       "    </tr>\n",
       "  </thead>\n",
       "  <tbody>\n",
       "    <tr>\n",
       "      <th>0</th>\n",
       "      <td>1</td>\n",
       "      <td>1</td>\n",
       "      <td>2</td>\n",
       "      <td>7027.511294</td>\n",
       "      <td>42</td>\n",
       "    </tr>\n",
       "    <tr>\n",
       "      <th>1</th>\n",
       "      <td>1</td>\n",
       "      <td>4</td>\n",
       "      <td>1</td>\n",
       "      <td>754.159807</td>\n",
       "      <td>7</td>\n",
       "    </tr>\n",
       "    <tr>\n",
       "      <th>2</th>\n",
       "      <td>1</td>\n",
       "      <td>8</td>\n",
       "      <td>2</td>\n",
       "      <td>6723.470560</td>\n",
       "      <td>46</td>\n",
       "    </tr>\n",
       "    <tr>\n",
       "      <th>3</th>\n",
       "      <td>1</td>\n",
       "      <td>10</td>\n",
       "      <td>2</td>\n",
       "      <td>5809.911100</td>\n",
       "      <td>32</td>\n",
       "    </tr>\n",
       "    <tr>\n",
       "      <th>4</th>\n",
       "      <td>1</td>\n",
       "      <td>11</td>\n",
       "      <td>3</td>\n",
       "      <td>7003.499363</td>\n",
       "      <td>56</td>\n",
       "    </tr>\n",
       "  </tbody>\n",
       "</table>\n",
       "</div>"
      ],
      "text/plain": [
       "   user_id  month  count_riders  sum_distance  sum_duration\n",
       "0        1      1             2   7027.511294            42\n",
       "1        1      4             1    754.159807             7\n",
       "2        1      8             2   6723.470560            46\n",
       "3        1     10             2   5809.911100            32\n",
       "4        1     11             3   7003.499363            56"
      ]
     },
     "execution_count": 68,
     "metadata": {},
     "output_type": "execute_result"
    }
   ],
   "source": [
    "general_data_agg = general_data.pivot_table(index= ['user_id', 'month'], values = ['distance', 'duration'], aggfunc = ['count', 'sum'])\n",
    "general_data_agg.columns = ['count_riders', 'count_riders_double', 'sum_distance', 'sum_duration'] # переименуем столбцы\n",
    "general_data_agg = general_data_agg.drop(columns=['count_riders_double']) # удалим лишний столбец с числом поездок\n",
    "general_data_agg = general_data_agg.reset_index()\n",
    "general_data_agg.head()"
   ]
  },
  {
   "cell_type": "markdown",
   "id": "9f624dcb",
   "metadata": {},
   "source": [
    "Итак, мы создали новый датафрейм general_data_agg с агрегированными данными о поездках на основе датафрейма с объединёнными данными general_data. \n",
    "\n",
    "В таблице 3 столбца, которые отображают следующую информацию: \n",
    "* **'count_riders'** - общее количество поездок для каждого пользователя за каждый месяц\n",
    "* **'sum_distance'** - суммарное расстояниевсех поездок для каждого пользователя за каждый месяц\n",
    "* **'sum_duration'** - суммарное время поездок для каждого пользователя за каждый месяц"
   ]
  },
  {
   "cell_type": "markdown",
   "id": "86496bc1",
   "metadata": {},
   "source": [
    "### В полученный датафрейм добавим столбец с помесячной выручкой, которую принёс каждый пользователь\n",
    "\n",
    "Для этого обратимся к информации об условиях оплаты для пользователей с подпиской и без. Продолжительность каждой поездки уже округлили ранее."
   ]
  },
  {
   "cell_type": "markdown",
   "id": "5fbad737",
   "metadata": {},
   "source": [
    "В датафрейм general_data_agg добавим столбец 'subscription_type' c информацией о типе подписки для каждого пользователя, для чего с помощью метода merge() объединим датафреймы general_data_agg и data_users и удалим лишние столбцы. "
   ]
  },
  {
   "cell_type": "code",
   "execution_count": 69,
   "id": "0cdacba8",
   "metadata": {},
   "outputs": [
    {
     "data": {
      "text/html": [
       "<div>\n",
       "<style scoped>\n",
       "    .dataframe tbody tr th:only-of-type {\n",
       "        vertical-align: middle;\n",
       "    }\n",
       "\n",
       "    .dataframe tbody tr th {\n",
       "        vertical-align: top;\n",
       "    }\n",
       "\n",
       "    .dataframe thead th {\n",
       "        text-align: right;\n",
       "    }\n",
       "</style>\n",
       "<table border=\"1\" class=\"dataframe\">\n",
       "  <thead>\n",
       "    <tr style=\"text-align: right;\">\n",
       "      <th></th>\n",
       "      <th>user_id</th>\n",
       "      <th>month</th>\n",
       "      <th>count_riders</th>\n",
       "      <th>sum_distance</th>\n",
       "      <th>sum_duration</th>\n",
       "      <th>subscription_type</th>\n",
       "    </tr>\n",
       "  </thead>\n",
       "  <tbody>\n",
       "    <tr>\n",
       "      <th>0</th>\n",
       "      <td>1</td>\n",
       "      <td>1</td>\n",
       "      <td>2</td>\n",
       "      <td>7027.511294</td>\n",
       "      <td>42</td>\n",
       "      <td>ultra</td>\n",
       "    </tr>\n",
       "    <tr>\n",
       "      <th>1</th>\n",
       "      <td>1</td>\n",
       "      <td>4</td>\n",
       "      <td>1</td>\n",
       "      <td>754.159807</td>\n",
       "      <td>7</td>\n",
       "      <td>ultra</td>\n",
       "    </tr>\n",
       "    <tr>\n",
       "      <th>2</th>\n",
       "      <td>1</td>\n",
       "      <td>8</td>\n",
       "      <td>2</td>\n",
       "      <td>6723.470560</td>\n",
       "      <td>46</td>\n",
       "      <td>ultra</td>\n",
       "    </tr>\n",
       "    <tr>\n",
       "      <th>3</th>\n",
       "      <td>1</td>\n",
       "      <td>10</td>\n",
       "      <td>2</td>\n",
       "      <td>5809.911100</td>\n",
       "      <td>32</td>\n",
       "      <td>ultra</td>\n",
       "    </tr>\n",
       "    <tr>\n",
       "      <th>4</th>\n",
       "      <td>1</td>\n",
       "      <td>11</td>\n",
       "      <td>3</td>\n",
       "      <td>7003.499363</td>\n",
       "      <td>56</td>\n",
       "      <td>ultra</td>\n",
       "    </tr>\n",
       "  </tbody>\n",
       "</table>\n",
       "</div>"
      ],
      "text/plain": [
       "   user_id  month  count_riders  sum_distance  sum_duration subscription_type\n",
       "0        1      1             2   7027.511294            42             ultra\n",
       "1        1      4             1    754.159807             7             ultra\n",
       "2        1      8             2   6723.470560            46             ultra\n",
       "3        1     10             2   5809.911100            32             ultra\n",
       "4        1     11             3   7003.499363            56             ultra"
      ]
     },
     "execution_count": 69,
     "metadata": {},
     "output_type": "execute_result"
    }
   ],
   "source": [
    "general_data_agg = general_data_agg.merge(data_users, on='user_id')\n",
    "#general_data_agg = general_data_agg.drop(columns=['index', 'name', 'age', 'city'])\n",
    "general_data_agg = general_data_agg.drop(columns=['index','name', 'age', 'city'])\n",
    "general_data_agg.head()"
   ]
  },
  {
   "cell_type": "markdown",
   "id": "d5628ca7",
   "metadata": {},
   "source": [
    "Далее необходимо поместить в датафрейм информацию о подписке - добавим столбцы 'minute_price', 'start_ride_price', 'subscription_fee'. Аналогично с помощью метода merge() объединим general_data_agg и data_subscriptions:"
   ]
  },
  {
   "cell_type": "code",
   "execution_count": 70,
   "id": "054cc182",
   "metadata": {},
   "outputs": [
    {
     "data": {
      "text/html": [
       "<div>\n",
       "<style scoped>\n",
       "    .dataframe tbody tr th:only-of-type {\n",
       "        vertical-align: middle;\n",
       "    }\n",
       "\n",
       "    .dataframe tbody tr th {\n",
       "        vertical-align: top;\n",
       "    }\n",
       "\n",
       "    .dataframe thead th {\n",
       "        text-align: right;\n",
       "    }\n",
       "</style>\n",
       "<table border=\"1\" class=\"dataframe\">\n",
       "  <thead>\n",
       "    <tr style=\"text-align: right;\">\n",
       "      <th></th>\n",
       "      <th>user_id</th>\n",
       "      <th>month</th>\n",
       "      <th>count_riders</th>\n",
       "      <th>sum_distance</th>\n",
       "      <th>sum_duration</th>\n",
       "      <th>subscription_type</th>\n",
       "      <th>minute_price</th>\n",
       "      <th>start_ride_price</th>\n",
       "      <th>subscription_fee</th>\n",
       "    </tr>\n",
       "  </thead>\n",
       "  <tbody>\n",
       "    <tr>\n",
       "      <th>0</th>\n",
       "      <td>1</td>\n",
       "      <td>1</td>\n",
       "      <td>2</td>\n",
       "      <td>7027.511294</td>\n",
       "      <td>42</td>\n",
       "      <td>ultra</td>\n",
       "      <td>6</td>\n",
       "      <td>0</td>\n",
       "      <td>199</td>\n",
       "    </tr>\n",
       "    <tr>\n",
       "      <th>1</th>\n",
       "      <td>1</td>\n",
       "      <td>4</td>\n",
       "      <td>1</td>\n",
       "      <td>754.159807</td>\n",
       "      <td>7</td>\n",
       "      <td>ultra</td>\n",
       "      <td>6</td>\n",
       "      <td>0</td>\n",
       "      <td>199</td>\n",
       "    </tr>\n",
       "    <tr>\n",
       "      <th>2</th>\n",
       "      <td>1</td>\n",
       "      <td>8</td>\n",
       "      <td>2</td>\n",
       "      <td>6723.470560</td>\n",
       "      <td>46</td>\n",
       "      <td>ultra</td>\n",
       "      <td>6</td>\n",
       "      <td>0</td>\n",
       "      <td>199</td>\n",
       "    </tr>\n",
       "    <tr>\n",
       "      <th>3</th>\n",
       "      <td>1</td>\n",
       "      <td>10</td>\n",
       "      <td>2</td>\n",
       "      <td>5809.911100</td>\n",
       "      <td>32</td>\n",
       "      <td>ultra</td>\n",
       "      <td>6</td>\n",
       "      <td>0</td>\n",
       "      <td>199</td>\n",
       "    </tr>\n",
       "    <tr>\n",
       "      <th>4</th>\n",
       "      <td>1</td>\n",
       "      <td>11</td>\n",
       "      <td>3</td>\n",
       "      <td>7003.499363</td>\n",
       "      <td>56</td>\n",
       "      <td>ultra</td>\n",
       "      <td>6</td>\n",
       "      <td>0</td>\n",
       "      <td>199</td>\n",
       "    </tr>\n",
       "  </tbody>\n",
       "</table>\n",
       "</div>"
      ],
      "text/plain": [
       "   user_id  month  count_riders  sum_distance  sum_duration subscription_type  \\\n",
       "0        1      1             2   7027.511294            42             ultra   \n",
       "1        1      4             1    754.159807             7             ultra   \n",
       "2        1      8             2   6723.470560            46             ultra   \n",
       "3        1     10             2   5809.911100            32             ultra   \n",
       "4        1     11             3   7003.499363            56             ultra   \n",
       "\n",
       "   minute_price  start_ride_price  subscription_fee  \n",
       "0             6                 0               199  \n",
       "1             6                 0               199  \n",
       "2             6                 0               199  \n",
       "3             6                 0               199  \n",
       "4             6                 0               199  "
      ]
     },
     "execution_count": 70,
     "metadata": {},
     "output_type": "execute_result"
    }
   ],
   "source": [
    "general_data_agg = general_data_agg.merge(data_subscriptions, on='subscription_type')\n",
    "general_data_agg.head()"
   ]
  },
  {
   "cell_type": "markdown",
   "id": "aad2e7eb",
   "metadata": {},
   "source": [
    "К преобразованному датафрейму general_data_agg добавим новый столбец 'month_income', в котором рассчитаем помесячную выручку для каждого пользователя.\n",
    "\n",
    "Расчет будем производить по следующей формуле:  \n",
    "**помесячная выручка  = стоимость старта поездки * количество поездок + стоимость одной минуты поездки * общая продолжительность всех поездок в минутах + стоимость подписки**"
   ]
  },
  {
   "cell_type": "code",
   "execution_count": 71,
   "id": "798b567e",
   "metadata": {},
   "outputs": [
    {
     "data": {
      "text/html": [
       "<div>\n",
       "<style scoped>\n",
       "    .dataframe tbody tr th:only-of-type {\n",
       "        vertical-align: middle;\n",
       "    }\n",
       "\n",
       "    .dataframe tbody tr th {\n",
       "        vertical-align: top;\n",
       "    }\n",
       "\n",
       "    .dataframe thead th {\n",
       "        text-align: right;\n",
       "    }\n",
       "</style>\n",
       "<table border=\"1\" class=\"dataframe\">\n",
       "  <thead>\n",
       "    <tr style=\"text-align: right;\">\n",
       "      <th></th>\n",
       "      <th>user_id</th>\n",
       "      <th>month</th>\n",
       "      <th>count_riders</th>\n",
       "      <th>sum_distance</th>\n",
       "      <th>sum_duration</th>\n",
       "      <th>subscription_type</th>\n",
       "      <th>minute_price</th>\n",
       "      <th>start_ride_price</th>\n",
       "      <th>subscription_fee</th>\n",
       "      <th>month_income</th>\n",
       "    </tr>\n",
       "  </thead>\n",
       "  <tbody>\n",
       "    <tr>\n",
       "      <th>0</th>\n",
       "      <td>1</td>\n",
       "      <td>1</td>\n",
       "      <td>2</td>\n",
       "      <td>7027.511294</td>\n",
       "      <td>42</td>\n",
       "      <td>ultra</td>\n",
       "      <td>6</td>\n",
       "      <td>0</td>\n",
       "      <td>199</td>\n",
       "      <td>451</td>\n",
       "    </tr>\n",
       "    <tr>\n",
       "      <th>1</th>\n",
       "      <td>1</td>\n",
       "      <td>4</td>\n",
       "      <td>1</td>\n",
       "      <td>754.159807</td>\n",
       "      <td>7</td>\n",
       "      <td>ultra</td>\n",
       "      <td>6</td>\n",
       "      <td>0</td>\n",
       "      <td>199</td>\n",
       "      <td>241</td>\n",
       "    </tr>\n",
       "    <tr>\n",
       "      <th>2</th>\n",
       "      <td>1</td>\n",
       "      <td>8</td>\n",
       "      <td>2</td>\n",
       "      <td>6723.470560</td>\n",
       "      <td>46</td>\n",
       "      <td>ultra</td>\n",
       "      <td>6</td>\n",
       "      <td>0</td>\n",
       "      <td>199</td>\n",
       "      <td>475</td>\n",
       "    </tr>\n",
       "    <tr>\n",
       "      <th>3</th>\n",
       "      <td>1</td>\n",
       "      <td>10</td>\n",
       "      <td>2</td>\n",
       "      <td>5809.911100</td>\n",
       "      <td>32</td>\n",
       "      <td>ultra</td>\n",
       "      <td>6</td>\n",
       "      <td>0</td>\n",
       "      <td>199</td>\n",
       "      <td>391</td>\n",
       "    </tr>\n",
       "    <tr>\n",
       "      <th>4</th>\n",
       "      <td>1</td>\n",
       "      <td>11</td>\n",
       "      <td>3</td>\n",
       "      <td>7003.499363</td>\n",
       "      <td>56</td>\n",
       "      <td>ultra</td>\n",
       "      <td>6</td>\n",
       "      <td>0</td>\n",
       "      <td>199</td>\n",
       "      <td>535</td>\n",
       "    </tr>\n",
       "  </tbody>\n",
       "</table>\n",
       "</div>"
      ],
      "text/plain": [
       "   user_id  month  count_riders  sum_distance  sum_duration subscription_type  \\\n",
       "0        1      1             2   7027.511294            42             ultra   \n",
       "1        1      4             1    754.159807             7             ultra   \n",
       "2        1      8             2   6723.470560            46             ultra   \n",
       "3        1     10             2   5809.911100            32             ultra   \n",
       "4        1     11             3   7003.499363            56             ultra   \n",
       "\n",
       "   minute_price  start_ride_price  subscription_fee  month_income  \n",
       "0             6                 0               199           451  \n",
       "1             6                 0               199           241  \n",
       "2             6                 0               199           475  \n",
       "3             6                 0               199           391  \n",
       "4             6                 0               199           535  "
      ]
     },
     "execution_count": 71,
     "metadata": {},
     "output_type": "execute_result"
    }
   ],
   "source": [
    "general_data_agg['month_income'] = general_data_agg['start_ride_price'] * general_data_agg['count_riders'] + \\\n",
    "general_data_agg['minute_price'] * general_data_agg['sum_duration'] + general_data_agg['subscription_fee']\n",
    "general_data_agg.head()"
   ]
  },
  {
   "cell_type": "markdown",
   "id": "03565c14",
   "metadata": {},
   "source": [
    "На этом этапе создадим еще два датафрейма, которые нам потребуются в дальнейшем для проверки гипотез в пункте 6.3:\n",
    "* **without_subscription_income** - данные о пользователе без подписки с информацией о помесячном доходе\n",
    "* **with_subscription_income** - данные о пользователе с подпиской с информацией о помесячном доходе"
   ]
  },
  {
   "cell_type": "code",
   "execution_count": 72,
   "id": "369e8e36",
   "metadata": {},
   "outputs": [
    {
     "data": {
      "text/html": [
       "<div>\n",
       "<style scoped>\n",
       "    .dataframe tbody tr th:only-of-type {\n",
       "        vertical-align: middle;\n",
       "    }\n",
       "\n",
       "    .dataframe tbody tr th {\n",
       "        vertical-align: top;\n",
       "    }\n",
       "\n",
       "    .dataframe thead th {\n",
       "        text-align: right;\n",
       "    }\n",
       "</style>\n",
       "<table border=\"1\" class=\"dataframe\">\n",
       "  <thead>\n",
       "    <tr style=\"text-align: right;\">\n",
       "      <th></th>\n",
       "      <th>user_id</th>\n",
       "      <th>month</th>\n",
       "      <th>count_riders</th>\n",
       "      <th>sum_distance</th>\n",
       "      <th>sum_duration</th>\n",
       "      <th>subscription_type</th>\n",
       "      <th>minute_price</th>\n",
       "      <th>start_ride_price</th>\n",
       "      <th>subscription_fee</th>\n",
       "      <th>month_income</th>\n",
       "    </tr>\n",
       "  </thead>\n",
       "  <tbody>\n",
       "    <tr>\n",
       "      <th>4533</th>\n",
       "      <td>700</td>\n",
       "      <td>1</td>\n",
       "      <td>1</td>\n",
       "      <td>2515.690719</td>\n",
       "      <td>15</td>\n",
       "      <td>free</td>\n",
       "      <td>8</td>\n",
       "      <td>50</td>\n",
       "      <td>0</td>\n",
       "      <td>170</td>\n",
       "    </tr>\n",
       "    <tr>\n",
       "      <th>4534</th>\n",
       "      <td>700</td>\n",
       "      <td>2</td>\n",
       "      <td>5</td>\n",
       "      <td>13446.659764</td>\n",
       "      <td>89</td>\n",
       "      <td>free</td>\n",
       "      <td>8</td>\n",
       "      <td>50</td>\n",
       "      <td>0</td>\n",
       "      <td>962</td>\n",
       "    </tr>\n",
       "    <tr>\n",
       "      <th>4535</th>\n",
       "      <td>700</td>\n",
       "      <td>3</td>\n",
       "      <td>1</td>\n",
       "      <td>3798.334905</td>\n",
       "      <td>19</td>\n",
       "      <td>free</td>\n",
       "      <td>8</td>\n",
       "      <td>50</td>\n",
       "      <td>0</td>\n",
       "      <td>202</td>\n",
       "    </tr>\n",
       "    <tr>\n",
       "      <th>4536</th>\n",
       "      <td>700</td>\n",
       "      <td>4</td>\n",
       "      <td>1</td>\n",
       "      <td>2984.551206</td>\n",
       "      <td>16</td>\n",
       "      <td>free</td>\n",
       "      <td>8</td>\n",
       "      <td>50</td>\n",
       "      <td>0</td>\n",
       "      <td>178</td>\n",
       "    </tr>\n",
       "    <tr>\n",
       "      <th>4537</th>\n",
       "      <td>700</td>\n",
       "      <td>6</td>\n",
       "      <td>2</td>\n",
       "      <td>5927.650988</td>\n",
       "      <td>29</td>\n",
       "      <td>free</td>\n",
       "      <td>8</td>\n",
       "      <td>50</td>\n",
       "      <td>0</td>\n",
       "      <td>332</td>\n",
       "    </tr>\n",
       "  </tbody>\n",
       "</table>\n",
       "</div>"
      ],
      "text/plain": [
       "      user_id  month  count_riders  sum_distance  sum_duration  \\\n",
       "4533      700      1             1   2515.690719            15   \n",
       "4534      700      2             5  13446.659764            89   \n",
       "4535      700      3             1   3798.334905            19   \n",
       "4536      700      4             1   2984.551206            16   \n",
       "4537      700      6             2   5927.650988            29   \n",
       "\n",
       "     subscription_type  minute_price  start_ride_price  subscription_fee  \\\n",
       "4533              free             8                50                 0   \n",
       "4534              free             8                50                 0   \n",
       "4535              free             8                50                 0   \n",
       "4536              free             8                50                 0   \n",
       "4537              free             8                50                 0   \n",
       "\n",
       "      month_income  \n",
       "4533           170  \n",
       "4534           962  \n",
       "4535           202  \n",
       "4536           178  \n",
       "4537           332  "
      ]
     },
     "execution_count": 72,
     "metadata": {},
     "output_type": "execute_result"
    }
   ],
   "source": [
    "without_subscription_income = general_data_agg.query('subscription_type == \"free\"')\n",
    "without_subscription_income.head()"
   ]
  },
  {
   "cell_type": "code",
   "execution_count": 73,
   "id": "690e7401",
   "metadata": {},
   "outputs": [
    {
     "data": {
      "text/html": [
       "<div>\n",
       "<style scoped>\n",
       "    .dataframe tbody tr th:only-of-type {\n",
       "        vertical-align: middle;\n",
       "    }\n",
       "\n",
       "    .dataframe tbody tr th {\n",
       "        vertical-align: top;\n",
       "    }\n",
       "\n",
       "    .dataframe thead th {\n",
       "        text-align: right;\n",
       "    }\n",
       "</style>\n",
       "<table border=\"1\" class=\"dataframe\">\n",
       "  <thead>\n",
       "    <tr style=\"text-align: right;\">\n",
       "      <th></th>\n",
       "      <th>user_id</th>\n",
       "      <th>month</th>\n",
       "      <th>count_riders</th>\n",
       "      <th>sum_distance</th>\n",
       "      <th>sum_duration</th>\n",
       "      <th>subscription_type</th>\n",
       "      <th>minute_price</th>\n",
       "      <th>start_ride_price</th>\n",
       "      <th>subscription_fee</th>\n",
       "      <th>month_income</th>\n",
       "    </tr>\n",
       "  </thead>\n",
       "  <tbody>\n",
       "    <tr>\n",
       "      <th>0</th>\n",
       "      <td>1</td>\n",
       "      <td>1</td>\n",
       "      <td>2</td>\n",
       "      <td>7027.511294</td>\n",
       "      <td>42</td>\n",
       "      <td>ultra</td>\n",
       "      <td>6</td>\n",
       "      <td>0</td>\n",
       "      <td>199</td>\n",
       "      <td>451</td>\n",
       "    </tr>\n",
       "    <tr>\n",
       "      <th>1</th>\n",
       "      <td>1</td>\n",
       "      <td>4</td>\n",
       "      <td>1</td>\n",
       "      <td>754.159807</td>\n",
       "      <td>7</td>\n",
       "      <td>ultra</td>\n",
       "      <td>6</td>\n",
       "      <td>0</td>\n",
       "      <td>199</td>\n",
       "      <td>241</td>\n",
       "    </tr>\n",
       "    <tr>\n",
       "      <th>2</th>\n",
       "      <td>1</td>\n",
       "      <td>8</td>\n",
       "      <td>2</td>\n",
       "      <td>6723.470560</td>\n",
       "      <td>46</td>\n",
       "      <td>ultra</td>\n",
       "      <td>6</td>\n",
       "      <td>0</td>\n",
       "      <td>199</td>\n",
       "      <td>475</td>\n",
       "    </tr>\n",
       "    <tr>\n",
       "      <th>3</th>\n",
       "      <td>1</td>\n",
       "      <td>10</td>\n",
       "      <td>2</td>\n",
       "      <td>5809.911100</td>\n",
       "      <td>32</td>\n",
       "      <td>ultra</td>\n",
       "      <td>6</td>\n",
       "      <td>0</td>\n",
       "      <td>199</td>\n",
       "      <td>391</td>\n",
       "    </tr>\n",
       "    <tr>\n",
       "      <th>4</th>\n",
       "      <td>1</td>\n",
       "      <td>11</td>\n",
       "      <td>3</td>\n",
       "      <td>7003.499363</td>\n",
       "      <td>56</td>\n",
       "      <td>ultra</td>\n",
       "      <td>6</td>\n",
       "      <td>0</td>\n",
       "      <td>199</td>\n",
       "      <td>535</td>\n",
       "    </tr>\n",
       "  </tbody>\n",
       "</table>\n",
       "</div>"
      ],
      "text/plain": [
       "   user_id  month  count_riders  sum_distance  sum_duration subscription_type  \\\n",
       "0        1      1             2   7027.511294            42             ultra   \n",
       "1        1      4             1    754.159807             7             ultra   \n",
       "2        1      8             2   6723.470560            46             ultra   \n",
       "3        1     10             2   5809.911100            32             ultra   \n",
       "4        1     11             3   7003.499363            56             ultra   \n",
       "\n",
       "   minute_price  start_ride_price  subscription_fee  month_income  \n",
       "0             6                 0               199           451  \n",
       "1             6                 0               199           241  \n",
       "2             6                 0               199           475  \n",
       "3             6                 0               199           391  \n",
       "4             6                 0               199           535  "
      ]
     },
     "execution_count": 73,
     "metadata": {},
     "output_type": "execute_result"
    }
   ],
   "source": [
    "with_subscription_income = general_data_agg.query('subscription_type == \"ultra\"')\n",
    "with_subscription_income.head()"
   ]
  },
  {
   "cell_type": "markdown",
   "id": "c75ac616",
   "metadata": {},
   "source": [
    "Из датарфейма general_data_agg удалим вспомогательные столбцы , которые мы использовали для расчета помесячной выручки:"
   ]
  },
  {
   "cell_type": "code",
   "execution_count": 74,
   "id": "6297458a",
   "metadata": {},
   "outputs": [
    {
     "data": {
      "text/html": [
       "<div>\n",
       "<style scoped>\n",
       "    .dataframe tbody tr th:only-of-type {\n",
       "        vertical-align: middle;\n",
       "    }\n",
       "\n",
       "    .dataframe tbody tr th {\n",
       "        vertical-align: top;\n",
       "    }\n",
       "\n",
       "    .dataframe thead th {\n",
       "        text-align: right;\n",
       "    }\n",
       "</style>\n",
       "<table border=\"1\" class=\"dataframe\">\n",
       "  <thead>\n",
       "    <tr style=\"text-align: right;\">\n",
       "      <th></th>\n",
       "      <th>user_id</th>\n",
       "      <th>month</th>\n",
       "      <th>count_riders</th>\n",
       "      <th>sum_distance</th>\n",
       "      <th>sum_duration</th>\n",
       "      <th>month_income</th>\n",
       "    </tr>\n",
       "  </thead>\n",
       "  <tbody>\n",
       "    <tr>\n",
       "      <th>0</th>\n",
       "      <td>1</td>\n",
       "      <td>1</td>\n",
       "      <td>2</td>\n",
       "      <td>7027.511294</td>\n",
       "      <td>42</td>\n",
       "      <td>451</td>\n",
       "    </tr>\n",
       "    <tr>\n",
       "      <th>1</th>\n",
       "      <td>1</td>\n",
       "      <td>4</td>\n",
       "      <td>1</td>\n",
       "      <td>754.159807</td>\n",
       "      <td>7</td>\n",
       "      <td>241</td>\n",
       "    </tr>\n",
       "    <tr>\n",
       "      <th>2</th>\n",
       "      <td>1</td>\n",
       "      <td>8</td>\n",
       "      <td>2</td>\n",
       "      <td>6723.470560</td>\n",
       "      <td>46</td>\n",
       "      <td>475</td>\n",
       "    </tr>\n",
       "    <tr>\n",
       "      <th>3</th>\n",
       "      <td>1</td>\n",
       "      <td>10</td>\n",
       "      <td>2</td>\n",
       "      <td>5809.911100</td>\n",
       "      <td>32</td>\n",
       "      <td>391</td>\n",
       "    </tr>\n",
       "    <tr>\n",
       "      <th>4</th>\n",
       "      <td>1</td>\n",
       "      <td>11</td>\n",
       "      <td>3</td>\n",
       "      <td>7003.499363</td>\n",
       "      <td>56</td>\n",
       "      <td>535</td>\n",
       "    </tr>\n",
       "  </tbody>\n",
       "</table>\n",
       "</div>"
      ],
      "text/plain": [
       "   user_id  month  count_riders  sum_distance  sum_duration  month_income\n",
       "0        1      1             2   7027.511294            42           451\n",
       "1        1      4             1    754.159807             7           241\n",
       "2        1      8             2   6723.470560            46           475\n",
       "3        1     10             2   5809.911100            32           391\n",
       "4        1     11             3   7003.499363            56           535"
      ]
     },
     "execution_count": 74,
     "metadata": {},
     "output_type": "execute_result"
    }
   ],
   "source": [
    "general_data_agg = general_data_agg.drop(columns=['subscription_type','minute_price', 'start_ride_price', 'subscription_fee'])\n",
    "general_data_agg.head()"
   ]
  },
  {
   "cell_type": "markdown",
   "id": "79d0556b",
   "metadata": {},
   "source": [
    "---\n",
    "Итак, был создан датафрейм general_data_agg с агрегированными данными о поездках на основе датафрейма general_data. Были найдены следующие параметры: суммарное расстояние, количество поездок и суммарное время для каждого пользователя за каждый месяц (столбцы 'sum_distance', 'count_riders' и 'sum_duration' соответственно).\n",
    "\n",
    "Также был добавлен столбец 'month_income' с помесячной выручкой, которую принёс каждый пользователь. "
   ]
  },
  {
   "cell_type": "markdown",
   "id": "41545ac0",
   "metadata": {},
   "source": [
    "## Шаг 6. Проверка гипотез "
   ]
  },
  {
   "cell_type": "markdown",
   "id": "64bb28fb",
   "metadata": {},
   "source": [
    "Продакт-менеджеры сервиса хотят увеличить количество пользователей с подпиской. Для этого они будут проводить различные акции, но сначала нужно выяснить несколько важных моментов.\n",
    "\n",
    "Для этого проверим следующие гипотезы:"
   ]
  },
  {
   "cell_type": "markdown",
   "id": "9dd64c2f",
   "metadata": {},
   "source": [
    "### Гипотеза 1\n",
    "\n",
    "**Важно понять, тратят ли пользователи с подпиской больше времени на поездки? \n",
    "Если да, то пользователи с подпиской могут быть «выгоднее» для компании. Проверьте гипотезу. Используйте исходные данные о продолжительности каждой сессии — отдельно для подписчиков и тех, у кого нет подписки.**\n"
   ]
  },
  {
   "cell_type": "markdown",
   "id": "d7d1d6f7",
   "metadata": {},
   "source": [
    "Сравним две выборки: with_subscription (пользователи с подпиской), without_subscription (пользователи без подписки).\n",
    "\n",
    "Будем проверять следующие гипотезы:\n",
    "* нулевая гипотеза - среднее время поездок пользователей с подпиской и пользователей без подписки равны\n",
    "* альтернативная гипотеза - среднее время поездок пользователей с подпиской больше, чем пользователей без подписки (пользователи с подпиской тратят больше времени на поездки)\n",
    "\n",
    "Будем использовать метод ttest_ind(), которому передадим параметр alternative='greater'."
   ]
  },
  {
   "cell_type": "code",
   "execution_count": 75,
   "id": "c7bbf14c",
   "metadata": {},
   "outputs": [
    {
     "name": "stdout",
     "output_type": "stream",
     "text": [
      "p-значение: 1.2804098316645618e-34\n",
      "Отвергаем нулевую гипотезу\n"
     ]
    }
   ],
   "source": [
    "alpha = 0.05 # задаём уровень значимости\n",
    "results = st.ttest_ind(with_subscription['duration'], without_subscription['duration'], alternative='greater')\n",
    "print('p-значение:', results.pvalue)\n",
    "if results.pvalue < alpha:\n",
    "    print('Отвергаем нулевую гипотезу')\n",
    "else:\n",
    "    print('Не получилось отвергнуть нулевую гипотезу') "
   ]
  },
  {
   "cell_type": "markdown",
   "id": "a2d532aa",
   "metadata": {},
   "source": [
    "Нулевая гипотеза отвергнута в пользу альтернативной.\n",
    "\n",
    "Проведем проверку:"
   ]
  },
  {
   "cell_type": "code",
   "execution_count": 76,
   "id": "0ff01cdd",
   "metadata": {},
   "outputs": [
    {
     "data": {
      "text/plain": [
       "18.54"
      ]
     },
     "execution_count": 76,
     "metadata": {},
     "output_type": "execute_result"
    }
   ],
   "source": [
    "with_subscription['duration'].mean().round(2) # среднее время поездки пользователей с подпиской"
   ]
  },
  {
   "cell_type": "code",
   "execution_count": 77,
   "id": "c11987b9",
   "metadata": {},
   "outputs": [
    {
     "data": {
      "text/plain": [
       "17.39"
      ]
     },
     "execution_count": 77,
     "metadata": {},
     "output_type": "execute_result"
    }
   ],
   "source": [
    "without_subscription['duration'].mean().round(2) # среднее время поездки пользователей без подписки"
   ]
  },
  {
   "cell_type": "markdown",
   "id": "d9ecfeb7",
   "metadata": {},
   "source": [
    "Пользователи с подпиской действительно тратят больше времени на поездки, чем пользователи без подписки."
   ]
  },
  {
   "cell_type": "markdown",
   "id": "e9e2d238",
   "metadata": {},
   "source": [
    "### Гипотеза 2\n",
    "\n",
    "**Расстояние одной поездки в 3130 метров — оптимальное с точки зрения износа самоката. Можно ли сказать, что среднее расстояние, которое проезжают пользователи с подпиской за одну поездку, не превышает 3130 метров? Проверьте гипотезу и сделайте выводы.**"
   ]
  },
  {
   "cell_type": "markdown",
   "id": "12bdd961",
   "metadata": {},
   "source": [
    "Рассмотрим выборку пользователей с подпиской with_subscription.\n",
    "\n",
    "Будем проверять следующие гипотезы:\n",
    "\n",
    "* нулевая гипотеза - среднее расстояние, которое проезжают пользователи с подпиской за одну поездку, равно 3130 м (не превышает 3130 м)\n",
    "* альтернативная гипотеза - среднее расстояние, которое проезжают пользователи с подпиской за одну поездку, больше 3130 м\n",
    "\n",
    "Будем использовать метод ttest_1samp, которому передадим параметр alternative='greater'."
   ]
  },
  {
   "cell_type": "code",
   "execution_count": 78,
   "id": "30a75e08",
   "metadata": {},
   "outputs": [
    {
     "name": "stdout",
     "output_type": "stream",
     "text": [
      "p-значение: 0.9195368847849785\n",
      "Не получилось отвергнуть нулевую гипотезу\n"
     ]
    }
   ],
   "source": [
    "optimal_distance = 3130 # оптимальное расстояние с точки зрения износа самоката\n",
    "alpha = 0.05 # задаём уровень значимости\n",
    "results = st.ttest_1samp(with_subscription['distance'], optimal_distance, alternative='greater')\n",
    "\n",
    "print('p-значение:', results.pvalue) \n",
    "\n",
    "if (results.pvalue < alpha):\n",
    "    print('Отвергаем нулевую гипотезу')\n",
    "else:\n",
    "    print('Не получилось отвергнуть нулевую гипотезу')"
   ]
  },
  {
   "cell_type": "markdown",
   "id": "55d74ff6",
   "metadata": {},
   "source": [
    "Проведем проверку и найдем среднее расстояние, которое проезжают пользователи с подпиской за одну поездку,:"
   ]
  },
  {
   "cell_type": "code",
   "execution_count": 79,
   "id": "c2886b0a",
   "metadata": {},
   "outputs": [
    {
     "data": {
      "text/plain": [
       "3115.45"
      ]
     },
     "execution_count": 79,
     "metadata": {},
     "output_type": "execute_result"
    }
   ],
   "source": [
    "with_subscription['distance'].mean().round(2)"
   ]
  },
  {
   "cell_type": "markdown",
   "id": "0dbdf675",
   "metadata": {},
   "source": [
    "Таким образом, нулевую гипотезу отвергнуть мы не можем. Среднее расстояние, которое проезжают пользователи с подпиской за одну поездку, не превышает 3130 метров. Действительно, полученное при поверке значение (3115.45 м) находится довольно близко от оптимального."
   ]
  },
  {
   "cell_type": "markdown",
   "id": "6d0a289d",
   "metadata": {},
   "source": [
    "### Гипотеза 3\n",
    "\n",
    "**Проверьте гипотезу о том, будет ли помесячная выручка от пользователей с подпиской по месяцам выше, чем выручка от пользователей без подписки. Сделайте вывод.**"
   ]
  },
  {
   "cell_type": "markdown",
   "id": "66a0e673",
   "metadata": {},
   "source": [
    "Для анализа будем рассматривать датафреймы without_subscription_income и with_subscription_income, которые были созданы ранее в пуекте 5.2:\n",
    "\n",
    "* **without_subscription_income** - данные о пользователе без подписки с информацией о помесячном доходе\n",
    "* **with_subscription_income** - данные о пользователе с подпиской с информацией о помесячном доходе\n",
    "\n",
    "Будем проверять следующие гипотезы:\n",
    "\n",
    "* нулевая гипотеза - помесячная выручка от пользователей с подпиской по месяцам равна выручке от пользователей без подписки\n",
    "* альтернативная гипотеза - помесячная выручка от пользователей с подпиской по месяцам выше, чем выручка от пользователей без подписки\n",
    "\n",
    "Будем использовать метод ttest_ind(), которому передадим параметр alternative='greater'."
   ]
  },
  {
   "cell_type": "code",
   "execution_count": 80,
   "id": "53eeba92",
   "metadata": {},
   "outputs": [
    {
     "name": "stdout",
     "output_type": "stream",
     "text": [
      "p-значение: 1.8850394384715216e-31\n",
      "Отвергаем нулевую гипотезу\n"
     ]
    }
   ],
   "source": [
    "alpha = 0.05 # задаём уровень значимости\n",
    "results = st.ttest_ind(with_subscription_income['month_income'], without_subscription_income['month_income'], alternative='greater')\n",
    "print('p-значение:', results.pvalue)\n",
    "if results.pvalue < alpha:\n",
    "    print('Отвергаем нулевую гипотезу')\n",
    "else:\n",
    "    print('Не получилось отвергнуть нулевую гипотезу') "
   ]
  },
  {
   "cell_type": "markdown",
   "id": "ce6cb9f3",
   "metadata": {},
   "source": [
    "Нулевая гипотеза отвергнута в пользу альтернативной.\n",
    "\n",
    "Проведем проверку:"
   ]
  },
  {
   "cell_type": "code",
   "execution_count": 81,
   "id": "416f459b",
   "metadata": {},
   "outputs": [
    {
     "data": {
      "text/plain": [
       "362.79"
      ]
     },
     "execution_count": 81,
     "metadata": {},
     "output_type": "execute_result"
    }
   ],
   "source": [
    "with_subscription_income['month_income'].mean().round(2)"
   ]
  },
  {
   "cell_type": "code",
   "execution_count": 82,
   "id": "0ff7519d",
   "metadata": {},
   "outputs": [
    {
     "data": {
      "text/plain": [
       "328.64"
      ]
     },
     "execution_count": 82,
     "metadata": {},
     "output_type": "execute_result"
    }
   ],
   "source": [
    "without_subscription_income['month_income'].mean().round(2)"
   ]
  },
  {
   "cell_type": "markdown",
   "id": "20a28c96",
   "metadata": {},
   "source": [
    "Помесячная выручка от пользователей с подпиской действительно выше, чем выручка от пользователей без подписки."
   ]
  },
  {
   "cell_type": "markdown",
   "id": "8589931a",
   "metadata": {},
   "source": [
    "### Гипотеза 4\n",
    "\n",
    "**Представьте такую ситуацию: техническая команда сервиса обновила сервера, с которыми взаимодействует мобильное приложение. Она надеется, что из-за этого количество обращений в техподдержку значимо снизилось. Некоторый файл содержит для каждого пользователя данные о количестве обращений до обновления и после него. Какой тест вам понадобился бы для проверки этой гипотезы?**"
   ]
  },
  {
   "cell_type": "markdown",
   "id": "7eee9663",
   "metadata": {},
   "source": [
    "Сначала необходимо провести сравнение выборок на предмет соответствия уникальных пользователей в них. \n",
    "\n",
    "*Если списки уникальных пользователей в них совпадают, то выборки зависимы (или парные)*. Парная выборка означает, что некоторая переменная измеряется дважды для одних и тех же объектов, при этом порядок объектов в обоих массивах одинаковый: k-е по порядку число в первом наборе и k-е число во втором наборе — это измерения для одного и того же объекта до и после изменения. В нашем примере это пара измерений для каждого пользователя — до и после обновления. \n",
    "\n",
    "Чтобы проверить гипотезу о равенстве среднего генеральной совокупности для зависимых (парных) выборок потребуется тест **st.ttest_rel(after, before, alternative=’less’)**, которому передадим три параметра: набор данных после обновления, набор данных до обновления и параметр alternative=’less’.\n",
    "\n",
    "Параметр alternative='less' нужно указать для того, чтобы проверить левостороннюю альтернативную гипотезу о том, что обращений после обновления сервиса стало меньше, чем до обновления (нулевая гипотеза в этом случае будет о равенстве количества обращений в техподдержку до и после обновления).\n",
    "\n",
    "*Если списки уникальных пользователей не совпадают, выборки не могут быть зависимы*, то для проверки гипотезы потребуется тест **st.ttest_ind(after, before, equal_var=False, alternative=’less’)**, которому на входе передадим четыре параметра: набор данных после обновления, набор данных до обновления и параметры equal_var=False, alternative=’less’.\n",
    "\n",
    "Параметр equal_var=False укажем, предполагая, что рассматриваемые выборки разного размера и/или у генеральных совокупностей разные дисперсии."
   ]
  },
  {
   "cell_type": "markdown",
   "id": "46fed891",
   "metadata": {},
   "source": [
    "---\n",
    "Итак, мы проверили несколько гипотез и готовы предоставить продакт-менеджерам сервиса результаты исследования.\n",
    "\n",
    "* **Тратят ли пользователи с подпиской больше времени на поездки?**\n",
    "\n",
    "H0: среднее время поездок пользователей с подпиской и пользователей без подписки равны  \n",
    "H1: среднее время поездок пользователей с подпиской больше, чем пользователей без подписки.  \n",
    "Для анализа использовали метод ttest_ind() c параметром alternative='greater'.  \n",
    "\n",
    "Нулевая гипотеза отвергнута в пользу альтернативной. Пользователи с подпиской действительно тратят больше времени в поездки, чем пользователи без подписки. \n",
    "\n",
    "* **Можно ли сказать, что среднее расстояние, которое проезжают пользователи с подпиской за одну поездку, не превышает 3130 м? (расстояние 3130 м - оптимальное с точки зрения износа самоката)**\n",
    "\n",
    "H0: среднее расстояние, которое проезжают пользователи с подпиской за одну поездку, равно 3130 м (не превышает 3130 м)   \n",
    "H1: среднее расстояние, которое проезжают пользователи с подпиской за одну поездку, больше 3130 м  \n",
    "Для анализа использовался метод ttest_1samp c параметром alternative='greater'  \n",
    "\n",
    "Не получилось отвергнуть нулевую гипотезу. Действительно, среднее расстояние, которое проезжают пользователи с подпиской за одну поездку, не превышает 3130 метров. \n",
    "\n",
    "* **Будет ли помесячная выручка от пользователей с подпиской по месяцам выше, чем выручка от пользователей без подписки?**\n",
    "\n",
    "Помесячная выручка от пользователей с подпиской по месяцам выше, чем выручка от пользователей без подписки.\n",
    "\n",
    "H0: помесячная выручка от пользователей с подпиской по месяцам равна выручке от пользователей без подписки  \n",
    "H1: помесячная выручка от пользователей с подпиской по месяцам выше, чем выручка от пользователей без подписки  \n",
    "Для анализа использовался метод ttest_ind() c параметром alternative='greater'.\n",
    "\n",
    "Нулевая гипотеза отвергнута в пользу альтернативной. Помесячная выручка от пользователей с подпиской действительно выше, чем выручка от пользователей без подписки. Это говорит о том, что модель подписки с учетом месячной платы приносит дополнительный доход компании. \n",
    "\n",
    "---\n",
    "Результаты исследования позволяют сделать вывод о том, что пользователи с подпиской более выгодны для компании (более активно используют сервис, приносят больше помесячной выручки). Таким образом, рекомендуем продвигать подписки и стимулировать пользователей к долгосрочному использованию сервиса. \n",
    "\n",
    "* **Какой тест потребуется для провереки гипотезы о том, что после обновления серверов количество обращений в техподдержку значимо снизилось? (данные о количестве обращений в техподдержку до обновления и после него для каждого пользователя содержатся в некотором файле)**\n",
    "\n",
    "Сначала необходимо провести сравнение выборок на предмет соответствия уникальных пользователей в них.\n",
    "\n",
    "Если списки уникальных пользователей в них совпадают, то выборки зависимые (или парные), и в этом случае потребуется тест st.ttest_rel(after, before, alternative=’less’).\n",
    "\n",
    "Если выборки не зависят друг от друга, то для проверки гипотезы потребуется тест st.ttest_ind(after, before, equal_var=False, alternative=’less’)."
   ]
  },
  {
   "cell_type": "markdown",
   "id": "61213c5e",
   "metadata": {},
   "source": [
    "## Шаг 7. Распределения"
   ]
  },
  {
   "cell_type": "markdown",
   "id": "3e7b16b6",
   "metadata": {},
   "source": [
    "### Кейс 1\n",
    "\n",
    "**Отделу маркетинга GoFast поставили задачу: нужно провести акцию с раздачей промокодов на один бесплатный месяц подписки, в рамках которой как минимум 100 существующих клиентов должны продлить эту подписку. То есть по завершении периода действия подписки пользователь может либо отказаться от неё, либо продлить, совершив соответствующий платёж. \n",
    "Эта акция уже проводилась ранее и по итогу выяснилось, что после бесплатного пробного периода подписку продлевают 10 % пользователей. Выясните, какое минимальное количество промокодов нужно разослать, чтобы вероятность не выполнить план была примерно 5 %. Подберите параметры распределения, описывающего эту ситуацию, постройте график распределения и сформулируйте ответ на вопрос о количестве промокодов**"
   ]
  },
  {
   "cell_type": "markdown",
   "id": "876f1ef1",
   "metadata": {},
   "source": [
    "Так как в данном эксперименте есть только два исхода (продление / не продление подписки), обратимся к биноминальному распределению.\n",
    "\n",
    "Известно, что после бесплатного пробного периода подписку продлевают 10 % пользователей, таким образом p=0.1\n",
    "\n",
    "Вероятность не выполнить план -  5 %, таким образом вероятность выполнить план - 95 %.\n",
    "\n",
    "Предположим, что минимум 100 клиентов, которые должны купить подписку, это 10 % от количества всех клиентов, кому был отправлен промокод. Таким образом, k=100 будем использовать как отправную точку, от которой начнем подбор значений."
   ]
  },
  {
   "cell_type": "code",
   "execution_count": 83,
   "id": "70172d46",
   "metadata": {},
   "outputs": [
    {
     "name": "stderr",
     "output_type": "stream",
     "text": [
      "/opt/conda/lib/python3.9/site-packages/scipy/stats/_discrete_distns.py:78: RuntimeWarning: divide by zero encountered in _binom_pdf\n",
      "  return _boost._binom_pdf(x, n, p)\n"
     ]
    },
    {
     "data": {
      "image/png": "[encoded data removed]",
      "text/plain": [
       "<Figure size 432x288 with 1 Axes>"
      ]
     },
     "metadata": {
      "needs_background": "light"
     },
     "output_type": "display_data"
    }
   ],
   "source": [
    "# построим график биномиального распределения\n",
    "p = 0.1 \n",
    "n = 1000\n",
    "\n",
    "distr = [] \n",
    "\n",
    "for k in range(0, n + 1):\n",
    "    current_value = binom.pmf(k, n, p)\n",
    "    distr.append(current_value)\n",
    "    \n",
    "plt.bar(range(0, n + 1), distr) \n",
    "plt.show()"
   ]
  },
  {
   "cell_type": "code",
   "execution_count": 84,
   "id": "a1cdd217",
   "metadata": {},
   "outputs": [
    {
     "name": "stdout",
     "output_type": "stream",
     "text": [
      "Минимальное число промокодов: 1161\n"
     ]
    }
   ],
   "source": [
    "t = 0\n",
    "list = []\n",
    "\n",
    "while (1 - binom.cdf(k=99, n=t , p=0.1)) <= 0.95:\n",
    "    t += 1\n",
    "    list.append(t)\n",
    " \n",
    "print(\"Минимальное число промокодов:\", len(list))    "
   ]
  },
  {
   "cell_type": "markdown",
   "id": "bff5bdce",
   "metadata": {},
   "source": [
    "---\n",
    "Итак, чтобы вероятность не выполнить план была примерно 5 %, требуется разослать клиентам минимум 1161 промокод."
   ]
  },
  {
   "cell_type": "markdown",
   "id": "d45369c0",
   "metadata": {},
   "source": [
    "### Кейс 2\n",
    "\n",
    "**Отдел маркетинга рассылает клиентам push-уведомления в мобильном приложении. Клиенты могут открыть его или не открывать. Известно, что уведомления открывают около 40 % получивших клиентов. Отдел планирует разослать 1 млн уведомлений. С помощью аппроксимации постройте примерный график распределения и оцените вероятность того, что уведомление откроют не более 399,5 тыс. пользователей**"
   ]
  },
  {
   "cell_type": "markdown",
   "id": "80c32190",
   "metadata": {},
   "source": [
    "Так как в данном эксперименте есть только два исхода (клиент открыл / не открыл push-уведомление), можно говорить о биноминальном распределении.\n",
    "\n",
    "Для решения задачи будем проводить аппроксимацию биномиального распределения нормальным. Зададим математическое ожидание и стандартное отклонение нормального распределения равными математическому ожиданию и стандартному отклонению биномиального распределения.\n",
    "    \n",
    "Параметры биноминального распределения:  \n",
    "n - количество экспериментов (1 млн)  \n",
    "p - вероятность успеха (40 %)  \n",
    "x - заданное значение, для которого расчитывается вероятность (399,5 тыс)"
   ]
  },
  {
   "cell_type": "code",
   "execution_count": 85,
   "id": "0679c11c",
   "metadata": {},
   "outputs": [
    {
     "name": "stdout",
     "output_type": "stream",
     "text": [
      "Вероятность что push-уведомления откроют не более 399,5 тыс. пользователей: 0.15372\n"
     ]
    }
   ],
   "source": [
    "n = 1000000\n",
    "p = 0.4\n",
    "x = 399500\n",
    "\n",
    "# рассчитаем параметры нормального распределения\n",
    "mu = n * p\n",
    "sigma = sqrt(n * p * (1 - p))\n",
    "\n",
    "# зададим нормальное распределение\n",
    "distr = st.norm(mu, sigma)\n",
    "\n",
    "# рассчитаем вероятность, что случайная величина (откроют уведомление) примет значение, меньшее заданного аргумента (399500)\n",
    "result = distr.cdf(x)\n",
    "print('Вероятность что push-уведомления откроют не более 399,5 тыс. пользователей:', round(result, 5))"
   ]
  },
  {
   "cell_type": "code",
   "execution_count": 86,
   "id": "8d5c7fbc",
   "metadata": {},
   "outputs": [
    {
     "data": {
      "image/png": "[encoded data removed]",
      "text/plain": [
       "<Figure size 432x288 with 1 Axes>"
      ]
     },
     "metadata": {
      "needs_background": "light"
     },
     "output_type": "display_data"
    }
   ],
   "source": [
    "# построим график\n",
    "\n",
    "# границы промежутка, в котором будем строить аппроксимацию -\n",
    "# от n*p минус 4 ст.отклонения бином.распределения до n*p плюс 4 ст.отклонения бином.распределения\n",
    "# (там, где вероятности значений почти не равны нулю)\n",
    "arange = np.arange((mu - 4 * sigma), (mu + 4 * sigma), 1)\n",
    "plt.plot(arange, st.norm.pdf(arange, mu, sigma), 'b-')\n",
    "plt.axvline(x=x, color='red')\n",
    "plt.show()"
   ]
  },
  {
   "cell_type": "markdown",
   "id": "272297e0",
   "metadata": {},
   "source": [
    "---\n",
    "Таким образом, если отдел разошлет 1 млн. уведомлений, то вероятность того, что их откроет не более 399.5 тыс. пользователей, равна 15.37%."
   ]
  },
  {
   "cell_type": "markdown",
   "id": "ae5ab1e6",
   "metadata": {},
   "source": [
    "## Шаг 8. Выводы\n",
    "\n",
    "**Цель исследования** - в результате анализа данных проверить некоторые гипотезы, которые мешают бизнесу вырасти.\n",
    "\n",
    "**Данные для анализа** – информация о пользователях сервиса аренды самокатов Go Fast, их поездках и подписках.\n",
    "\n",
    "### Загрузка данных\n",
    "\n",
    "Считали CSV-файлы, данные сохранили в датафреймы data_users (информация о пользователях), data_rides (информация о поездках), data_subscriptions (информация о подписках). Пропусков в данных обнаружено не было.\n",
    "\n",
    "### Предобработка данных\n",
    "Подготовили данные к дальнейшему анализу:\n",
    "* провели работу с некорректными типами данных (в датафрейме data_rides в столбце 'date' изменили тип с object на datetime)\n",
    "* в датафрейме data_rides добавили новый столбец 'month' с номером месяца на основе столбца 'date'\n",
    "* провели работу с дубликатами (устранили 31 дубликат в выборке с информацей о пользователях data_users).\n",
    "\n",
    "### Исследовательский анализ данных\n",
    "\n",
    "Описали и визуализировали общую информацию о пользователях и поездках:\n",
    "\n",
    "**Частота встречаемости городов**  \n",
    "Cервис аренды самокатов GoFast работал 8 городах. Больше всего пользователей в Пятигорске (219 человек), меньше всего - в Москве (168 человек). Мы предполагаем, что такие результаты связаны с наличием конкурентов в некоторых городах, которые пользуются большей популярностью, чем GoFast.\n",
    "\t\n",
    "**Соотношение пользователей с подпиской и без подписки**  \n",
    "Большинство любителей самокатов не приобретают подписку: 835 клиентов сервиса без подписки, с подпиской только 699. Эти данные кажутся правдоподобными, поскольку чаще всего пользователи предпочитают бесплатные версии сервисов, тарифы без абонентской платы (в любой сфере).\n",
    "\n",
    "**Возраст пользователей**  \n",
    "Наибольшей популярностью сервис пользуется у молодежи, cредний возрат клиента сервиса GoFast - 25 лет. Самому взрослому клиенту - 43 года, а самому молодому всего 12 лет. Распределение нормальное, данные кажутся реалистичными.\n",
    "\n",
    "**Расстояние, которое пользователь преодолел за одну поездку**  \n",
    "Распределение нормальное, данные кажутся реальными. Есть небольшой всплеск около расстояния 600 м - возможно, пользователи совершали такие короткие поездки, чтобы добраться до станций метро, парковок или остановок транспорта. Среднее расстояние большинства поездок немного превышает 3 км. Максимальное расстояние - 7211,01 м, а минимальное - 0.86 (клиент не проехал ни метра).\n",
    "\n",
    "**Продолжительность поездок**\n",
    "Была проанализирована продолжительность поездок. Распределение нормальное, данные кажутся правдоподобными. Среднее время большинства поездок достигает почти 18 мин. Самая долгая поездка - 40.82 мин, а самая короткая - 0.5 мин (фактически поездки не было).\n",
    "\n",
    "Можно предположить, что такие слишком короткие и слишком быстрые поездки (расстояние в несколько метров и длительностью меньше минуты) связаны с тем, что клиент передумал / отменил поездку (по личным или техническим причинам). Также не исключена вероятность сбоя ПО и некорректной записи информации о поездке.\n",
    "\n",
    "В данных были обнаружены выбросы - поездки на расстояние меньше 600 м и свыше 5750, поездки длительностью меньше 1 мин и свыше 35 мин (суммарно 942 строки - 5 % от всего датафрейма data_rides). Эти строки можно исключить из дальнейшего рассмотрения. Как вариант, можно исключить из рассмотрения не все поездки меньше 600 м и свыше 5750, а только самые короткие поездки, на расстояние до 10 м, где поездка явно не случилась (таких данных всего 31 строка, что составляет 0 % от всего датафрейма). *На текущий момент строки с выбросами не удаляю, данную информацию зафиксирую как рекомендацию.*\n",
    "\n",
    "### Объединение данных\n",
    "\n",
    "Три исходных датафрейма объединили в один датафрейм general_data с помощью метода merge().\n",
    "На основе полученного датафрейма были созданые ещё два: without_subscription (все поездки с данными о пользователях без подписки); with_subscription (все поездки с данными о пользователях c подпиской).\n",
    "\n",
    "Сравним данные по поездкам с подпиской и без (*отметим, что на текущий момент из рассмотрения еще не исключили выбросы*):  \n",
    "* Поездок без подписки на 5068 больше, чем с подпиской\n",
    "* Возрастные показатели пользователей с разным типом подписки в целом схожи, за исключением максимального возраста, который на 5 лет больше у пользователей без подписки\n",
    "* Дистанция поездок без подписки более разнообразна, о чем говорит стандартное отклонение, которое без подписки больше на 409 м Максимальная дистанция без подписки больше на 1511 м, а средняя дистанция на 70 м короче, чем с подпиской\n",
    "* Продолжительность поездок без подписки по всем показателям меньше, чем с подпиской\n",
    "* Сезонность использования разного типа подписки схожа за исключением медианы, которая у пользователей с подпиской ultra приходится на июнь, а у пользователей без подписки - на июль.\n",
    "\n",
    "### Подсчёт выручки\n",
    "\n",
    "Был создан датафрейм general_data_agg с агрегированными данными о поездках на основе датафрейма general_data. Были найдены следующие параметры: суммарное расстояние, количество поездок и суммарное время для каждого пользователя за каждый месяц (столбцы 'sum_distance', 'count_riders' и 'sum_duration' соответственно).\n",
    "Также был добавлен столбец 'month_income' с помесячной выручкой, которую принёс каждый пользователь.\n",
    "\n",
    "### Проверка гипотез\n",
    "\n",
    "С помощью статистических методов были проверены следующие гипотезы:  \n",
    "\n",
    "**Тратят ли пользователи с подпиской больше времени на поездки?**  \n",
    "H0: среднее время поездок пользователей с подпиской и пользователей без подписки равны  \n",
    "H1: среднее время поездок пользователей с подпиской больше, чем пользователей без подписки.  \n",
    "Для анализа использовали метод ttest_ind() c параметром alternative='greater'.  \n",
    "Нулевая гипотеза отвергнута в пользу альтернативной. Пользователи с подпиской действительно тратят больше времени в поездки, чем пользователи без подписки.\n",
    "\n",
    "**Можно ли сказать, что среднее расстояние, которое проезжают пользователи с подпиской за одну поездку, не превышает 3130 м? (расстояние 3130 м - оптимальное с точки зрения износа самоката)**  \n",
    "H0: среднее расстояние, которое проезжают пользователи с подпиской за одну поездку, равно 3130 м (не превышает 3130 м)\n",
    "H1: среднее расстояние, которое проезжают пользователи с подпиской за одну поездку, больше 3130 м\n",
    "Для анализа использовался метод ttest_1samp c параметром alternative='greater'\n",
    "\n",
    "Не получилось отвергнуть нулевую гипотезу. Действительно, среднее расстояние, которое проезжают пользователи с подпиской за одну поездку, не превышает 3130 метров.\n",
    "\n",
    "**Будет ли помесячная выручка от пользователей с подпиской по месяцам выше, чем выручка от пользователей без подписки?**  \n",
    "Помесячная выручка от пользователей с подпиской по месяцам выше, чем выручка от пользователей без подписки.  \n",
    "H0: помесячная выручка от пользователей с подпиской по месяцам равна выручке от пользователей без подписки  \n",
    "H1: помесячная выручка от пользователей с подпиской по месяцам выше, чем выручка от пользователей без подписки  \n",
    "Для анализа использовался метод ttest_ind() c параметром alternative='greater'.  \n",
    "Нулевая гипотеза отвергнута в пользу альтернативной. Помесячная выручка от пользователей с подпиской действительно выше, чем выручка от пользователей без подписки. Это говорит о том, что модель подписки с учетом месячной платы приносит дополнительный доход компании.\n",
    "\n",
    "---\n",
    "Результаты исследования позволяют сделать вывод о том, что пользователи с подпиской более выгодны для компании (более активно используют сервис, приносят больше помесячной выручки). Таким образом, рекомендуем продвигать подписки и стимулировать пользователей к долгосрочному использованию сервиса.\n",
    "\n",
    "**Какой тест потребуется для провереки гипотезы о том, что после обновления серверов количество обращений в техподдержку значимо снизилось? (данные о количестве обращений в техподдержку до обновления и после него для каждого пользователя содержатся в некотором файле)**  \n",
    "Сначала необходимо провести сравнение выборок на предмет соответствия уникальных пользователей в них.  \n",
    "Если списки уникальных пользователей в них совпадают, то выборки зависимые (или парные), и в этом случае потребуется тест st.ttest_rel(after, before, alternative=’less’).  \n",
    "Если выборки не являются зависимыми, то для проверки гипотезы потребуется тест st.ttest_ind(after, before, equal_var=False, alternative=’less’).\n",
    "\n",
    "### Распределения\n",
    "\n",
    "**Отделу маркетинга GoFast поставили задачу: нужно провести акцию с раздачей промокодов на один бесплатный месяц подписки, в рамках которой как минимум 100 существующих клиентов должны продлить эту подписку. То есть по завершении периода действия подписки пользователь может либо отказаться от неё, либо продлить, совершив соответствующий платёж. Эта акция уже проводилась ранее и по итогу выяснилось, что после бесплатного пробного периода подписку продлевают 10 % пользователей. Выясните, какое минимальное количество промокодов нужно разослать, чтобы вероятность не выполнить план была примерно 5 %. Подберите параметры распределения, описывающего эту ситуацию, постройте график распределения и сформулируйте ответ на вопрос о количестве промокодов**\n",
    "\n",
    "Чтобы вероятность не выполнить план была примерно 5 %, требуется разослать клиентам минимум 1161 промокод (график распределения построен).\n",
    "\n",
    "**Отдел маркетинга рассылает клиентам push-уведомления в мобильном приложении. Клиенты могут открыть его или не открывать. Известно, что уведомления открывают около 40 % получивших клиентов. Отдел планирует разослать 1 млн уведомлений. С помощью аппроксимации постройте примерный график распределения и оцените вероятность того, что уведомление откроют не более 399,5 тыс. пользователей**\n",
    "\n",
    "Eсли разослать 1 млн. уведомлений, то вероятность того, что их откроет не более 399.5 тыс. пользователей, равна 15.37% (результаты визуализировали).\n",
    "\n",
    "### Рекомендации\n",
    "\n",
    "На основании результатов, полученных в ходе исследования, для развития бизнеса можно предложить следующее:\n",
    "\n",
    "* продвигать подписки\n",
    "\n",
    "Было выявлено, что пользователи с подпиской более выгодны для компании (более активно используют сервис, приносят больше помесячной выручки). Таким образом, рекомендуем продвигать подписки и стимулировать пользователей к долгосрочному использованию сервиса. Один из вариантов - разработать и внедрить систему бонусов и привилегий для подписчиков, также можно рассмотреть сезонные предложения, какие-либо акции на подписки.\n",
    "\n",
    "* стимулировать клиентов к активному использованию сервиса\n",
    "\n",
    "Пользователи, которые проводят большое количество времени в поездках, являются ценными для бизнеса. Как вариант, тем пользователям, которые активно используют сервис, можно предоставить скидки или бонусы.\n",
    "\n",
    "* разработать новые тарифные планы\n",
    "\n",
    "Разные группы пользователей при использовании сервиса имеют разные предпочтения и цели. Поэтому целесообразно будет разработать новые тарифные планы, которые будут удовлетворять потребности разных клиентов. Это позволить удержать старых клиентов и привлечь новых.\n",
    "\n",
    "По всем обозначенным направлениям рекомендуем провести дополнительный анализ, для которого потребуются соответствующие данные."
   ]
  }
 ],
 "metadata": {
  "ExecuteTimeLog": [
   {
    "duration": 426,
    "start_time": "2024-03-21T19:18:18.842Z"
   },
   {
    "duration": 103,
    "start_time": "2024-03-21T19:18:19.983Z"
   },
   {
    "duration": 35,
    "start_time": "2024-03-21T19:19:15.787Z"
   },
   {
    "duration": 34,
    "start_time": "2024-03-21T19:19:50.951Z"
   },
   {
    "duration": 159,
    "start_time": "2024-03-21T19:19:51.211Z"
   },
   {
    "duration": 34,
    "start_time": "2024-03-21T19:21:03.431Z"
   },
   {
    "duration": 36,
    "start_time": "2024-03-21T19:21:03.605Z"
   },
   {
    "duration": 63,
    "start_time": "2024-03-21T19:21:03.758Z"
   },
   {
    "duration": 31,
    "start_time": "2024-03-21T19:21:20.989Z"
   },
   {
    "duration": 3,
    "start_time": "2024-03-21T19:30:16.806Z"
   },
   {
    "duration": 42,
    "start_time": "2024-03-21T19:30:17.917Z"
   },
   {
    "duration": 2,
    "start_time": "2024-03-21T19:30:54.771Z"
   },
   {
    "duration": 41,
    "start_time": "2024-03-21T19:30:56.048Z"
   },
   {
    "duration": 3,
    "start_time": "2024-03-21T19:34:50.312Z"
   },
   {
    "duration": 35,
    "start_time": "2024-03-21T19:34:51.852Z"
   },
   {
    "duration": 44,
    "start_time": "2024-03-21T19:34:54.001Z"
   },
   {
    "duration": 33,
    "start_time": "2024-03-21T19:35:03.809Z"
   },
   {
    "duration": 3,
    "start_time": "2024-03-21T19:35:57.402Z"
   },
   {
    "duration": 47,
    "start_time": "2024-03-21T19:35:58.704Z"
   },
   {
    "duration": 3,
    "start_time": "2024-03-21T19:37:07.580Z"
   },
   {
    "duration": 46,
    "start_time": "2024-03-21T19:37:08.130Z"
   },
   {
    "duration": 33,
    "start_time": "2024-03-21T19:37:08.297Z"
   },
   {
    "duration": 20,
    "start_time": "2024-03-21T19:37:08.465Z"
   },
   {
    "duration": 3,
    "start_time": "2024-03-21T19:39:08.896Z"
   },
   {
    "duration": 118,
    "start_time": "2024-03-21T19:39:09.849Z"
   },
   {
    "duration": 44,
    "start_time": "2024-03-21T19:39:23.615Z"
   },
   {
    "duration": 22,
    "start_time": "2024-03-21T19:39:25.796Z"
   },
   {
    "duration": 15,
    "start_time": "2024-03-21T19:40:16.861Z"
   },
   {
    "duration": 24,
    "start_time": "2024-03-21T19:40:18.169Z"
   },
   {
    "duration": 44,
    "start_time": "2024-03-21T19:40:18.393Z"
   },
   {
    "duration": 9,
    "start_time": "2024-03-21T19:40:35.317Z"
   },
   {
    "duration": 11,
    "start_time": "2024-03-21T19:40:36.136Z"
   },
   {
    "duration": 14,
    "start_time": "2024-03-21T19:40:36.937Z"
   },
   {
    "duration": 14,
    "start_time": "2024-03-21T19:40:37.697Z"
   },
   {
    "duration": 44,
    "start_time": "2024-03-21T19:41:08.141Z"
   },
   {
    "duration": 8,
    "start_time": "2024-03-21T19:41:10.569Z"
   },
   {
    "duration": 10,
    "start_time": "2024-03-21T19:41:11.637Z"
   },
   {
    "duration": 14,
    "start_time": "2024-03-21T19:41:14.373Z"
   },
   {
    "duration": 14,
    "start_time": "2024-03-21T19:41:14.594Z"
   },
   {
    "duration": 21,
    "start_time": "2024-03-21T19:41:14.794Z"
   },
   {
    "duration": 50,
    "start_time": "2024-03-21T19:41:15.025Z"
   },
   {
    "duration": 20,
    "start_time": "2024-03-21T19:41:15.815Z"
   },
   {
    "duration": 4,
    "start_time": "2024-03-21T19:41:49.772Z"
   },
   {
    "duration": 32,
    "start_time": "2024-03-21T19:41:55.513Z"
   },
   {
    "duration": 2,
    "start_time": "2024-03-21T19:44:09.253Z"
   },
   {
    "duration": 29,
    "start_time": "2024-03-21T19:44:09.809Z"
   },
   {
    "duration": 8,
    "start_time": "2024-03-21T19:44:09.973Z"
   },
   {
    "duration": 11,
    "start_time": "2024-03-21T19:44:10.285Z"
   },
   {
    "duration": 4,
    "start_time": "2024-03-21T19:44:11.180Z"
   },
   {
    "duration": 44,
    "start_time": "2024-03-21T19:44:11.770Z"
   },
   {
    "duration": 20,
    "start_time": "2024-03-21T19:44:12.461Z"
   },
   {
    "duration": 2,
    "start_time": "2024-03-21T19:46:19.650Z"
   },
   {
    "duration": 28,
    "start_time": "2024-03-21T19:46:20.764Z"
   },
   {
    "duration": 9,
    "start_time": "2024-03-21T19:46:21.095Z"
   },
   {
    "duration": 11,
    "start_time": "2024-03-21T19:46:21.410Z"
   },
   {
    "duration": 3,
    "start_time": "2024-03-21T19:46:21.765Z"
   },
   {
    "duration": 41,
    "start_time": "2024-03-21T19:46:22.399Z"
   },
   {
    "duration": 8,
    "start_time": "2024-03-21T19:46:22.614Z"
   },
   {
    "duration": 12,
    "start_time": "2024-03-21T19:46:22.776Z"
   },
   {
    "duration": 4,
    "start_time": "2024-03-21T19:46:22.955Z"
   },
   {
    "duration": 28,
    "start_time": "2024-03-21T19:46:24.736Z"
   },
   {
    "duration": 7,
    "start_time": "2024-03-21T19:46:24.900Z"
   },
   {
    "duration": 10,
    "start_time": "2024-03-21T19:46:25.075Z"
   },
   {
    "duration": 4,
    "start_time": "2024-03-21T19:46:25.243Z"
   },
   {
    "duration": 104,
    "start_time": "2024-03-21T19:48:54.037Z"
   },
   {
    "duration": 29,
    "start_time": "2024-03-21T19:50:35.920Z"
   },
   {
    "duration": 142,
    "start_time": "2024-03-21T19:50:36.471Z"
   },
   {
    "duration": 28,
    "start_time": "2024-03-21T19:50:42.118Z"
   },
   {
    "duration": 109,
    "start_time": "2024-03-21T19:50:42.526Z"
   },
   {
    "duration": 30,
    "start_time": "2024-03-21T19:51:25.107Z"
   },
   {
    "duration": 29,
    "start_time": "2024-03-21T19:51:25.295Z"
   },
   {
    "duration": 16,
    "start_time": "2024-03-21T19:51:25.463Z"
   },
   {
    "duration": 29,
    "start_time": "2024-03-21T19:52:22.857Z"
   },
   {
    "duration": 30,
    "start_time": "2024-03-21T19:52:23.023Z"
   },
   {
    "duration": 16,
    "start_time": "2024-03-21T19:52:23.215Z"
   },
   {
    "duration": 2,
    "start_time": "2024-03-21T19:53:53.282Z"
   },
   {
    "duration": 28,
    "start_time": "2024-03-21T19:53:53.740Z"
   },
   {
    "duration": 30,
    "start_time": "2024-03-21T19:53:53.966Z"
   },
   {
    "duration": 15,
    "start_time": "2024-03-21T19:53:54.312Z"
   },
   {
    "duration": 2,
    "start_time": "2024-03-21T19:54:44.815Z"
   },
   {
    "duration": 29,
    "start_time": "2024-03-21T19:54:45.288Z"
   },
   {
    "duration": 29,
    "start_time": "2024-03-21T19:54:45.584Z"
   },
   {
    "duration": 16,
    "start_time": "2024-03-21T19:54:45.844Z"
   },
   {
    "duration": 8,
    "start_time": "2024-03-21T19:54:46.590Z"
   },
   {
    "duration": 11,
    "start_time": "2024-03-21T19:54:51.276Z"
   },
   {
    "duration": 5,
    "start_time": "2024-03-21T19:54:51.707Z"
   },
   {
    "duration": 2,
    "start_time": "2024-03-21T19:55:36.077Z"
   },
   {
    "duration": 29,
    "start_time": "2024-03-21T19:55:36.476Z"
   },
   {
    "duration": 30,
    "start_time": "2024-03-21T19:55:36.936Z"
   },
   {
    "duration": 18,
    "start_time": "2024-03-21T19:55:37.164Z"
   },
   {
    "duration": 7,
    "start_time": "2024-03-21T19:55:38.241Z"
   },
   {
    "duration": 9,
    "start_time": "2024-03-21T19:55:39.108Z"
   },
   {
    "duration": 3,
    "start_time": "2024-03-21T19:55:39.369Z"
   },
   {
    "duration": 8,
    "start_time": "2024-03-21T19:55:40.230Z"
   },
   {
    "duration": 12,
    "start_time": "2024-03-21T19:55:40.428Z"
   },
   {
    "duration": 4,
    "start_time": "2024-03-21T19:55:40.649Z"
   },
   {
    "duration": 7,
    "start_time": "2024-03-21T19:55:41.844Z"
   },
   {
    "duration": 12,
    "start_time": "2024-03-21T19:55:42.600Z"
   },
   {
    "duration": 4,
    "start_time": "2024-03-21T19:55:42.772Z"
   },
   {
    "duration": 2,
    "start_time": "2024-03-21T20:05:21.079Z"
   },
   {
    "duration": 31,
    "start_time": "2024-03-21T20:05:21.426Z"
   },
   {
    "duration": 29,
    "start_time": "2024-03-21T20:05:21.794Z"
   },
   {
    "duration": 16,
    "start_time": "2024-03-21T20:05:21.999Z"
   },
   {
    "duration": 8,
    "start_time": "2024-03-21T20:05:24.378Z"
   },
   {
    "duration": 11,
    "start_time": "2024-03-21T20:05:24.589Z"
   },
   {
    "duration": 4,
    "start_time": "2024-03-21T20:05:24.786Z"
   },
   {
    "duration": 6,
    "start_time": "2024-03-21T20:05:24.975Z"
   },
   {
    "duration": 5,
    "start_time": "2024-03-21T20:05:25.170Z"
   },
   {
    "duration": 29,
    "start_time": "2024-03-21T20:10:45.204Z"
   },
   {
    "duration": 30,
    "start_time": "2024-03-21T20:10:45.417Z"
   },
   {
    "duration": 16,
    "start_time": "2024-03-21T20:10:45.606Z"
   },
   {
    "duration": 9,
    "start_time": "2024-03-21T20:10:46.185Z"
   },
   {
    "duration": 11,
    "start_time": "2024-03-21T20:10:46.404Z"
   },
   {
    "duration": 4,
    "start_time": "2024-03-21T20:10:46.596Z"
   },
   {
    "duration": 6,
    "start_time": "2024-03-21T20:10:47.008Z"
   },
   {
    "duration": 4,
    "start_time": "2024-03-21T20:10:47.602Z"
   },
   {
    "duration": 2,
    "start_time": "2024-03-21T20:28:38.107Z"
   },
   {
    "duration": 2,
    "start_time": "2024-03-21T20:28:39.363Z"
   },
   {
    "duration": 29,
    "start_time": "2024-03-21T20:28:41.742Z"
   },
   {
    "duration": 29,
    "start_time": "2024-03-21T20:28:42.035Z"
   },
   {
    "duration": 16,
    "start_time": "2024-03-21T20:28:42.267Z"
   },
   {
    "duration": 8,
    "start_time": "2024-03-21T20:28:43.844Z"
   },
   {
    "duration": 10,
    "start_time": "2024-03-21T20:28:44.334Z"
   },
   {
    "duration": 4,
    "start_time": "2024-03-21T20:28:44.831Z"
   },
   {
    "duration": 9,
    "start_time": "2024-03-21T20:28:46.736Z"
   },
   {
    "duration": 11,
    "start_time": "2024-03-21T20:28:47.342Z"
   },
   {
    "duration": 11,
    "start_time": "2024-03-21T20:28:57.018Z"
   },
   {
    "duration": 12,
    "start_time": "2024-03-21T20:28:57.341Z"
   },
   {
    "duration": 4,
    "start_time": "2024-03-21T20:28:57.607Z"
   },
   {
    "duration": 2,
    "start_time": "2024-03-21T20:33:38.334Z"
   },
   {
    "duration": 2,
    "start_time": "2024-03-21T20:33:38.890Z"
   },
   {
    "duration": 29,
    "start_time": "2024-03-21T20:33:39.233Z"
   },
   {
    "duration": 29,
    "start_time": "2024-03-21T20:33:39.430Z"
   },
   {
    "duration": 17,
    "start_time": "2024-03-21T20:33:39.594Z"
   },
   {
    "duration": 10,
    "start_time": "2024-03-21T20:33:40.133Z"
   },
   {
    "duration": 10,
    "start_time": "2024-03-21T20:33:40.309Z"
   },
   {
    "duration": 4,
    "start_time": "2024-03-21T20:33:40.481Z"
   },
   {
    "duration": 8,
    "start_time": "2024-03-21T20:33:41.022Z"
   },
   {
    "duration": 11,
    "start_time": "2024-03-21T20:33:41.193Z"
   },
   {
    "duration": 4,
    "start_time": "2024-03-21T20:33:41.353Z"
   },
   {
    "duration": 9,
    "start_time": "2024-03-21T20:33:41.870Z"
   },
   {
    "duration": 11,
    "start_time": "2024-03-21T20:33:42.057Z"
   },
   {
    "duration": 4,
    "start_time": "2024-03-21T20:33:42.211Z"
   },
   {
    "duration": 6,
    "start_time": "2024-03-21T20:37:01.861Z"
   },
   {
    "duration": 4,
    "start_time": "2024-03-21T20:37:02.180Z"
   },
   {
    "duration": 9,
    "start_time": "2024-03-21T20:37:02.462Z"
   },
   {
    "duration": 4,
    "start_time": "2024-03-21T20:37:02.734Z"
   },
   {
    "duration": 8,
    "start_time": "2024-03-21T20:47:22.416Z"
   },
   {
    "duration": 8,
    "start_time": "2024-03-21T20:47:43.193Z"
   },
   {
    "duration": 11,
    "start_time": "2024-03-21T20:48:04.429Z"
   },
   {
    "duration": 10,
    "start_time": "2024-03-21T20:51:12.678Z"
   },
   {
    "duration": 436,
    "start_time": "2024-03-21T20:51:56.636Z"
   },
   {
    "duration": 3,
    "start_time": "2024-03-21T20:51:57.074Z"
   },
   {
    "duration": 35,
    "start_time": "2024-03-21T20:51:57.079Z"
   },
   {
    "duration": 34,
    "start_time": "2024-03-21T20:51:57.116Z"
   },
   {
    "duration": 15,
    "start_time": "2024-03-21T20:51:57.152Z"
   },
   {
    "duration": 15,
    "start_time": "2024-03-21T20:51:57.169Z"
   },
   {
    "duration": 25,
    "start_time": "2024-03-21T20:51:57.185Z"
   },
   {
    "duration": 12,
    "start_time": "2024-03-21T20:51:57.211Z"
   },
   {
    "duration": 8,
    "start_time": "2024-03-21T20:51:57.225Z"
   },
   {
    "duration": 37,
    "start_time": "2024-03-21T20:51:57.234Z"
   },
   {
    "duration": 7,
    "start_time": "2024-03-21T20:51:57.272Z"
   },
   {
    "duration": 6,
    "start_time": "2024-03-21T20:51:57.281Z"
   },
   {
    "duration": 9,
    "start_time": "2024-03-21T20:51:57.289Z"
   },
   {
    "duration": 8,
    "start_time": "2024-03-21T20:51:57.300Z"
   },
   {
    "duration": 10,
    "start_time": "2024-03-21T20:51:57.309Z"
   },
   {
    "duration": 10,
    "start_time": "2024-03-21T20:51:57.320Z"
   },
   {
    "duration": 9,
    "start_time": "2024-03-21T20:51:57.331Z"
   },
   {
    "duration": 35,
    "start_time": "2024-03-21T20:51:57.341Z"
   },
   {
    "duration": 4,
    "start_time": "2024-03-21T20:51:57.378Z"
   },
   {
    "duration": 10,
    "start_time": "2024-03-21T20:51:57.383Z"
   },
   {
    "duration": 5,
    "start_time": "2024-03-21T20:51:57.394Z"
   },
   {
    "duration": 48,
    "start_time": "2024-03-21T20:56:17.923Z"
   },
   {
    "duration": 10,
    "start_time": "2024-03-21T20:56:18.495Z"
   },
   {
    "duration": 10,
    "start_time": "2024-03-21T20:56:19.566Z"
   },
   {
    "duration": 8,
    "start_time": "2024-03-21T20:57:15.651Z"
   },
   {
    "duration": 4,
    "start_time": "2024-03-21T20:57:16.078Z"
   },
   {
    "duration": 10,
    "start_time": "2024-03-21T20:57:16.490Z"
   },
   {
    "duration": 3,
    "start_time": "2024-03-21T20:57:16.936Z"
   },
   {
    "duration": 77,
    "start_time": "2024-03-21T21:02:59.208Z"
   },
   {
    "duration": 9,
    "start_time": "2024-03-21T21:03:01.254Z"
   },
   {
    "duration": 1734,
    "start_time": "2024-03-21T21:03:10.672Z"
   },
   {
    "duration": 0,
    "start_time": "2024-03-21T21:03:12.407Z"
   },
   {
    "duration": 1675,
    "start_time": "2024-03-21T21:03:17.135Z"
   },
   {
    "duration": 1706,
    "start_time": "2024-03-21T21:03:20.828Z"
   },
   {
    "duration": 0,
    "start_time": "2024-03-21T21:03:22.535Z"
   },
   {
    "duration": 6,
    "start_time": "2024-03-21T21:16:54.330Z"
   },
   {
    "duration": 15,
    "start_time": "2024-03-21T21:16:55.508Z"
   },
   {
    "duration": 14,
    "start_time": "2024-03-21T21:17:06.934Z"
   },
   {
    "duration": 12,
    "start_time": "2024-03-21T21:19:26.285Z"
   },
   {
    "duration": 10,
    "start_time": "2024-03-21T21:19:26.704Z"
   },
   {
    "duration": 13,
    "start_time": "2024-03-21T21:21:53.139Z"
   },
   {
    "duration": 14,
    "start_time": "2024-03-21T21:21:53.494Z"
   },
   {
    "duration": 10,
    "start_time": "2024-03-21T21:21:56.495Z"
   },
   {
    "duration": 5,
    "start_time": "2024-03-21T21:22:04.359Z"
   },
   {
    "duration": 12,
    "start_time": "2024-03-21T21:22:04.594Z"
   },
   {
    "duration": 387,
    "start_time": "2024-03-21T21:22:48.337Z"
   },
   {
    "duration": 3,
    "start_time": "2024-03-21T21:22:48.726Z"
   },
   {
    "duration": 33,
    "start_time": "2024-03-21T21:22:48.730Z"
   },
   {
    "duration": 43,
    "start_time": "2024-03-21T21:22:48.765Z"
   },
   {
    "duration": 16,
    "start_time": "2024-03-21T21:22:48.810Z"
   },
   {
    "duration": 14,
    "start_time": "2024-03-21T21:22:48.828Z"
   },
   {
    "duration": 11,
    "start_time": "2024-03-21T21:22:48.844Z"
   },
   {
    "duration": 10,
    "start_time": "2024-03-21T21:22:48.856Z"
   },
   {
    "duration": 28,
    "start_time": "2024-03-21T21:22:48.868Z"
   },
   {
    "duration": 13,
    "start_time": "2024-03-21T21:22:48.901Z"
   },
   {
    "duration": 4,
    "start_time": "2024-03-21T21:22:48.915Z"
   },
   {
    "duration": 13,
    "start_time": "2024-03-21T21:22:48.921Z"
   },
   {
    "duration": 11,
    "start_time": "2024-03-21T21:22:48.936Z"
   },
   {
    "duration": 3,
    "start_time": "2024-03-21T21:22:48.950Z"
   },
   {
    "duration": 31,
    "start_time": "2024-03-21T21:22:48.955Z"
   },
   {
    "duration": 13,
    "start_time": "2024-03-21T21:22:48.991Z"
   },
   {
    "duration": 15,
    "start_time": "2024-03-21T21:22:49.006Z"
   },
   {
    "duration": 10,
    "start_time": "2024-03-21T21:22:49.022Z"
   },
   {
    "duration": 13,
    "start_time": "2024-03-21T21:22:49.034Z"
   },
   {
    "duration": 8,
    "start_time": "2024-03-21T21:22:49.049Z"
   },
   {
    "duration": 13,
    "start_time": "2024-03-21T21:22:49.058Z"
   },
   {
    "duration": 30,
    "start_time": "2024-03-21T21:22:49.073Z"
   },
   {
    "duration": 9,
    "start_time": "2024-03-21T21:22:49.105Z"
   },
   {
    "duration": 4,
    "start_time": "2024-03-21T21:22:49.115Z"
   },
   {
    "duration": 2,
    "start_time": "2024-03-21T21:24:56.732Z"
   },
   {
    "duration": 2,
    "start_time": "2024-03-21T21:25:23.169Z"
   },
   {
    "duration": 30,
    "start_time": "2024-03-21T21:25:23.941Z"
   },
   {
    "duration": 31,
    "start_time": "2024-03-21T21:25:24.200Z"
   },
   {
    "duration": 26,
    "start_time": "2024-03-21T21:25:24.465Z"
   },
   {
    "duration": 9,
    "start_time": "2024-03-21T21:25:25.426Z"
   },
   {
    "duration": 28,
    "start_time": "2024-03-21T21:26:12.101Z"
   },
   {
    "duration": 30,
    "start_time": "2024-03-21T21:26:12.328Z"
   },
   {
    "duration": 16,
    "start_time": "2024-03-21T21:26:12.517Z"
   },
   {
    "duration": 11,
    "start_time": "2024-03-21T21:26:15.389Z"
   },
   {
    "duration": 16,
    "start_time": "2024-03-21T21:26:15.587Z"
   },
   {
    "duration": 6,
    "start_time": "2024-03-21T21:26:15.781Z"
   },
   {
    "duration": 17,
    "start_time": "2024-03-21T21:26:16.370Z"
   },
   {
    "duration": 10,
    "start_time": "2024-03-21T21:26:16.549Z"
   },
   {
    "duration": 4,
    "start_time": "2024-03-21T21:26:16.744Z"
   },
   {
    "duration": 11,
    "start_time": "2024-03-21T21:26:17.691Z"
   },
   {
    "duration": 10,
    "start_time": "2024-03-21T21:26:19.740Z"
   },
   {
    "duration": 4,
    "start_time": "2024-03-21T21:26:19.908Z"
   },
   {
    "duration": 438,
    "start_time": "2024-03-21T21:27:06.489Z"
   },
   {
    "duration": 2,
    "start_time": "2024-03-21T21:27:06.929Z"
   },
   {
    "duration": 32,
    "start_time": "2024-03-21T21:27:06.933Z"
   },
   {
    "duration": 43,
    "start_time": "2024-03-21T21:27:06.966Z"
   },
   {
    "duration": 17,
    "start_time": "2024-03-21T21:27:07.011Z"
   },
   {
    "duration": 17,
    "start_time": "2024-03-21T21:27:07.030Z"
   },
   {
    "duration": 19,
    "start_time": "2024-03-21T21:27:07.049Z"
   },
   {
    "duration": 29,
    "start_time": "2024-03-21T21:27:07.070Z"
   },
   {
    "duration": 22,
    "start_time": "2024-03-21T21:27:07.101Z"
   },
   {
    "duration": 15,
    "start_time": "2024-03-21T21:27:07.125Z"
   },
   {
    "duration": 4,
    "start_time": "2024-03-21T21:27:07.141Z"
   },
   {
    "duration": 7,
    "start_time": "2024-03-21T21:27:07.147Z"
   },
   {
    "duration": 11,
    "start_time": "2024-03-21T21:27:07.156Z"
   },
   {
    "duration": 20,
    "start_time": "2024-03-21T21:27:07.171Z"
   },
   {
    "duration": 22,
    "start_time": "2024-03-21T21:27:07.192Z"
   },
   {
    "duration": 11,
    "start_time": "2024-03-21T21:27:07.215Z"
   },
   {
    "duration": 11,
    "start_time": "2024-03-21T21:27:07.227Z"
   },
   {
    "duration": 9,
    "start_time": "2024-03-21T21:27:07.244Z"
   },
   {
    "duration": 11,
    "start_time": "2024-03-21T21:27:07.255Z"
   },
   {
    "duration": 18,
    "start_time": "2024-03-21T21:27:07.268Z"
   },
   {
    "duration": 15,
    "start_time": "2024-03-21T21:27:07.292Z"
   },
   {
    "duration": 3,
    "start_time": "2024-03-21T21:27:07.309Z"
   },
   {
    "duration": 12,
    "start_time": "2024-03-21T21:27:07.313Z"
   },
   {
    "duration": 4,
    "start_time": "2024-03-21T21:27:07.326Z"
   },
   {
    "duration": 51,
    "start_time": "2024-03-21T21:28:09.946Z"
   },
   {
    "duration": 11,
    "start_time": "2024-03-21T21:28:10.107Z"
   },
   {
    "duration": 9,
    "start_time": "2024-03-21T21:28:10.606Z"
   },
   {
    "duration": 11,
    "start_time": "2024-03-21T21:37:27.573Z"
   },
   {
    "duration": 9,
    "start_time": "2024-03-21T21:38:26.667Z"
   },
   {
    "duration": 475,
    "start_time": "2024-03-21T21:43:53.185Z"
   },
   {
    "duration": 719,
    "start_time": "2024-03-21T21:43:58.102Z"
   },
   {
    "duration": 2,
    "start_time": "2024-03-21T21:43:58.823Z"
   },
   {
    "duration": 39,
    "start_time": "2024-03-21T21:43:58.827Z"
   },
   {
    "duration": 41,
    "start_time": "2024-03-21T21:43:58.868Z"
   },
   {
    "duration": 18,
    "start_time": "2024-03-21T21:43:58.911Z"
   },
   {
    "duration": 14,
    "start_time": "2024-03-21T21:43:58.932Z"
   },
   {
    "duration": 11,
    "start_time": "2024-03-21T21:43:58.948Z"
   },
   {
    "duration": 31,
    "start_time": "2024-03-21T21:43:58.961Z"
   },
   {
    "duration": 8,
    "start_time": "2024-03-21T21:43:58.999Z"
   },
   {
    "duration": 13,
    "start_time": "2024-03-21T21:43:59.009Z"
   },
   {
    "duration": 5,
    "start_time": "2024-03-21T21:43:59.023Z"
   },
   {
    "duration": 12,
    "start_time": "2024-03-21T21:43:59.029Z"
   },
   {
    "duration": 10,
    "start_time": "2024-03-21T21:43:59.043Z"
   },
   {
    "duration": 3,
    "start_time": "2024-03-21T21:43:59.057Z"
   },
   {
    "duration": 16,
    "start_time": "2024-03-21T21:43:59.080Z"
   },
   {
    "duration": 11,
    "start_time": "2024-03-21T21:43:59.098Z"
   },
   {
    "duration": 9,
    "start_time": "2024-03-21T21:43:59.111Z"
   },
   {
    "duration": 7,
    "start_time": "2024-03-21T21:43:59.121Z"
   },
   {
    "duration": 13,
    "start_time": "2024-03-21T21:43:59.130Z"
   },
   {
    "duration": 9,
    "start_time": "2024-03-21T21:43:59.145Z"
   },
   {
    "duration": 23,
    "start_time": "2024-03-21T21:43:59.155Z"
   },
   {
    "duration": 4,
    "start_time": "2024-03-21T21:43:59.185Z"
   },
   {
    "duration": 14,
    "start_time": "2024-03-21T21:43:59.191Z"
   },
   {
    "duration": 4,
    "start_time": "2024-03-21T21:43:59.206Z"
   },
   {
    "duration": 13,
    "start_time": "2024-03-21T21:43:59.212Z"
   },
   {
    "duration": 193,
    "start_time": "2024-03-21T21:43:59.227Z"
   },
   {
    "duration": 155,
    "start_time": "2024-03-21T21:44:39.702Z"
   },
   {
    "duration": 169,
    "start_time": "2024-03-21T21:45:16.363Z"
   },
   {
    "duration": 163,
    "start_time": "2024-03-21T21:45:22.259Z"
   },
   {
    "duration": 211,
    "start_time": "2024-03-21T21:45:42.239Z"
   },
   {
    "duration": 322,
    "start_time": "2024-03-21T21:46:05.208Z"
   },
   {
    "duration": 315,
    "start_time": "2024-03-21T21:46:50.311Z"
   },
   {
    "duration": 7,
    "start_time": "2024-03-21T21:56:04.238Z"
   },
   {
    "duration": 319,
    "start_time": "2024-03-21T21:56:44.342Z"
   },
   {
    "duration": 6,
    "start_time": "2024-03-21T21:57:47.947Z"
   },
   {
    "duration": 8,
    "start_time": "2024-03-21T22:00:51.183Z"
   },
   {
    "duration": 273,
    "start_time": "2024-03-21T22:01:40.493Z"
   },
   {
    "duration": 135,
    "start_time": "2024-03-21T22:02:29.323Z"
   },
   {
    "duration": 96,
    "start_time": "2024-03-21T22:04:23.413Z"
   },
   {
    "duration": 9,
    "start_time": "2024-03-21T22:06:44.371Z"
   },
   {
    "duration": 285,
    "start_time": "2024-03-21T22:06:44.827Z"
   },
   {
    "duration": 222,
    "start_time": "2024-03-21T22:08:25.763Z"
   },
   {
    "duration": 141,
    "start_time": "2024-03-21T22:08:29.464Z"
   },
   {
    "duration": 269,
    "start_time": "2024-03-21T22:08:36.150Z"
   },
   {
    "duration": 11,
    "start_time": "2024-03-21T22:13:37.526Z"
   },
   {
    "duration": 10,
    "start_time": "2024-03-21T22:14:08.498Z"
   },
   {
    "duration": 89,
    "start_time": "2024-03-21T22:14:49.389Z"
   },
   {
    "duration": 10,
    "start_time": "2024-03-21T22:15:45.228Z"
   },
   {
    "duration": 19,
    "start_time": "2024-03-21T22:17:29.071Z"
   },
   {
    "duration": 5,
    "start_time": "2024-03-21T22:19:23.576Z"
   },
   {
    "duration": 4,
    "start_time": "2024-03-21T22:21:13.137Z"
   },
   {
    "duration": 138,
    "start_time": "2024-03-21T22:21:22.771Z"
   },
   {
    "duration": 101,
    "start_time": "2024-03-21T22:21:29.283Z"
   },
   {
    "duration": 16,
    "start_time": "2024-03-21T22:22:45.425Z"
   },
   {
    "duration": 14,
    "start_time": "2024-03-21T22:22:54.936Z"
   },
   {
    "duration": 14,
    "start_time": "2024-03-21T22:23:34.048Z"
   },
   {
    "duration": 9,
    "start_time": "2024-03-21T22:24:03.944Z"
   },
   {
    "duration": 9,
    "start_time": "2024-03-21T22:26:17.621Z"
   },
   {
    "duration": 9,
    "start_time": "2024-03-21T22:27:07.293Z"
   },
   {
    "duration": 9,
    "start_time": "2024-03-21T22:27:46.502Z"
   },
   {
    "duration": 7,
    "start_time": "2024-03-21T22:33:01.306Z"
   },
   {
    "duration": 5,
    "start_time": "2024-03-21T22:33:06.446Z"
   },
   {
    "duration": 5,
    "start_time": "2024-03-21T22:34:24.714Z"
   },
   {
    "duration": 15,
    "start_time": "2024-03-21T22:36:54.619Z"
   },
   {
    "duration": 7,
    "start_time": "2024-03-21T22:37:48.822Z"
   },
   {
    "duration": 9,
    "start_time": "2024-03-21T22:37:58.298Z"
   },
   {
    "duration": 7,
    "start_time": "2024-03-21T22:38:00.342Z"
   },
   {
    "duration": 20,
    "start_time": "2024-03-21T22:38:16.885Z"
   },
   {
    "duration": 141,
    "start_time": "2024-03-21T23:19:42.784Z"
   },
   {
    "duration": 127,
    "start_time": "2024-03-21T23:20:05.336Z"
   },
   {
    "duration": 134,
    "start_time": "2024-03-21T23:20:42.184Z"
   },
   {
    "duration": 54,
    "start_time": "2024-03-21T23:26:22.544Z"
   },
   {
    "duration": 140,
    "start_time": "2024-03-21T23:28:32.214Z"
   },
   {
    "duration": 21,
    "start_time": "2024-03-21T23:36:39.917Z"
   },
   {
    "duration": 26,
    "start_time": "2024-03-21T23:36:56.150Z"
   },
   {
    "duration": 24,
    "start_time": "2024-03-21T23:39:26.104Z"
   },
   {
    "duration": 34,
    "start_time": "2024-03-21T23:39:49.576Z"
   },
   {
    "duration": 19,
    "start_time": "2024-03-21T23:41:58.078Z"
   },
   {
    "duration": 33,
    "start_time": "2024-03-21T23:42:51.067Z"
   },
   {
    "duration": 17,
    "start_time": "2024-03-21T23:42:51.322Z"
   },
   {
    "duration": 13,
    "start_time": "2024-03-21T23:43:15.441Z"
   },
   {
    "duration": 4,
    "start_time": "2024-03-21T23:43:33.455Z"
   },
   {
    "duration": 18,
    "start_time": "2024-03-21T23:43:37.749Z"
   },
   {
    "duration": 5,
    "start_time": "2024-03-21T23:43:38.571Z"
   },
   {
    "duration": 18,
    "start_time": "2024-03-21T23:44:06.823Z"
   },
   {
    "duration": 4,
    "start_time": "2024-03-21T23:44:06.993Z"
   },
   {
    "duration": 24,
    "start_time": "2024-03-21T23:44:07.218Z"
   },
   {
    "duration": 4,
    "start_time": "2024-03-21T23:44:07.353Z"
   },
   {
    "duration": 16,
    "start_time": "2024-03-21T23:44:07.534Z"
   },
   {
    "duration": 4,
    "start_time": "2024-03-21T23:44:07.714Z"
   },
   {
    "duration": 34,
    "start_time": "2024-03-21T23:44:07.905Z"
   },
   {
    "duration": 13,
    "start_time": "2024-03-21T23:44:08.089Z"
   },
   {
    "duration": 15,
    "start_time": "2024-03-21T23:44:08.259Z"
   },
   {
    "duration": 7,
    "start_time": "2024-03-21T23:44:09.269Z"
   },
   {
    "duration": 33,
    "start_time": "2024-03-21T23:45:55.937Z"
   },
   {
    "duration": 28,
    "start_time": "2024-03-21T23:46:13.290Z"
   },
   {
    "duration": 33,
    "start_time": "2024-03-21T23:46:28.443Z"
   },
   {
    "duration": 15,
    "start_time": "2024-03-21T23:47:25.612Z"
   },
   {
    "duration": 5,
    "start_time": "2024-03-21T23:48:12.932Z"
   },
   {
    "duration": 671,
    "start_time": "2024-03-21T23:49:13.604Z"
   },
   {
    "duration": 2,
    "start_time": "2024-03-21T23:49:14.277Z"
   },
   {
    "duration": 34,
    "start_time": "2024-03-21T23:49:14.281Z"
   },
   {
    "duration": 31,
    "start_time": "2024-03-21T23:49:14.316Z"
   },
   {
    "duration": 15,
    "start_time": "2024-03-21T23:49:14.349Z"
   },
   {
    "duration": 35,
    "start_time": "2024-03-21T23:49:14.365Z"
   },
   {
    "duration": 13,
    "start_time": "2024-03-21T23:49:14.401Z"
   },
   {
    "duration": 6,
    "start_time": "2024-03-21T23:49:14.415Z"
   },
   {
    "duration": 11,
    "start_time": "2024-03-21T23:49:14.422Z"
   },
   {
    "duration": 13,
    "start_time": "2024-03-21T23:49:14.434Z"
   },
   {
    "duration": 25,
    "start_time": "2024-03-21T23:49:14.449Z"
   },
   {
    "duration": 12,
    "start_time": "2024-03-21T23:49:14.475Z"
   },
   {
    "duration": 14,
    "start_time": "2024-03-21T23:49:14.489Z"
   },
   {
    "duration": 18,
    "start_time": "2024-03-21T23:49:14.506Z"
   },
   {
    "duration": 14,
    "start_time": "2024-03-21T23:49:14.526Z"
   },
   {
    "duration": 10,
    "start_time": "2024-03-21T23:49:14.541Z"
   },
   {
    "duration": 11,
    "start_time": "2024-03-21T23:49:14.553Z"
   },
   {
    "duration": 9,
    "start_time": "2024-03-21T23:49:14.565Z"
   },
   {
    "duration": 12,
    "start_time": "2024-03-21T23:49:14.575Z"
   },
   {
    "duration": 8,
    "start_time": "2024-03-21T23:49:14.589Z"
   },
   {
    "duration": 9,
    "start_time": "2024-03-21T23:49:14.598Z"
   },
   {
    "duration": 5,
    "start_time": "2024-03-21T23:49:14.608Z"
   },
   {
    "duration": 13,
    "start_time": "2024-03-21T23:49:14.614Z"
   },
   {
    "duration": 4,
    "start_time": "2024-03-21T23:49:14.628Z"
   },
   {
    "duration": 5,
    "start_time": "2024-03-21T23:49:14.633Z"
   },
   {
    "duration": 39,
    "start_time": "2024-03-21T23:49:14.639Z"
   },
   {
    "duration": 334,
    "start_time": "2024-03-21T23:49:14.680Z"
   },
   {
    "duration": 142,
    "start_time": "2024-03-21T23:49:15.016Z"
   },
   {
    "duration": 18,
    "start_time": "2024-03-21T23:49:15.159Z"
   },
   {
    "duration": 251,
    "start_time": "2024-03-21T23:49:15.178Z"
   },
   {
    "duration": 13,
    "start_time": "2024-03-21T23:49:15.431Z"
   },
   {
    "duration": 25,
    "start_time": "2024-03-21T23:49:15.445Z"
   },
   {
    "duration": 40,
    "start_time": "2024-03-21T23:49:15.472Z"
   },
   {
    "duration": 284,
    "start_time": "2024-03-21T23:49:15.513Z"
   },
   {
    "duration": 9,
    "start_time": "2024-03-21T23:49:15.799Z"
   },
   {
    "duration": 25,
    "start_time": "2024-03-21T23:49:15.809Z"
   },
   {
    "duration": 12,
    "start_time": "2024-03-21T23:49:15.835Z"
   },
   {
    "duration": 144,
    "start_time": "2024-03-21T23:49:15.848Z"
   },
   {
    "duration": 8,
    "start_time": "2024-03-21T23:49:15.994Z"
   },
   {
    "duration": 17,
    "start_time": "2024-03-21T23:49:16.003Z"
   },
   {
    "duration": 151,
    "start_time": "2024-03-21T23:49:16.024Z"
   },
   {
    "duration": 4,
    "start_time": "2024-03-21T23:49:16.176Z"
   },
   {
    "duration": 6,
    "start_time": "2024-03-21T23:49:16.181Z"
   },
   {
    "duration": 9,
    "start_time": "2024-03-21T23:49:16.188Z"
   },
   {
    "duration": 9,
    "start_time": "2024-03-21T23:49:16.199Z"
   },
   {
    "duration": 9,
    "start_time": "2024-03-21T23:49:16.210Z"
   },
   {
    "duration": 60,
    "start_time": "2024-03-21T23:49:16.221Z"
   },
   {
    "duration": 14,
    "start_time": "2024-03-21T23:49:16.283Z"
   },
   {
    "duration": 5,
    "start_time": "2024-03-21T23:49:16.299Z"
   },
   {
    "duration": 27,
    "start_time": "2024-03-21T23:56:41.543Z"
   },
   {
    "duration": 21,
    "start_time": "2024-03-21T23:57:12.920Z"
   },
   {
    "duration": 21,
    "start_time": "2024-03-21T23:57:13.954Z"
   },
   {
    "duration": 3,
    "start_time": "2024-03-21T23:57:45.106Z"
   },
   {
    "duration": 4,
    "start_time": "2024-03-21T23:57:45.314Z"
   },
   {
    "duration": 4,
    "start_time": "2024-03-21T23:57:45.522Z"
   },
   {
    "duration": 11,
    "start_time": "2024-03-21T23:57:45.913Z"
   },
   {
    "duration": 11,
    "start_time": "2024-03-21T23:57:46.106Z"
   },
   {
    "duration": 35,
    "start_time": "2024-03-21T23:57:46.306Z"
   },
   {
    "duration": 14,
    "start_time": "2024-03-21T23:57:46.526Z"
   },
   {
    "duration": 5,
    "start_time": "2024-03-21T23:57:47.010Z"
   },
   {
    "duration": 25,
    "start_time": "2024-03-21T23:57:49.026Z"
   },
   {
    "duration": 3,
    "start_time": "2024-03-21T23:59:04.955Z"
   },
   {
    "duration": 4,
    "start_time": "2024-03-21T23:59:13.385Z"
   },
   {
    "duration": 4,
    "start_time": "2024-03-21T23:59:39.337Z"
   },
   {
    "duration": 4,
    "start_time": "2024-03-21T23:59:50.179Z"
   },
   {
    "duration": 6,
    "start_time": "2024-03-22T00:00:47.796Z"
   },
   {
    "duration": 5,
    "start_time": "2024-03-22T00:00:48.274Z"
   },
   {
    "duration": 3,
    "start_time": "2024-03-22T00:01:37.644Z"
   },
   {
    "duration": 348,
    "start_time": "2024-03-22T06:29:39.278Z"
   },
   {
    "duration": 301,
    "start_time": "2024-03-22T06:30:09.934Z"
   },
   {
    "duration": 381,
    "start_time": "2024-03-22T06:30:25.639Z"
   },
   {
    "duration": 363,
    "start_time": "2024-03-22T06:30:40.850Z"
   },
   {
    "duration": 284,
    "start_time": "2024-03-22T06:35:16.439Z"
   },
   {
    "duration": 292,
    "start_time": "2024-03-22T06:35:33.191Z"
   },
   {
    "duration": 7,
    "start_time": "2024-03-22T06:36:06.054Z"
   },
   {
    "duration": 6,
    "start_time": "2024-03-22T06:36:14.539Z"
   },
   {
    "duration": 6,
    "start_time": "2024-03-22T06:36:23.635Z"
   },
   {
    "duration": 110,
    "start_time": "2024-03-22T06:36:24.018Z"
   },
   {
    "duration": 262,
    "start_time": "2024-03-22T06:36:24.218Z"
   },
   {
    "duration": 258,
    "start_time": "2024-03-22T06:36:30.009Z"
   },
   {
    "duration": 1722,
    "start_time": "2024-03-22T06:41:54.316Z"
   },
   {
    "duration": 362,
    "start_time": "2024-03-22T06:42:17.519Z"
   },
   {
    "duration": 409,
    "start_time": "2024-03-22T06:42:39.204Z"
   },
   {
    "duration": 27335,
    "start_time": "2024-03-22T06:47:55.302Z"
   },
   {
    "duration": 26556,
    "start_time": "2024-03-22T06:49:34.966Z"
   },
   {
    "duration": 17,
    "start_time": "2024-03-22T07:53:46.864Z"
   },
   {
    "duration": 13,
    "start_time": "2024-03-22T07:53:47.079Z"
   },
   {
    "duration": 10,
    "start_time": "2024-03-22T07:55:59.209Z"
   },
   {
    "duration": 13,
    "start_time": "2024-03-22T08:01:04.153Z"
   },
   {
    "duration": 9,
    "start_time": "2024-03-22T08:05:19.572Z"
   },
   {
    "duration": 2018,
    "start_time": "2024-03-22T08:05:46.004Z"
   },
   {
    "duration": 1115,
    "start_time": "2024-03-22T08:05:53.387Z"
   },
   {
    "duration": 10,
    "start_time": "2024-03-22T08:06:32.282Z"
   },
   {
    "duration": 358,
    "start_time": "2024-03-22T08:07:19.162Z"
   },
   {
    "duration": 331,
    "start_time": "2024-03-22T08:07:31.494Z"
   },
   {
    "duration": 413,
    "start_time": "2024-03-22T08:07:52.348Z"
   },
   {
    "duration": 527,
    "start_time": "2024-03-22T08:08:29.694Z"
   },
   {
    "duration": 413,
    "start_time": "2024-03-22T08:08:42.074Z"
   },
   {
    "duration": 560,
    "start_time": "2024-03-22T08:08:47.656Z"
   },
   {
    "duration": 455,
    "start_time": "2024-03-22T08:08:55.436Z"
   },
   {
    "duration": 285,
    "start_time": "2024-03-22T08:09:13.069Z"
   },
   {
    "duration": 403,
    "start_time": "2024-03-22T08:09:28.724Z"
   },
   {
    "duration": 290,
    "start_time": "2024-03-22T08:10:06.232Z"
   },
   {
    "duration": 287,
    "start_time": "2024-03-22T08:10:42.218Z"
   },
   {
    "duration": 290,
    "start_time": "2024-03-22T08:10:50.235Z"
   },
   {
    "duration": 37,
    "start_time": "2024-03-22T08:11:18.503Z"
   },
   {
    "duration": 300,
    "start_time": "2024-03-22T08:11:55.726Z"
   },
   {
    "duration": 390,
    "start_time": "2024-03-22T08:12:05.122Z"
   },
   {
    "duration": 284,
    "start_time": "2024-03-22T08:12:34.352Z"
   },
   {
    "duration": 300,
    "start_time": "2024-03-22T08:13:56.662Z"
   },
   {
    "duration": 325,
    "start_time": "2024-03-22T08:15:13.193Z"
   },
   {
    "duration": 282,
    "start_time": "2024-03-22T08:15:56.085Z"
   },
   {
    "duration": 309,
    "start_time": "2024-03-22T08:15:56.501Z"
   },
   {
    "duration": 309,
    "start_time": "2024-03-22T08:17:30.280Z"
   },
   {
    "duration": 208,
    "start_time": "2024-03-22T08:17:42.595Z"
   },
   {
    "duration": 197,
    "start_time": "2024-03-22T08:17:52.440Z"
   },
   {
    "duration": 194,
    "start_time": "2024-03-22T08:19:05.797Z"
   },
   {
    "duration": 29,
    "start_time": "2024-03-22T08:19:57.533Z"
   },
   {
    "duration": 28,
    "start_time": "2024-03-22T08:19:57.856Z"
   },
   {
    "duration": 16,
    "start_time": "2024-03-22T08:19:58.065Z"
   },
   {
    "duration": 9,
    "start_time": "2024-03-22T08:19:59.465Z"
   },
   {
    "duration": 10,
    "start_time": "2024-03-22T08:19:59.862Z"
   },
   {
    "duration": 4,
    "start_time": "2024-03-22T08:20:00.252Z"
   },
   {
    "duration": 9,
    "start_time": "2024-03-22T08:20:07.584Z"
   },
   {
    "duration": 12,
    "start_time": "2024-03-22T08:20:08.094Z"
   },
   {
    "duration": 5,
    "start_time": "2024-03-22T08:20:08.407Z"
   },
   {
    "duration": 7,
    "start_time": "2024-03-22T08:20:17.164Z"
   },
   {
    "duration": 10,
    "start_time": "2024-03-22T08:20:17.430Z"
   },
   {
    "duration": 4,
    "start_time": "2024-03-22T08:20:17.682Z"
   },
   {
    "duration": 10,
    "start_time": "2024-03-22T08:20:19.225Z"
   },
   {
    "duration": 10,
    "start_time": "2024-03-22T08:20:19.532Z"
   },
   {
    "duration": 8,
    "start_time": "2024-03-22T08:20:19.942Z"
   },
   {
    "duration": 4,
    "start_time": "2024-03-22T08:20:20.715Z"
   },
   {
    "duration": 11,
    "start_time": "2024-03-22T08:20:20.982Z"
   },
   {
    "duration": 9,
    "start_time": "2024-03-22T08:20:21.238Z"
   },
   {
    "duration": 5,
    "start_time": "2024-03-22T08:20:22.083Z"
   },
   {
    "duration": 4,
    "start_time": "2024-03-22T08:20:22.387Z"
   },
   {
    "duration": 9,
    "start_time": "2024-03-22T08:20:23.041Z"
   },
   {
    "duration": 4,
    "start_time": "2024-03-22T08:20:23.332Z"
   },
   {
    "duration": 187,
    "start_time": "2024-03-22T08:26:34.386Z"
   },
   {
    "duration": 385,
    "start_time": "2024-03-22T08:26:57.290Z"
   },
   {
    "duration": 191,
    "start_time": "2024-03-22T08:27:43.359Z"
   },
   {
    "duration": 206,
    "start_time": "2024-03-22T08:27:59.218Z"
   },
   {
    "duration": 176,
    "start_time": "2024-03-22T08:28:30.422Z"
   },
   {
    "duration": 196,
    "start_time": "2024-03-22T08:28:36.863Z"
   },
   {
    "duration": 5,
    "start_time": "2024-03-22T08:29:30.541Z"
   },
   {
    "duration": 5,
    "start_time": "2024-03-22T08:30:12.171Z"
   },
   {
    "duration": 261,
    "start_time": "2024-03-22T08:33:56.826Z"
   },
   {
    "duration": 177,
    "start_time": "2024-03-22T08:34:04.833Z"
   },
   {
    "duration": 7,
    "start_time": "2024-03-22T08:34:12.364Z"
   },
   {
    "duration": 7,
    "start_time": "2024-03-22T08:34:37.920Z"
   },
   {
    "duration": 182,
    "start_time": "2024-03-22T08:36:02.924Z"
   },
   {
    "duration": 184,
    "start_time": "2024-03-22T08:36:47.892Z"
   },
   {
    "duration": 188,
    "start_time": "2024-03-22T08:37:02.979Z"
   },
   {
    "duration": 5,
    "start_time": "2024-03-22T08:38:13.062Z"
   },
   {
    "duration": 6,
    "start_time": "2024-03-22T08:38:13.305Z"
   },
   {
    "duration": 175,
    "start_time": "2024-03-22T08:38:13.530Z"
   },
   {
    "duration": 165,
    "start_time": "2024-03-22T08:39:11.352Z"
   },
   {
    "duration": 5,
    "start_time": "2024-03-22T08:41:14.034Z"
   },
   {
    "duration": 162,
    "start_time": "2024-03-22T08:41:40.429Z"
   },
   {
    "duration": 162,
    "start_time": "2024-03-22T08:42:22.461Z"
   },
   {
    "duration": 15,
    "start_time": "2024-03-22T08:47:08.273Z"
   },
   {
    "duration": 214,
    "start_time": "2024-03-22T08:47:18.832Z"
   },
   {
    "duration": 8,
    "start_time": "2024-03-22T08:48:14.596Z"
   },
   {
    "duration": 200,
    "start_time": "2024-03-22T08:49:50.716Z"
   },
   {
    "duration": 8,
    "start_time": "2024-03-22T08:49:51.637Z"
   },
   {
    "duration": 6,
    "start_time": "2024-03-22T08:52:17.304Z"
   },
   {
    "duration": 6,
    "start_time": "2024-03-22T08:52:31.778Z"
   },
   {
    "duration": 7,
    "start_time": "2024-03-22T08:56:26.612Z"
   },
   {
    "duration": 6,
    "start_time": "2024-03-22T08:56:37.012Z"
   },
   {
    "duration": 7,
    "start_time": "2024-03-22T09:07:09.507Z"
   },
   {
    "duration": 6,
    "start_time": "2024-03-22T09:07:36.066Z"
   },
   {
    "duration": 11,
    "start_time": "2024-03-22T09:29:00.506Z"
   },
   {
    "duration": 313,
    "start_time": "2024-03-22T09:29:08.594Z"
   },
   {
    "duration": 222,
    "start_time": "2024-03-22T09:29:29.525Z"
   },
   {
    "duration": 274,
    "start_time": "2024-03-22T09:32:30.158Z"
   },
   {
    "duration": 271,
    "start_time": "2024-03-22T09:32:40.638Z"
   },
   {
    "duration": 270,
    "start_time": "2024-03-22T09:32:48.555Z"
   },
   {
    "duration": 10,
    "start_time": "2024-03-22T09:38:21.767Z"
   },
   {
    "duration": 10,
    "start_time": "2024-03-22T09:38:25.518Z"
   },
   {
    "duration": 6,
    "start_time": "2024-03-22T09:40:31.329Z"
   },
   {
    "duration": 7,
    "start_time": "2024-03-22T09:41:31.689Z"
   },
   {
    "duration": 6,
    "start_time": "2024-03-22T09:41:32.686Z"
   },
   {
    "duration": 5,
    "start_time": "2024-03-22T09:41:55.657Z"
   },
   {
    "duration": 7,
    "start_time": "2024-03-22T09:42:14.939Z"
   },
   {
    "duration": 7,
    "start_time": "2024-03-22T09:42:31.129Z"
   },
   {
    "duration": 276,
    "start_time": "2024-03-22T09:44:36.818Z"
   },
   {
    "duration": 331,
    "start_time": "2024-03-22T09:44:44.565Z"
   },
   {
    "duration": 299,
    "start_time": "2024-03-22T09:44:51.645Z"
   },
   {
    "duration": 253,
    "start_time": "2024-03-22T09:44:57.705Z"
   },
   {
    "duration": 265,
    "start_time": "2024-03-22T09:45:03.945Z"
   },
   {
    "duration": 261,
    "start_time": "2024-03-22T09:45:09.454Z"
   },
   {
    "duration": 280,
    "start_time": "2024-03-22T09:45:21.577Z"
   },
   {
    "duration": 336,
    "start_time": "2024-03-22T09:45:58.337Z"
   },
   {
    "duration": 264,
    "start_time": "2024-03-22T09:46:04.136Z"
   },
   {
    "duration": 256,
    "start_time": "2024-03-22T09:46:13.706Z"
   },
   {
    "duration": 9,
    "start_time": "2024-03-22T09:54:35.012Z"
   },
   {
    "duration": 7,
    "start_time": "2024-03-22T09:54:36.011Z"
   },
   {
    "duration": 7,
    "start_time": "2024-03-22T09:54:44.544Z"
   },
   {
    "duration": 7,
    "start_time": "2024-03-22T09:55:07.844Z"
   },
   {
    "duration": 4,
    "start_time": "2024-03-22T09:55:14.400Z"
   },
   {
    "duration": 8,
    "start_time": "2024-03-22T09:55:26.483Z"
   },
   {
    "duration": 8,
    "start_time": "2024-03-22T09:55:40.774Z"
   },
   {
    "duration": 9,
    "start_time": "2024-03-22T09:56:03.959Z"
   },
   {
    "duration": 10,
    "start_time": "2024-03-22T09:56:53.513Z"
   },
   {
    "duration": 6,
    "start_time": "2024-03-22T09:59:26.292Z"
   },
   {
    "duration": 7,
    "start_time": "2024-03-22T09:59:28.243Z"
   },
   {
    "duration": 6,
    "start_time": "2024-03-22T09:59:51.163Z"
   },
   {
    "duration": 6,
    "start_time": "2024-03-22T09:59:54.073Z"
   },
   {
    "duration": 3,
    "start_time": "2024-03-22T10:00:32.625Z"
   },
   {
    "duration": 7,
    "start_time": "2024-03-22T10:01:15.018Z"
   },
   {
    "duration": 6,
    "start_time": "2024-03-22T10:01:15.405Z"
   },
   {
    "duration": 4,
    "start_time": "2024-03-22T10:01:15.861Z"
   },
   {
    "duration": 226,
    "start_time": "2024-03-22T10:25:44.835Z"
   },
   {
    "duration": 247,
    "start_time": "2024-03-22T10:27:25.438Z"
   },
   {
    "duration": 9,
    "start_time": "2024-03-22T10:27:48.219Z"
   },
   {
    "duration": 7,
    "start_time": "2024-03-22T10:29:14.899Z"
   },
   {
    "duration": 8,
    "start_time": "2024-03-22T10:30:56.879Z"
   },
   {
    "duration": 8,
    "start_time": "2024-03-22T10:30:57.207Z"
   },
   {
    "duration": 276,
    "start_time": "2024-03-22T10:32:09.962Z"
   },
   {
    "duration": 137,
    "start_time": "2024-03-22T10:32:38.716Z"
   },
   {
    "duration": 361,
    "start_time": "2024-03-22T10:33:15.208Z"
   },
   {
    "duration": 268,
    "start_time": "2024-03-22T10:33:21.166Z"
   },
   {
    "duration": 278,
    "start_time": "2024-03-22T10:33:30.131Z"
   },
   {
    "duration": 260,
    "start_time": "2024-03-22T10:33:46.344Z"
   },
   {
    "duration": 251,
    "start_time": "2024-03-22T10:33:57.460Z"
   },
   {
    "duration": 271,
    "start_time": "2024-03-22T10:34:04.034Z"
   },
   {
    "duration": 344,
    "start_time": "2024-03-22T10:34:20.258Z"
   },
   {
    "duration": 265,
    "start_time": "2024-03-22T10:34:29.069Z"
   },
   {
    "duration": 9,
    "start_time": "2024-03-22T10:39:33.249Z"
   },
   {
    "duration": 8,
    "start_time": "2024-03-22T10:39:49.991Z"
   },
   {
    "duration": 8,
    "start_time": "2024-03-22T10:39:53.548Z"
   },
   {
    "duration": 17,
    "start_time": "2024-03-22T10:44:49.162Z"
   },
   {
    "duration": 16,
    "start_time": "2024-03-22T10:44:54.351Z"
   },
   {
    "duration": 108,
    "start_time": "2024-03-22T10:45:19.002Z"
   },
   {
    "duration": 284,
    "start_time": "2024-03-22T10:47:53.769Z"
   },
   {
    "duration": 11,
    "start_time": "2024-03-22T10:49:55.710Z"
   },
   {
    "duration": 207,
    "start_time": "2024-03-22T10:50:06.526Z"
   },
   {
    "duration": 205,
    "start_time": "2024-03-22T10:50:29.614Z"
   },
   {
    "duration": 218,
    "start_time": "2024-03-22T10:51:55.694Z"
   },
   {
    "duration": 236,
    "start_time": "2024-03-22T10:58:33.767Z"
   },
   {
    "duration": 220,
    "start_time": "2024-03-22T10:58:52.667Z"
   },
   {
    "duration": 230,
    "start_time": "2024-03-22T10:59:18.987Z"
   },
   {
    "duration": 319,
    "start_time": "2024-03-22T11:00:03.736Z"
   },
   {
    "duration": 226,
    "start_time": "2024-03-22T11:00:46.130Z"
   },
   {
    "duration": 214,
    "start_time": "2024-03-22T11:00:53.549Z"
   },
   {
    "duration": 51,
    "start_time": "2024-03-22T13:12:11.451Z"
   },
   {
    "duration": 1476,
    "start_time": "2024-03-22T13:12:25.343Z"
   },
   {
    "duration": 89,
    "start_time": "2024-03-22T13:12:26.821Z"
   },
   {
    "duration": 164,
    "start_time": "2024-03-22T13:12:26.912Z"
   },
   {
    "duration": 58,
    "start_time": "2024-03-22T13:12:27.079Z"
   },
   {
    "duration": 11,
    "start_time": "2024-03-22T13:12:27.139Z"
   },
   {
    "duration": 19,
    "start_time": "2024-03-22T13:12:27.152Z"
   },
   {
    "duration": 13,
    "start_time": "2024-03-22T13:12:27.172Z"
   },
   {
    "duration": 11,
    "start_time": "2024-03-22T13:12:27.186Z"
   },
   {
    "duration": 12,
    "start_time": "2024-03-22T13:12:27.199Z"
   },
   {
    "duration": 4,
    "start_time": "2024-03-22T13:12:27.214Z"
   },
   {
    "duration": 7,
    "start_time": "2024-03-22T13:12:27.219Z"
   },
   {
    "duration": 13,
    "start_time": "2024-03-22T13:12:27.227Z"
   },
   {
    "duration": 5,
    "start_time": "2024-03-22T13:12:27.241Z"
   },
   {
    "duration": 30,
    "start_time": "2024-03-22T13:12:27.247Z"
   },
   {
    "duration": 12,
    "start_time": "2024-03-22T13:12:27.278Z"
   },
   {
    "duration": 8,
    "start_time": "2024-03-22T13:12:27.292Z"
   },
   {
    "duration": 8,
    "start_time": "2024-03-22T13:12:27.301Z"
   },
   {
    "duration": 18,
    "start_time": "2024-03-22T13:12:27.310Z"
   },
   {
    "duration": 9,
    "start_time": "2024-03-22T13:12:27.329Z"
   },
   {
    "duration": 8,
    "start_time": "2024-03-22T13:12:27.339Z"
   },
   {
    "duration": 27,
    "start_time": "2024-03-22T13:12:27.348Z"
   },
   {
    "duration": 12,
    "start_time": "2024-03-22T13:12:27.376Z"
   },
   {
    "duration": 4,
    "start_time": "2024-03-22T13:12:27.389Z"
   },
   {
    "duration": 8,
    "start_time": "2024-03-22T13:12:27.395Z"
   },
   {
    "duration": 14,
    "start_time": "2024-03-22T13:12:27.404Z"
   },
   {
    "duration": 184,
    "start_time": "2024-03-22T13:12:27.419Z"
   },
   {
    "duration": 6,
    "start_time": "2024-03-22T13:12:27.604Z"
   },
   {
    "duration": 153,
    "start_time": "2024-03-22T13:12:27.614Z"
   },
   {
    "duration": 179,
    "start_time": "2024-03-22T13:12:27.772Z"
   },
   {
    "duration": 8,
    "start_time": "2024-03-22T13:12:27.952Z"
   },
   {
    "duration": 6,
    "start_time": "2024-03-22T13:12:27.973Z"
   },
   {
    "duration": 7,
    "start_time": "2024-03-22T13:12:27.980Z"
   },
   {
    "duration": 225,
    "start_time": "2024-03-22T13:12:27.989Z"
   },
   {
    "duration": 8,
    "start_time": "2024-03-22T13:12:28.215Z"
   },
   {
    "duration": 8,
    "start_time": "2024-03-22T13:12:28.225Z"
   },
   {
    "duration": 7,
    "start_time": "2024-03-22T13:12:28.235Z"
   },
   {
    "duration": 266,
    "start_time": "2024-03-22T13:12:28.243Z"
   },
   {
    "duration": 10,
    "start_time": "2024-03-22T13:12:28.511Z"
   },
   {
    "duration": 15,
    "start_time": "2024-03-22T13:12:28.522Z"
   },
   {
    "duration": 6,
    "start_time": "2024-03-22T13:12:28.538Z"
   },
   {
    "duration": 4,
    "start_time": "2024-03-22T13:12:28.545Z"
   },
   {
    "duration": 217,
    "start_time": "2024-03-22T13:12:28.551Z"
   },
   {
    "duration": 8,
    "start_time": "2024-03-22T13:12:28.773Z"
   },
   {
    "duration": 7,
    "start_time": "2024-03-22T13:12:28.782Z"
   },
   {
    "duration": 7,
    "start_time": "2024-03-22T13:12:28.791Z"
   },
   {
    "duration": 363,
    "start_time": "2024-03-22T13:12:28.799Z"
   },
   {
    "duration": 15,
    "start_time": "2024-03-22T13:12:29.163Z"
   },
   {
    "duration": 8,
    "start_time": "2024-03-22T13:12:29.180Z"
   },
   {
    "duration": 3,
    "start_time": "2024-03-22T13:12:29.190Z"
   },
   {
    "duration": 6,
    "start_time": "2024-03-22T13:12:29.195Z"
   },
   {
    "duration": 7,
    "start_time": "2024-03-22T13:12:29.202Z"
   },
   {
    "duration": 15,
    "start_time": "2024-03-22T13:12:29.210Z"
   },
   {
    "duration": 27,
    "start_time": "2024-03-22T13:12:29.227Z"
   },
   {
    "duration": 44,
    "start_time": "2024-03-22T13:12:29.255Z"
   },
   {
    "duration": 14,
    "start_time": "2024-03-22T13:12:29.301Z"
   },
   {
    "duration": 4,
    "start_time": "2024-03-22T13:12:29.316Z"
   },
   {
    "duration": 23,
    "start_time": "2024-03-22T13:12:29.322Z"
   },
   {
    "duration": 38,
    "start_time": "2024-03-22T13:12:29.347Z"
   },
   {
    "duration": 4,
    "start_time": "2024-03-22T13:12:29.387Z"
   },
   {
    "duration": 10,
    "start_time": "2024-03-22T13:12:29.400Z"
   },
   {
    "duration": 10,
    "start_time": "2024-03-22T13:12:29.411Z"
   },
   {
    "duration": 5,
    "start_time": "2024-03-22T13:12:29.423Z"
   },
   {
    "duration": 21,
    "start_time": "2024-03-22T13:12:29.430Z"
   },
   {
    "duration": 52,
    "start_time": "2024-03-22T13:12:29.453Z"
   },
   {
    "duration": 13,
    "start_time": "2024-03-22T13:12:29.507Z"
   },
   {
    "duration": 192,
    "start_time": "2024-03-22T13:12:29.522Z"
   },
   {
    "duration": 203,
    "start_time": "2024-03-22T13:12:29.716Z"
   },
   {
    "duration": 4,
    "start_time": "2024-03-22T13:12:29.920Z"
   },
   {
    "duration": 3,
    "start_time": "2024-03-22T13:16:11.143Z"
   },
   {
    "duration": 5,
    "start_time": "2024-03-22T13:16:52.229Z"
   },
   {
    "duration": 23,
    "start_time": "2024-03-22T13:16:57.279Z"
   },
   {
    "duration": 5,
    "start_time": "2024-03-22T13:17:08.417Z"
   },
   {
    "duration": 39,
    "start_time": "2024-03-22T13:17:53.611Z"
   },
   {
    "duration": 38,
    "start_time": "2024-03-22T13:19:58.204Z"
   },
   {
    "duration": 1848,
    "start_time": "2024-03-22T13:20:33.292Z"
   },
   {
    "duration": 39,
    "start_time": "2024-03-22T13:22:09.006Z"
   },
   {
    "duration": 27,
    "start_time": "2024-03-22T13:25:14.389Z"
   },
   {
    "duration": 36,
    "start_time": "2024-03-22T13:27:23.363Z"
   },
   {
    "duration": 413,
    "start_time": "2024-03-22T13:28:50.407Z"
   },
   {
    "duration": 36,
    "start_time": "2024-03-22T13:29:07.122Z"
   },
   {
    "duration": 36,
    "start_time": "2024-03-22T13:29:33.895Z"
   },
   {
    "duration": 1245,
    "start_time": "2024-03-22T13:30:48.042Z"
   },
   {
    "duration": 30,
    "start_time": "2024-03-22T13:30:49.288Z"
   },
   {
    "duration": 29,
    "start_time": "2024-03-22T13:30:49.320Z"
   },
   {
    "duration": 15,
    "start_time": "2024-03-22T13:30:49.351Z"
   },
   {
    "duration": 11,
    "start_time": "2024-03-22T13:30:49.368Z"
   },
   {
    "duration": 10,
    "start_time": "2024-03-22T13:30:49.381Z"
   },
   {
    "duration": 18,
    "start_time": "2024-03-22T13:30:49.393Z"
   },
   {
    "duration": 14,
    "start_time": "2024-03-22T13:30:49.412Z"
   },
   {
    "duration": 13,
    "start_time": "2024-03-22T13:30:49.427Z"
   },
   {
    "duration": 4,
    "start_time": "2024-03-22T13:30:49.442Z"
   },
   {
    "duration": 10,
    "start_time": "2024-03-22T13:30:49.448Z"
   },
   {
    "duration": 26,
    "start_time": "2024-03-22T13:30:49.460Z"
   },
   {
    "duration": 10,
    "start_time": "2024-03-22T13:30:49.488Z"
   },
   {
    "duration": 13,
    "start_time": "2024-03-22T13:30:49.499Z"
   },
   {
    "duration": 13,
    "start_time": "2024-03-22T13:30:49.514Z"
   },
   {
    "duration": 11,
    "start_time": "2024-03-22T13:30:49.529Z"
   },
   {
    "duration": 20,
    "start_time": "2024-03-22T13:30:49.542Z"
   },
   {
    "duration": 11,
    "start_time": "2024-03-22T13:30:49.572Z"
   },
   {
    "duration": 10,
    "start_time": "2024-03-22T13:30:49.585Z"
   },
   {
    "duration": 6,
    "start_time": "2024-03-22T13:30:49.597Z"
   },
   {
    "duration": 4,
    "start_time": "2024-03-22T13:30:49.604Z"
   },
   {
    "duration": 29,
    "start_time": "2024-03-22T13:30:49.609Z"
   },
   {
    "duration": 3,
    "start_time": "2024-03-22T13:30:49.639Z"
   },
   {
    "duration": 14,
    "start_time": "2024-03-22T13:30:49.644Z"
   },
   {
    "duration": 15,
    "start_time": "2024-03-22T13:30:49.659Z"
   },
   {
    "duration": 169,
    "start_time": "2024-03-22T13:30:49.676Z"
   },
   {
    "duration": 6,
    "start_time": "2024-03-22T13:30:49.847Z"
   },
   {
    "duration": 142,
    "start_time": "2024-03-22T13:30:49.857Z"
   },
   {
    "duration": 198,
    "start_time": "2024-03-22T13:30:50.001Z"
   },
   {
    "duration": 8,
    "start_time": "2024-03-22T13:30:50.201Z"
   },
   {
    "duration": 22,
    "start_time": "2024-03-22T13:30:50.211Z"
   },
   {
    "duration": 13,
    "start_time": "2024-03-22T13:30:50.235Z"
   },
   {
    "duration": 202,
    "start_time": "2024-03-22T13:30:50.250Z"
   },
   {
    "duration": 8,
    "start_time": "2024-03-22T13:30:50.454Z"
   },
   {
    "duration": 21,
    "start_time": "2024-03-22T13:30:50.464Z"
   },
   {
    "duration": 26,
    "start_time": "2024-03-22T13:30:50.487Z"
   },
   {
    "duration": 240,
    "start_time": "2024-03-22T13:30:50.515Z"
   },
   {
    "duration": 20,
    "start_time": "2024-03-22T13:30:50.757Z"
   },
   {
    "duration": 15,
    "start_time": "2024-03-22T13:30:50.779Z"
   },
   {
    "duration": 8,
    "start_time": "2024-03-22T13:30:50.796Z"
   },
   {
    "duration": 24,
    "start_time": "2024-03-22T13:30:50.806Z"
   },
   {
    "duration": 222,
    "start_time": "2024-03-22T13:30:50.832Z"
   },
   {
    "duration": 21,
    "start_time": "2024-03-22T13:30:51.056Z"
   },
   {
    "duration": 7,
    "start_time": "2024-03-22T13:30:51.079Z"
   },
   {
    "duration": 24,
    "start_time": "2024-03-22T13:30:51.087Z"
   },
   {
    "duration": 351,
    "start_time": "2024-03-22T13:30:51.113Z"
   },
   {
    "duration": 12,
    "start_time": "2024-03-22T13:30:51.466Z"
   },
   {
    "duration": 19,
    "start_time": "2024-03-22T13:30:51.479Z"
   },
   {
    "duration": 14,
    "start_time": "2024-03-22T13:30:51.499Z"
   },
   {
    "duration": 14,
    "start_time": "2024-03-22T13:30:51.515Z"
   },
   {
    "duration": 25,
    "start_time": "2024-03-22T13:30:51.531Z"
   },
   {
    "duration": 25,
    "start_time": "2024-03-22T13:30:51.558Z"
   },
   {
    "duration": 12,
    "start_time": "2024-03-22T13:30:51.584Z"
   },
   {
    "duration": 44,
    "start_time": "2024-03-22T13:30:51.598Z"
   },
   {
    "duration": 15,
    "start_time": "2024-03-22T13:30:51.643Z"
   },
   {
    "duration": 13,
    "start_time": "2024-03-22T13:30:51.660Z"
   },
   {
    "duration": 25,
    "start_time": "2024-03-22T13:30:51.674Z"
   },
   {
    "duration": 17,
    "start_time": "2024-03-22T13:30:51.701Z"
   },
   {
    "duration": 4,
    "start_time": "2024-03-22T13:30:51.719Z"
   },
   {
    "duration": 11,
    "start_time": "2024-03-22T13:30:51.724Z"
   },
   {
    "duration": 27,
    "start_time": "2024-03-22T13:30:51.736Z"
   },
   {
    "duration": 19,
    "start_time": "2024-03-22T13:30:51.764Z"
   },
   {
    "duration": 34,
    "start_time": "2024-03-22T13:30:51.785Z"
   },
   {
    "duration": 57,
    "start_time": "2024-03-22T13:30:51.821Z"
   },
   {
    "duration": 11,
    "start_time": "2024-03-22T13:30:51.879Z"
   },
   {
    "duration": 204,
    "start_time": "2024-03-22T13:30:51.892Z"
   },
   {
    "duration": 209,
    "start_time": "2024-03-22T13:30:52.097Z"
   },
   {
    "duration": 4,
    "start_time": "2024-03-22T13:30:52.308Z"
   },
   {
    "duration": 127,
    "start_time": "2024-03-22T13:30:52.313Z"
   },
   {
    "duration": 0,
    "start_time": "2024-03-22T13:30:52.442Z"
   },
   {
    "duration": 0,
    "start_time": "2024-03-22T13:30:52.443Z"
   },
   {
    "duration": 34,
    "start_time": "2024-03-22T13:31:25.682Z"
   },
   {
    "duration": 32,
    "start_time": "2024-03-22T13:32:21.288Z"
   },
   {
    "duration": 33,
    "start_time": "2024-03-22T13:32:25.989Z"
   },
   {
    "duration": 40,
    "start_time": "2024-03-22T13:33:10.787Z"
   },
   {
    "duration": 33,
    "start_time": "2024-03-22T13:33:18.826Z"
   },
   {
    "duration": 33,
    "start_time": "2024-03-22T13:34:37.037Z"
   },
   {
    "duration": 6,
    "start_time": "2024-03-22T14:02:36.508Z"
   },
   {
    "duration": 5,
    "start_time": "2024-03-22T14:02:37.059Z"
   },
   {
    "duration": 41,
    "start_time": "2024-03-22T14:02:37.221Z"
   },
   {
    "duration": 15,
    "start_time": "2024-03-22T14:08:37.590Z"
   },
   {
    "duration": 4,
    "start_time": "2024-03-22T14:09:07.982Z"
   },
   {
    "duration": 3,
    "start_time": "2024-03-22T14:10:54.963Z"
   },
   {
    "duration": 21,
    "start_time": "2024-03-22T14:11:41.832Z"
   },
   {
    "duration": 24,
    "start_time": "2024-03-22T14:13:16.687Z"
   },
   {
    "duration": 34,
    "start_time": "2024-03-22T14:13:34.371Z"
   },
   {
    "duration": 1243,
    "start_time": "2024-03-22T14:13:47.757Z"
   },
   {
    "duration": 29,
    "start_time": "2024-03-22T14:13:49.002Z"
   },
   {
    "duration": 30,
    "start_time": "2024-03-22T14:13:49.032Z"
   },
   {
    "duration": 16,
    "start_time": "2024-03-22T14:13:49.065Z"
   },
   {
    "duration": 13,
    "start_time": "2024-03-22T14:13:49.082Z"
   },
   {
    "duration": 22,
    "start_time": "2024-03-22T14:13:49.097Z"
   },
   {
    "duration": 6,
    "start_time": "2024-03-22T14:13:49.120Z"
   },
   {
    "duration": 29,
    "start_time": "2024-03-22T14:13:49.127Z"
   },
   {
    "duration": 11,
    "start_time": "2024-03-22T14:13:49.158Z"
   },
   {
    "duration": 4,
    "start_time": "2024-03-22T14:13:49.173Z"
   },
   {
    "duration": 8,
    "start_time": "2024-03-22T14:13:49.179Z"
   },
   {
    "duration": 34,
    "start_time": "2024-03-22T14:13:49.189Z"
   },
   {
    "duration": 27,
    "start_time": "2024-03-22T14:13:49.226Z"
   },
   {
    "duration": 7,
    "start_time": "2024-03-22T14:13:49.255Z"
   },
   {
    "duration": 11,
    "start_time": "2024-03-22T14:13:49.264Z"
   },
   {
    "duration": 8,
    "start_time": "2024-03-22T14:13:49.277Z"
   },
   {
    "duration": 7,
    "start_time": "2024-03-22T14:13:49.287Z"
   },
   {
    "duration": 11,
    "start_time": "2024-03-22T14:13:49.295Z"
   },
   {
    "duration": 10,
    "start_time": "2024-03-22T14:13:49.308Z"
   },
   {
    "duration": 12,
    "start_time": "2024-03-22T14:13:49.319Z"
   },
   {
    "duration": 20,
    "start_time": "2024-03-22T14:13:49.333Z"
   },
   {
    "duration": 21,
    "start_time": "2024-03-22T14:13:49.355Z"
   },
   {
    "duration": 9,
    "start_time": "2024-03-22T14:13:49.377Z"
   },
   {
    "duration": 7,
    "start_time": "2024-03-22T14:13:49.387Z"
   },
   {
    "duration": 8,
    "start_time": "2024-03-22T14:13:49.396Z"
   },
   {
    "duration": 192,
    "start_time": "2024-03-22T14:13:49.406Z"
   },
   {
    "duration": 6,
    "start_time": "2024-03-22T14:13:49.600Z"
   },
   {
    "duration": 134,
    "start_time": "2024-03-22T14:13:49.610Z"
   },
   {
    "duration": 176,
    "start_time": "2024-03-22T14:13:49.746Z"
   },
   {
    "duration": 8,
    "start_time": "2024-03-22T14:13:49.923Z"
   },
   {
    "duration": 9,
    "start_time": "2024-03-22T14:13:49.933Z"
   },
   {
    "duration": 7,
    "start_time": "2024-03-22T14:13:49.944Z"
   },
   {
    "duration": 212,
    "start_time": "2024-03-22T14:13:49.953Z"
   },
   {
    "duration": 12,
    "start_time": "2024-03-22T14:13:50.167Z"
   },
   {
    "duration": 7,
    "start_time": "2024-03-22T14:13:50.180Z"
   },
   {
    "duration": 13,
    "start_time": "2024-03-22T14:13:50.188Z"
   },
   {
    "duration": 260,
    "start_time": "2024-03-22T14:13:50.202Z"
   },
   {
    "duration": 16,
    "start_time": "2024-03-22T14:13:50.464Z"
   },
   {
    "duration": 28,
    "start_time": "2024-03-22T14:13:50.481Z"
   },
   {
    "duration": 14,
    "start_time": "2024-03-22T14:13:50.510Z"
   },
   {
    "duration": 2,
    "start_time": "2024-03-22T14:13:50.526Z"
   },
   {
    "duration": 193,
    "start_time": "2024-03-22T14:13:50.530Z"
   },
   {
    "duration": 9,
    "start_time": "2024-03-22T14:13:50.725Z"
   },
   {
    "duration": 9,
    "start_time": "2024-03-22T14:13:50.735Z"
   },
   {
    "duration": 10,
    "start_time": "2024-03-22T14:13:50.745Z"
   },
   {
    "duration": 350,
    "start_time": "2024-03-22T14:13:50.756Z"
   },
   {
    "duration": 8,
    "start_time": "2024-03-22T14:13:51.108Z"
   },
   {
    "duration": 16,
    "start_time": "2024-03-22T14:13:51.117Z"
   },
   {
    "duration": 10,
    "start_time": "2024-03-22T14:13:51.135Z"
   },
   {
    "duration": 12,
    "start_time": "2024-03-22T14:13:51.146Z"
   },
   {
    "duration": 20,
    "start_time": "2024-03-22T14:13:51.160Z"
   },
   {
    "duration": 19,
    "start_time": "2024-03-22T14:13:51.182Z"
   },
   {
    "duration": 18,
    "start_time": "2024-03-22T14:13:51.203Z"
   },
   {
    "duration": 34,
    "start_time": "2024-03-22T14:13:51.223Z"
   },
   {
    "duration": 19,
    "start_time": "2024-03-22T14:13:51.259Z"
   },
   {
    "duration": 26,
    "start_time": "2024-03-22T14:13:51.280Z"
   },
   {
    "duration": 20,
    "start_time": "2024-03-22T14:13:51.308Z"
   },
   {
    "duration": 16,
    "start_time": "2024-03-22T14:13:51.329Z"
   },
   {
    "duration": 17,
    "start_time": "2024-03-22T14:13:51.347Z"
   },
   {
    "duration": 5,
    "start_time": "2024-03-22T14:13:51.366Z"
   },
   {
    "duration": 28,
    "start_time": "2024-03-22T14:13:51.372Z"
   },
   {
    "duration": 11,
    "start_time": "2024-03-22T14:13:51.402Z"
   },
   {
    "duration": 20,
    "start_time": "2024-03-22T14:13:51.414Z"
   },
   {
    "duration": 38,
    "start_time": "2024-03-22T14:13:51.435Z"
   },
   {
    "duration": 13,
    "start_time": "2024-03-22T14:13:51.475Z"
   },
   {
    "duration": 185,
    "start_time": "2024-03-22T14:13:51.490Z"
   },
   {
    "duration": 206,
    "start_time": "2024-03-22T14:13:51.677Z"
   },
   {
    "duration": 5,
    "start_time": "2024-03-22T14:13:51.885Z"
   },
   {
    "duration": 42,
    "start_time": "2024-03-22T14:13:51.891Z"
   },
   {
    "duration": 60,
    "start_time": "2024-03-22T14:13:51.934Z"
   },
   {
    "duration": 14,
    "start_time": "2024-03-22T14:13:51.996Z"
   },
   {
    "duration": 66,
    "start_time": "2024-03-22T14:13:52.012Z"
   },
   {
    "duration": 105,
    "start_time": "2024-03-22T14:13:52.080Z"
   },
   {
    "duration": 0,
    "start_time": "2024-03-22T14:13:52.186Z"
   },
   {
    "duration": 0,
    "start_time": "2024-03-22T14:13:52.188Z"
   },
   {
    "duration": 0,
    "start_time": "2024-03-22T14:13:52.189Z"
   },
   {
    "duration": 119,
    "start_time": "2024-03-22T14:15:00.289Z"
   },
   {
    "duration": 39,
    "start_time": "2024-03-22T14:15:23.463Z"
   },
   {
    "duration": 1180,
    "start_time": "2024-03-22T14:15:48.239Z"
   },
   {
    "duration": 30,
    "start_time": "2024-03-22T14:15:49.421Z"
   },
   {
    "duration": 29,
    "start_time": "2024-03-22T14:15:49.452Z"
   },
   {
    "duration": 16,
    "start_time": "2024-03-22T14:15:49.482Z"
   },
   {
    "duration": 12,
    "start_time": "2024-03-22T14:15:49.500Z"
   },
   {
    "duration": 14,
    "start_time": "2024-03-22T14:15:49.514Z"
   },
   {
    "duration": 6,
    "start_time": "2024-03-22T14:15:49.529Z"
   },
   {
    "duration": 24,
    "start_time": "2024-03-22T14:15:49.536Z"
   },
   {
    "duration": 12,
    "start_time": "2024-03-22T14:15:49.562Z"
   },
   {
    "duration": 4,
    "start_time": "2024-03-22T14:15:49.575Z"
   },
   {
    "duration": 19,
    "start_time": "2024-03-22T14:15:49.580Z"
   },
   {
    "duration": 13,
    "start_time": "2024-03-22T14:15:49.600Z"
   },
   {
    "duration": 6,
    "start_time": "2024-03-22T14:15:49.614Z"
   },
   {
    "duration": 19,
    "start_time": "2024-03-22T14:15:49.623Z"
   },
   {
    "duration": 17,
    "start_time": "2024-03-22T14:15:49.644Z"
   },
   {
    "duration": 8,
    "start_time": "2024-03-22T14:15:49.662Z"
   },
   {
    "duration": 6,
    "start_time": "2024-03-22T14:15:49.671Z"
   },
   {
    "duration": 9,
    "start_time": "2024-03-22T14:15:49.678Z"
   },
   {
    "duration": 8,
    "start_time": "2024-03-22T14:15:49.689Z"
   },
   {
    "duration": 11,
    "start_time": "2024-03-22T14:15:49.698Z"
   },
   {
    "duration": 20,
    "start_time": "2024-03-22T14:15:49.711Z"
   },
   {
    "duration": 10,
    "start_time": "2024-03-22T14:15:49.733Z"
   },
   {
    "duration": 4,
    "start_time": "2024-03-22T14:15:49.744Z"
   },
   {
    "duration": 5,
    "start_time": "2024-03-22T14:15:49.749Z"
   },
   {
    "duration": 19,
    "start_time": "2024-03-22T14:15:49.756Z"
   },
   {
    "duration": 163,
    "start_time": "2024-03-22T14:15:49.777Z"
   },
   {
    "duration": 5,
    "start_time": "2024-03-22T14:15:49.942Z"
   },
   {
    "duration": 134,
    "start_time": "2024-03-22T14:15:49.949Z"
   },
   {
    "duration": 178,
    "start_time": "2024-03-22T14:15:50.085Z"
   },
   {
    "duration": 13,
    "start_time": "2024-03-22T14:15:50.264Z"
   },
   {
    "duration": 18,
    "start_time": "2024-03-22T14:15:50.278Z"
   },
   {
    "duration": 7,
    "start_time": "2024-03-22T14:15:50.297Z"
   },
   {
    "duration": 193,
    "start_time": "2024-03-22T14:15:50.305Z"
   },
   {
    "duration": 8,
    "start_time": "2024-03-22T14:15:50.500Z"
   },
   {
    "duration": 15,
    "start_time": "2024-03-22T14:15:50.509Z"
   },
   {
    "duration": 12,
    "start_time": "2024-03-22T14:15:50.526Z"
   },
   {
    "duration": 262,
    "start_time": "2024-03-22T14:15:50.539Z"
   },
   {
    "duration": 11,
    "start_time": "2024-03-22T14:15:50.803Z"
   },
   {
    "duration": 5,
    "start_time": "2024-03-22T14:15:50.816Z"
   },
   {
    "duration": 11,
    "start_time": "2024-03-22T14:15:50.822Z"
   },
   {
    "duration": 4,
    "start_time": "2024-03-22T14:15:50.838Z"
   },
   {
    "duration": 222,
    "start_time": "2024-03-22T14:15:50.843Z"
   },
   {
    "duration": 12,
    "start_time": "2024-03-22T14:15:51.067Z"
   },
   {
    "duration": 7,
    "start_time": "2024-03-22T14:15:51.080Z"
   },
   {
    "duration": 8,
    "start_time": "2024-03-22T14:15:51.089Z"
   },
   {
    "duration": 360,
    "start_time": "2024-03-22T14:15:51.099Z"
   },
   {
    "duration": 13,
    "start_time": "2024-03-22T14:15:51.460Z"
   },
   {
    "duration": 9,
    "start_time": "2024-03-22T14:15:51.475Z"
   },
   {
    "duration": 4,
    "start_time": "2024-03-22T14:15:51.486Z"
   },
   {
    "duration": 7,
    "start_time": "2024-03-22T14:15:51.492Z"
   },
   {
    "duration": 5,
    "start_time": "2024-03-22T14:15:51.501Z"
   },
   {
    "duration": 15,
    "start_time": "2024-03-22T14:15:51.508Z"
   },
   {
    "duration": 28,
    "start_time": "2024-03-22T14:15:51.524Z"
   },
   {
    "duration": 45,
    "start_time": "2024-03-22T14:15:51.554Z"
   },
   {
    "duration": 14,
    "start_time": "2024-03-22T14:15:51.602Z"
   },
   {
    "duration": 5,
    "start_time": "2024-03-22T14:15:51.617Z"
   },
   {
    "duration": 24,
    "start_time": "2024-03-22T14:15:51.623Z"
   },
   {
    "duration": 35,
    "start_time": "2024-03-22T14:15:51.649Z"
   },
   {
    "duration": 4,
    "start_time": "2024-03-22T14:15:51.685Z"
   },
   {
    "duration": 12,
    "start_time": "2024-03-22T14:15:51.691Z"
   },
   {
    "duration": 15,
    "start_time": "2024-03-22T14:15:51.705Z"
   },
   {
    "duration": 19,
    "start_time": "2024-03-22T14:15:51.722Z"
   },
   {
    "duration": 19,
    "start_time": "2024-03-22T14:15:51.743Z"
   },
   {
    "duration": 47,
    "start_time": "2024-03-22T14:15:51.764Z"
   },
   {
    "duration": 12,
    "start_time": "2024-03-22T14:15:51.812Z"
   },
   {
    "duration": 218,
    "start_time": "2024-03-22T14:15:51.825Z"
   },
   {
    "duration": 200,
    "start_time": "2024-03-22T14:15:52.045Z"
   },
   {
    "duration": 4,
    "start_time": "2024-03-22T14:15:52.246Z"
   },
   {
    "duration": 6,
    "start_time": "2024-03-22T14:15:52.252Z"
   },
   {
    "duration": 48,
    "start_time": "2024-03-22T14:15:52.259Z"
   },
   {
    "duration": 4,
    "start_time": "2024-03-22T14:15:52.309Z"
   },
   {
    "duration": 34,
    "start_time": "2024-03-22T14:15:52.314Z"
   },
   {
    "duration": 105,
    "start_time": "2024-03-22T14:15:52.349Z"
   },
   {
    "duration": 0,
    "start_time": "2024-03-22T14:15:52.455Z"
   },
   {
    "duration": 0,
    "start_time": "2024-03-22T14:15:52.457Z"
   },
   {
    "duration": 0,
    "start_time": "2024-03-22T14:15:52.458Z"
   },
   {
    "duration": 116,
    "start_time": "2024-03-22T14:16:18.169Z"
   },
   {
    "duration": 1256,
    "start_time": "2024-03-22T14:16:23.338Z"
   },
   {
    "duration": 30,
    "start_time": "2024-03-22T14:16:24.596Z"
   },
   {
    "duration": 28,
    "start_time": "2024-03-22T14:16:24.627Z"
   },
   {
    "duration": 15,
    "start_time": "2024-03-22T14:16:24.657Z"
   },
   {
    "duration": 12,
    "start_time": "2024-03-22T14:16:24.674Z"
   },
   {
    "duration": 23,
    "start_time": "2024-03-22T14:16:24.687Z"
   },
   {
    "duration": 36,
    "start_time": "2024-03-22T14:16:24.712Z"
   },
   {
    "duration": 28,
    "start_time": "2024-03-22T14:16:24.750Z"
   },
   {
    "duration": 12,
    "start_time": "2024-03-22T14:16:24.779Z"
   },
   {
    "duration": 5,
    "start_time": "2024-03-22T14:16:24.792Z"
   },
   {
    "duration": 14,
    "start_time": "2024-03-22T14:16:24.798Z"
   },
   {
    "duration": 18,
    "start_time": "2024-03-22T14:16:24.814Z"
   },
   {
    "duration": 15,
    "start_time": "2024-03-22T14:16:24.834Z"
   },
   {
    "duration": 13,
    "start_time": "2024-03-22T14:16:24.852Z"
   },
   {
    "duration": 18,
    "start_time": "2024-03-22T14:16:24.866Z"
   },
   {
    "duration": 23,
    "start_time": "2024-03-22T14:16:24.885Z"
   },
   {
    "duration": 33,
    "start_time": "2024-03-22T14:16:24.909Z"
   },
   {
    "duration": 17,
    "start_time": "2024-03-22T14:16:24.944Z"
   },
   {
    "duration": 14,
    "start_time": "2024-03-22T14:16:24.963Z"
   },
   {
    "duration": 13,
    "start_time": "2024-03-22T14:16:24.979Z"
   },
   {
    "duration": 14,
    "start_time": "2024-03-22T14:16:24.994Z"
   },
   {
    "duration": 13,
    "start_time": "2024-03-22T14:16:25.010Z"
   },
   {
    "duration": 5,
    "start_time": "2024-03-22T14:16:25.025Z"
   },
   {
    "duration": 15,
    "start_time": "2024-03-22T14:16:25.032Z"
   },
   {
    "duration": 9,
    "start_time": "2024-03-22T14:16:25.049Z"
   },
   {
    "duration": 157,
    "start_time": "2024-03-22T14:16:25.060Z"
   },
   {
    "duration": 6,
    "start_time": "2024-03-22T14:16:25.219Z"
   },
   {
    "duration": 141,
    "start_time": "2024-03-22T14:16:25.226Z"
   },
   {
    "duration": 182,
    "start_time": "2024-03-22T14:16:25.368Z"
   },
   {
    "duration": 8,
    "start_time": "2024-03-22T14:16:25.551Z"
   },
   {
    "duration": 6,
    "start_time": "2024-03-22T14:16:25.572Z"
   },
   {
    "duration": 5,
    "start_time": "2024-03-22T14:16:25.580Z"
   },
   {
    "duration": 214,
    "start_time": "2024-03-22T14:16:25.587Z"
   },
   {
    "duration": 8,
    "start_time": "2024-03-22T14:16:25.803Z"
   },
   {
    "duration": 24,
    "start_time": "2024-03-22T14:16:25.813Z"
   },
   {
    "duration": 15,
    "start_time": "2024-03-22T14:16:25.839Z"
   },
   {
    "duration": 266,
    "start_time": "2024-03-22T14:16:25.856Z"
   },
   {
    "duration": 10,
    "start_time": "2024-03-22T14:16:26.124Z"
   },
   {
    "duration": 8,
    "start_time": "2024-03-22T14:16:26.136Z"
   },
   {
    "duration": 44,
    "start_time": "2024-03-22T14:16:26.145Z"
   },
   {
    "duration": 4,
    "start_time": "2024-03-22T14:16:26.194Z"
   },
   {
    "duration": 202,
    "start_time": "2024-03-22T14:16:26.200Z"
   },
   {
    "duration": 10,
    "start_time": "2024-03-22T14:16:26.404Z"
   },
   {
    "duration": 14,
    "start_time": "2024-03-22T14:16:26.416Z"
   },
   {
    "duration": 12,
    "start_time": "2024-03-22T14:16:26.432Z"
   },
   {
    "duration": 332,
    "start_time": "2024-03-22T14:16:26.446Z"
   },
   {
    "duration": 8,
    "start_time": "2024-03-22T14:16:26.779Z"
   },
   {
    "duration": 13,
    "start_time": "2024-03-22T14:16:26.788Z"
   },
   {
    "duration": 15,
    "start_time": "2024-03-22T14:16:26.802Z"
   },
   {
    "duration": 20,
    "start_time": "2024-03-22T14:16:26.818Z"
   },
   {
    "duration": 13,
    "start_time": "2024-03-22T14:16:26.840Z"
   },
   {
    "duration": 15,
    "start_time": "2024-03-22T14:16:26.855Z"
   },
   {
    "duration": 14,
    "start_time": "2024-03-22T14:16:26.872Z"
   },
   {
    "duration": 32,
    "start_time": "2024-03-22T14:16:26.887Z"
   },
   {
    "duration": 16,
    "start_time": "2024-03-22T14:16:26.921Z"
   },
   {
    "duration": 5,
    "start_time": "2024-03-22T14:16:26.939Z"
   },
   {
    "duration": 53,
    "start_time": "2024-03-22T14:16:26.945Z"
   },
   {
    "duration": 23,
    "start_time": "2024-03-22T14:16:27.000Z"
   },
   {
    "duration": 5,
    "start_time": "2024-03-22T14:16:27.025Z"
   },
   {
    "duration": 7,
    "start_time": "2024-03-22T14:16:27.032Z"
   },
   {
    "duration": 34,
    "start_time": "2024-03-22T14:16:27.040Z"
   },
   {
    "duration": 6,
    "start_time": "2024-03-22T14:16:27.075Z"
   },
   {
    "duration": 40,
    "start_time": "2024-03-22T14:16:27.083Z"
   },
   {
    "duration": 58,
    "start_time": "2024-03-22T14:16:27.125Z"
   },
   {
    "duration": 12,
    "start_time": "2024-03-22T14:16:27.184Z"
   },
   {
    "duration": 193,
    "start_time": "2024-03-22T14:16:27.197Z"
   },
   {
    "duration": 199,
    "start_time": "2024-03-22T14:16:27.392Z"
   },
   {
    "duration": 4,
    "start_time": "2024-03-22T14:16:27.593Z"
   },
   {
    "duration": 14,
    "start_time": "2024-03-22T14:16:27.598Z"
   },
   {
    "duration": 40,
    "start_time": "2024-03-22T14:16:27.613Z"
   },
   {
    "duration": 4,
    "start_time": "2024-03-22T14:16:27.654Z"
   },
   {
    "duration": 32,
    "start_time": "2024-03-22T14:16:27.659Z"
   },
   {
    "duration": 100,
    "start_time": "2024-03-22T14:16:27.693Z"
   },
   {
    "duration": 0,
    "start_time": "2024-03-22T14:16:27.795Z"
   },
   {
    "duration": 0,
    "start_time": "2024-03-22T14:16:27.796Z"
   },
   {
    "duration": 0,
    "start_time": "2024-03-22T14:16:27.798Z"
   },
   {
    "duration": 1233,
    "start_time": "2024-03-22T14:17:05.974Z"
   },
   {
    "duration": 29,
    "start_time": "2024-03-22T14:17:07.209Z"
   },
   {
    "duration": 35,
    "start_time": "2024-03-22T14:17:07.240Z"
   },
   {
    "duration": 16,
    "start_time": "2024-03-22T14:17:07.277Z"
   },
   {
    "duration": 18,
    "start_time": "2024-03-22T14:17:07.295Z"
   },
   {
    "duration": 17,
    "start_time": "2024-03-22T14:17:07.314Z"
   },
   {
    "duration": 5,
    "start_time": "2024-03-22T14:17:07.333Z"
   },
   {
    "duration": 14,
    "start_time": "2024-03-22T14:17:07.339Z"
   },
   {
    "duration": 50,
    "start_time": "2024-03-22T14:17:07.355Z"
   },
   {
    "duration": 16,
    "start_time": "2024-03-22T14:17:07.407Z"
   },
   {
    "duration": 12,
    "start_time": "2024-03-22T14:17:07.425Z"
   },
   {
    "duration": 11,
    "start_time": "2024-03-22T14:17:07.438Z"
   },
   {
    "duration": 18,
    "start_time": "2024-03-22T14:17:07.451Z"
   },
   {
    "duration": 25,
    "start_time": "2024-03-22T14:17:07.472Z"
   },
   {
    "duration": 10,
    "start_time": "2024-03-22T14:17:07.499Z"
   },
   {
    "duration": 12,
    "start_time": "2024-03-22T14:17:07.511Z"
   },
   {
    "duration": 13,
    "start_time": "2024-03-22T14:17:07.525Z"
   },
   {
    "duration": 10,
    "start_time": "2024-03-22T14:17:07.540Z"
   },
   {
    "duration": 10,
    "start_time": "2024-03-22T14:17:07.552Z"
   },
   {
    "duration": 29,
    "start_time": "2024-03-22T14:17:07.564Z"
   },
   {
    "duration": 4,
    "start_time": "2024-03-22T14:17:07.595Z"
   },
   {
    "duration": 10,
    "start_time": "2024-03-22T14:17:07.601Z"
   },
   {
    "duration": 4,
    "start_time": "2024-03-22T14:17:07.613Z"
   },
   {
    "duration": 5,
    "start_time": "2024-03-22T14:17:07.619Z"
   },
   {
    "duration": 8,
    "start_time": "2024-03-22T14:17:07.626Z"
   },
   {
    "duration": 178,
    "start_time": "2024-03-22T14:17:07.635Z"
   },
   {
    "duration": 6,
    "start_time": "2024-03-22T14:17:07.814Z"
   },
   {
    "duration": 136,
    "start_time": "2024-03-22T14:17:07.821Z"
   },
   {
    "duration": 189,
    "start_time": "2024-03-22T14:17:07.959Z"
   },
   {
    "duration": 8,
    "start_time": "2024-03-22T14:17:08.150Z"
   },
   {
    "duration": 21,
    "start_time": "2024-03-22T14:17:08.159Z"
   },
   {
    "duration": 20,
    "start_time": "2024-03-22T14:17:08.181Z"
   },
   {
    "duration": 206,
    "start_time": "2024-03-22T14:17:08.202Z"
   },
   {
    "duration": 8,
    "start_time": "2024-03-22T14:17:08.410Z"
   },
   {
    "duration": 22,
    "start_time": "2024-03-22T14:17:08.420Z"
   },
   {
    "duration": 8,
    "start_time": "2024-03-22T14:17:08.444Z"
   },
   {
    "duration": 254,
    "start_time": "2024-03-22T14:17:08.454Z"
   },
   {
    "duration": 10,
    "start_time": "2024-03-22T14:17:08.710Z"
   },
   {
    "duration": 23,
    "start_time": "2024-03-22T14:17:08.722Z"
   },
   {
    "duration": 43,
    "start_time": "2024-03-22T14:17:08.746Z"
   },
   {
    "duration": 25,
    "start_time": "2024-03-22T14:17:08.797Z"
   },
   {
    "duration": 218,
    "start_time": "2024-03-22T14:17:08.824Z"
   },
   {
    "duration": 9,
    "start_time": "2024-03-22T14:17:09.043Z"
   },
   {
    "duration": 19,
    "start_time": "2024-03-22T14:17:09.054Z"
   },
   {
    "duration": 10,
    "start_time": "2024-03-22T14:17:09.074Z"
   },
   {
    "duration": 327,
    "start_time": "2024-03-22T14:17:09.086Z"
   },
   {
    "duration": 8,
    "start_time": "2024-03-22T14:17:09.414Z"
   },
   {
    "duration": 32,
    "start_time": "2024-03-22T14:17:09.423Z"
   },
   {
    "duration": 18,
    "start_time": "2024-03-22T14:17:09.457Z"
   },
   {
    "duration": 32,
    "start_time": "2024-03-22T14:17:09.476Z"
   },
   {
    "duration": 20,
    "start_time": "2024-03-22T14:17:09.510Z"
   },
   {
    "duration": 17,
    "start_time": "2024-03-22T14:17:09.531Z"
   },
   {
    "duration": 9,
    "start_time": "2024-03-22T14:17:09.550Z"
   },
   {
    "duration": 29,
    "start_time": "2024-03-22T14:17:09.561Z"
   },
   {
    "duration": 14,
    "start_time": "2024-03-22T14:17:09.591Z"
   },
   {
    "duration": 3,
    "start_time": "2024-03-22T14:17:09.607Z"
   },
   {
    "duration": 18,
    "start_time": "2024-03-22T14:17:09.612Z"
   },
   {
    "duration": 14,
    "start_time": "2024-03-22T14:17:09.632Z"
   },
   {
    "duration": 26,
    "start_time": "2024-03-22T14:17:09.648Z"
   },
   {
    "duration": 4,
    "start_time": "2024-03-22T14:17:09.675Z"
   },
   {
    "duration": 9,
    "start_time": "2024-03-22T14:17:09.680Z"
   },
   {
    "duration": 4,
    "start_time": "2024-03-22T14:17:09.691Z"
   },
   {
    "duration": 14,
    "start_time": "2024-03-22T14:17:09.697Z"
   },
   {
    "duration": 61,
    "start_time": "2024-03-22T14:17:09.713Z"
   },
   {
    "duration": 12,
    "start_time": "2024-03-22T14:17:09.775Z"
   },
   {
    "duration": 184,
    "start_time": "2024-03-22T14:17:09.789Z"
   },
   {
    "duration": 208,
    "start_time": "2024-03-22T14:17:09.974Z"
   },
   {
    "duration": 4,
    "start_time": "2024-03-22T14:17:10.184Z"
   },
   {
    "duration": 10,
    "start_time": "2024-03-22T14:17:10.189Z"
   },
   {
    "duration": 34,
    "start_time": "2024-03-22T14:17:10.200Z"
   },
   {
    "duration": 3,
    "start_time": "2024-03-22T14:17:10.235Z"
   },
   {
    "duration": 37,
    "start_time": "2024-03-22T14:17:10.240Z"
   },
   {
    "duration": 102,
    "start_time": "2024-03-22T14:17:10.279Z"
   },
   {
    "duration": 0,
    "start_time": "2024-03-22T14:17:10.383Z"
   },
   {
    "duration": 0,
    "start_time": "2024-03-22T14:17:10.385Z"
   },
   {
    "duration": 0,
    "start_time": "2024-03-22T14:17:10.387Z"
   },
   {
    "duration": 1244,
    "start_time": "2024-03-22T14:21:19.969Z"
   },
   {
    "duration": 29,
    "start_time": "2024-03-22T14:21:21.215Z"
   },
   {
    "duration": 29,
    "start_time": "2024-03-22T14:21:21.246Z"
   },
   {
    "duration": 16,
    "start_time": "2024-03-22T14:21:21.277Z"
   },
   {
    "duration": 11,
    "start_time": "2024-03-22T14:21:21.294Z"
   },
   {
    "duration": 13,
    "start_time": "2024-03-22T14:21:21.307Z"
   },
   {
    "duration": 6,
    "start_time": "2024-03-22T14:21:21.321Z"
   },
   {
    "duration": 12,
    "start_time": "2024-03-22T14:21:21.329Z"
   },
   {
    "duration": 13,
    "start_time": "2024-03-22T14:21:21.342Z"
   },
   {
    "duration": 16,
    "start_time": "2024-03-22T14:21:21.358Z"
   },
   {
    "duration": 7,
    "start_time": "2024-03-22T14:21:21.375Z"
   },
   {
    "duration": 14,
    "start_time": "2024-03-22T14:21:21.383Z"
   },
   {
    "duration": 9,
    "start_time": "2024-03-22T14:21:21.399Z"
   },
   {
    "duration": 9,
    "start_time": "2024-03-22T14:21:21.409Z"
   },
   {
    "duration": 10,
    "start_time": "2024-03-22T14:21:21.420Z"
   },
   {
    "duration": 9,
    "start_time": "2024-03-22T14:21:21.432Z"
   },
   {
    "duration": 37,
    "start_time": "2024-03-22T14:21:21.443Z"
   },
   {
    "duration": 25,
    "start_time": "2024-03-22T14:21:21.482Z"
   },
   {
    "duration": 11,
    "start_time": "2024-03-22T14:21:21.509Z"
   },
   {
    "duration": 20,
    "start_time": "2024-03-22T14:21:21.522Z"
   },
   {
    "duration": 6,
    "start_time": "2024-03-22T14:21:21.544Z"
   },
   {
    "duration": 12,
    "start_time": "2024-03-22T14:21:21.551Z"
   },
   {
    "duration": 4,
    "start_time": "2024-03-22T14:21:21.565Z"
   },
   {
    "duration": 5,
    "start_time": "2024-03-22T14:21:21.570Z"
   },
   {
    "duration": 10,
    "start_time": "2024-03-22T14:21:21.577Z"
   },
   {
    "duration": 173,
    "start_time": "2024-03-22T14:21:21.589Z"
   },
   {
    "duration": 10,
    "start_time": "2024-03-22T14:21:21.763Z"
   },
   {
    "duration": 149,
    "start_time": "2024-03-22T14:21:21.778Z"
   },
   {
    "duration": 190,
    "start_time": "2024-03-22T14:21:21.929Z"
   },
   {
    "duration": 8,
    "start_time": "2024-03-22T14:21:22.121Z"
   },
   {
    "duration": 7,
    "start_time": "2024-03-22T14:21:22.130Z"
   },
   {
    "duration": 6,
    "start_time": "2024-03-22T14:21:22.139Z"
   },
   {
    "duration": 217,
    "start_time": "2024-03-22T14:21:22.146Z"
   },
   {
    "duration": 16,
    "start_time": "2024-03-22T14:21:22.365Z"
   },
   {
    "duration": 7,
    "start_time": "2024-03-22T14:21:22.382Z"
   },
   {
    "duration": 7,
    "start_time": "2024-03-22T14:21:22.390Z"
   },
   {
    "duration": 270,
    "start_time": "2024-03-22T14:21:22.398Z"
   },
   {
    "duration": 11,
    "start_time": "2024-03-22T14:21:22.670Z"
   },
   {
    "duration": 6,
    "start_time": "2024-03-22T14:21:22.682Z"
   },
   {
    "duration": 10,
    "start_time": "2024-03-22T14:21:22.689Z"
   },
   {
    "duration": 27,
    "start_time": "2024-03-22T14:21:22.700Z"
   },
   {
    "duration": 203,
    "start_time": "2024-03-22T14:21:22.728Z"
   },
   {
    "duration": 9,
    "start_time": "2024-03-22T14:21:22.932Z"
   },
   {
    "duration": 25,
    "start_time": "2024-03-22T14:21:22.942Z"
   },
   {
    "duration": 16,
    "start_time": "2024-03-22T14:21:22.968Z"
   },
   {
    "duration": 332,
    "start_time": "2024-03-22T14:21:22.986Z"
   },
   {
    "duration": 10,
    "start_time": "2024-03-22T14:21:23.320Z"
   },
   {
    "duration": 7,
    "start_time": "2024-03-22T14:21:23.331Z"
   },
   {
    "duration": 12,
    "start_time": "2024-03-22T14:21:23.340Z"
   },
   {
    "duration": 20,
    "start_time": "2024-03-22T14:21:23.354Z"
   },
   {
    "duration": 8,
    "start_time": "2024-03-22T14:21:23.375Z"
   },
   {
    "duration": 15,
    "start_time": "2024-03-22T14:21:23.384Z"
   },
   {
    "duration": 12,
    "start_time": "2024-03-22T14:21:23.401Z"
   },
   {
    "duration": 65,
    "start_time": "2024-03-22T14:21:23.414Z"
   },
   {
    "duration": 16,
    "start_time": "2024-03-22T14:21:23.481Z"
   },
   {
    "duration": 6,
    "start_time": "2024-03-22T14:21:23.498Z"
   },
   {
    "duration": 19,
    "start_time": "2024-03-22T14:21:23.506Z"
   },
   {
    "duration": 16,
    "start_time": "2024-03-22T14:21:23.526Z"
   },
   {
    "duration": 30,
    "start_time": "2024-03-22T14:21:23.544Z"
   },
   {
    "duration": 5,
    "start_time": "2024-03-22T14:21:23.575Z"
   },
   {
    "duration": 7,
    "start_time": "2024-03-22T14:21:23.582Z"
   },
   {
    "duration": 7,
    "start_time": "2024-03-22T14:21:23.590Z"
   },
   {
    "duration": 15,
    "start_time": "2024-03-22T14:21:23.599Z"
   },
   {
    "duration": 59,
    "start_time": "2024-03-22T14:21:23.615Z"
   },
   {
    "duration": 12,
    "start_time": "2024-03-22T14:21:23.675Z"
   },
   {
    "duration": 185,
    "start_time": "2024-03-22T14:21:23.689Z"
   },
   {
    "duration": 207,
    "start_time": "2024-03-22T14:21:23.875Z"
   },
   {
    "duration": 3,
    "start_time": "2024-03-22T14:21:24.084Z"
   },
   {
    "duration": 36,
    "start_time": "2024-03-22T14:21:24.089Z"
   },
   {
    "duration": 48,
    "start_time": "2024-03-22T14:21:24.127Z"
   },
   {
    "duration": 3,
    "start_time": "2024-03-22T14:21:24.177Z"
   },
   {
    "duration": 19,
    "start_time": "2024-03-22T14:21:24.182Z"
   },
   {
    "duration": 16,
    "start_time": "2024-03-22T14:21:24.202Z"
   },
   {
    "duration": 17,
    "start_time": "2024-03-22T14:34:27.094Z"
   },
   {
    "duration": 1249,
    "start_time": "2024-03-22T14:53:49.053Z"
   },
   {
    "duration": 31,
    "start_time": "2024-03-22T14:53:50.304Z"
   },
   {
    "duration": 31,
    "start_time": "2024-03-22T14:53:50.336Z"
   },
   {
    "duration": 16,
    "start_time": "2024-03-22T14:53:50.369Z"
   },
   {
    "duration": 13,
    "start_time": "2024-03-22T14:53:50.386Z"
   },
   {
    "duration": 12,
    "start_time": "2024-03-22T14:53:50.400Z"
   },
   {
    "duration": 27,
    "start_time": "2024-03-22T14:53:50.414Z"
   },
   {
    "duration": 29,
    "start_time": "2024-03-22T14:53:50.442Z"
   },
   {
    "duration": 26,
    "start_time": "2024-03-22T14:53:50.472Z"
   },
   {
    "duration": 4,
    "start_time": "2024-03-22T14:53:50.500Z"
   },
   {
    "duration": 38,
    "start_time": "2024-03-22T14:53:50.505Z"
   },
   {
    "duration": 14,
    "start_time": "2024-03-22T14:53:50.544Z"
   },
   {
    "duration": 9,
    "start_time": "2024-03-22T14:53:50.560Z"
   },
   {
    "duration": 11,
    "start_time": "2024-03-22T14:53:50.571Z"
   },
   {
    "duration": 17,
    "start_time": "2024-03-22T14:53:50.584Z"
   },
   {
    "duration": 8,
    "start_time": "2024-03-22T14:53:50.603Z"
   },
   {
    "duration": 16,
    "start_time": "2024-03-22T14:53:50.612Z"
   },
   {
    "duration": 26,
    "start_time": "2024-03-22T14:53:50.630Z"
   },
   {
    "duration": 12,
    "start_time": "2024-03-22T14:53:50.658Z"
   },
   {
    "duration": 13,
    "start_time": "2024-03-22T14:53:50.673Z"
   },
   {
    "duration": 10,
    "start_time": "2024-03-22T14:53:50.688Z"
   },
   {
    "duration": 13,
    "start_time": "2024-03-22T14:53:50.700Z"
   },
   {
    "duration": 5,
    "start_time": "2024-03-22T14:53:50.715Z"
   },
   {
    "duration": 8,
    "start_time": "2024-03-22T14:53:50.722Z"
   },
   {
    "duration": 8,
    "start_time": "2024-03-22T14:53:50.732Z"
   },
   {
    "duration": 199,
    "start_time": "2024-03-22T14:53:50.742Z"
   },
   {
    "duration": 6,
    "start_time": "2024-03-22T14:53:50.942Z"
   },
   {
    "duration": 148,
    "start_time": "2024-03-22T14:53:50.952Z"
   },
   {
    "duration": 184,
    "start_time": "2024-03-22T14:53:51.101Z"
   },
   {
    "duration": 9,
    "start_time": "2024-03-22T14:53:51.287Z"
   },
   {
    "duration": 20,
    "start_time": "2024-03-22T14:53:51.297Z"
   },
   {
    "duration": 51,
    "start_time": "2024-03-22T14:53:51.318Z"
   },
   {
    "duration": 214,
    "start_time": "2024-03-22T14:53:51.370Z"
   },
   {
    "duration": 11,
    "start_time": "2024-03-22T14:53:51.586Z"
   },
   {
    "duration": 10,
    "start_time": "2024-03-22T14:53:51.599Z"
   },
   {
    "duration": 21,
    "start_time": "2024-03-22T14:53:51.611Z"
   },
   {
    "duration": 278,
    "start_time": "2024-03-22T14:53:51.633Z"
   },
   {
    "duration": 15,
    "start_time": "2024-03-22T14:53:51.913Z"
   },
   {
    "duration": 27,
    "start_time": "2024-03-22T14:53:51.930Z"
   },
   {
    "duration": 33,
    "start_time": "2024-03-22T14:53:51.958Z"
   },
   {
    "duration": 25,
    "start_time": "2024-03-22T14:53:51.993Z"
   },
   {
    "duration": 236,
    "start_time": "2024-03-22T14:53:52.020Z"
   },
   {
    "duration": 16,
    "start_time": "2024-03-22T14:53:52.258Z"
   },
   {
    "duration": 12,
    "start_time": "2024-03-22T14:53:52.276Z"
   },
   {
    "duration": 32,
    "start_time": "2024-03-22T14:53:52.290Z"
   },
   {
    "duration": 337,
    "start_time": "2024-03-22T14:53:52.324Z"
   },
   {
    "duration": 11,
    "start_time": "2024-03-22T14:53:52.663Z"
   },
   {
    "duration": 8,
    "start_time": "2024-03-22T14:53:52.675Z"
   },
   {
    "duration": 14,
    "start_time": "2024-03-22T14:53:52.684Z"
   },
   {
    "duration": 10,
    "start_time": "2024-03-22T14:53:52.700Z"
   },
   {
    "duration": 6,
    "start_time": "2024-03-22T14:53:52.711Z"
   },
   {
    "duration": 13,
    "start_time": "2024-03-22T14:53:52.719Z"
   },
   {
    "duration": 40,
    "start_time": "2024-03-22T14:53:52.734Z"
   },
   {
    "duration": 53,
    "start_time": "2024-03-22T14:53:52.776Z"
   },
   {
    "duration": 20,
    "start_time": "2024-03-22T14:53:52.831Z"
   },
   {
    "duration": 30,
    "start_time": "2024-03-22T14:53:52.853Z"
   },
   {
    "duration": 20,
    "start_time": "2024-03-22T14:53:52.884Z"
   },
   {
    "duration": 17,
    "start_time": "2024-03-22T14:53:52.906Z"
   },
   {
    "duration": 11,
    "start_time": "2024-03-22T14:53:52.924Z"
   },
   {
    "duration": 5,
    "start_time": "2024-03-22T14:53:52.937Z"
   },
   {
    "duration": 30,
    "start_time": "2024-03-22T14:53:52.944Z"
   },
   {
    "duration": 7,
    "start_time": "2024-03-22T14:53:52.976Z"
   },
   {
    "duration": 32,
    "start_time": "2024-03-22T14:53:52.985Z"
   },
   {
    "duration": 78,
    "start_time": "2024-03-22T14:53:53.019Z"
   },
   {
    "duration": 16,
    "start_time": "2024-03-22T14:53:53.099Z"
   },
   {
    "duration": 228,
    "start_time": "2024-03-22T14:53:53.118Z"
   },
   {
    "duration": 215,
    "start_time": "2024-03-22T14:53:53.348Z"
   },
   {
    "duration": 9,
    "start_time": "2024-03-22T14:53:53.565Z"
   },
   {
    "duration": 11,
    "start_time": "2024-03-22T14:53:53.576Z"
   },
   {
    "duration": 56,
    "start_time": "2024-03-22T14:53:53.589Z"
   },
   {
    "duration": 4,
    "start_time": "2024-03-22T14:53:53.647Z"
   },
   {
    "duration": 36,
    "start_time": "2024-03-22T14:53:53.652Z"
   },
   {
    "duration": 18,
    "start_time": "2024-03-22T14:53:53.689Z"
   },
   {
    "duration": 21,
    "start_time": "2024-03-22T14:53:53.709Z"
   },
   {
    "duration": 4,
    "start_time": "2024-03-22T14:55:14.538Z"
   },
   {
    "duration": 54,
    "start_time": "2024-03-22T17:58:27.451Z"
   },
   {
    "duration": 1365,
    "start_time": "2024-03-22T17:58:36.102Z"
   },
   {
    "duration": 67,
    "start_time": "2024-03-22T17:58:46.963Z"
   },
   {
    "duration": 1220,
    "start_time": "2024-03-22T17:58:56.062Z"
   },
   {
    "duration": 106,
    "start_time": "2024-03-22T17:58:57.284Z"
   },
   {
    "duration": 138,
    "start_time": "2024-03-22T17:58:57.392Z"
   },
   {
    "duration": 70,
    "start_time": "2024-03-22T17:58:57.532Z"
   },
   {
    "duration": 11,
    "start_time": "2024-03-22T17:58:57.605Z"
   },
   {
    "duration": 19,
    "start_time": "2024-03-22T17:58:57.618Z"
   },
   {
    "duration": 27,
    "start_time": "2024-03-22T17:58:57.639Z"
   },
   {
    "duration": 26,
    "start_time": "2024-03-22T17:58:57.667Z"
   },
   {
    "duration": 23,
    "start_time": "2024-03-22T17:58:57.694Z"
   },
   {
    "duration": 4,
    "start_time": "2024-03-22T17:58:57.719Z"
   },
   {
    "duration": 16,
    "start_time": "2024-03-22T17:58:57.724Z"
   },
   {
    "duration": 14,
    "start_time": "2024-03-22T17:58:57.742Z"
   },
   {
    "duration": 9,
    "start_time": "2024-03-22T17:58:57.758Z"
   },
   {
    "duration": 17,
    "start_time": "2024-03-22T17:58:57.769Z"
   },
   {
    "duration": 12,
    "start_time": "2024-03-22T17:58:57.788Z"
   },
   {
    "duration": 20,
    "start_time": "2024-03-22T17:58:57.801Z"
   },
   {
    "duration": 12,
    "start_time": "2024-03-22T17:58:57.822Z"
   },
   {
    "duration": 18,
    "start_time": "2024-03-22T17:58:57.836Z"
   },
   {
    "duration": 13,
    "start_time": "2024-03-22T17:58:57.856Z"
   },
   {
    "duration": 33,
    "start_time": "2024-03-22T17:58:57.870Z"
   },
   {
    "duration": 24,
    "start_time": "2024-03-22T17:58:57.905Z"
   },
   {
    "duration": 28,
    "start_time": "2024-03-22T17:58:57.931Z"
   },
   {
    "duration": 12,
    "start_time": "2024-03-22T17:58:57.961Z"
   },
   {
    "duration": 31,
    "start_time": "2024-03-22T17:58:57.974Z"
   },
   {
    "duration": 20,
    "start_time": "2024-03-22T17:58:58.007Z"
   },
   {
    "duration": 165,
    "start_time": "2024-03-22T17:58:58.028Z"
   },
   {
    "duration": 6,
    "start_time": "2024-03-22T17:58:58.194Z"
   },
   {
    "duration": 139,
    "start_time": "2024-03-22T17:58:58.202Z"
   },
   {
    "duration": 181,
    "start_time": "2024-03-22T17:58:58.343Z"
   },
   {
    "duration": 8,
    "start_time": "2024-03-22T17:58:58.526Z"
   },
   {
    "duration": 8,
    "start_time": "2024-03-22T17:58:58.536Z"
   },
   {
    "duration": 10,
    "start_time": "2024-03-22T17:58:58.546Z"
   },
   {
    "duration": 196,
    "start_time": "2024-03-22T17:58:58.558Z"
   },
   {
    "duration": 9,
    "start_time": "2024-03-22T17:58:58.756Z"
   },
   {
    "duration": 19,
    "start_time": "2024-03-22T17:58:58.767Z"
   },
   {
    "duration": 8,
    "start_time": "2024-03-22T17:58:58.788Z"
   },
   {
    "duration": 258,
    "start_time": "2024-03-22T17:58:58.797Z"
   },
   {
    "duration": 12,
    "start_time": "2024-03-22T17:58:59.056Z"
   },
   {
    "duration": 6,
    "start_time": "2024-03-22T17:58:59.080Z"
   },
   {
    "duration": 10,
    "start_time": "2024-03-22T17:58:59.088Z"
   },
   {
    "duration": 4,
    "start_time": "2024-03-22T17:58:59.103Z"
   },
   {
    "duration": 203,
    "start_time": "2024-03-22T17:58:59.108Z"
   },
   {
    "duration": 8,
    "start_time": "2024-03-22T17:58:59.313Z"
   },
   {
    "duration": 53,
    "start_time": "2024-03-22T17:58:59.323Z"
   },
   {
    "duration": 26,
    "start_time": "2024-03-22T17:58:59.378Z"
   },
   {
    "duration": 340,
    "start_time": "2024-03-22T17:58:59.405Z"
   },
   {
    "duration": 8,
    "start_time": "2024-03-22T17:58:59.747Z"
   },
   {
    "duration": 10,
    "start_time": "2024-03-22T17:58:59.756Z"
   },
   {
    "duration": 14,
    "start_time": "2024-03-22T17:58:59.767Z"
   },
   {
    "duration": 4,
    "start_time": "2024-03-22T17:58:59.782Z"
   },
   {
    "duration": 11,
    "start_time": "2024-03-22T17:58:59.788Z"
   },
   {
    "duration": 16,
    "start_time": "2024-03-22T17:58:59.800Z"
   },
   {
    "duration": 21,
    "start_time": "2024-03-22T17:58:59.818Z"
   },
   {
    "duration": 29,
    "start_time": "2024-03-22T17:58:59.841Z"
   },
   {
    "duration": 14,
    "start_time": "2024-03-22T17:58:59.880Z"
   },
   {
    "duration": 5,
    "start_time": "2024-03-22T17:58:59.895Z"
   },
   {
    "duration": 30,
    "start_time": "2024-03-22T17:58:59.901Z"
   },
   {
    "duration": 15,
    "start_time": "2024-03-22T17:58:59.932Z"
   },
   {
    "duration": 3,
    "start_time": "2024-03-22T17:58:59.949Z"
   },
   {
    "duration": 6,
    "start_time": "2024-03-22T17:58:59.954Z"
   },
   {
    "duration": 8,
    "start_time": "2024-03-22T17:58:59.981Z"
   },
   {
    "duration": 4,
    "start_time": "2024-03-22T17:58:59.990Z"
   },
   {
    "duration": 12,
    "start_time": "2024-03-22T17:58:59.996Z"
   },
   {
    "duration": 38,
    "start_time": "2024-03-22T17:59:00.009Z"
   },
   {
    "duration": 48,
    "start_time": "2024-03-22T17:59:00.048Z"
   },
   {
    "duration": 194,
    "start_time": "2024-03-22T17:59:00.097Z"
   },
   {
    "duration": 196,
    "start_time": "2024-03-22T17:59:00.293Z"
   },
   {
    "duration": 5,
    "start_time": "2024-03-22T17:59:00.490Z"
   },
   {
    "duration": 152,
    "start_time": "2024-03-22T17:59:00.496Z"
   },
   {
    "duration": 76,
    "start_time": "2024-03-22T17:59:00.650Z"
   },
   {
    "duration": 4,
    "start_time": "2024-03-22T17:59:00.727Z"
   },
   {
    "duration": 109,
    "start_time": "2024-03-22T17:59:00.732Z"
   },
   {
    "duration": 22,
    "start_time": "2024-03-22T17:59:00.842Z"
   },
   {
    "duration": 55,
    "start_time": "2024-03-22T17:59:00.866Z"
   },
   {
    "duration": 54,
    "start_time": "2024-03-22T17:59:00.923Z"
   },
   {
    "duration": 63,
    "start_time": "2024-03-22T17:59:00.979Z"
   },
   {
    "duration": 176,
    "start_time": "2024-03-22T17:59:01.044Z"
   },
   {
    "duration": 6,
    "start_time": "2024-03-22T17:59:12.592Z"
   },
   {
    "duration": 5,
    "start_time": "2024-03-22T18:01:00.919Z"
   },
   {
    "duration": 5,
    "start_time": "2024-03-22T18:02:11.650Z"
   },
   {
    "duration": 4,
    "start_time": "2024-03-22T18:02:11.896Z"
   },
   {
    "duration": 6,
    "start_time": "2024-03-22T18:51:03.351Z"
   },
   {
    "duration": 5,
    "start_time": "2024-03-22T18:51:04.443Z"
   },
   {
    "duration": 5,
    "start_time": "2024-03-22T18:51:04.843Z"
   },
   {
    "duration": 5,
    "start_time": "2024-03-22T18:54:52.190Z"
   },
   {
    "duration": 158,
    "start_time": "2024-03-22T18:59:48.980Z"
   },
   {
    "duration": 4,
    "start_time": "2024-03-22T19:02:02.042Z"
   },
   {
    "duration": 10,
    "start_time": "2024-03-22T19:02:25.241Z"
   },
   {
    "duration": 5,
    "start_time": "2024-03-22T19:02:30.724Z"
   },
   {
    "duration": 5,
    "start_time": "2024-03-22T19:04:20.325Z"
   },
   {
    "duration": 5,
    "start_time": "2024-03-22T19:05:19.098Z"
   },
   {
    "duration": 4,
    "start_time": "2024-03-22T19:10:33.856Z"
   },
   {
    "duration": 4,
    "start_time": "2024-03-22T19:10:34.651Z"
   },
   {
    "duration": 5,
    "start_time": "2024-03-22T19:10:40.975Z"
   },
   {
    "duration": 6,
    "start_time": "2024-03-22T19:15:05.481Z"
   },
   {
    "duration": 5,
    "start_time": "2024-03-22T19:15:09.753Z"
   },
   {
    "duration": 5,
    "start_time": "2024-03-22T19:20:58.987Z"
   },
   {
    "duration": 18,
    "start_time": "2024-03-22T19:23:26.601Z"
   },
   {
    "duration": 17,
    "start_time": "2024-03-22T19:23:26.816Z"
   },
   {
    "duration": 16,
    "start_time": "2024-03-22T19:23:50.929Z"
   },
   {
    "duration": 1600,
    "start_time": "2024-03-22T19:25:59.390Z"
   },
   {
    "duration": 5,
    "start_time": "2024-03-22T19:26:28.737Z"
   },
   {
    "duration": 4,
    "start_time": "2024-03-22T19:27:09.262Z"
   },
   {
    "duration": 4,
    "start_time": "2024-03-22T19:27:09.506Z"
   },
   {
    "duration": 7,
    "start_time": "2024-03-22T19:47:21.472Z"
   },
   {
    "duration": 4,
    "start_time": "2024-03-22T19:47:23.517Z"
   },
   {
    "duration": 4,
    "start_time": "2024-03-22T19:47:24.058Z"
   },
   {
    "duration": 5,
    "start_time": "2024-03-22T19:48:39.669Z"
   },
   {
    "duration": 3,
    "start_time": "2024-03-22T20:17:13.588Z"
   },
   {
    "duration": 4,
    "start_time": "2024-03-22T20:17:17.323Z"
   },
   {
    "duration": 1515,
    "start_time": "2024-03-22T20:20:10.415Z"
   },
   {
    "duration": 8,
    "start_time": "2024-03-22T20:31:18.470Z"
   },
   {
    "duration": 3,
    "start_time": "2024-03-22T20:31:53.177Z"
   },
   {
    "duration": 87,
    "start_time": "2024-03-22T20:31:59.951Z"
   },
   {
    "duration": 9,
    "start_time": "2024-03-22T20:35:29.235Z"
   },
   {
    "duration": 3,
    "start_time": "2024-03-22T20:35:49.501Z"
   },
   {
    "duration": 5,
    "start_time": "2024-03-22T20:35:54.099Z"
   },
   {
    "duration": 4,
    "start_time": "2024-03-22T20:38:11.780Z"
   },
   {
    "duration": 29,
    "start_time": "2024-03-22T20:38:17.136Z"
   },
   {
    "duration": 29,
    "start_time": "2024-03-22T20:38:18.100Z"
   },
   {
    "duration": 26,
    "start_time": "2024-03-22T20:38:18.714Z"
   },
   {
    "duration": 8,
    "start_time": "2024-03-22T20:38:25.706Z"
   },
   {
    "duration": 10,
    "start_time": "2024-03-22T20:38:26.048Z"
   },
   {
    "duration": 4,
    "start_time": "2024-03-22T20:38:27.025Z"
   },
   {
    "duration": 6,
    "start_time": "2024-03-22T20:40:40.555Z"
   },
   {
    "duration": 3,
    "start_time": "2024-03-22T20:40:41.447Z"
   },
   {
    "duration": 10,
    "start_time": "2024-03-22T20:40:41.996Z"
   },
   {
    "duration": 3,
    "start_time": "2024-03-22T20:40:42.749Z"
   },
   {
    "duration": 7,
    "start_time": "2024-03-22T20:42:33.871Z"
   },
   {
    "duration": 133,
    "start_time": "2024-03-22T20:42:34.169Z"
   },
   {
    "duration": 177,
    "start_time": "2024-03-22T20:56:04.485Z"
   },
   {
    "duration": 9,
    "start_time": "2024-03-22T21:14:19.371Z"
   },
   {
    "duration": 7,
    "start_time": "2024-03-22T21:14:34.353Z"
   },
   {
    "duration": 8,
    "start_time": "2024-03-22T21:14:52.678Z"
   },
   {
    "duration": 6,
    "start_time": "2024-03-22T21:15:11.529Z"
   },
   {
    "duration": 179,
    "start_time": "2024-03-22T21:15:28.492Z"
   },
   {
    "duration": 6,
    "start_time": "2024-03-22T21:16:28.188Z"
   },
   {
    "duration": 7,
    "start_time": "2024-03-22T21:28:37.274Z"
   },
   {
    "duration": 7,
    "start_time": "2024-03-22T21:28:37.636Z"
   },
   {
    "duration": 6,
    "start_time": "2024-03-22T21:28:37.832Z"
   },
   {
    "duration": 6,
    "start_time": "2024-03-22T21:28:38.012Z"
   },
   {
    "duration": 12,
    "start_time": "2024-03-22T21:29:21.447Z"
   },
   {
    "duration": 8,
    "start_time": "2024-03-22T21:29:32.962Z"
   },
   {
    "duration": 6,
    "start_time": "2024-03-22T21:34:59.312Z"
   },
   {
    "duration": 6,
    "start_time": "2024-03-22T21:35:06.883Z"
   },
   {
    "duration": 5,
    "start_time": "2024-03-22T21:35:19.022Z"
   },
   {
    "duration": 6,
    "start_time": "2024-03-22T21:35:25.150Z"
   },
   {
    "duration": 6,
    "start_time": "2024-03-22T21:35:27.862Z"
   },
   {
    "duration": 7,
    "start_time": "2024-03-22T21:36:21.518Z"
   },
   {
    "duration": 6,
    "start_time": "2024-03-22T21:36:22.296Z"
   },
   {
    "duration": 6,
    "start_time": "2024-03-22T21:39:31.188Z"
   },
   {
    "duration": 6,
    "start_time": "2024-03-22T21:39:33.857Z"
   },
   {
    "duration": 6,
    "start_time": "2024-03-22T21:39:34.671Z"
   },
   {
    "duration": 7,
    "start_time": "2024-03-22T21:40:31.431Z"
   },
   {
    "duration": 7,
    "start_time": "2024-03-22T21:40:31.803Z"
   },
   {
    "duration": 5,
    "start_time": "2024-03-22T21:40:32.023Z"
   },
   {
    "duration": 110,
    "start_time": "2024-03-22T21:40:32.199Z"
   },
   {
    "duration": 6,
    "start_time": "2024-03-22T21:40:40.445Z"
   },
   {
    "duration": 6,
    "start_time": "2024-03-22T21:54:26.763Z"
   },
   {
    "duration": 7,
    "start_time": "2024-03-22T21:54:40.200Z"
   },
   {
    "duration": 1159,
    "start_time": "2024-03-23T06:50:07.422Z"
   },
   {
    "duration": 31,
    "start_time": "2024-03-23T06:50:08.582Z"
   },
   {
    "duration": 29,
    "start_time": "2024-03-23T06:50:08.614Z"
   },
   {
    "duration": 15,
    "start_time": "2024-03-23T06:50:08.645Z"
   },
   {
    "duration": 11,
    "start_time": "2024-03-23T06:50:08.662Z"
   },
   {
    "duration": 11,
    "start_time": "2024-03-23T06:50:08.674Z"
   },
   {
    "duration": 12,
    "start_time": "2024-03-23T06:50:08.686Z"
   },
   {
    "duration": 10,
    "start_time": "2024-03-23T06:50:08.699Z"
   },
   {
    "duration": 12,
    "start_time": "2024-03-23T06:50:08.710Z"
   },
   {
    "duration": 4,
    "start_time": "2024-03-23T06:50:08.724Z"
   },
   {
    "duration": 8,
    "start_time": "2024-03-23T06:50:08.730Z"
   },
   {
    "duration": 12,
    "start_time": "2024-03-23T06:50:08.739Z"
   },
   {
    "duration": 6,
    "start_time": "2024-03-23T06:50:08.752Z"
   },
   {
    "duration": 7,
    "start_time": "2024-03-23T06:50:08.781Z"
   },
   {
    "duration": 12,
    "start_time": "2024-03-23T06:50:08.789Z"
   },
   {
    "duration": 9,
    "start_time": "2024-03-23T06:50:08.802Z"
   },
   {
    "duration": 5,
    "start_time": "2024-03-23T06:50:08.812Z"
   },
   {
    "duration": 22,
    "start_time": "2024-03-23T06:50:08.818Z"
   },
   {
    "duration": 9,
    "start_time": "2024-03-23T06:50:08.841Z"
   },
   {
    "duration": 31,
    "start_time": "2024-03-23T06:50:08.851Z"
   },
   {
    "duration": 4,
    "start_time": "2024-03-23T06:50:08.883Z"
   },
   {
    "duration": 11,
    "start_time": "2024-03-23T06:50:08.888Z"
   },
   {
    "duration": 3,
    "start_time": "2024-03-23T06:50:08.901Z"
   },
   {
    "duration": 8,
    "start_time": "2024-03-23T06:50:08.905Z"
   },
   {
    "duration": 6,
    "start_time": "2024-03-23T06:50:08.914Z"
   },
   {
    "duration": 180,
    "start_time": "2024-03-23T06:50:08.922Z"
   },
   {
    "duration": 5,
    "start_time": "2024-03-23T06:50:09.104Z"
   },
   {
    "duration": 138,
    "start_time": "2024-03-23T06:50:09.115Z"
   },
   {
    "duration": 180,
    "start_time": "2024-03-23T06:50:09.255Z"
   },
   {
    "duration": 8,
    "start_time": "2024-03-23T06:50:09.437Z"
   },
   {
    "duration": 15,
    "start_time": "2024-03-23T06:50:09.447Z"
   },
   {
    "duration": 20,
    "start_time": "2024-03-23T06:50:09.464Z"
   },
   {
    "duration": 214,
    "start_time": "2024-03-23T06:50:09.486Z"
   },
   {
    "duration": 10,
    "start_time": "2024-03-23T06:50:09.702Z"
   },
   {
    "duration": 9,
    "start_time": "2024-03-23T06:50:09.713Z"
   },
   {
    "duration": 8,
    "start_time": "2024-03-23T06:50:09.723Z"
   },
   {
    "duration": 279,
    "start_time": "2024-03-23T06:50:09.733Z"
   },
   {
    "duration": 10,
    "start_time": "2024-03-23T06:50:10.014Z"
   },
   {
    "duration": 23,
    "start_time": "2024-03-23T06:50:10.026Z"
   },
   {
    "duration": 9,
    "start_time": "2024-03-23T06:50:10.051Z"
   },
   {
    "duration": 19,
    "start_time": "2024-03-23T06:50:10.061Z"
   },
   {
    "duration": 197,
    "start_time": "2024-03-23T06:50:10.082Z"
   },
   {
    "duration": 8,
    "start_time": "2024-03-23T06:50:10.281Z"
   },
   {
    "duration": 37,
    "start_time": "2024-03-23T06:50:10.290Z"
   },
   {
    "duration": 6,
    "start_time": "2024-03-23T06:50:10.329Z"
   },
   {
    "duration": 244,
    "start_time": "2024-03-23T06:50:10.337Z"
   },
   {
    "duration": 7,
    "start_time": "2024-03-23T06:50:10.582Z"
   },
   {
    "duration": 6,
    "start_time": "2024-03-23T06:50:10.590Z"
   },
   {
    "duration": 7,
    "start_time": "2024-03-23T06:50:10.597Z"
   },
   {
    "duration": 16,
    "start_time": "2024-03-23T06:50:10.606Z"
   },
   {
    "duration": 6,
    "start_time": "2024-03-23T06:50:10.623Z"
   },
   {
    "duration": 10,
    "start_time": "2024-03-23T06:50:10.630Z"
   },
   {
    "duration": 10,
    "start_time": "2024-03-23T06:50:10.642Z"
   },
   {
    "duration": 60,
    "start_time": "2024-03-23T06:50:10.654Z"
   },
   {
    "duration": 110,
    "start_time": "2024-03-23T06:50:10.715Z"
   },
   {
    "duration": 4,
    "start_time": "2024-03-23T06:50:10.827Z"
   },
   {
    "duration": 23,
    "start_time": "2024-03-23T06:50:10.833Z"
   },
   {
    "duration": 32,
    "start_time": "2024-03-23T06:50:10.857Z"
   },
   {
    "duration": 3,
    "start_time": "2024-03-23T06:50:10.891Z"
   },
   {
    "duration": 9,
    "start_time": "2024-03-23T06:50:10.895Z"
   },
   {
    "duration": 14,
    "start_time": "2024-03-23T06:50:10.905Z"
   },
   {
    "duration": 5,
    "start_time": "2024-03-23T06:50:10.921Z"
   },
   {
    "duration": 15,
    "start_time": "2024-03-23T06:50:10.927Z"
   },
   {
    "duration": 52,
    "start_time": "2024-03-23T06:50:10.943Z"
   },
   {
    "duration": 12,
    "start_time": "2024-03-23T06:50:10.996Z"
   },
   {
    "duration": 196,
    "start_time": "2024-03-23T06:50:11.010Z"
   },
   {
    "duration": 192,
    "start_time": "2024-03-23T06:50:11.207Z"
   },
   {
    "duration": 4,
    "start_time": "2024-03-23T06:50:11.400Z"
   },
   {
    "duration": 6,
    "start_time": "2024-03-23T06:50:11.406Z"
   },
   {
    "duration": 32,
    "start_time": "2024-03-23T06:50:11.414Z"
   },
   {
    "duration": 5,
    "start_time": "2024-03-23T06:50:11.448Z"
   },
   {
    "duration": 20,
    "start_time": "2024-03-23T06:50:11.482Z"
   },
   {
    "duration": 17,
    "start_time": "2024-03-23T06:50:11.503Z"
   },
   {
    "duration": 16,
    "start_time": "2024-03-23T06:50:11.522Z"
   },
   {
    "duration": 42,
    "start_time": "2024-03-23T06:50:11.540Z"
   },
   {
    "duration": 5,
    "start_time": "2024-03-23T06:50:11.584Z"
   },
   {
    "duration": 6,
    "start_time": "2024-03-23T06:50:11.591Z"
   },
   {
    "duration": 5,
    "start_time": "2024-03-23T06:50:11.598Z"
   },
   {
    "duration": 7,
    "start_time": "2024-03-23T06:50:11.604Z"
   },
   {
    "duration": 23,
    "start_time": "2024-03-23T06:50:11.612Z"
   },
   {
    "duration": 53,
    "start_time": "2024-03-23T06:50:11.637Z"
   },
   {
    "duration": 5,
    "start_time": "2024-03-23T06:50:11.696Z"
   },
   {
    "duration": 4,
    "start_time": "2024-03-23T06:50:11.702Z"
   },
   {
    "duration": 4,
    "start_time": "2024-03-23T06:50:11.708Z"
   },
   {
    "duration": 1448,
    "start_time": "2024-03-23T06:50:11.714Z"
   },
   {
    "duration": 147,
    "start_time": "2024-03-23T06:50:13.163Z"
   },
   {
    "duration": 6,
    "start_time": "2024-03-23T06:50:13.312Z"
   },
   {
    "duration": 7,
    "start_time": "2024-03-23T06:58:25.936Z"
   },
   {
    "duration": 7,
    "start_time": "2024-03-23T06:58:26.110Z"
   },
   {
    "duration": 6,
    "start_time": "2024-03-23T06:58:26.294Z"
   },
   {
    "duration": 6,
    "start_time": "2024-03-23T06:58:26.518Z"
   },
   {
    "duration": 10,
    "start_time": "2024-03-23T07:03:34.816Z"
   },
   {
    "duration": 1212,
    "start_time": "2024-03-23T07:06:01.954Z"
   },
   {
    "duration": 28,
    "start_time": "2024-03-23T07:06:03.168Z"
   },
   {
    "duration": 28,
    "start_time": "2024-03-23T07:06:03.198Z"
   },
   {
    "duration": 15,
    "start_time": "2024-03-23T07:06:03.228Z"
   },
   {
    "duration": 10,
    "start_time": "2024-03-23T07:06:03.244Z"
   },
   {
    "duration": 36,
    "start_time": "2024-03-23T07:06:03.256Z"
   },
   {
    "duration": 35,
    "start_time": "2024-03-23T07:06:03.294Z"
   },
   {
    "duration": 27,
    "start_time": "2024-03-23T07:06:03.330Z"
   },
   {
    "duration": 30,
    "start_time": "2024-03-23T07:06:03.358Z"
   },
   {
    "duration": 40,
    "start_time": "2024-03-23T07:06:03.390Z"
   },
   {
    "duration": 42,
    "start_time": "2024-03-23T07:06:03.431Z"
   },
   {
    "duration": 17,
    "start_time": "2024-03-23T07:06:03.475Z"
   },
   {
    "duration": 23,
    "start_time": "2024-03-23T07:06:03.494Z"
   },
   {
    "duration": 33,
    "start_time": "2024-03-23T07:06:03.519Z"
   },
   {
    "duration": 43,
    "start_time": "2024-03-23T07:06:03.553Z"
   },
   {
    "duration": 17,
    "start_time": "2024-03-23T07:06:03.597Z"
   },
   {
    "duration": 34,
    "start_time": "2024-03-23T07:06:03.616Z"
   },
   {
    "duration": 27,
    "start_time": "2024-03-23T07:06:03.651Z"
   },
   {
    "duration": 26,
    "start_time": "2024-03-23T07:06:03.680Z"
   },
   {
    "duration": 19,
    "start_time": "2024-03-23T07:06:03.708Z"
   },
   {
    "duration": 10,
    "start_time": "2024-03-23T07:06:03.729Z"
   },
   {
    "duration": 20,
    "start_time": "2024-03-23T07:06:03.741Z"
   },
   {
    "duration": 5,
    "start_time": "2024-03-23T07:06:03.762Z"
   },
   {
    "duration": 16,
    "start_time": "2024-03-23T07:06:03.768Z"
   },
   {
    "duration": 19,
    "start_time": "2024-03-23T07:06:03.786Z"
   },
   {
    "duration": 158,
    "start_time": "2024-03-23T07:06:03.807Z"
   },
   {
    "duration": 15,
    "start_time": "2024-03-23T07:06:03.967Z"
   },
   {
    "duration": 136,
    "start_time": "2024-03-23T07:06:03.986Z"
   },
   {
    "duration": 188,
    "start_time": "2024-03-23T07:06:04.124Z"
   },
   {
    "duration": 8,
    "start_time": "2024-03-23T07:06:04.313Z"
   },
   {
    "duration": 14,
    "start_time": "2024-03-23T07:06:04.322Z"
   },
   {
    "duration": 7,
    "start_time": "2024-03-23T07:06:04.338Z"
   },
   {
    "duration": 208,
    "start_time": "2024-03-23T07:06:04.346Z"
   },
   {
    "duration": 7,
    "start_time": "2024-03-23T07:06:04.556Z"
   },
   {
    "duration": 18,
    "start_time": "2024-03-23T07:06:04.565Z"
   },
   {
    "duration": 6,
    "start_time": "2024-03-23T07:06:04.584Z"
   },
   {
    "duration": 247,
    "start_time": "2024-03-23T07:06:04.592Z"
   },
   {
    "duration": 8,
    "start_time": "2024-03-23T07:06:04.840Z"
   },
   {
    "duration": 7,
    "start_time": "2024-03-23T07:06:04.850Z"
   },
   {
    "duration": 24,
    "start_time": "2024-03-23T07:06:04.858Z"
   },
   {
    "duration": 5,
    "start_time": "2024-03-23T07:06:04.883Z"
   },
   {
    "duration": 199,
    "start_time": "2024-03-23T07:06:04.889Z"
   },
   {
    "duration": 8,
    "start_time": "2024-03-23T07:06:05.089Z"
   },
   {
    "duration": 14,
    "start_time": "2024-03-23T07:06:05.099Z"
   },
   {
    "duration": 7,
    "start_time": "2024-03-23T07:06:05.114Z"
   },
   {
    "duration": 269,
    "start_time": "2024-03-23T07:06:05.122Z"
   },
   {
    "duration": 6,
    "start_time": "2024-03-23T07:06:05.392Z"
   },
   {
    "duration": 32,
    "start_time": "2024-03-23T07:06:05.400Z"
   },
   {
    "duration": 25,
    "start_time": "2024-03-23T07:06:05.434Z"
   },
   {
    "duration": 7,
    "start_time": "2024-03-23T07:06:05.461Z"
   },
   {
    "duration": 6,
    "start_time": "2024-03-23T07:06:05.469Z"
   },
   {
    "duration": 13,
    "start_time": "2024-03-23T07:06:05.476Z"
   },
   {
    "duration": 15,
    "start_time": "2024-03-23T07:06:05.491Z"
   },
   {
    "duration": 34,
    "start_time": "2024-03-23T07:06:05.507Z"
   },
   {
    "duration": 103,
    "start_time": "2024-03-23T07:06:05.543Z"
   },
   {
    "duration": 4,
    "start_time": "2024-03-23T07:06:05.648Z"
   },
   {
    "duration": 33,
    "start_time": "2024-03-23T07:06:05.653Z"
   },
   {
    "duration": 15,
    "start_time": "2024-03-23T07:06:05.687Z"
   },
   {
    "duration": 4,
    "start_time": "2024-03-23T07:06:05.703Z"
   },
   {
    "duration": 11,
    "start_time": "2024-03-23T07:06:05.708Z"
   },
   {
    "duration": 38,
    "start_time": "2024-03-23T07:06:05.720Z"
   },
   {
    "duration": 6,
    "start_time": "2024-03-23T07:06:05.760Z"
   },
   {
    "duration": 13,
    "start_time": "2024-03-23T07:06:05.768Z"
   },
   {
    "duration": 38,
    "start_time": "2024-03-23T07:06:05.782Z"
   },
   {
    "duration": 12,
    "start_time": "2024-03-23T07:06:05.821Z"
   },
   {
    "duration": 185,
    "start_time": "2024-03-23T07:06:05.834Z"
   },
   {
    "duration": 195,
    "start_time": "2024-03-23T07:06:06.020Z"
   },
   {
    "duration": 5,
    "start_time": "2024-03-23T07:06:06.217Z"
   },
   {
    "duration": 13,
    "start_time": "2024-03-23T07:06:06.224Z"
   },
   {
    "duration": 50,
    "start_time": "2024-03-23T07:06:06.239Z"
   },
   {
    "duration": 5,
    "start_time": "2024-03-23T07:06:06.290Z"
   },
   {
    "duration": 18,
    "start_time": "2024-03-23T07:06:06.296Z"
   },
   {
    "duration": 17,
    "start_time": "2024-03-23T07:06:06.316Z"
   },
   {
    "duration": 16,
    "start_time": "2024-03-23T07:06:06.334Z"
   },
   {
    "duration": 33,
    "start_time": "2024-03-23T07:06:06.352Z"
   },
   {
    "duration": 20,
    "start_time": "2024-03-23T07:06:06.387Z"
   },
   {
    "duration": 14,
    "start_time": "2024-03-23T07:06:06.408Z"
   },
   {
    "duration": 12,
    "start_time": "2024-03-23T07:06:06.423Z"
   },
   {
    "duration": 15,
    "start_time": "2024-03-23T07:06:06.437Z"
   },
   {
    "duration": 19,
    "start_time": "2024-03-23T07:06:06.454Z"
   },
   {
    "duration": 17,
    "start_time": "2024-03-23T07:06:06.475Z"
   },
   {
    "duration": 10,
    "start_time": "2024-03-23T07:06:06.497Z"
   },
   {
    "duration": 6,
    "start_time": "2024-03-23T07:06:06.509Z"
   },
   {
    "duration": 5,
    "start_time": "2024-03-23T07:06:06.516Z"
   },
   {
    "duration": 1458,
    "start_time": "2024-03-23T07:06:06.523Z"
   },
   {
    "duration": 81,
    "start_time": "2024-03-23T07:06:07.983Z"
   },
   {
    "duration": 18,
    "start_time": "2024-03-23T07:06:08.066Z"
   },
   {
    "duration": 12,
    "start_time": "2024-03-23T07:22:26.979Z"
   },
   {
    "duration": 169,
    "start_time": "2024-03-23T07:28:11.927Z"
   },
   {
    "duration": 38,
    "start_time": "2024-03-23T07:42:04.568Z"
   },
   {
    "duration": 107,
    "start_time": "2024-03-23T07:42:05.420Z"
   },
   {
    "duration": 16,
    "start_time": "2024-03-23T07:42:15.494Z"
   },
   {
    "duration": 35,
    "start_time": "2024-03-23T07:42:28.170Z"
   },
   {
    "duration": 10,
    "start_time": "2024-03-23T08:14:06.712Z"
   },
   {
    "duration": 4,
    "start_time": "2024-03-23T08:14:21.529Z"
   },
   {
    "duration": 10,
    "start_time": "2024-03-23T08:14:30.754Z"
   },
   {
    "duration": 15,
    "start_time": "2024-03-23T08:22:23.467Z"
   },
   {
    "duration": 13,
    "start_time": "2024-03-23T08:26:09.647Z"
   },
   {
    "duration": 674,
    "start_time": "2024-03-23T08:26:52.364Z"
   },
   {
    "duration": 348,
    "start_time": "2024-03-23T08:29:38.371Z"
   },
   {
    "duration": 220,
    "start_time": "2024-03-23T08:30:08.778Z"
   },
   {
    "duration": 348,
    "start_time": "2024-03-23T08:34:04.251Z"
   },
   {
    "duration": 583,
    "start_time": "2024-03-23T08:34:46.741Z"
   },
   {
    "duration": 156,
    "start_time": "2024-03-23T08:37:03.240Z"
   },
   {
    "duration": 907,
    "start_time": "2024-03-23T08:39:47.274Z"
   },
   {
    "duration": 249,
    "start_time": "2024-03-23T08:43:55.287Z"
   },
   {
    "duration": 190,
    "start_time": "2024-03-23T09:08:29.991Z"
   },
   {
    "duration": 205,
    "start_time": "2024-03-23T09:08:31.379Z"
   },
   {
    "duration": 248,
    "start_time": "2024-03-23T09:09:52.646Z"
   },
   {
    "duration": 265,
    "start_time": "2024-03-23T09:10:00.694Z"
   },
   {
    "duration": 272,
    "start_time": "2024-03-23T09:10:30.201Z"
   },
   {
    "duration": 246,
    "start_time": "2024-03-23T09:10:35.661Z"
   },
   {
    "duration": 10,
    "start_time": "2024-03-23T09:12:06.369Z"
   },
   {
    "duration": 278,
    "start_time": "2024-03-23T09:12:18.979Z"
   },
   {
    "duration": 258,
    "start_time": "2024-03-23T09:12:33.267Z"
   },
   {
    "duration": 5,
    "start_time": "2024-03-23T09:14:40.767Z"
   },
   {
    "duration": 178,
    "start_time": "2024-03-23T09:23:08.395Z"
   },
   {
    "duration": 128,
    "start_time": "2024-03-23T09:23:09.348Z"
   },
   {
    "duration": 234,
    "start_time": "2024-03-23T09:26:02.387Z"
   },
   {
    "duration": 33,
    "start_time": "2024-03-23T09:46:34.475Z"
   },
   {
    "duration": 20,
    "start_time": "2024-03-23T09:59:21.031Z"
   },
   {
    "duration": 16,
    "start_time": "2024-03-23T10:02:15.863Z"
   },
   {
    "duration": 19,
    "start_time": "2024-03-23T10:03:31.912Z"
   },
   {
    "duration": 1144,
    "start_time": "2024-03-23T10:03:58.194Z"
   },
   {
    "duration": 31,
    "start_time": "2024-03-23T10:03:59.339Z"
   },
   {
    "duration": 29,
    "start_time": "2024-03-23T10:03:59.371Z"
   },
   {
    "duration": 15,
    "start_time": "2024-03-23T10:03:59.402Z"
   },
   {
    "duration": 24,
    "start_time": "2024-03-23T10:03:59.418Z"
   },
   {
    "duration": 32,
    "start_time": "2024-03-23T10:03:59.443Z"
   },
   {
    "duration": 20,
    "start_time": "2024-03-23T10:03:59.476Z"
   },
   {
    "duration": 25,
    "start_time": "2024-03-23T10:03:59.498Z"
   },
   {
    "duration": 26,
    "start_time": "2024-03-23T10:03:59.525Z"
   },
   {
    "duration": 4,
    "start_time": "2024-03-23T10:03:59.554Z"
   },
   {
    "duration": 24,
    "start_time": "2024-03-23T10:03:59.560Z"
   },
   {
    "duration": 12,
    "start_time": "2024-03-23T10:03:59.587Z"
   },
   {
    "duration": 18,
    "start_time": "2024-03-23T10:03:59.600Z"
   },
   {
    "duration": 7,
    "start_time": "2024-03-23T10:03:59.620Z"
   },
   {
    "duration": 16,
    "start_time": "2024-03-23T10:03:59.628Z"
   },
   {
    "duration": 10,
    "start_time": "2024-03-23T10:03:59.645Z"
   },
   {
    "duration": 8,
    "start_time": "2024-03-23T10:03:59.657Z"
   },
   {
    "duration": 5,
    "start_time": "2024-03-23T10:03:59.681Z"
   },
   {
    "duration": 11,
    "start_time": "2024-03-23T10:03:59.687Z"
   },
   {
    "duration": 8,
    "start_time": "2024-03-23T10:03:59.699Z"
   },
   {
    "duration": 7,
    "start_time": "2024-03-23T10:03:59.708Z"
   },
   {
    "duration": 3,
    "start_time": "2024-03-23T10:03:59.716Z"
   },
   {
    "duration": 12,
    "start_time": "2024-03-23T10:03:59.721Z"
   },
   {
    "duration": 27,
    "start_time": "2024-03-23T10:03:59.735Z"
   },
   {
    "duration": 6,
    "start_time": "2024-03-23T10:03:59.763Z"
   },
   {
    "duration": 6,
    "start_time": "2024-03-23T10:03:59.781Z"
   },
   {
    "duration": 165,
    "start_time": "2024-03-23T10:03:59.788Z"
   },
   {
    "duration": 6,
    "start_time": "2024-03-23T10:03:59.958Z"
   },
   {
    "duration": 143,
    "start_time": "2024-03-23T10:03:59.965Z"
   },
   {
    "duration": 183,
    "start_time": "2024-03-23T10:04:00.110Z"
   },
   {
    "duration": 9,
    "start_time": "2024-03-23T10:04:00.295Z"
   },
   {
    "duration": 71,
    "start_time": "2024-03-23T10:04:00.305Z"
   },
   {
    "duration": 48,
    "start_time": "2024-03-23T10:04:00.378Z"
   },
   {
    "duration": 248,
    "start_time": "2024-03-23T10:04:00.427Z"
   },
   {
    "duration": 11,
    "start_time": "2024-03-23T10:04:00.676Z"
   },
   {
    "duration": 32,
    "start_time": "2024-03-23T10:04:00.689Z"
   },
   {
    "duration": 52,
    "start_time": "2024-03-23T10:04:00.722Z"
   },
   {
    "duration": 281,
    "start_time": "2024-03-23T10:04:00.776Z"
   },
   {
    "duration": 11,
    "start_time": "2024-03-23T10:04:01.059Z"
   },
   {
    "duration": 43,
    "start_time": "2024-03-23T10:04:01.082Z"
   },
   {
    "duration": 97,
    "start_time": "2024-03-23T10:04:01.126Z"
   },
   {
    "duration": 139,
    "start_time": "2024-03-23T10:04:01.225Z"
   },
   {
    "duration": 339,
    "start_time": "2024-03-23T10:04:01.365Z"
   },
   {
    "duration": 9,
    "start_time": "2024-03-23T10:04:01.705Z"
   },
   {
    "duration": 70,
    "start_time": "2024-03-23T10:04:01.716Z"
   },
   {
    "duration": 73,
    "start_time": "2024-03-23T10:04:01.787Z"
   },
   {
    "duration": 422,
    "start_time": "2024-03-23T10:04:01.861Z"
   },
   {
    "duration": 8,
    "start_time": "2024-03-23T10:04:02.284Z"
   },
   {
    "duration": 197,
    "start_time": "2024-03-23T10:04:02.293Z"
   },
   {
    "duration": 157,
    "start_time": "2024-03-23T10:04:02.491Z"
   },
   {
    "duration": 57,
    "start_time": "2024-03-23T10:04:02.650Z"
   },
   {
    "duration": 43,
    "start_time": "2024-03-23T10:04:02.709Z"
   },
   {
    "duration": 95,
    "start_time": "2024-03-23T10:04:02.754Z"
   },
   {
    "duration": 154,
    "start_time": "2024-03-23T10:04:02.851Z"
   },
   {
    "duration": 81,
    "start_time": "2024-03-23T10:04:03.007Z"
   },
   {
    "duration": 122,
    "start_time": "2024-03-23T10:04:03.090Z"
   },
   {
    "duration": 5,
    "start_time": "2024-03-23T10:04:03.214Z"
   },
   {
    "duration": 49,
    "start_time": "2024-03-23T10:04:03.220Z"
   },
   {
    "duration": 14,
    "start_time": "2024-03-23T10:04:03.271Z"
   },
   {
    "duration": 8,
    "start_time": "2024-03-23T10:04:03.287Z"
   },
   {
    "duration": 20,
    "start_time": "2024-03-23T10:04:03.297Z"
   },
   {
    "duration": 33,
    "start_time": "2024-03-23T10:04:03.318Z"
   },
   {
    "duration": 24,
    "start_time": "2024-03-23T10:04:03.353Z"
   },
   {
    "duration": 48,
    "start_time": "2024-03-23T10:04:03.378Z"
   },
   {
    "duration": 44,
    "start_time": "2024-03-23T10:04:03.427Z"
   },
   {
    "duration": 62,
    "start_time": "2024-03-23T10:04:03.473Z"
   },
   {
    "duration": 36,
    "start_time": "2024-03-23T10:04:03.537Z"
   },
   {
    "duration": 196,
    "start_time": "2024-03-23T10:04:03.575Z"
   },
   {
    "duration": 191,
    "start_time": "2024-03-23T10:04:03.773Z"
   },
   {
    "duration": 5,
    "start_time": "2024-03-23T10:04:03.965Z"
   },
   {
    "duration": 72,
    "start_time": "2024-03-23T10:04:03.971Z"
   },
   {
    "duration": 15,
    "start_time": "2024-03-23T10:04:04.045Z"
   },
   {
    "duration": 13,
    "start_time": "2024-03-23T10:04:04.061Z"
   },
   {
    "duration": 16,
    "start_time": "2024-03-23T10:04:04.076Z"
   },
   {
    "duration": 11,
    "start_time": "2024-03-23T10:04:04.093Z"
   },
   {
    "duration": 44,
    "start_time": "2024-03-23T10:04:04.106Z"
   },
   {
    "duration": 31,
    "start_time": "2024-03-23T10:04:04.152Z"
   },
   {
    "duration": 5,
    "start_time": "2024-03-23T10:04:04.185Z"
   },
   {
    "duration": 11,
    "start_time": "2024-03-23T10:04:04.191Z"
   },
   {
    "duration": 19,
    "start_time": "2024-03-23T10:04:04.204Z"
   },
   {
    "duration": 17,
    "start_time": "2024-03-23T10:04:04.224Z"
   },
   {
    "duration": 6,
    "start_time": "2024-03-23T10:04:04.246Z"
   },
   {
    "duration": 29,
    "start_time": "2024-03-23T10:04:04.253Z"
   },
   {
    "duration": 26,
    "start_time": "2024-03-23T10:04:04.283Z"
   },
   {
    "duration": 1519,
    "start_time": "2024-03-23T10:04:04.310Z"
   },
   {
    "duration": 109,
    "start_time": "2024-03-23T10:04:05.831Z"
   },
   {
    "duration": 6,
    "start_time": "2024-03-23T10:04:05.941Z"
   },
   {
    "duration": 11,
    "start_time": "2024-03-23T10:05:23.430Z"
   },
   {
    "duration": 13,
    "start_time": "2024-03-23T10:08:05.603Z"
   },
   {
    "duration": 104,
    "start_time": "2024-03-23T10:08:17.731Z"
   },
   {
    "duration": 1162,
    "start_time": "2024-03-23T10:11:24.781Z"
   },
   {
    "duration": 29,
    "start_time": "2024-03-23T10:11:25.945Z"
   },
   {
    "duration": 29,
    "start_time": "2024-03-23T10:11:25.976Z"
   },
   {
    "duration": 16,
    "start_time": "2024-03-23T10:11:26.007Z"
   },
   {
    "duration": 12,
    "start_time": "2024-03-23T10:11:26.025Z"
   },
   {
    "duration": 11,
    "start_time": "2024-03-23T10:11:26.039Z"
   },
   {
    "duration": 5,
    "start_time": "2024-03-23T10:11:26.052Z"
   },
   {
    "duration": 14,
    "start_time": "2024-03-23T10:11:26.058Z"
   },
   {
    "duration": 11,
    "start_time": "2024-03-23T10:11:26.073Z"
   },
   {
    "duration": 3,
    "start_time": "2024-03-23T10:11:26.086Z"
   },
   {
    "duration": 7,
    "start_time": "2024-03-23T10:11:26.090Z"
   },
   {
    "duration": 7,
    "start_time": "2024-03-23T10:11:26.098Z"
   },
   {
    "duration": 11,
    "start_time": "2024-03-23T10:11:26.106Z"
   },
   {
    "duration": 5,
    "start_time": "2024-03-23T10:11:26.118Z"
   },
   {
    "duration": 8,
    "start_time": "2024-03-23T10:11:26.124Z"
   },
   {
    "duration": 10,
    "start_time": "2024-03-23T10:11:26.134Z"
   },
   {
    "duration": 37,
    "start_time": "2024-03-23T10:11:26.145Z"
   },
   {
    "duration": 13,
    "start_time": "2024-03-23T10:11:26.183Z"
   },
   {
    "duration": 21,
    "start_time": "2024-03-23T10:11:26.197Z"
   },
   {
    "duration": 8,
    "start_time": "2024-03-23T10:11:26.220Z"
   },
   {
    "duration": 8,
    "start_time": "2024-03-23T10:11:26.229Z"
   },
   {
    "duration": 15,
    "start_time": "2024-03-23T10:11:26.238Z"
   },
   {
    "duration": 9,
    "start_time": "2024-03-23T10:11:26.255Z"
   },
   {
    "duration": 3,
    "start_time": "2024-03-23T10:11:26.265Z"
   },
   {
    "duration": 6,
    "start_time": "2024-03-23T10:11:26.269Z"
   },
   {
    "duration": 6,
    "start_time": "2024-03-23T10:11:26.281Z"
   },
   {
    "duration": 159,
    "start_time": "2024-03-23T10:11:26.288Z"
   },
   {
    "duration": 6,
    "start_time": "2024-03-23T10:11:26.451Z"
   },
   {
    "duration": 139,
    "start_time": "2024-03-23T10:11:26.458Z"
   },
   {
    "duration": 175,
    "start_time": "2024-03-23T10:11:26.599Z"
   },
   {
    "duration": 11,
    "start_time": "2024-03-23T10:11:26.775Z"
   },
   {
    "duration": 13,
    "start_time": "2024-03-23T10:11:26.787Z"
   },
   {
    "duration": 8,
    "start_time": "2024-03-23T10:11:26.801Z"
   },
   {
    "duration": 205,
    "start_time": "2024-03-23T10:11:26.811Z"
   },
   {
    "duration": 8,
    "start_time": "2024-03-23T10:11:27.018Z"
   },
   {
    "duration": 7,
    "start_time": "2024-03-23T10:11:27.027Z"
   },
   {
    "duration": 8,
    "start_time": "2024-03-23T10:11:27.036Z"
   },
   {
    "duration": 260,
    "start_time": "2024-03-23T10:11:27.045Z"
   },
   {
    "duration": 8,
    "start_time": "2024-03-23T10:11:27.307Z"
   },
   {
    "duration": 19,
    "start_time": "2024-03-23T10:11:27.317Z"
   },
   {
    "duration": 14,
    "start_time": "2024-03-23T10:11:27.338Z"
   },
   {
    "duration": 12,
    "start_time": "2024-03-23T10:11:27.354Z"
   },
   {
    "duration": 200,
    "start_time": "2024-03-23T10:11:27.368Z"
   },
   {
    "duration": 13,
    "start_time": "2024-03-23T10:11:27.570Z"
   },
   {
    "duration": 7,
    "start_time": "2024-03-23T10:11:27.585Z"
   },
   {
    "duration": 10,
    "start_time": "2024-03-23T10:11:27.593Z"
   },
   {
    "duration": 270,
    "start_time": "2024-03-23T10:11:27.604Z"
   },
   {
    "duration": 7,
    "start_time": "2024-03-23T10:11:27.880Z"
   },
   {
    "duration": 6,
    "start_time": "2024-03-23T10:11:27.889Z"
   },
   {
    "duration": 4,
    "start_time": "2024-03-23T10:11:27.897Z"
   },
   {
    "duration": 5,
    "start_time": "2024-03-23T10:11:27.902Z"
   },
   {
    "duration": 6,
    "start_time": "2024-03-23T10:11:27.908Z"
   },
   {
    "duration": 12,
    "start_time": "2024-03-23T10:11:27.916Z"
   },
   {
    "duration": 12,
    "start_time": "2024-03-23T10:11:27.930Z"
   },
   {
    "duration": 67,
    "start_time": "2024-03-23T10:11:27.944Z"
   },
   {
    "duration": 102,
    "start_time": "2024-03-23T10:11:28.013Z"
   },
   {
    "duration": 5,
    "start_time": "2024-03-23T10:11:28.117Z"
   },
   {
    "duration": 25,
    "start_time": "2024-03-23T10:11:28.123Z"
   },
   {
    "duration": 32,
    "start_time": "2024-03-23T10:11:28.149Z"
   },
   {
    "duration": 3,
    "start_time": "2024-03-23T10:11:28.183Z"
   },
   {
    "duration": 8,
    "start_time": "2024-03-23T10:11:28.188Z"
   },
   {
    "duration": 14,
    "start_time": "2024-03-23T10:11:28.198Z"
   },
   {
    "duration": 9,
    "start_time": "2024-03-23T10:11:28.214Z"
   },
   {
    "duration": 17,
    "start_time": "2024-03-23T10:11:28.225Z"
   },
   {
    "duration": 14,
    "start_time": "2024-03-23T10:11:28.243Z"
   },
   {
    "duration": 48,
    "start_time": "2024-03-23T10:11:28.258Z"
   },
   {
    "duration": 36,
    "start_time": "2024-03-23T10:11:28.307Z"
   },
   {
    "duration": 186,
    "start_time": "2024-03-23T10:11:28.345Z"
   },
   {
    "duration": 189,
    "start_time": "2024-03-23T10:11:28.532Z"
   },
   {
    "duration": 5,
    "start_time": "2024-03-23T10:11:28.723Z"
   },
   {
    "duration": 33,
    "start_time": "2024-03-23T10:11:28.729Z"
   },
   {
    "duration": 31,
    "start_time": "2024-03-23T10:11:28.763Z"
   },
   {
    "duration": 13,
    "start_time": "2024-03-23T10:11:28.796Z"
   },
   {
    "duration": 12,
    "start_time": "2024-03-23T10:11:28.810Z"
   },
   {
    "duration": 11,
    "start_time": "2024-03-23T10:11:28.824Z"
   },
   {
    "duration": 5,
    "start_time": "2024-03-23T10:11:28.836Z"
   },
   {
    "duration": 39,
    "start_time": "2024-03-23T10:11:28.843Z"
   },
   {
    "duration": 4,
    "start_time": "2024-03-23T10:11:28.884Z"
   },
   {
    "duration": 21,
    "start_time": "2024-03-23T10:11:28.890Z"
   },
   {
    "duration": 4,
    "start_time": "2024-03-23T10:11:28.913Z"
   },
   {
    "duration": 126,
    "start_time": "2024-03-23T10:11:28.918Z"
   },
   {
    "duration": 0,
    "start_time": "2024-03-23T10:11:29.046Z"
   },
   {
    "duration": 0,
    "start_time": "2024-03-23T10:11:29.048Z"
   },
   {
    "duration": 0,
    "start_time": "2024-03-23T10:11:29.050Z"
   },
   {
    "duration": 0,
    "start_time": "2024-03-23T10:11:29.051Z"
   },
   {
    "duration": 0,
    "start_time": "2024-03-23T10:11:29.052Z"
   },
   {
    "duration": 0,
    "start_time": "2024-03-23T10:11:29.053Z"
   },
   {
    "duration": 0,
    "start_time": "2024-03-23T10:11:29.053Z"
   },
   {
    "duration": 6,
    "start_time": "2024-03-23T11:12:02.427Z"
   },
   {
    "duration": 5,
    "start_time": "2024-03-23T11:12:02.657Z"
   },
   {
    "duration": 4,
    "start_time": "2024-03-23T11:13:59.809Z"
   },
   {
    "duration": 5,
    "start_time": "2024-03-23T11:14:00.318Z"
   },
   {
    "duration": 33,
    "start_time": "2024-03-23T11:21:46.748Z"
   },
   {
    "duration": 85,
    "start_time": "2024-03-23T11:28:28.038Z"
   },
   {
    "duration": 28,
    "start_time": "2024-03-23T11:28:28.450Z"
   },
   {
    "duration": 27,
    "start_time": "2024-03-23T11:28:34.997Z"
   },
   {
    "duration": 1198,
    "start_time": "2024-03-23T11:28:55.732Z"
   },
   {
    "duration": 40,
    "start_time": "2024-03-23T11:28:56.932Z"
   },
   {
    "duration": 30,
    "start_time": "2024-03-23T11:28:56.974Z"
   },
   {
    "duration": 16,
    "start_time": "2024-03-23T11:28:57.007Z"
   },
   {
    "duration": 14,
    "start_time": "2024-03-23T11:28:57.025Z"
   },
   {
    "duration": 12,
    "start_time": "2024-03-23T11:28:57.041Z"
   },
   {
    "duration": 13,
    "start_time": "2024-03-23T11:28:57.055Z"
   },
   {
    "duration": 12,
    "start_time": "2024-03-23T11:28:57.070Z"
   },
   {
    "duration": 16,
    "start_time": "2024-03-23T11:28:57.083Z"
   },
   {
    "duration": 5,
    "start_time": "2024-03-23T11:28:57.103Z"
   },
   {
    "duration": 7,
    "start_time": "2024-03-23T11:28:57.110Z"
   },
   {
    "duration": 8,
    "start_time": "2024-03-23T11:28:57.119Z"
   },
   {
    "duration": 13,
    "start_time": "2024-03-23T11:28:57.128Z"
   },
   {
    "duration": 43,
    "start_time": "2024-03-23T11:28:57.143Z"
   },
   {
    "duration": 11,
    "start_time": "2024-03-23T11:28:57.188Z"
   },
   {
    "duration": 11,
    "start_time": "2024-03-23T11:28:57.201Z"
   },
   {
    "duration": 9,
    "start_time": "2024-03-23T11:28:57.213Z"
   },
   {
    "duration": 6,
    "start_time": "2024-03-23T11:28:57.224Z"
   },
   {
    "duration": 12,
    "start_time": "2024-03-23T11:28:57.231Z"
   },
   {
    "duration": 42,
    "start_time": "2024-03-23T11:28:57.245Z"
   },
   {
    "duration": 19,
    "start_time": "2024-03-23T11:28:57.288Z"
   },
   {
    "duration": 4,
    "start_time": "2024-03-23T11:28:57.309Z"
   },
   {
    "duration": 10,
    "start_time": "2024-03-23T11:28:57.314Z"
   },
   {
    "duration": 3,
    "start_time": "2024-03-23T11:28:57.326Z"
   },
   {
    "duration": 6,
    "start_time": "2024-03-23T11:28:57.330Z"
   },
   {
    "duration": 14,
    "start_time": "2024-03-23T11:28:57.338Z"
   },
   {
    "duration": 183,
    "start_time": "2024-03-23T11:28:57.354Z"
   },
   {
    "duration": 6,
    "start_time": "2024-03-23T11:28:57.541Z"
   },
   {
    "duration": 140,
    "start_time": "2024-03-23T11:28:57.549Z"
   },
   {
    "duration": 184,
    "start_time": "2024-03-23T11:28:57.691Z"
   },
   {
    "duration": 9,
    "start_time": "2024-03-23T11:28:57.877Z"
   },
   {
    "duration": 49,
    "start_time": "2024-03-23T11:28:57.888Z"
   },
   {
    "duration": 16,
    "start_time": "2024-03-23T11:28:57.939Z"
   },
   {
    "duration": 227,
    "start_time": "2024-03-23T11:28:57.956Z"
   },
   {
    "duration": 9,
    "start_time": "2024-03-23T11:28:58.185Z"
   },
   {
    "duration": 42,
    "start_time": "2024-03-23T11:28:58.195Z"
   },
   {
    "duration": 33,
    "start_time": "2024-03-23T11:28:58.240Z"
   },
   {
    "duration": 264,
    "start_time": "2024-03-23T11:28:58.275Z"
   },
   {
    "duration": 9,
    "start_time": "2024-03-23T11:28:58.541Z"
   },
   {
    "duration": 7,
    "start_time": "2024-03-23T11:28:58.551Z"
   },
   {
    "duration": 25,
    "start_time": "2024-03-23T11:28:58.560Z"
   },
   {
    "duration": 8,
    "start_time": "2024-03-23T11:28:58.586Z"
   },
   {
    "duration": 213,
    "start_time": "2024-03-23T11:28:58.595Z"
   },
   {
    "duration": 10,
    "start_time": "2024-03-23T11:28:58.810Z"
   },
   {
    "duration": 7,
    "start_time": "2024-03-23T11:28:58.821Z"
   },
   {
    "duration": 7,
    "start_time": "2024-03-23T11:28:58.830Z"
   },
   {
    "duration": 279,
    "start_time": "2024-03-23T11:28:58.839Z"
   },
   {
    "duration": 8,
    "start_time": "2024-03-23T11:28:59.120Z"
   },
   {
    "duration": 13,
    "start_time": "2024-03-23T11:28:59.130Z"
   },
   {
    "duration": 6,
    "start_time": "2024-03-23T11:28:59.145Z"
   },
   {
    "duration": 9,
    "start_time": "2024-03-23T11:28:59.152Z"
   },
   {
    "duration": 20,
    "start_time": "2024-03-23T11:28:59.163Z"
   },
   {
    "duration": 46,
    "start_time": "2024-03-23T11:28:59.185Z"
   },
   {
    "duration": 14,
    "start_time": "2024-03-23T11:28:59.232Z"
   },
   {
    "duration": 147,
    "start_time": "2024-03-23T11:28:59.248Z"
   },
   {
    "duration": 15,
    "start_time": "2024-03-23T11:28:59.397Z"
   },
   {
    "duration": 5,
    "start_time": "2024-03-23T11:28:59.413Z"
   },
   {
    "duration": 20,
    "start_time": "2024-03-23T11:28:59.419Z"
   },
   {
    "duration": 42,
    "start_time": "2024-03-23T11:28:59.441Z"
   },
   {
    "duration": 4,
    "start_time": "2024-03-23T11:28:59.484Z"
   },
   {
    "duration": 10,
    "start_time": "2024-03-23T11:28:59.490Z"
   },
   {
    "duration": 21,
    "start_time": "2024-03-23T11:28:59.501Z"
   },
   {
    "duration": 10,
    "start_time": "2024-03-23T11:28:59.524Z"
   },
   {
    "duration": 15,
    "start_time": "2024-03-23T11:28:59.535Z"
   },
   {
    "duration": 12,
    "start_time": "2024-03-23T11:28:59.551Z"
   },
   {
    "duration": 55,
    "start_time": "2024-03-23T11:28:59.566Z"
   },
   {
    "duration": 36,
    "start_time": "2024-03-23T11:28:59.622Z"
   },
   {
    "duration": 184,
    "start_time": "2024-03-23T11:28:59.659Z"
   },
   {
    "duration": 206,
    "start_time": "2024-03-23T11:28:59.844Z"
   },
   {
    "duration": 5,
    "start_time": "2024-03-23T11:29:00.051Z"
   },
   {
    "duration": 71,
    "start_time": "2024-03-23T11:29:00.058Z"
   },
   {
    "duration": 17,
    "start_time": "2024-03-23T11:29:00.131Z"
   },
   {
    "duration": 17,
    "start_time": "2024-03-23T11:29:00.150Z"
   },
   {
    "duration": 69,
    "start_time": "2024-03-23T11:29:00.169Z"
   },
   {
    "duration": 41,
    "start_time": "2024-03-23T11:29:00.240Z"
   },
   {
    "duration": 47,
    "start_time": "2024-03-23T11:29:00.283Z"
   },
   {
    "duration": 75,
    "start_time": "2024-03-23T11:29:00.332Z"
   },
   {
    "duration": 41,
    "start_time": "2024-03-23T11:29:00.409Z"
   },
   {
    "duration": 79,
    "start_time": "2024-03-23T11:29:00.452Z"
   },
   {
    "duration": 73,
    "start_time": "2024-03-23T11:29:00.532Z"
   },
   {
    "duration": 53,
    "start_time": "2024-03-23T11:29:00.607Z"
   },
   {
    "duration": 48,
    "start_time": "2024-03-23T11:29:00.666Z"
   },
   {
    "duration": 158,
    "start_time": "2024-03-23T11:29:00.716Z"
   },
   {
    "duration": 0,
    "start_time": "2024-03-23T11:29:00.876Z"
   },
   {
    "duration": 0,
    "start_time": "2024-03-23T11:29:00.882Z"
   },
   {
    "duration": 0,
    "start_time": "2024-03-23T11:29:00.883Z"
   },
   {
    "duration": 0,
    "start_time": "2024-03-23T11:29:00.883Z"
   },
   {
    "duration": 0,
    "start_time": "2024-03-23T11:29:00.884Z"
   },
   {
    "duration": 1,
    "start_time": "2024-03-23T11:29:00.885Z"
   },
   {
    "duration": 0,
    "start_time": "2024-03-23T11:29:00.886Z"
   },
   {
    "duration": 6,
    "start_time": "2024-03-23T11:33:36.895Z"
   },
   {
    "duration": 5,
    "start_time": "2024-03-23T11:34:45.336Z"
   },
   {
    "duration": 5,
    "start_time": "2024-03-23T11:34:45.561Z"
   },
   {
    "duration": 6,
    "start_time": "2024-03-23T11:39:16.594Z"
   },
   {
    "duration": 6,
    "start_time": "2024-03-23T11:51:25.778Z"
   },
   {
    "duration": 6,
    "start_time": "2024-03-23T11:51:31.882Z"
   },
   {
    "duration": 5,
    "start_time": "2024-03-23T11:51:36.680Z"
   },
   {
    "duration": 7,
    "start_time": "2024-03-23T11:51:53.322Z"
   },
   {
    "duration": 6,
    "start_time": "2024-03-23T11:51:58.921Z"
   },
   {
    "duration": 5,
    "start_time": "2024-03-23T11:55:18.795Z"
   },
   {
    "duration": 6,
    "start_time": "2024-03-23T12:16:55.163Z"
   },
   {
    "duration": 5,
    "start_time": "2024-03-23T12:17:43.359Z"
   },
   {
    "duration": 1232,
    "start_time": "2024-03-23T16:39:46.001Z"
   },
   {
    "duration": 30,
    "start_time": "2024-03-23T16:39:47.235Z"
   },
   {
    "duration": 28,
    "start_time": "2024-03-23T16:39:47.266Z"
   },
   {
    "duration": 15,
    "start_time": "2024-03-23T16:39:47.296Z"
   },
   {
    "duration": 11,
    "start_time": "2024-03-23T16:39:47.313Z"
   },
   {
    "duration": 18,
    "start_time": "2024-03-23T16:39:47.326Z"
   },
   {
    "duration": 11,
    "start_time": "2024-03-23T16:39:47.346Z"
   },
   {
    "duration": 17,
    "start_time": "2024-03-23T16:39:47.358Z"
   },
   {
    "duration": 12,
    "start_time": "2024-03-23T16:39:47.377Z"
   },
   {
    "duration": 4,
    "start_time": "2024-03-23T16:39:47.391Z"
   },
   {
    "duration": 6,
    "start_time": "2024-03-23T16:39:47.396Z"
   },
   {
    "duration": 8,
    "start_time": "2024-03-23T16:39:47.403Z"
   },
   {
    "duration": 10,
    "start_time": "2024-03-23T16:39:47.412Z"
   },
   {
    "duration": 6,
    "start_time": "2024-03-23T16:39:47.423Z"
   },
   {
    "duration": 17,
    "start_time": "2024-03-23T16:39:47.430Z"
   },
   {
    "duration": 37,
    "start_time": "2024-03-23T16:39:47.448Z"
   },
   {
    "duration": 8,
    "start_time": "2024-03-23T16:39:47.486Z"
   },
   {
    "duration": 8,
    "start_time": "2024-03-23T16:39:47.495Z"
   },
   {
    "duration": 10,
    "start_time": "2024-03-23T16:39:47.505Z"
   },
   {
    "duration": 14,
    "start_time": "2024-03-23T16:39:47.518Z"
   },
   {
    "duration": 11,
    "start_time": "2024-03-23T16:39:47.534Z"
   },
   {
    "duration": 4,
    "start_time": "2024-03-23T16:39:47.547Z"
   },
   {
    "duration": 37,
    "start_time": "2024-03-23T16:39:47.553Z"
   },
   {
    "duration": 4,
    "start_time": "2024-03-23T16:39:47.591Z"
   },
   {
    "duration": 9,
    "start_time": "2024-03-23T16:39:47.597Z"
   },
   {
    "duration": 6,
    "start_time": "2024-03-23T16:39:47.608Z"
   },
   {
    "duration": 189,
    "start_time": "2024-03-23T16:39:47.616Z"
   },
   {
    "duration": 6,
    "start_time": "2024-03-23T16:39:47.810Z"
   },
   {
    "duration": 150,
    "start_time": "2024-03-23T16:39:47.817Z"
   },
   {
    "duration": 224,
    "start_time": "2024-03-23T16:39:47.968Z"
   },
   {
    "duration": 7,
    "start_time": "2024-03-23T16:39:48.194Z"
   },
   {
    "duration": 5,
    "start_time": "2024-03-23T16:39:48.203Z"
   },
   {
    "duration": 6,
    "start_time": "2024-03-23T16:39:48.209Z"
   },
   {
    "duration": 190,
    "start_time": "2024-03-23T16:39:48.217Z"
   },
   {
    "duration": 8,
    "start_time": "2024-03-23T16:39:48.408Z"
   },
   {
    "duration": 7,
    "start_time": "2024-03-23T16:39:48.417Z"
   },
   {
    "duration": 10,
    "start_time": "2024-03-23T16:39:48.426Z"
   },
   {
    "duration": 362,
    "start_time": "2024-03-23T16:39:48.438Z"
   },
   {
    "duration": 9,
    "start_time": "2024-03-23T16:39:48.801Z"
   },
   {
    "duration": 8,
    "start_time": "2024-03-23T16:39:48.811Z"
   },
   {
    "duration": 6,
    "start_time": "2024-03-23T16:39:48.820Z"
   },
   {
    "duration": 59,
    "start_time": "2024-03-23T16:39:48.828Z"
   },
   {
    "duration": 235,
    "start_time": "2024-03-23T16:39:48.889Z"
   },
   {
    "duration": 9,
    "start_time": "2024-03-23T16:39:49.126Z"
   },
   {
    "duration": 6,
    "start_time": "2024-03-23T16:39:49.137Z"
   },
   {
    "duration": 7,
    "start_time": "2024-03-23T16:39:49.145Z"
   },
   {
    "duration": 284,
    "start_time": "2024-03-23T16:39:49.153Z"
   },
   {
    "duration": 7,
    "start_time": "2024-03-23T16:39:49.438Z"
   },
   {
    "duration": 17,
    "start_time": "2024-03-23T16:39:49.446Z"
   },
   {
    "duration": 5,
    "start_time": "2024-03-23T16:39:49.464Z"
   },
   {
    "duration": 15,
    "start_time": "2024-03-23T16:39:49.470Z"
   },
   {
    "duration": 5,
    "start_time": "2024-03-23T16:39:49.487Z"
   },
   {
    "duration": 27,
    "start_time": "2024-03-23T16:39:49.494Z"
   },
   {
    "duration": 20,
    "start_time": "2024-03-23T16:39:49.523Z"
   },
   {
    "duration": 48,
    "start_time": "2024-03-23T16:39:49.545Z"
   },
   {
    "duration": 108,
    "start_time": "2024-03-23T16:39:49.595Z"
   },
   {
    "duration": 5,
    "start_time": "2024-03-23T16:39:49.705Z"
   },
   {
    "duration": 21,
    "start_time": "2024-03-23T16:39:49.712Z"
   },
   {
    "duration": 17,
    "start_time": "2024-03-23T16:39:49.734Z"
   },
   {
    "duration": 3,
    "start_time": "2024-03-23T16:39:49.753Z"
   },
   {
    "duration": 4,
    "start_time": "2024-03-23T16:39:49.781Z"
   },
   {
    "duration": 8,
    "start_time": "2024-03-23T16:39:49.786Z"
   },
   {
    "duration": 5,
    "start_time": "2024-03-23T16:39:49.795Z"
   },
   {
    "duration": 17,
    "start_time": "2024-03-23T16:39:49.802Z"
   },
   {
    "duration": 14,
    "start_time": "2024-03-23T16:39:49.820Z"
   },
   {
    "duration": 65,
    "start_time": "2024-03-23T16:39:49.836Z"
   },
   {
    "duration": 36,
    "start_time": "2024-03-23T16:39:49.902Z"
   },
   {
    "duration": 186,
    "start_time": "2024-03-23T16:39:49.939Z"
   },
   {
    "duration": 190,
    "start_time": "2024-03-23T16:39:50.127Z"
   },
   {
    "duration": 4,
    "start_time": "2024-03-23T16:39:50.319Z"
   },
   {
    "duration": 32,
    "start_time": "2024-03-23T16:39:50.325Z"
   },
   {
    "duration": 36,
    "start_time": "2024-03-23T16:39:50.359Z"
   },
   {
    "duration": 15,
    "start_time": "2024-03-23T16:39:50.397Z"
   },
   {
    "duration": 13,
    "start_time": "2024-03-23T16:39:50.414Z"
   },
   {
    "duration": 14,
    "start_time": "2024-03-23T16:39:50.430Z"
   },
   {
    "duration": 44,
    "start_time": "2024-03-23T16:39:50.446Z"
   },
   {
    "duration": 10,
    "start_time": "2024-03-23T16:39:50.492Z"
   },
   {
    "duration": 12,
    "start_time": "2024-03-23T16:39:50.504Z"
   },
   {
    "duration": 9,
    "start_time": "2024-03-23T16:39:50.518Z"
   },
   {
    "duration": 5,
    "start_time": "2024-03-23T16:39:50.528Z"
   },
   {
    "duration": 6,
    "start_time": "2024-03-23T16:39:50.535Z"
   },
   {
    "duration": 5,
    "start_time": "2024-03-23T16:39:50.546Z"
   },
   {
    "duration": 10,
    "start_time": "2024-03-23T16:39:50.581Z"
   },
   {
    "duration": 22,
    "start_time": "2024-03-23T16:39:50.592Z"
   },
   {
    "duration": 13,
    "start_time": "2024-03-23T16:39:50.616Z"
   },
   {
    "duration": 32,
    "start_time": "2024-03-23T16:39:50.631Z"
   },
   {
    "duration": 1580,
    "start_time": "2024-03-23T16:39:50.665Z"
   },
   {
    "duration": 95,
    "start_time": "2024-03-23T16:39:52.247Z"
   },
   {
    "duration": 5,
    "start_time": "2024-03-23T16:39:52.344Z"
   },
   {
    "duration": 1190,
    "start_time": "2024-03-23T16:47:19.646Z"
   },
   {
    "duration": 29,
    "start_time": "2024-03-23T16:47:20.838Z"
   },
   {
    "duration": 29,
    "start_time": "2024-03-23T16:47:20.869Z"
   },
   {
    "duration": 15,
    "start_time": "2024-03-23T16:47:20.901Z"
   },
   {
    "duration": 17,
    "start_time": "2024-03-23T16:47:20.918Z"
   },
   {
    "duration": 22,
    "start_time": "2024-03-23T16:47:20.936Z"
   },
   {
    "duration": 19,
    "start_time": "2024-03-23T16:47:20.959Z"
   },
   {
    "duration": 16,
    "start_time": "2024-03-23T16:47:20.979Z"
   },
   {
    "duration": 20,
    "start_time": "2024-03-23T16:47:20.997Z"
   },
   {
    "duration": 5,
    "start_time": "2024-03-23T16:47:21.021Z"
   },
   {
    "duration": 12,
    "start_time": "2024-03-23T16:47:21.027Z"
   },
   {
    "duration": 9,
    "start_time": "2024-03-23T16:47:21.040Z"
   },
   {
    "duration": 17,
    "start_time": "2024-03-23T16:47:21.050Z"
   },
   {
    "duration": 14,
    "start_time": "2024-03-23T16:47:21.069Z"
   },
   {
    "duration": 40,
    "start_time": "2024-03-23T16:47:21.085Z"
   },
   {
    "duration": 11,
    "start_time": "2024-03-23T16:47:21.127Z"
   },
   {
    "duration": 12,
    "start_time": "2024-03-23T16:47:21.140Z"
   },
   {
    "duration": 9,
    "start_time": "2024-03-23T16:47:21.154Z"
   },
   {
    "duration": 28,
    "start_time": "2024-03-23T16:47:21.164Z"
   },
   {
    "duration": 10,
    "start_time": "2024-03-23T16:47:21.194Z"
   },
   {
    "duration": 21,
    "start_time": "2024-03-23T16:47:21.207Z"
   },
   {
    "duration": 8,
    "start_time": "2024-03-23T16:47:21.230Z"
   },
   {
    "duration": 18,
    "start_time": "2024-03-23T16:47:21.240Z"
   },
   {
    "duration": 4,
    "start_time": "2024-03-23T16:47:21.260Z"
   },
   {
    "duration": 23,
    "start_time": "2024-03-23T16:47:21.265Z"
   },
   {
    "duration": 13,
    "start_time": "2024-03-23T16:47:21.290Z"
   },
   {
    "duration": 171,
    "start_time": "2024-03-23T16:47:21.305Z"
   },
   {
    "duration": 7,
    "start_time": "2024-03-23T16:47:21.483Z"
   },
   {
    "duration": 157,
    "start_time": "2024-03-23T16:47:21.492Z"
   },
   {
    "duration": 187,
    "start_time": "2024-03-23T16:47:21.651Z"
   },
   {
    "duration": 8,
    "start_time": "2024-03-23T16:47:21.840Z"
   },
   {
    "duration": 16,
    "start_time": "2024-03-23T16:47:21.850Z"
   },
   {
    "duration": 24,
    "start_time": "2024-03-23T16:47:21.868Z"
   },
   {
    "duration": 193,
    "start_time": "2024-03-23T16:47:21.893Z"
   },
   {
    "duration": 8,
    "start_time": "2024-03-23T16:47:22.088Z"
   },
   {
    "duration": 43,
    "start_time": "2024-03-23T16:47:22.097Z"
   },
   {
    "duration": 24,
    "start_time": "2024-03-23T16:47:22.141Z"
   },
   {
    "duration": 253,
    "start_time": "2024-03-23T16:47:22.167Z"
   },
   {
    "duration": 8,
    "start_time": "2024-03-23T16:47:22.422Z"
   },
   {
    "duration": 9,
    "start_time": "2024-03-23T16:47:22.432Z"
   },
   {
    "duration": 20,
    "start_time": "2024-03-23T16:47:22.442Z"
   },
   {
    "duration": 18,
    "start_time": "2024-03-23T16:47:22.464Z"
   },
   {
    "duration": 200,
    "start_time": "2024-03-23T16:47:22.484Z"
   },
   {
    "duration": 8,
    "start_time": "2024-03-23T16:47:22.685Z"
   },
   {
    "duration": 7,
    "start_time": "2024-03-23T16:47:22.695Z"
   },
   {
    "duration": 7,
    "start_time": "2024-03-23T16:47:22.704Z"
   },
   {
    "duration": 273,
    "start_time": "2024-03-23T16:47:22.713Z"
   },
   {
    "duration": 7,
    "start_time": "2024-03-23T16:47:22.987Z"
   },
   {
    "duration": 9,
    "start_time": "2024-03-23T16:47:22.995Z"
   },
   {
    "duration": 10,
    "start_time": "2024-03-23T16:47:23.006Z"
   },
   {
    "duration": 13,
    "start_time": "2024-03-23T16:47:23.018Z"
   },
   {
    "duration": 15,
    "start_time": "2024-03-23T16:47:23.033Z"
   },
   {
    "duration": 30,
    "start_time": "2024-03-23T16:47:23.050Z"
   },
   {
    "duration": 53,
    "start_time": "2024-03-23T16:47:23.082Z"
   },
   {
    "duration": 32,
    "start_time": "2024-03-23T16:47:23.137Z"
   },
   {
    "duration": 91,
    "start_time": "2024-03-23T16:47:23.171Z"
   },
   {
    "duration": 5,
    "start_time": "2024-03-23T16:47:23.263Z"
   },
   {
    "duration": 24,
    "start_time": "2024-03-23T16:47:23.269Z"
   },
   {
    "duration": 16,
    "start_time": "2024-03-23T16:47:23.294Z"
   },
   {
    "duration": 29,
    "start_time": "2024-03-23T16:47:23.312Z"
   },
   {
    "duration": 37,
    "start_time": "2024-03-23T16:47:23.343Z"
   },
   {
    "duration": 11,
    "start_time": "2024-03-23T16:47:23.382Z"
   },
   {
    "duration": 21,
    "start_time": "2024-03-23T16:47:23.395Z"
   },
   {
    "duration": 24,
    "start_time": "2024-03-23T16:47:23.417Z"
   },
   {
    "duration": 12,
    "start_time": "2024-03-23T16:47:23.443Z"
   },
   {
    "duration": 42,
    "start_time": "2024-03-23T16:47:23.457Z"
   },
   {
    "duration": 36,
    "start_time": "2024-03-23T16:47:23.501Z"
   },
   {
    "duration": 193,
    "start_time": "2024-03-23T16:47:23.539Z"
   },
   {
    "duration": 195,
    "start_time": "2024-03-23T16:47:23.734Z"
   },
   {
    "duration": 4,
    "start_time": "2024-03-23T16:47:23.931Z"
   },
   {
    "duration": 46,
    "start_time": "2024-03-23T16:47:23.937Z"
   },
   {
    "duration": 16,
    "start_time": "2024-03-23T16:47:23.985Z"
   },
   {
    "duration": 16,
    "start_time": "2024-03-23T16:47:24.002Z"
   },
   {
    "duration": 19,
    "start_time": "2024-03-23T16:47:24.019Z"
   },
   {
    "duration": 12,
    "start_time": "2024-03-23T16:47:24.039Z"
   },
   {
    "duration": 34,
    "start_time": "2024-03-23T16:47:24.053Z"
   },
   {
    "duration": 9,
    "start_time": "2024-03-23T16:47:24.089Z"
   },
   {
    "duration": 13,
    "start_time": "2024-03-23T16:47:24.100Z"
   },
   {
    "duration": 13,
    "start_time": "2024-03-23T16:47:24.115Z"
   },
   {
    "duration": 11,
    "start_time": "2024-03-23T16:47:24.129Z"
   },
   {
    "duration": 7,
    "start_time": "2024-03-23T16:47:24.142Z"
   },
   {
    "duration": 4,
    "start_time": "2024-03-23T16:47:24.154Z"
   },
   {
    "duration": 36,
    "start_time": "2024-03-23T16:47:24.159Z"
   },
   {
    "duration": 11,
    "start_time": "2024-03-23T16:47:24.197Z"
   },
   {
    "duration": 7,
    "start_time": "2024-03-23T16:47:24.209Z"
   },
   {
    "duration": 10,
    "start_time": "2024-03-23T16:47:24.217Z"
   },
   {
    "duration": 1492,
    "start_time": "2024-03-23T16:47:24.228Z"
   },
   {
    "duration": 90,
    "start_time": "2024-03-23T16:47:25.722Z"
   },
   {
    "duration": 7,
    "start_time": "2024-03-23T16:47:25.814Z"
   },
   {
    "duration": 49,
    "start_time": "2024-03-23T19:28:03.255Z"
   },
   {
    "duration": 1140,
    "start_time": "2024-03-23T19:29:07.987Z"
   },
   {
    "duration": 29,
    "start_time": "2024-03-23T19:29:09.129Z"
   },
   {
    "duration": 31,
    "start_time": "2024-03-23T19:29:09.160Z"
   },
   {
    "duration": 16,
    "start_time": "2024-03-23T19:29:09.193Z"
   },
   {
    "duration": 25,
    "start_time": "2024-03-23T19:29:09.211Z"
   },
   {
    "duration": 13,
    "start_time": "2024-03-23T19:29:09.238Z"
   },
   {
    "duration": 6,
    "start_time": "2024-03-23T19:29:09.253Z"
   },
   {
    "duration": 18,
    "start_time": "2024-03-23T19:29:09.261Z"
   },
   {
    "duration": 12,
    "start_time": "2024-03-23T19:29:09.280Z"
   },
   {
    "duration": 3,
    "start_time": "2024-03-23T19:29:09.294Z"
   },
   {
    "duration": 7,
    "start_time": "2024-03-23T19:29:09.299Z"
   },
   {
    "duration": 10,
    "start_time": "2024-03-23T19:29:09.308Z"
   },
   {
    "duration": 9,
    "start_time": "2024-03-23T19:29:09.320Z"
   },
   {
    "duration": 18,
    "start_time": "2024-03-23T19:29:09.331Z"
   },
   {
    "duration": 7,
    "start_time": "2024-03-23T19:29:09.351Z"
   },
   {
    "duration": 26,
    "start_time": "2024-03-23T19:29:09.359Z"
   },
   {
    "duration": 8,
    "start_time": "2024-03-23T19:29:09.386Z"
   },
   {
    "duration": 6,
    "start_time": "2024-03-23T19:29:09.395Z"
   },
   {
    "duration": 15,
    "start_time": "2024-03-23T19:29:09.402Z"
   },
   {
    "duration": 8,
    "start_time": "2024-03-23T19:29:09.419Z"
   },
   {
    "duration": 6,
    "start_time": "2024-03-23T19:29:09.428Z"
   },
   {
    "duration": 3,
    "start_time": "2024-03-23T19:29:09.435Z"
   },
   {
    "duration": 10,
    "start_time": "2024-03-23T19:29:09.440Z"
   },
   {
    "duration": 32,
    "start_time": "2024-03-23T19:29:09.451Z"
   },
   {
    "duration": 7,
    "start_time": "2024-03-23T19:29:09.484Z"
   },
   {
    "duration": 6,
    "start_time": "2024-03-23T19:29:09.492Z"
   },
   {
    "duration": 182,
    "start_time": "2024-03-23T19:29:09.499Z"
   },
   {
    "duration": 6,
    "start_time": "2024-03-23T19:29:09.682Z"
   },
   {
    "duration": 132,
    "start_time": "2024-03-23T19:29:09.689Z"
   },
   {
    "duration": 179,
    "start_time": "2024-03-23T19:29:09.823Z"
   },
   {
    "duration": 9,
    "start_time": "2024-03-23T19:29:10.003Z"
   },
   {
    "duration": 13,
    "start_time": "2024-03-23T19:29:10.013Z"
   },
   {
    "duration": 11,
    "start_time": "2024-03-23T19:29:10.028Z"
   },
   {
    "duration": 199,
    "start_time": "2024-03-23T19:29:10.041Z"
   },
   {
    "duration": 8,
    "start_time": "2024-03-23T19:29:10.242Z"
   },
   {
    "duration": 7,
    "start_time": "2024-03-23T19:29:10.252Z"
   },
   {
    "duration": 25,
    "start_time": "2024-03-23T19:29:10.261Z"
   },
   {
    "duration": 262,
    "start_time": "2024-03-23T19:29:10.288Z"
   },
   {
    "duration": 10,
    "start_time": "2024-03-23T19:29:10.551Z"
   },
   {
    "duration": 19,
    "start_time": "2024-03-23T19:29:10.562Z"
   },
   {
    "duration": 6,
    "start_time": "2024-03-23T19:29:10.586Z"
   },
   {
    "duration": 6,
    "start_time": "2024-03-23T19:29:10.593Z"
   },
   {
    "duration": 207,
    "start_time": "2024-03-23T19:29:10.601Z"
   },
   {
    "duration": 9,
    "start_time": "2024-03-23T19:29:10.810Z"
   },
   {
    "duration": 7,
    "start_time": "2024-03-23T19:29:10.821Z"
   },
   {
    "duration": 8,
    "start_time": "2024-03-23T19:29:10.830Z"
   },
   {
    "duration": 290,
    "start_time": "2024-03-23T19:29:10.840Z"
   },
   {
    "duration": 7,
    "start_time": "2024-03-23T19:29:11.132Z"
   },
   {
    "duration": 16,
    "start_time": "2024-03-23T19:29:11.140Z"
   },
   {
    "duration": 4,
    "start_time": "2024-03-23T19:29:11.158Z"
   },
   {
    "duration": 4,
    "start_time": "2024-03-23T19:29:11.180Z"
   },
   {
    "duration": 5,
    "start_time": "2024-03-23T19:29:11.186Z"
   },
   {
    "duration": 11,
    "start_time": "2024-03-23T19:29:11.192Z"
   },
   {
    "duration": 9,
    "start_time": "2024-03-23T19:29:11.205Z"
   },
   {
    "duration": 31,
    "start_time": "2024-03-23T19:29:11.216Z"
   },
   {
    "duration": 41,
    "start_time": "2024-03-23T19:29:11.249Z"
   },
   {
    "duration": 5,
    "start_time": "2024-03-23T19:29:11.291Z"
   },
   {
    "duration": 108,
    "start_time": "2024-03-23T19:29:11.297Z"
   },
   {
    "duration": 15,
    "start_time": "2024-03-23T19:29:11.407Z"
   },
   {
    "duration": 3,
    "start_time": "2024-03-23T19:29:11.423Z"
   },
   {
    "duration": 15,
    "start_time": "2024-03-23T19:29:11.428Z"
   },
   {
    "duration": 10,
    "start_time": "2024-03-23T19:29:11.445Z"
   },
   {
    "duration": 5,
    "start_time": "2024-03-23T19:29:11.456Z"
   },
   {
    "duration": 30,
    "start_time": "2024-03-23T19:29:11.462Z"
   },
   {
    "duration": 15,
    "start_time": "2024-03-23T19:29:11.493Z"
   },
   {
    "duration": 40,
    "start_time": "2024-03-23T19:29:11.509Z"
   },
   {
    "duration": 59,
    "start_time": "2024-03-23T19:29:11.550Z"
   },
   {
    "duration": 183,
    "start_time": "2024-03-23T19:29:11.611Z"
   },
   {
    "duration": 182,
    "start_time": "2024-03-23T19:29:11.796Z"
   },
   {
    "duration": 5,
    "start_time": "2024-03-23T19:29:11.981Z"
   },
   {
    "duration": 31,
    "start_time": "2024-03-23T19:29:11.987Z"
   },
   {
    "duration": 15,
    "start_time": "2024-03-23T19:29:12.019Z"
   },
   {
    "duration": 13,
    "start_time": "2024-03-23T19:29:12.035Z"
   },
   {
    "duration": 42,
    "start_time": "2024-03-23T19:29:12.050Z"
   },
   {
    "duration": 12,
    "start_time": "2024-03-23T19:29:12.093Z"
   },
   {
    "duration": 12,
    "start_time": "2024-03-23T19:29:12.106Z"
   },
   {
    "duration": 8,
    "start_time": "2024-03-23T19:29:12.119Z"
   },
   {
    "duration": 5,
    "start_time": "2024-03-23T19:29:12.129Z"
   },
   {
    "duration": 4,
    "start_time": "2024-03-23T19:29:12.136Z"
   },
   {
    "duration": 41,
    "start_time": "2024-03-23T19:29:12.141Z"
   },
   {
    "duration": 4,
    "start_time": "2024-03-23T19:29:12.184Z"
   },
   {
    "duration": 4,
    "start_time": "2024-03-23T19:29:12.190Z"
   },
   {
    "duration": 12,
    "start_time": "2024-03-23T19:29:12.195Z"
   },
   {
    "duration": 5,
    "start_time": "2024-03-23T19:29:12.208Z"
   },
   {
    "duration": 4,
    "start_time": "2024-03-23T19:29:12.215Z"
   },
   {
    "duration": 6,
    "start_time": "2024-03-23T19:29:12.220Z"
   },
   {
    "duration": 79,
    "start_time": "2024-03-23T19:29:12.227Z"
   },
   {
    "duration": 1477,
    "start_time": "2024-03-23T19:29:12.308Z"
   },
   {
    "duration": 79,
    "start_time": "2024-03-23T19:29:13.787Z"
   },
   {
    "duration": 5,
    "start_time": "2024-03-23T19:29:13.881Z"
   },
   {
    "duration": 5,
    "start_time": "2024-03-23T19:33:23.734Z"
   },
   {
    "duration": 5,
    "start_time": "2024-03-23T19:33:28.131Z"
   },
   {
    "duration": 5,
    "start_time": "2024-03-23T19:34:30.469Z"
   },
   {
    "duration": 1183,
    "start_time": "2024-03-23T19:34:53.238Z"
   },
   {
    "duration": 29,
    "start_time": "2024-03-23T19:34:54.423Z"
   },
   {
    "duration": 29,
    "start_time": "2024-03-23T19:34:54.454Z"
   },
   {
    "duration": 15,
    "start_time": "2024-03-23T19:34:54.485Z"
   },
   {
    "duration": 12,
    "start_time": "2024-03-23T19:34:54.501Z"
   },
   {
    "duration": 21,
    "start_time": "2024-03-23T19:34:54.514Z"
   },
   {
    "duration": 13,
    "start_time": "2024-03-23T19:34:54.536Z"
   },
   {
    "duration": 28,
    "start_time": "2024-03-23T19:34:54.550Z"
   },
   {
    "duration": 20,
    "start_time": "2024-03-23T19:34:54.579Z"
   },
   {
    "duration": 11,
    "start_time": "2024-03-23T19:34:54.602Z"
   },
   {
    "duration": 13,
    "start_time": "2024-03-23T19:34:54.614Z"
   },
   {
    "duration": 25,
    "start_time": "2024-03-23T19:34:54.629Z"
   },
   {
    "duration": 21,
    "start_time": "2024-03-23T19:34:54.656Z"
   },
   {
    "duration": 26,
    "start_time": "2024-03-23T19:34:54.679Z"
   },
   {
    "duration": 14,
    "start_time": "2024-03-23T19:34:54.706Z"
   },
   {
    "duration": 10,
    "start_time": "2024-03-23T19:34:54.722Z"
   },
   {
    "duration": 8,
    "start_time": "2024-03-23T19:34:54.733Z"
   },
   {
    "duration": 13,
    "start_time": "2024-03-23T19:34:54.743Z"
   },
   {
    "duration": 22,
    "start_time": "2024-03-23T19:34:54.758Z"
   },
   {
    "duration": 9,
    "start_time": "2024-03-23T19:34:54.781Z"
   },
   {
    "duration": 21,
    "start_time": "2024-03-23T19:34:54.791Z"
   },
   {
    "duration": 4,
    "start_time": "2024-03-23T19:34:54.814Z"
   },
   {
    "duration": 17,
    "start_time": "2024-03-23T19:34:54.819Z"
   },
   {
    "duration": 3,
    "start_time": "2024-03-23T19:34:54.838Z"
   },
   {
    "duration": 22,
    "start_time": "2024-03-23T19:34:54.843Z"
   },
   {
    "duration": 18,
    "start_time": "2024-03-23T19:34:54.866Z"
   },
   {
    "duration": 170,
    "start_time": "2024-03-23T19:34:54.885Z"
   },
   {
    "duration": 6,
    "start_time": "2024-03-23T19:34:55.059Z"
   },
   {
    "duration": 136,
    "start_time": "2024-03-23T19:34:55.066Z"
   },
   {
    "duration": 170,
    "start_time": "2024-03-23T19:34:55.203Z"
   },
   {
    "duration": 12,
    "start_time": "2024-03-23T19:34:55.375Z"
   },
   {
    "duration": 19,
    "start_time": "2024-03-23T19:34:55.388Z"
   },
   {
    "duration": 7,
    "start_time": "2024-03-23T19:34:55.408Z"
   },
   {
    "duration": 205,
    "start_time": "2024-03-23T19:34:55.416Z"
   },
   {
    "duration": 8,
    "start_time": "2024-03-23T19:34:55.623Z"
   },
   {
    "duration": 10,
    "start_time": "2024-03-23T19:34:55.633Z"
   },
   {
    "duration": 13,
    "start_time": "2024-03-23T19:34:55.644Z"
   },
   {
    "duration": 269,
    "start_time": "2024-03-23T19:34:55.659Z"
   },
   {
    "duration": 9,
    "start_time": "2024-03-23T19:34:55.929Z"
   },
   {
    "duration": 23,
    "start_time": "2024-03-23T19:34:55.939Z"
   },
   {
    "duration": 6,
    "start_time": "2024-03-23T19:34:55.964Z"
   },
   {
    "duration": 13,
    "start_time": "2024-03-23T19:34:55.971Z"
   },
   {
    "duration": 202,
    "start_time": "2024-03-23T19:34:55.986Z"
   },
   {
    "duration": 9,
    "start_time": "2024-03-23T19:34:56.190Z"
   },
   {
    "duration": 10,
    "start_time": "2024-03-23T19:34:56.200Z"
   },
   {
    "duration": 8,
    "start_time": "2024-03-23T19:34:56.212Z"
   },
   {
    "duration": 263,
    "start_time": "2024-03-23T19:34:56.222Z"
   },
   {
    "duration": 6,
    "start_time": "2024-03-23T19:34:56.486Z"
   },
   {
    "duration": 15,
    "start_time": "2024-03-23T19:34:56.494Z"
   },
   {
    "duration": 11,
    "start_time": "2024-03-23T19:34:56.511Z"
   },
   {
    "duration": 42,
    "start_time": "2024-03-23T19:34:56.523Z"
   },
   {
    "duration": 17,
    "start_time": "2024-03-23T19:34:56.566Z"
   },
   {
    "duration": 15,
    "start_time": "2024-03-23T19:34:56.585Z"
   },
   {
    "duration": 20,
    "start_time": "2024-03-23T19:34:56.602Z"
   },
   {
    "duration": 36,
    "start_time": "2024-03-23T19:34:56.624Z"
   },
   {
    "duration": 92,
    "start_time": "2024-03-23T19:34:56.661Z"
   },
   {
    "duration": 4,
    "start_time": "2024-03-23T19:34:56.755Z"
   },
   {
    "duration": 30,
    "start_time": "2024-03-23T19:34:56.760Z"
   },
   {
    "duration": 15,
    "start_time": "2024-03-23T19:34:56.792Z"
   },
   {
    "duration": 4,
    "start_time": "2024-03-23T19:34:56.808Z"
   },
   {
    "duration": 7,
    "start_time": "2024-03-23T19:34:56.813Z"
   },
   {
    "duration": 12,
    "start_time": "2024-03-23T19:34:56.821Z"
   },
   {
    "duration": 5,
    "start_time": "2024-03-23T19:34:56.835Z"
   },
   {
    "duration": 40,
    "start_time": "2024-03-23T19:34:56.841Z"
   },
   {
    "duration": 12,
    "start_time": "2024-03-23T19:34:56.882Z"
   },
   {
    "duration": 40,
    "start_time": "2024-03-23T19:34:56.896Z"
   },
   {
    "duration": 49,
    "start_time": "2024-03-23T19:34:56.937Z"
   },
   {
    "duration": 181,
    "start_time": "2024-03-23T19:34:56.987Z"
   },
   {
    "duration": 184,
    "start_time": "2024-03-23T19:34:57.169Z"
   },
   {
    "duration": 5,
    "start_time": "2024-03-23T19:34:57.354Z"
   },
   {
    "duration": 42,
    "start_time": "2024-03-23T19:34:57.360Z"
   },
   {
    "duration": 16,
    "start_time": "2024-03-23T19:34:57.403Z"
   },
   {
    "duration": 13,
    "start_time": "2024-03-23T19:34:57.420Z"
   },
   {
    "duration": 12,
    "start_time": "2024-03-23T19:34:57.434Z"
   },
   {
    "duration": 41,
    "start_time": "2024-03-23T19:34:57.447Z"
   },
   {
    "duration": 12,
    "start_time": "2024-03-23T19:34:57.489Z"
   },
   {
    "duration": 11,
    "start_time": "2024-03-23T19:34:57.502Z"
   },
   {
    "duration": 8,
    "start_time": "2024-03-23T19:34:57.515Z"
   },
   {
    "duration": 16,
    "start_time": "2024-03-23T19:34:57.524Z"
   },
   {
    "duration": 31,
    "start_time": "2024-03-23T19:34:57.541Z"
   },
   {
    "duration": 6,
    "start_time": "2024-03-23T19:34:57.574Z"
   },
   {
    "duration": 4,
    "start_time": "2024-03-23T19:34:57.588Z"
   },
   {
    "duration": 5,
    "start_time": "2024-03-23T19:34:57.594Z"
   },
   {
    "duration": 8,
    "start_time": "2024-03-23T19:34:57.600Z"
   },
   {
    "duration": 15,
    "start_time": "2024-03-23T19:34:57.609Z"
   },
   {
    "duration": 5,
    "start_time": "2024-03-23T19:34:57.625Z"
   },
   {
    "duration": 73,
    "start_time": "2024-03-23T19:34:57.631Z"
   },
   {
    "duration": 1535,
    "start_time": "2024-03-23T19:34:57.706Z"
   },
   {
    "duration": 86,
    "start_time": "2024-03-23T19:34:59.243Z"
   },
   {
    "duration": 5,
    "start_time": "2024-03-23T19:34:59.331Z"
   },
   {
    "duration": 4,
    "start_time": "2024-03-23T19:36:36.103Z"
   },
   {
    "duration": 270,
    "start_time": "2024-03-23T19:36:37.403Z"
   },
   {
    "duration": 5,
    "start_time": "2024-03-23T19:39:45.747Z"
   },
   {
    "duration": 232,
    "start_time": "2024-03-23T19:39:46.003Z"
   },
   {
    "duration": 1216,
    "start_time": "2024-03-24T00:32:44.831Z"
   },
   {
    "duration": 74,
    "start_time": "2024-03-24T00:32:46.049Z"
   },
   {
    "duration": 81,
    "start_time": "2024-03-24T00:32:46.124Z"
   },
   {
    "duration": 59,
    "start_time": "2024-03-24T00:32:46.206Z"
   },
   {
    "duration": 10,
    "start_time": "2024-03-24T00:32:46.266Z"
   },
   {
    "duration": 14,
    "start_time": "2024-03-24T00:32:46.277Z"
   },
   {
    "duration": 3,
    "start_time": "2024-03-24T00:32:46.292Z"
   },
   {
    "duration": 7,
    "start_time": "2024-03-24T00:32:46.296Z"
   },
   {
    "duration": 10,
    "start_time": "2024-03-24T00:32:46.304Z"
   },
   {
    "duration": 2,
    "start_time": "2024-03-24T00:32:46.316Z"
   },
   {
    "duration": 5,
    "start_time": "2024-03-24T00:32:46.320Z"
   },
   {
    "duration": 6,
    "start_time": "2024-03-24T00:32:46.326Z"
   },
   {
    "duration": 8,
    "start_time": "2024-03-24T00:32:46.333Z"
   },
   {
    "duration": 4,
    "start_time": "2024-03-24T00:32:46.342Z"
   },
   {
    "duration": 6,
    "start_time": "2024-03-24T00:32:46.347Z"
   },
   {
    "duration": 8,
    "start_time": "2024-03-24T00:32:46.355Z"
   },
   {
    "duration": 39,
    "start_time": "2024-03-24T00:32:46.364Z"
   },
   {
    "duration": 6,
    "start_time": "2024-03-24T00:32:46.404Z"
   },
   {
    "duration": 13,
    "start_time": "2024-03-24T00:32:46.411Z"
   },
   {
    "duration": 7,
    "start_time": "2024-03-24T00:32:46.425Z"
   },
   {
    "duration": 16,
    "start_time": "2024-03-24T00:32:46.433Z"
   },
   {
    "duration": 7,
    "start_time": "2024-03-24T00:32:46.450Z"
   },
   {
    "duration": 16,
    "start_time": "2024-03-24T00:32:46.458Z"
   },
   {
    "duration": 3,
    "start_time": "2024-03-24T00:32:46.476Z"
   },
   {
    "duration": 13,
    "start_time": "2024-03-24T00:32:46.481Z"
   },
   {
    "duration": 6,
    "start_time": "2024-03-24T00:32:46.495Z"
   },
   {
    "duration": 136,
    "start_time": "2024-03-24T00:32:46.502Z"
   },
   {
    "duration": 5,
    "start_time": "2024-03-24T00:32:46.641Z"
   },
   {
    "duration": 127,
    "start_time": "2024-03-24T00:32:46.647Z"
   },
   {
    "duration": 158,
    "start_time": "2024-03-24T00:32:46.775Z"
   },
   {
    "duration": 6,
    "start_time": "2024-03-24T00:32:46.934Z"
   },
   {
    "duration": 4,
    "start_time": "2024-03-24T00:32:46.942Z"
   },
   {
    "duration": 6,
    "start_time": "2024-03-24T00:32:46.947Z"
   },
   {
    "duration": 169,
    "start_time": "2024-03-24T00:32:46.954Z"
   },
   {
    "duration": 7,
    "start_time": "2024-03-24T00:32:47.124Z"
   },
   {
    "duration": 6,
    "start_time": "2024-03-24T00:32:47.132Z"
   },
   {
    "duration": 5,
    "start_time": "2024-03-24T00:32:47.139Z"
   },
   {
    "duration": 227,
    "start_time": "2024-03-24T00:32:47.145Z"
   },
   {
    "duration": 7,
    "start_time": "2024-03-24T00:32:47.373Z"
   },
   {
    "duration": 6,
    "start_time": "2024-03-24T00:32:47.381Z"
   },
   {
    "duration": 16,
    "start_time": "2024-03-24T00:32:47.388Z"
   },
   {
    "duration": 4,
    "start_time": "2024-03-24T00:32:47.405Z"
   },
   {
    "duration": 160,
    "start_time": "2024-03-24T00:32:47.410Z"
   },
   {
    "duration": 7,
    "start_time": "2024-03-24T00:32:47.571Z"
   },
   {
    "duration": 6,
    "start_time": "2024-03-24T00:32:47.579Z"
   },
   {
    "duration": 19,
    "start_time": "2024-03-24T00:32:47.586Z"
   },
   {
    "duration": 200,
    "start_time": "2024-03-24T00:32:47.606Z"
   },
   {
    "duration": 6,
    "start_time": "2024-03-24T00:32:47.807Z"
   },
   {
    "duration": 10,
    "start_time": "2024-03-24T00:32:47.814Z"
   },
   {
    "duration": 4,
    "start_time": "2024-03-24T00:32:47.825Z"
   },
   {
    "duration": 5,
    "start_time": "2024-03-24T00:32:47.830Z"
   },
   {
    "duration": 4,
    "start_time": "2024-03-24T00:32:47.836Z"
   },
   {
    "duration": 10,
    "start_time": "2024-03-24T00:32:47.841Z"
   },
   {
    "duration": 8,
    "start_time": "2024-03-24T00:32:47.852Z"
   },
   {
    "duration": 58,
    "start_time": "2024-03-24T00:32:47.861Z"
   },
   {
    "duration": 61,
    "start_time": "2024-03-24T00:32:47.920Z"
   },
   {
    "duration": 3,
    "start_time": "2024-03-24T00:32:47.982Z"
   },
   {
    "duration": 29,
    "start_time": "2024-03-24T00:32:47.986Z"
   },
   {
    "duration": 12,
    "start_time": "2024-03-24T00:32:48.016Z"
   },
   {
    "duration": 5,
    "start_time": "2024-03-24T00:32:48.029Z"
   },
   {
    "duration": 3,
    "start_time": "2024-03-24T00:32:48.035Z"
   },
   {
    "duration": 5,
    "start_time": "2024-03-24T00:32:48.039Z"
   },
   {
    "duration": 5,
    "start_time": "2024-03-24T00:32:48.045Z"
   },
   {
    "duration": 9,
    "start_time": "2024-03-24T00:32:48.051Z"
   },
   {
    "duration": 8,
    "start_time": "2024-03-24T00:32:48.061Z"
   },
   {
    "duration": 27,
    "start_time": "2024-03-24T00:32:48.102Z"
   },
   {
    "duration": 26,
    "start_time": "2024-03-24T00:32:48.130Z"
   },
   {
    "duration": 154,
    "start_time": "2024-03-24T00:32:48.157Z"
   },
   {
    "duration": 152,
    "start_time": "2024-03-24T00:32:48.312Z"
   },
   {
    "duration": 4,
    "start_time": "2024-03-24T00:32:48.465Z"
   },
   {
    "duration": 32,
    "start_time": "2024-03-24T00:32:48.470Z"
   },
   {
    "duration": 13,
    "start_time": "2024-03-24T00:32:48.503Z"
   },
   {
    "duration": 11,
    "start_time": "2024-03-24T00:32:48.517Z"
   },
   {
    "duration": 8,
    "start_time": "2024-03-24T00:32:48.529Z"
   },
   {
    "duration": 11,
    "start_time": "2024-03-24T00:32:48.538Z"
   },
   {
    "duration": 12,
    "start_time": "2024-03-24T00:32:48.550Z"
   },
   {
    "duration": 39,
    "start_time": "2024-03-24T00:32:48.563Z"
   },
   {
    "duration": 5,
    "start_time": "2024-03-24T00:32:48.603Z"
   },
   {
    "duration": 5,
    "start_time": "2024-03-24T00:32:48.610Z"
   },
   {
    "duration": 13,
    "start_time": "2024-03-24T00:32:48.617Z"
   },
   {
    "duration": 5,
    "start_time": "2024-03-24T00:32:48.631Z"
   },
   {
    "duration": 3,
    "start_time": "2024-03-24T00:32:48.642Z"
   },
   {
    "duration": 5,
    "start_time": "2024-03-24T00:32:48.647Z"
   },
   {
    "duration": 5,
    "start_time": "2024-03-24T00:32:48.653Z"
   },
   {
    "duration": 6,
    "start_time": "2024-03-24T00:32:48.660Z"
   },
   {
    "duration": 36,
    "start_time": "2024-03-24T00:32:48.667Z"
   },
   {
    "duration": 41,
    "start_time": "2024-03-24T00:32:48.705Z"
   },
   {
    "duration": 1111,
    "start_time": "2024-03-24T00:32:48.748Z"
   },
   {
    "duration": 92,
    "start_time": "2024-03-24T00:32:49.861Z"
   },
   {
    "duration": 4,
    "start_time": "2024-03-24T00:32:49.955Z"
   },
   {
    "duration": 295,
    "start_time": "2024-03-24T00:32:49.961Z"
   },
   {
    "duration": 4,
    "start_time": "2024-03-24T00:32:50.258Z"
   },
   {
    "duration": 6,
    "start_time": "2024-03-24T00:32:50.264Z"
   },
   {
    "duration": 273,
    "start_time": "2024-03-24T00:32:50.271Z"
   },
   {
    "duration": 3,
    "start_time": "2024-03-24T00:36:55.485Z"
   },
   {
    "duration": 1061,
    "start_time": "2024-03-24T00:46:43.504Z"
   },
   {
    "duration": 28,
    "start_time": "2024-03-24T00:46:44.567Z"
   },
   {
    "duration": 25,
    "start_time": "2024-03-24T00:46:44.596Z"
   },
   {
    "duration": 14,
    "start_time": "2024-03-24T00:46:44.623Z"
   },
   {
    "duration": 9,
    "start_time": "2024-03-24T00:46:44.638Z"
   },
   {
    "duration": 16,
    "start_time": "2024-03-24T00:46:44.648Z"
   },
   {
    "duration": 17,
    "start_time": "2024-03-24T00:46:44.665Z"
   },
   {
    "duration": 15,
    "start_time": "2024-03-24T00:46:44.683Z"
   },
   {
    "duration": 12,
    "start_time": "2024-03-24T00:46:44.699Z"
   },
   {
    "duration": 6,
    "start_time": "2024-03-24T00:46:44.713Z"
   },
   {
    "duration": 18,
    "start_time": "2024-03-24T00:46:44.720Z"
   },
   {
    "duration": 21,
    "start_time": "2024-03-24T00:46:44.739Z"
   },
   {
    "duration": 12,
    "start_time": "2024-03-24T00:46:44.761Z"
   },
   {
    "duration": 20,
    "start_time": "2024-03-24T00:46:44.775Z"
   },
   {
    "duration": 11,
    "start_time": "2024-03-24T00:46:44.796Z"
   },
   {
    "duration": 14,
    "start_time": "2024-03-24T00:46:44.808Z"
   },
   {
    "duration": 9,
    "start_time": "2024-03-24T00:46:44.823Z"
   },
   {
    "duration": 22,
    "start_time": "2024-03-24T00:46:44.833Z"
   },
   {
    "duration": 28,
    "start_time": "2024-03-24T00:46:44.856Z"
   },
   {
    "duration": 6,
    "start_time": "2024-03-24T00:46:44.885Z"
   },
   {
    "duration": 5,
    "start_time": "2024-03-24T00:46:44.892Z"
   },
   {
    "duration": 5,
    "start_time": "2024-03-24T00:46:44.898Z"
   },
   {
    "duration": 15,
    "start_time": "2024-03-24T00:46:44.904Z"
   },
   {
    "duration": 11,
    "start_time": "2024-03-24T00:46:44.920Z"
   },
   {
    "duration": 10,
    "start_time": "2024-03-24T00:46:44.932Z"
   },
   {
    "duration": 29,
    "start_time": "2024-03-24T00:46:44.943Z"
   },
   {
    "duration": 148,
    "start_time": "2024-03-24T00:46:44.973Z"
   },
   {
    "duration": 5,
    "start_time": "2024-03-24T00:46:45.125Z"
   },
   {
    "duration": 111,
    "start_time": "2024-03-24T00:46:45.131Z"
   },
   {
    "duration": 137,
    "start_time": "2024-03-24T00:46:45.243Z"
   },
   {
    "duration": 6,
    "start_time": "2024-03-24T00:46:45.382Z"
   },
   {
    "duration": 15,
    "start_time": "2024-03-24T00:46:45.390Z"
   },
   {
    "duration": 20,
    "start_time": "2024-03-24T00:46:45.406Z"
   },
   {
    "duration": 169,
    "start_time": "2024-03-24T00:46:45.427Z"
   },
   {
    "duration": 10,
    "start_time": "2024-03-24T00:46:45.598Z"
   },
   {
    "duration": 7,
    "start_time": "2024-03-24T00:46:45.609Z"
   },
   {
    "duration": 7,
    "start_time": "2024-03-24T00:46:45.617Z"
   },
   {
    "duration": 215,
    "start_time": "2024-03-24T00:46:45.625Z"
   },
   {
    "duration": 8,
    "start_time": "2024-03-24T00:46:45.841Z"
   },
   {
    "duration": 46,
    "start_time": "2024-03-24T00:46:45.850Z"
   },
   {
    "duration": 15,
    "start_time": "2024-03-24T00:46:45.897Z"
   },
   {
    "duration": 5,
    "start_time": "2024-03-24T00:46:45.913Z"
   },
   {
    "duration": 201,
    "start_time": "2024-03-24T00:46:45.919Z"
   },
   {
    "duration": 6,
    "start_time": "2024-03-24T00:46:46.122Z"
   },
   {
    "duration": 7,
    "start_time": "2024-03-24T00:46:46.129Z"
   },
   {
    "duration": 6,
    "start_time": "2024-03-24T00:46:46.137Z"
   },
   {
    "duration": 224,
    "start_time": "2024-03-24T00:46:46.145Z"
   },
   {
    "duration": 5,
    "start_time": "2024-03-24T00:46:46.370Z"
   },
   {
    "duration": 18,
    "start_time": "2024-03-24T00:46:46.376Z"
   },
   {
    "duration": 12,
    "start_time": "2024-03-24T00:46:46.395Z"
   },
   {
    "duration": 9,
    "start_time": "2024-03-24T00:46:46.408Z"
   },
   {
    "duration": 9,
    "start_time": "2024-03-24T00:46:46.418Z"
   },
   {
    "duration": 12,
    "start_time": "2024-03-24T00:46:46.428Z"
   },
   {
    "duration": 9,
    "start_time": "2024-03-24T00:46:46.441Z"
   },
   {
    "duration": 88,
    "start_time": "2024-03-24T00:46:46.451Z"
   },
   {
    "duration": 12,
    "start_time": "2024-03-24T00:46:46.541Z"
   },
   {
    "duration": 11,
    "start_time": "2024-03-24T00:46:46.554Z"
   },
   {
    "duration": 15,
    "start_time": "2024-03-24T00:46:46.566Z"
   },
   {
    "duration": 29,
    "start_time": "2024-03-24T00:46:46.582Z"
   },
   {
    "duration": 3,
    "start_time": "2024-03-24T00:46:46.613Z"
   },
   {
    "duration": 13,
    "start_time": "2024-03-24T00:46:46.618Z"
   },
   {
    "duration": 6,
    "start_time": "2024-03-24T00:46:46.632Z"
   },
   {
    "duration": 21,
    "start_time": "2024-03-24T00:46:46.640Z"
   },
   {
    "duration": 10,
    "start_time": "2024-03-24T00:46:46.662Z"
   },
   {
    "duration": 12,
    "start_time": "2024-03-24T00:46:46.674Z"
   },
   {
    "duration": 35,
    "start_time": "2024-03-24T00:46:46.688Z"
   },
   {
    "duration": 27,
    "start_time": "2024-03-24T00:46:46.725Z"
   },
   {
    "duration": 158,
    "start_time": "2024-03-24T00:46:46.753Z"
   },
   {
    "duration": 153,
    "start_time": "2024-03-24T00:46:46.913Z"
   },
   {
    "duration": 3,
    "start_time": "2024-03-24T00:46:47.068Z"
   },
   {
    "duration": 36,
    "start_time": "2024-03-24T00:46:47.072Z"
   },
   {
    "duration": 14,
    "start_time": "2024-03-24T00:46:47.109Z"
   },
   {
    "duration": 25,
    "start_time": "2024-03-24T00:46:47.124Z"
   },
   {
    "duration": 30,
    "start_time": "2024-03-24T00:46:47.150Z"
   },
   {
    "duration": 12,
    "start_time": "2024-03-24T00:46:47.182Z"
   },
   {
    "duration": 9,
    "start_time": "2024-03-24T00:46:47.195Z"
   },
   {
    "duration": 9,
    "start_time": "2024-03-24T00:46:47.205Z"
   },
   {
    "duration": 9,
    "start_time": "2024-03-24T00:46:47.215Z"
   },
   {
    "duration": 11,
    "start_time": "2024-03-24T00:46:47.225Z"
   },
   {
    "duration": 7,
    "start_time": "2024-03-24T00:46:47.237Z"
   },
   {
    "duration": 15,
    "start_time": "2024-03-24T00:46:47.245Z"
   },
   {
    "duration": 7,
    "start_time": "2024-03-24T00:46:47.264Z"
   },
   {
    "duration": 6,
    "start_time": "2024-03-24T00:46:47.272Z"
   },
   {
    "duration": 6,
    "start_time": "2024-03-24T00:46:47.279Z"
   },
   {
    "duration": 8,
    "start_time": "2024-03-24T00:46:47.286Z"
   },
   {
    "duration": 7,
    "start_time": "2024-03-24T00:46:47.295Z"
   },
   {
    "duration": 36,
    "start_time": "2024-03-24T00:46:47.303Z"
   },
   {
    "duration": 1116,
    "start_time": "2024-03-24T00:46:47.340Z"
   },
   {
    "duration": 79,
    "start_time": "2024-03-24T00:46:48.458Z"
   },
   {
    "duration": 4,
    "start_time": "2024-03-24T00:46:48.539Z"
   },
   {
    "duration": 196,
    "start_time": "2024-03-24T00:46:48.544Z"
   },
   {
    "duration": 4,
    "start_time": "2024-03-24T00:46:48.742Z"
   },
   {
    "duration": 21,
    "start_time": "2024-03-24T00:46:48.747Z"
   },
   {
    "duration": 264,
    "start_time": "2024-03-24T00:46:48.770Z"
   },
   {
    "duration": 27,
    "start_time": "2024-03-24T00:50:40.680Z"
   },
   {
    "duration": 28,
    "start_time": "2024-03-24T00:50:41.024Z"
   },
   {
    "duration": 14,
    "start_time": "2024-03-24T00:50:41.255Z"
   },
   {
    "duration": 28,
    "start_time": "2024-03-24T00:53:30.244Z"
   },
   {
    "duration": 31,
    "start_time": "2024-03-24T00:53:30.419Z"
   },
   {
    "duration": 15,
    "start_time": "2024-03-24T00:53:30.619Z"
   },
   {
    "duration": 28,
    "start_time": "2024-03-24T01:00:01.529Z"
   },
   {
    "duration": 25,
    "start_time": "2024-03-24T01:00:01.739Z"
   },
   {
    "duration": 16,
    "start_time": "2024-03-24T01:00:01.909Z"
   },
   {
    "duration": 1010,
    "start_time": "2024-03-24T01:01:50.271Z"
   },
   {
    "duration": 29,
    "start_time": "2024-03-24T01:01:51.283Z"
   },
   {
    "duration": 27,
    "start_time": "2024-03-24T01:01:51.313Z"
   },
   {
    "duration": 14,
    "start_time": "2024-03-24T01:01:51.342Z"
   },
   {
    "duration": 9,
    "start_time": "2024-03-24T01:01:51.358Z"
   },
   {
    "duration": 37,
    "start_time": "2024-03-24T01:01:51.368Z"
   },
   {
    "duration": 115,
    "start_time": "2024-03-24T01:01:51.406Z"
   },
   {
    "duration": 94,
    "start_time": "2024-03-24T01:01:51.522Z"
   },
   {
    "duration": 64,
    "start_time": "2024-03-24T01:01:51.618Z"
   },
   {
    "duration": 45,
    "start_time": "2024-03-24T01:01:51.684Z"
   },
   {
    "duration": 54,
    "start_time": "2024-03-24T01:01:51.730Z"
   },
   {
    "duration": 14,
    "start_time": "2024-03-24T01:01:51.785Z"
   },
   {
    "duration": 17,
    "start_time": "2024-03-24T01:01:51.800Z"
   },
   {
    "duration": 10,
    "start_time": "2024-03-24T01:01:51.818Z"
   },
   {
    "duration": 24,
    "start_time": "2024-03-24T01:01:51.829Z"
   },
   {
    "duration": 21,
    "start_time": "2024-03-24T01:01:51.854Z"
   },
   {
    "duration": 15,
    "start_time": "2024-03-24T01:01:51.876Z"
   },
   {
    "duration": 12,
    "start_time": "2024-03-24T01:01:51.892Z"
   },
   {
    "duration": 13,
    "start_time": "2024-03-24T01:01:51.905Z"
   },
   {
    "duration": 23,
    "start_time": "2024-03-24T01:01:51.919Z"
   },
   {
    "duration": 10,
    "start_time": "2024-03-24T01:01:51.944Z"
   },
   {
    "duration": 5,
    "start_time": "2024-03-24T01:01:51.956Z"
   },
   {
    "duration": 47,
    "start_time": "2024-03-24T01:01:51.962Z"
   },
   {
    "duration": 3,
    "start_time": "2024-03-24T01:01:52.011Z"
   },
   {
    "duration": 8,
    "start_time": "2024-03-24T01:01:52.015Z"
   },
   {
    "duration": 26,
    "start_time": "2024-03-24T01:01:52.024Z"
   },
   {
    "duration": 138,
    "start_time": "2024-03-24T01:01:52.052Z"
   },
   {
    "duration": 8,
    "start_time": "2024-03-24T01:01:52.194Z"
   },
   {
    "duration": 140,
    "start_time": "2024-03-24T01:01:52.203Z"
   },
   {
    "duration": 146,
    "start_time": "2024-03-24T01:01:52.344Z"
   },
   {
    "duration": 10,
    "start_time": "2024-03-24T01:01:52.492Z"
   },
   {
    "duration": 22,
    "start_time": "2024-03-24T01:01:52.504Z"
   },
   {
    "duration": 17,
    "start_time": "2024-03-24T01:01:52.527Z"
   },
   {
    "duration": 164,
    "start_time": "2024-03-24T01:01:52.546Z"
   },
   {
    "duration": 7,
    "start_time": "2024-03-24T01:01:52.712Z"
   },
   {
    "duration": 14,
    "start_time": "2024-03-24T01:01:52.720Z"
   },
   {
    "duration": 20,
    "start_time": "2024-03-24T01:01:52.735Z"
   },
   {
    "duration": 210,
    "start_time": "2024-03-24T01:01:52.757Z"
   },
   {
    "duration": 7,
    "start_time": "2024-03-24T01:01:52.969Z"
   },
   {
    "duration": 48,
    "start_time": "2024-03-24T01:01:52.977Z"
   },
   {
    "duration": 20,
    "start_time": "2024-03-24T01:01:53.026Z"
   },
   {
    "duration": 24,
    "start_time": "2024-03-24T01:01:53.047Z"
   },
   {
    "duration": 170,
    "start_time": "2024-03-24T01:01:53.073Z"
   },
   {
    "duration": 6,
    "start_time": "2024-03-24T01:01:53.245Z"
   },
   {
    "duration": 18,
    "start_time": "2024-03-24T01:01:53.252Z"
   },
   {
    "duration": 11,
    "start_time": "2024-03-24T01:01:53.271Z"
   },
   {
    "duration": 210,
    "start_time": "2024-03-24T01:01:53.283Z"
   },
   {
    "duration": 10,
    "start_time": "2024-03-24T01:01:53.495Z"
   },
   {
    "duration": 26,
    "start_time": "2024-03-24T01:01:53.506Z"
   },
   {
    "duration": 4,
    "start_time": "2024-03-24T01:01:53.533Z"
   },
   {
    "duration": 10,
    "start_time": "2024-03-24T01:01:53.538Z"
   },
   {
    "duration": 9,
    "start_time": "2024-03-24T01:01:53.550Z"
   },
   {
    "duration": 12,
    "start_time": "2024-03-24T01:01:53.560Z"
   },
   {
    "duration": 9,
    "start_time": "2024-03-24T01:01:53.573Z"
   },
   {
    "duration": 37,
    "start_time": "2024-03-24T01:01:53.583Z"
   },
   {
    "duration": 85,
    "start_time": "2024-03-24T01:01:53.621Z"
   },
   {
    "duration": 5,
    "start_time": "2024-03-24T01:01:53.708Z"
   },
   {
    "duration": 35,
    "start_time": "2024-03-24T01:01:53.714Z"
   },
   {
    "duration": 17,
    "start_time": "2024-03-24T01:01:53.750Z"
   },
   {
    "duration": 4,
    "start_time": "2024-03-24T01:01:53.769Z"
   },
   {
    "duration": 10,
    "start_time": "2024-03-24T01:01:53.774Z"
   },
   {
    "duration": 19,
    "start_time": "2024-03-24T01:01:53.785Z"
   },
   {
    "duration": 5,
    "start_time": "2024-03-24T01:01:53.806Z"
   },
   {
    "duration": 19,
    "start_time": "2024-03-24T01:01:53.812Z"
   },
   {
    "duration": 17,
    "start_time": "2024-03-24T01:01:53.832Z"
   },
   {
    "duration": 37,
    "start_time": "2024-03-24T01:01:53.850Z"
   },
   {
    "duration": 40,
    "start_time": "2024-03-24T01:01:53.888Z"
   },
   {
    "duration": 151,
    "start_time": "2024-03-24T01:01:53.930Z"
   },
   {
    "duration": 155,
    "start_time": "2024-03-24T01:01:54.082Z"
   },
   {
    "duration": 4,
    "start_time": "2024-03-24T01:01:54.238Z"
   },
   {
    "duration": 31,
    "start_time": "2024-03-24T01:01:54.243Z"
   },
   {
    "duration": 14,
    "start_time": "2024-03-24T01:01:54.275Z"
   },
   {
    "duration": 11,
    "start_time": "2024-03-24T01:01:54.301Z"
   },
   {
    "duration": 35,
    "start_time": "2024-03-24T01:01:54.313Z"
   },
   {
    "duration": 16,
    "start_time": "2024-03-24T01:01:54.350Z"
   },
   {
    "duration": 22,
    "start_time": "2024-03-24T01:01:54.367Z"
   },
   {
    "duration": 8,
    "start_time": "2024-03-24T01:01:54.391Z"
   },
   {
    "duration": 5,
    "start_time": "2024-03-24T01:01:54.401Z"
   },
   {
    "duration": 6,
    "start_time": "2024-03-24T01:01:54.407Z"
   },
   {
    "duration": 6,
    "start_time": "2024-03-24T01:01:54.414Z"
   },
   {
    "duration": 5,
    "start_time": "2024-03-24T01:01:54.422Z"
   },
   {
    "duration": 8,
    "start_time": "2024-03-24T01:01:54.432Z"
   },
   {
    "duration": 33,
    "start_time": "2024-03-24T01:01:54.441Z"
   },
   {
    "duration": 8,
    "start_time": "2024-03-24T01:01:54.476Z"
   },
   {
    "duration": 4,
    "start_time": "2024-03-24T01:01:54.485Z"
   },
   {
    "duration": 8,
    "start_time": "2024-03-24T01:01:54.490Z"
   },
   {
    "duration": 40,
    "start_time": "2024-03-24T01:01:54.499Z"
   },
   {
    "duration": 1113,
    "start_time": "2024-03-24T01:01:54.540Z"
   },
   {
    "duration": 71,
    "start_time": "2024-03-24T01:01:55.654Z"
   },
   {
    "duration": 4,
    "start_time": "2024-03-24T01:01:55.726Z"
   },
   {
    "duration": 203,
    "start_time": "2024-03-24T01:01:55.731Z"
   },
   {
    "duration": 5,
    "start_time": "2024-03-24T01:01:55.935Z"
   },
   {
    "duration": 7,
    "start_time": "2024-03-24T01:01:55.941Z"
   },
   {
    "duration": 198,
    "start_time": "2024-03-24T01:01:55.949Z"
   },
   {
    "duration": 2,
    "start_time": "2024-03-24T01:14:27.865Z"
   },
   {
    "duration": 27,
    "start_time": "2024-03-24T01:14:28.445Z"
   },
   {
    "duration": 26,
    "start_time": "2024-03-24T01:14:28.583Z"
   },
   {
    "duration": 16,
    "start_time": "2024-03-24T01:14:28.758Z"
   },
   {
    "duration": 7,
    "start_time": "2024-03-24T01:14:31.417Z"
   },
   {
    "duration": 10,
    "start_time": "2024-03-24T01:14:31.588Z"
   },
   {
    "duration": 4,
    "start_time": "2024-03-24T01:14:31.763Z"
   },
   {
    "duration": 7,
    "start_time": "2024-03-24T01:14:32.345Z"
   },
   {
    "duration": 3,
    "start_time": "2024-03-24T01:17:11.163Z"
   },
   {
    "duration": 29,
    "start_time": "2024-03-24T01:17:11.842Z"
   },
   {
    "duration": 25,
    "start_time": "2024-03-24T01:17:12.036Z"
   },
   {
    "duration": 16,
    "start_time": "2024-03-24T01:17:12.186Z"
   },
   {
    "duration": 7,
    "start_time": "2024-03-24T01:17:12.754Z"
   },
   {
    "duration": 8,
    "start_time": "2024-03-24T01:17:13.054Z"
   },
   {
    "duration": 3,
    "start_time": "2024-03-24T01:17:13.258Z"
   },
   {
    "duration": 6,
    "start_time": "2024-03-24T01:17:14.040Z"
   },
   {
    "duration": 12,
    "start_time": "2024-03-24T01:17:14.164Z"
   },
   {
    "duration": 4,
    "start_time": "2024-03-24T01:17:14.344Z"
   },
   {
    "duration": 6,
    "start_time": "2024-03-24T01:17:14.522Z"
   },
   {
    "duration": 6,
    "start_time": "2024-03-24T01:17:15.170Z"
   },
   {
    "duration": 8,
    "start_time": "2024-03-24T01:17:15.246Z"
   },
   {
    "duration": 3,
    "start_time": "2024-03-24T01:17:15.438Z"
   },
   {
    "duration": 5,
    "start_time": "2024-03-24T01:17:16.328Z"
   },
   {
    "duration": 8,
    "start_time": "2024-03-24T01:17:16.554Z"
   },
   {
    "duration": 9,
    "start_time": "2024-03-24T01:17:16.756Z"
   },
   {
    "duration": 3,
    "start_time": "2024-03-24T01:17:17.214Z"
   },
   {
    "duration": 1054,
    "start_time": "2024-03-24T01:17:27.223Z"
   },
   {
    "duration": 29,
    "start_time": "2024-03-24T01:17:28.278Z"
   },
   {
    "duration": 26,
    "start_time": "2024-03-24T01:17:28.308Z"
   },
   {
    "duration": 14,
    "start_time": "2024-03-24T01:17:28.336Z"
   },
   {
    "duration": 11,
    "start_time": "2024-03-24T01:17:28.352Z"
   },
   {
    "duration": 13,
    "start_time": "2024-03-24T01:17:28.364Z"
   },
   {
    "duration": 12,
    "start_time": "2024-03-24T01:17:28.378Z"
   },
   {
    "duration": 19,
    "start_time": "2024-03-24T01:17:28.391Z"
   },
   {
    "duration": 12,
    "start_time": "2024-03-24T01:17:28.411Z"
   },
   {
    "duration": 3,
    "start_time": "2024-03-24T01:17:28.425Z"
   },
   {
    "duration": 8,
    "start_time": "2024-03-24T01:17:28.429Z"
   },
   {
    "duration": 16,
    "start_time": "2024-03-24T01:17:28.438Z"
   },
   {
    "duration": 10,
    "start_time": "2024-03-24T01:17:28.455Z"
   },
   {
    "duration": 21,
    "start_time": "2024-03-24T01:17:28.466Z"
   },
   {
    "duration": 19,
    "start_time": "2024-03-24T01:17:28.488Z"
   },
   {
    "duration": 23,
    "start_time": "2024-03-24T01:17:28.508Z"
   },
   {
    "duration": 6,
    "start_time": "2024-03-24T01:17:28.532Z"
   },
   {
    "duration": 14,
    "start_time": "2024-03-24T01:17:28.539Z"
   },
   {
    "duration": 11,
    "start_time": "2024-03-24T01:17:28.555Z"
   },
   {
    "duration": 8,
    "start_time": "2024-03-24T01:17:28.567Z"
   },
   {
    "duration": 14,
    "start_time": "2024-03-24T01:17:28.576Z"
   },
   {
    "duration": 8,
    "start_time": "2024-03-24T01:17:28.591Z"
   },
   {
    "duration": 18,
    "start_time": "2024-03-24T01:17:28.600Z"
   },
   {
    "duration": 4,
    "start_time": "2024-03-24T01:17:28.619Z"
   },
   {
    "duration": 16,
    "start_time": "2024-03-24T01:17:28.624Z"
   },
   {
    "duration": 11,
    "start_time": "2024-03-24T01:17:28.641Z"
   },
   {
    "duration": 145,
    "start_time": "2024-03-24T01:17:28.653Z"
   },
   {
    "duration": 5,
    "start_time": "2024-03-24T01:17:28.802Z"
   },
   {
    "duration": 108,
    "start_time": "2024-03-24T01:17:28.808Z"
   },
   {
    "duration": 141,
    "start_time": "2024-03-24T01:17:28.917Z"
   },
   {
    "duration": 6,
    "start_time": "2024-03-24T01:17:29.059Z"
   },
   {
    "duration": 20,
    "start_time": "2024-03-24T01:17:29.066Z"
   },
   {
    "duration": 14,
    "start_time": "2024-03-24T01:17:29.087Z"
   },
   {
    "duration": 182,
    "start_time": "2024-03-24T01:17:29.102Z"
   },
   {
    "duration": 6,
    "start_time": "2024-03-24T01:17:29.286Z"
   },
   {
    "duration": 15,
    "start_time": "2024-03-24T01:17:29.293Z"
   },
   {
    "duration": 7,
    "start_time": "2024-03-24T01:17:29.309Z"
   },
   {
    "duration": 219,
    "start_time": "2024-03-24T01:17:29.317Z"
   },
   {
    "duration": 7,
    "start_time": "2024-03-24T01:17:29.537Z"
   },
   {
    "duration": 10,
    "start_time": "2024-03-24T01:17:29.545Z"
   },
   {
    "duration": 9,
    "start_time": "2024-03-24T01:17:29.556Z"
   },
   {
    "duration": 16,
    "start_time": "2024-03-24T01:17:29.566Z"
   },
   {
    "duration": 157,
    "start_time": "2024-03-24T01:17:29.583Z"
   },
   {
    "duration": 6,
    "start_time": "2024-03-24T01:17:29.742Z"
   },
   {
    "duration": 14,
    "start_time": "2024-03-24T01:17:29.749Z"
   },
   {
    "duration": 6,
    "start_time": "2024-03-24T01:17:29.764Z"
   },
   {
    "duration": 215,
    "start_time": "2024-03-24T01:17:29.771Z"
   },
   {
    "duration": 5,
    "start_time": "2024-03-24T01:17:29.988Z"
   },
   {
    "duration": 9,
    "start_time": "2024-03-24T01:17:30.001Z"
   },
   {
    "duration": 11,
    "start_time": "2024-03-24T01:17:30.011Z"
   },
   {
    "duration": 41,
    "start_time": "2024-03-24T01:17:30.023Z"
   },
   {
    "duration": 43,
    "start_time": "2024-03-24T01:17:30.065Z"
   },
   {
    "duration": 54,
    "start_time": "2024-03-24T01:17:30.109Z"
   },
   {
    "duration": 47,
    "start_time": "2024-03-24T01:17:30.165Z"
   },
   {
    "duration": 196,
    "start_time": "2024-03-24T01:17:30.213Z"
   },
   {
    "duration": 11,
    "start_time": "2024-03-24T01:17:30.411Z"
   },
   {
    "duration": 34,
    "start_time": "2024-03-24T01:17:30.423Z"
   },
   {
    "duration": 61,
    "start_time": "2024-03-24T01:17:30.458Z"
   },
   {
    "duration": 33,
    "start_time": "2024-03-24T01:17:30.520Z"
   },
   {
    "duration": 55,
    "start_time": "2024-03-24T01:17:30.554Z"
   },
   {
    "duration": 49,
    "start_time": "2024-03-24T01:17:30.611Z"
   },
   {
    "duration": 55,
    "start_time": "2024-03-24T01:17:30.662Z"
   },
   {
    "duration": 70,
    "start_time": "2024-03-24T01:17:30.718Z"
   },
   {
    "duration": 187,
    "start_time": "2024-03-24T01:17:30.789Z"
   },
   {
    "duration": 142,
    "start_time": "2024-03-24T01:17:30.977Z"
   },
   {
    "duration": 133,
    "start_time": "2024-03-24T01:17:31.120Z"
   },
   {
    "duration": 100,
    "start_time": "2024-03-24T01:17:31.255Z"
   },
   {
    "duration": 157,
    "start_time": "2024-03-24T01:17:31.356Z"
   },
   {
    "duration": 147,
    "start_time": "2024-03-24T01:17:31.515Z"
   },
   {
    "duration": 5,
    "start_time": "2024-03-24T01:17:31.663Z"
   },
   {
    "duration": 42,
    "start_time": "2024-03-24T01:17:31.669Z"
   },
   {
    "duration": 12,
    "start_time": "2024-03-24T01:17:31.712Z"
   },
   {
    "duration": 11,
    "start_time": "2024-03-24T01:17:31.725Z"
   },
   {
    "duration": 18,
    "start_time": "2024-03-24T01:17:31.737Z"
   },
   {
    "duration": 13,
    "start_time": "2024-03-24T01:17:31.759Z"
   },
   {
    "duration": 10,
    "start_time": "2024-03-24T01:17:31.773Z"
   },
   {
    "duration": 21,
    "start_time": "2024-03-24T01:17:31.784Z"
   },
   {
    "duration": 13,
    "start_time": "2024-03-24T01:17:31.806Z"
   },
   {
    "duration": 13,
    "start_time": "2024-03-24T01:17:31.820Z"
   },
   {
    "duration": 16,
    "start_time": "2024-03-24T01:17:31.834Z"
   },
   {
    "duration": 9,
    "start_time": "2024-03-24T01:17:31.852Z"
   },
   {
    "duration": 15,
    "start_time": "2024-03-24T01:17:31.866Z"
   },
   {
    "duration": 8,
    "start_time": "2024-03-24T01:17:31.882Z"
   },
   {
    "duration": 13,
    "start_time": "2024-03-24T01:17:31.892Z"
   },
   {
    "duration": 12,
    "start_time": "2024-03-24T01:17:31.906Z"
   },
   {
    "duration": 13,
    "start_time": "2024-03-24T01:17:31.919Z"
   },
   {
    "duration": 47,
    "start_time": "2024-03-24T01:17:31.933Z"
   },
   {
    "duration": 1111,
    "start_time": "2024-03-24T01:17:31.982Z"
   },
   {
    "duration": 76,
    "start_time": "2024-03-24T01:17:33.095Z"
   },
   {
    "duration": 4,
    "start_time": "2024-03-24T01:17:33.172Z"
   },
   {
    "duration": 255,
    "start_time": "2024-03-24T01:17:33.178Z"
   },
   {
    "duration": 4,
    "start_time": "2024-03-24T01:17:33.435Z"
   },
   {
    "duration": 8,
    "start_time": "2024-03-24T01:17:33.440Z"
   },
   {
    "duration": 203,
    "start_time": "2024-03-24T01:17:33.449Z"
   },
   {
    "duration": 3,
    "start_time": "2024-03-24T01:23:31.955Z"
   },
   {
    "duration": 28,
    "start_time": "2024-03-24T01:28:15.056Z"
   },
   {
    "duration": 26,
    "start_time": "2024-03-24T01:28:15.464Z"
   },
   {
    "duration": 14,
    "start_time": "2024-03-24T01:28:15.796Z"
   },
   {
    "duration": 6,
    "start_time": "2024-03-24T01:28:57.432Z"
   },
   {
    "duration": 1011,
    "start_time": "2024-03-24T01:34:25.255Z"
   },
   {
    "duration": 29,
    "start_time": "2024-03-24T01:34:26.268Z"
   },
   {
    "duration": 33,
    "start_time": "2024-03-24T01:34:26.298Z"
   },
   {
    "duration": 15,
    "start_time": "2024-03-24T01:34:26.333Z"
   },
   {
    "duration": 10,
    "start_time": "2024-03-24T01:34:26.349Z"
   },
   {
    "duration": 11,
    "start_time": "2024-03-24T01:34:26.360Z"
   },
   {
    "duration": 12,
    "start_time": "2024-03-24T01:34:26.372Z"
   },
   {
    "duration": 17,
    "start_time": "2024-03-24T01:34:26.385Z"
   },
   {
    "duration": 17,
    "start_time": "2024-03-24T01:34:26.403Z"
   },
   {
    "duration": 3,
    "start_time": "2024-03-24T01:34:26.422Z"
   },
   {
    "duration": 9,
    "start_time": "2024-03-24T01:34:26.426Z"
   },
   {
    "duration": 8,
    "start_time": "2024-03-24T01:34:26.436Z"
   },
   {
    "duration": 11,
    "start_time": "2024-03-24T01:34:26.446Z"
   },
   {
    "duration": 10,
    "start_time": "2024-03-24T01:34:26.458Z"
   },
   {
    "duration": 13,
    "start_time": "2024-03-24T01:34:26.469Z"
   },
   {
    "duration": 11,
    "start_time": "2024-03-24T01:34:26.483Z"
   },
   {
    "duration": 6,
    "start_time": "2024-03-24T01:34:26.496Z"
   },
   {
    "duration": 7,
    "start_time": "2024-03-24T01:34:26.503Z"
   },
   {
    "duration": 16,
    "start_time": "2024-03-24T01:34:26.512Z"
   },
   {
    "duration": 7,
    "start_time": "2024-03-24T01:34:26.529Z"
   },
   {
    "duration": 5,
    "start_time": "2024-03-24T01:34:26.537Z"
   },
   {
    "duration": 4,
    "start_time": "2024-03-24T01:34:26.543Z"
   },
   {
    "duration": 8,
    "start_time": "2024-03-24T01:34:26.548Z"
   },
   {
    "duration": 6,
    "start_time": "2024-03-24T01:34:26.557Z"
   },
   {
    "duration": 9,
    "start_time": "2024-03-24T01:34:26.564Z"
   },
   {
    "duration": 7,
    "start_time": "2024-03-24T01:34:26.574Z"
   },
   {
    "duration": 135,
    "start_time": "2024-03-24T01:34:26.582Z"
   },
   {
    "duration": 4,
    "start_time": "2024-03-24T01:34:26.721Z"
   },
   {
    "duration": 108,
    "start_time": "2024-03-24T01:34:26.726Z"
   },
   {
    "duration": 143,
    "start_time": "2024-03-24T01:34:26.835Z"
   },
   {
    "duration": 6,
    "start_time": "2024-03-24T01:34:26.979Z"
   },
   {
    "duration": 18,
    "start_time": "2024-03-24T01:34:26.986Z"
   },
   {
    "duration": 11,
    "start_time": "2024-03-24T01:34:27.005Z"
   },
   {
    "duration": 156,
    "start_time": "2024-03-24T01:34:27.017Z"
   },
   {
    "duration": 7,
    "start_time": "2024-03-24T01:34:27.174Z"
   },
   {
    "duration": 6,
    "start_time": "2024-03-24T01:34:27.182Z"
   },
   {
    "duration": 6,
    "start_time": "2024-03-24T01:34:27.202Z"
   },
   {
    "duration": 205,
    "start_time": "2024-03-24T01:34:27.210Z"
   },
   {
    "duration": 8,
    "start_time": "2024-03-24T01:34:27.416Z"
   },
   {
    "duration": 6,
    "start_time": "2024-03-24T01:34:27.426Z"
   },
   {
    "duration": 6,
    "start_time": "2024-03-24T01:34:27.433Z"
   },
   {
    "duration": 9,
    "start_time": "2024-03-24T01:34:27.440Z"
   },
   {
    "duration": 174,
    "start_time": "2024-03-24T01:34:27.451Z"
   },
   {
    "duration": 8,
    "start_time": "2024-03-24T01:34:27.626Z"
   },
   {
    "duration": 7,
    "start_time": "2024-03-24T01:34:27.635Z"
   },
   {
    "duration": 5,
    "start_time": "2024-03-24T01:34:27.643Z"
   },
   {
    "duration": 223,
    "start_time": "2024-03-24T01:34:27.649Z"
   },
   {
    "duration": 5,
    "start_time": "2024-03-24T01:34:27.873Z"
   },
   {
    "duration": 7,
    "start_time": "2024-03-24T01:34:27.880Z"
   },
   {
    "duration": 14,
    "start_time": "2024-03-24T01:34:27.888Z"
   },
   {
    "duration": 3,
    "start_time": "2024-03-24T01:34:27.903Z"
   },
   {
    "duration": 5,
    "start_time": "2024-03-24T01:34:27.908Z"
   },
   {
    "duration": 11,
    "start_time": "2024-03-24T01:34:27.914Z"
   },
   {
    "duration": 8,
    "start_time": "2024-03-24T01:34:27.926Z"
   },
   {
    "duration": 26,
    "start_time": "2024-03-24T01:34:27.936Z"
   },
   {
    "duration": 84,
    "start_time": "2024-03-24T01:34:27.963Z"
   },
   {
    "duration": 3,
    "start_time": "2024-03-24T01:34:28.048Z"
   },
   {
    "duration": 26,
    "start_time": "2024-03-24T01:34:28.052Z"
   },
   {
    "duration": 11,
    "start_time": "2024-03-24T01:34:28.080Z"
   },
   {
    "duration": 10,
    "start_time": "2024-03-24T01:34:28.092Z"
   },
   {
    "duration": 3,
    "start_time": "2024-03-24T01:34:28.103Z"
   },
   {
    "duration": 4,
    "start_time": "2024-03-24T01:34:28.107Z"
   },
   {
    "duration": 12,
    "start_time": "2024-03-24T01:34:28.112Z"
   },
   {
    "duration": 9,
    "start_time": "2024-03-24T01:34:28.125Z"
   },
   {
    "duration": 9,
    "start_time": "2024-03-24T01:34:28.135Z"
   },
   {
    "duration": 27,
    "start_time": "2024-03-24T01:34:28.145Z"
   },
   {
    "duration": 49,
    "start_time": "2024-03-24T01:34:28.173Z"
   },
   {
    "duration": 141,
    "start_time": "2024-03-24T01:34:28.224Z"
   },
   {
    "duration": 153,
    "start_time": "2024-03-24T01:34:28.366Z"
   },
   {
    "duration": 4,
    "start_time": "2024-03-24T01:34:28.520Z"
   },
   {
    "duration": 24,
    "start_time": "2024-03-24T01:34:28.525Z"
   },
   {
    "duration": 13,
    "start_time": "2024-03-24T01:34:28.550Z"
   },
   {
    "duration": 10,
    "start_time": "2024-03-24T01:34:28.564Z"
   },
   {
    "duration": 28,
    "start_time": "2024-03-24T01:34:28.575Z"
   },
   {
    "duration": 9,
    "start_time": "2024-03-24T01:34:28.604Z"
   },
   {
    "duration": 21,
    "start_time": "2024-03-24T01:34:28.615Z"
   },
   {
    "duration": 10,
    "start_time": "2024-03-24T01:34:28.637Z"
   },
   {
    "duration": 19,
    "start_time": "2024-03-24T01:34:28.648Z"
   },
   {
    "duration": 5,
    "start_time": "2024-03-24T01:34:28.668Z"
   },
   {
    "duration": 6,
    "start_time": "2024-03-24T01:34:28.674Z"
   },
   {
    "duration": 8,
    "start_time": "2024-03-24T01:34:28.681Z"
   },
   {
    "duration": 3,
    "start_time": "2024-03-24T01:34:28.705Z"
   },
   {
    "duration": 17,
    "start_time": "2024-03-24T01:34:28.709Z"
   },
   {
    "duration": 8,
    "start_time": "2024-03-24T01:34:28.727Z"
   },
   {
    "duration": 9,
    "start_time": "2024-03-24T01:34:28.736Z"
   },
   {
    "duration": 31,
    "start_time": "2024-03-24T01:34:28.746Z"
   },
   {
    "duration": 47,
    "start_time": "2024-03-24T01:34:28.778Z"
   },
   {
    "duration": 1097,
    "start_time": "2024-03-24T01:34:28.826Z"
   },
   {
    "duration": 76,
    "start_time": "2024-03-24T01:34:29.925Z"
   },
   {
    "duration": 4,
    "start_time": "2024-03-24T01:34:30.005Z"
   },
   {
    "duration": 228,
    "start_time": "2024-03-24T01:34:30.011Z"
   },
   {
    "duration": 5,
    "start_time": "2024-03-24T01:34:30.240Z"
   },
   {
    "duration": 111,
    "start_time": "2024-03-24T01:34:30.246Z"
   },
   {
    "duration": 287,
    "start_time": "2024-03-24T01:34:30.359Z"
   },
   {
    "duration": 3,
    "start_time": "2024-03-24T01:35:41.299Z"
   },
   {
    "duration": 6,
    "start_time": "2024-03-24T01:35:42.269Z"
   },
   {
    "duration": 9,
    "start_time": "2024-03-24T01:35:42.477Z"
   },
   {
    "duration": 3,
    "start_time": "2024-03-24T01:35:42.866Z"
   },
   {
    "duration": 53,
    "start_time": "2024-03-24T08:28:27.208Z"
   },
   {
    "duration": 1384,
    "start_time": "2024-03-24T08:28:39.538Z"
   },
   {
    "duration": 112,
    "start_time": "2024-03-24T08:28:40.924Z"
   },
   {
    "duration": 146,
    "start_time": "2024-03-24T08:28:41.038Z"
   },
   {
    "duration": 72,
    "start_time": "2024-03-24T08:28:41.186Z"
   },
   {
    "duration": 13,
    "start_time": "2024-03-24T08:28:41.259Z"
   },
   {
    "duration": 13,
    "start_time": "2024-03-24T08:28:41.273Z"
   },
   {
    "duration": 9,
    "start_time": "2024-03-24T08:28:41.288Z"
   },
   {
    "duration": 12,
    "start_time": "2024-03-24T08:28:41.298Z"
   },
   {
    "duration": 15,
    "start_time": "2024-03-24T08:28:41.311Z"
   },
   {
    "duration": 4,
    "start_time": "2024-03-24T08:28:41.328Z"
   },
   {
    "duration": 17,
    "start_time": "2024-03-24T08:28:41.333Z"
   },
   {
    "duration": 30,
    "start_time": "2024-03-24T08:28:41.351Z"
   },
   {
    "duration": 17,
    "start_time": "2024-03-24T08:28:41.383Z"
   },
   {
    "duration": 9,
    "start_time": "2024-03-24T08:28:41.401Z"
   },
   {
    "duration": 18,
    "start_time": "2024-03-24T08:28:41.411Z"
   },
   {
    "duration": 8,
    "start_time": "2024-03-24T08:28:41.431Z"
   },
   {
    "duration": 7,
    "start_time": "2024-03-24T08:28:41.441Z"
   },
   {
    "duration": 25,
    "start_time": "2024-03-24T08:28:41.449Z"
   },
   {
    "duration": 9,
    "start_time": "2024-03-24T08:28:41.475Z"
   },
   {
    "duration": 22,
    "start_time": "2024-03-24T08:28:41.485Z"
   },
   {
    "duration": 9,
    "start_time": "2024-03-24T08:28:41.508Z"
   },
   {
    "duration": 43,
    "start_time": "2024-03-24T08:28:41.518Z"
   },
   {
    "duration": 5,
    "start_time": "2024-03-24T08:28:41.562Z"
   },
   {
    "duration": 22,
    "start_time": "2024-03-24T08:28:41.569Z"
   },
   {
    "duration": 19,
    "start_time": "2024-03-24T08:28:41.593Z"
   },
   {
    "duration": 185,
    "start_time": "2024-03-24T08:28:41.614Z"
   },
   {
    "duration": 7,
    "start_time": "2024-03-24T08:28:41.801Z"
   },
   {
    "duration": 137,
    "start_time": "2024-03-24T08:28:41.812Z"
   },
   {
    "duration": 193,
    "start_time": "2024-03-24T08:28:41.951Z"
   },
   {
    "duration": 8,
    "start_time": "2024-03-24T08:28:42.145Z"
   },
   {
    "duration": 20,
    "start_time": "2024-03-24T08:28:42.155Z"
   },
   {
    "duration": 9,
    "start_time": "2024-03-24T08:28:42.177Z"
   },
   {
    "duration": 222,
    "start_time": "2024-03-24T08:28:42.188Z"
   },
   {
    "duration": 9,
    "start_time": "2024-03-24T08:28:42.413Z"
   },
   {
    "duration": 8,
    "start_time": "2024-03-24T08:28:42.423Z"
   },
   {
    "duration": 13,
    "start_time": "2024-03-24T08:28:42.433Z"
   },
   {
    "duration": 271,
    "start_time": "2024-03-24T08:28:42.447Z"
   },
   {
    "duration": 9,
    "start_time": "2024-03-24T08:28:42.719Z"
   },
   {
    "duration": 10,
    "start_time": "2024-03-24T08:28:42.730Z"
   },
   {
    "duration": 13,
    "start_time": "2024-03-24T08:28:42.741Z"
   },
   {
    "duration": 18,
    "start_time": "2024-03-24T08:28:42.756Z"
   },
   {
    "duration": 201,
    "start_time": "2024-03-24T08:28:42.775Z"
   },
   {
    "duration": 8,
    "start_time": "2024-03-24T08:28:42.978Z"
   },
   {
    "duration": 19,
    "start_time": "2024-03-24T08:28:42.988Z"
   },
   {
    "duration": 8,
    "start_time": "2024-03-24T08:28:43.009Z"
   },
   {
    "duration": 268,
    "start_time": "2024-03-24T08:28:43.019Z"
   },
   {
    "duration": 8,
    "start_time": "2024-03-24T08:28:43.289Z"
   },
   {
    "duration": 8,
    "start_time": "2024-03-24T08:28:43.298Z"
   },
   {
    "duration": 5,
    "start_time": "2024-03-24T08:28:43.307Z"
   },
   {
    "duration": 5,
    "start_time": "2024-03-24T08:28:43.314Z"
   },
   {
    "duration": 5,
    "start_time": "2024-03-24T08:28:43.320Z"
   },
   {
    "duration": 52,
    "start_time": "2024-03-24T08:28:43.327Z"
   },
   {
    "duration": 11,
    "start_time": "2024-03-24T08:28:43.381Z"
   },
   {
    "duration": 37,
    "start_time": "2024-03-24T08:28:43.394Z"
   },
   {
    "duration": 123,
    "start_time": "2024-03-24T08:28:43.433Z"
   },
   {
    "duration": 15,
    "start_time": "2024-03-24T08:28:43.558Z"
   },
   {
    "duration": 24,
    "start_time": "2024-03-24T08:28:43.574Z"
   },
   {
    "duration": 18,
    "start_time": "2024-03-24T08:28:43.600Z"
   },
   {
    "duration": 4,
    "start_time": "2024-03-24T08:28:43.619Z"
   },
   {
    "duration": 5,
    "start_time": "2024-03-24T08:28:43.624Z"
   },
   {
    "duration": 6,
    "start_time": "2024-03-24T08:28:43.630Z"
   },
   {
    "duration": 38,
    "start_time": "2024-03-24T08:28:43.638Z"
   },
   {
    "duration": 14,
    "start_time": "2024-03-24T08:28:43.677Z"
   },
   {
    "duration": 10,
    "start_time": "2024-03-24T08:28:43.693Z"
   },
   {
    "duration": 36,
    "start_time": "2024-03-24T08:28:43.705Z"
   },
   {
    "duration": 61,
    "start_time": "2024-03-24T08:28:43.742Z"
   },
   {
    "duration": 185,
    "start_time": "2024-03-24T08:28:43.805Z"
   },
   {
    "duration": 225,
    "start_time": "2024-03-24T08:28:43.993Z"
   },
   {
    "duration": 5,
    "start_time": "2024-03-24T08:28:44.220Z"
   },
   {
    "duration": 48,
    "start_time": "2024-03-24T08:28:44.226Z"
   },
   {
    "duration": 17,
    "start_time": "2024-03-24T08:28:44.275Z"
   },
   {
    "duration": 14,
    "start_time": "2024-03-24T08:28:44.293Z"
   },
   {
    "duration": 17,
    "start_time": "2024-03-24T08:28:44.308Z"
   },
   {
    "duration": 12,
    "start_time": "2024-03-24T08:28:44.326Z"
   },
   {
    "duration": 37,
    "start_time": "2024-03-24T08:28:44.340Z"
   },
   {
    "duration": 16,
    "start_time": "2024-03-24T08:28:44.378Z"
   },
   {
    "duration": 7,
    "start_time": "2024-03-24T08:28:44.395Z"
   },
   {
    "duration": 6,
    "start_time": "2024-03-24T08:28:44.404Z"
   },
   {
    "duration": 6,
    "start_time": "2024-03-24T08:28:44.411Z"
   },
   {
    "duration": 14,
    "start_time": "2024-03-24T08:28:44.419Z"
   },
   {
    "duration": 5,
    "start_time": "2024-03-24T08:28:44.434Z"
   },
   {
    "duration": 29,
    "start_time": "2024-03-24T08:28:44.444Z"
   },
   {
    "duration": 10,
    "start_time": "2024-03-24T08:28:44.474Z"
   },
   {
    "duration": 10,
    "start_time": "2024-03-24T08:28:44.485Z"
   },
   {
    "duration": 13,
    "start_time": "2024-03-24T08:28:44.497Z"
   },
   {
    "duration": 63,
    "start_time": "2024-03-24T08:28:44.511Z"
   },
   {
    "duration": 1517,
    "start_time": "2024-03-24T08:28:44.576Z"
   },
   {
    "duration": 120,
    "start_time": "2024-03-24T08:28:46.095Z"
   },
   {
    "duration": 4,
    "start_time": "2024-03-24T08:28:46.217Z"
   },
   {
    "duration": 334,
    "start_time": "2024-03-24T08:28:46.223Z"
   },
   {
    "duration": 16,
    "start_time": "2024-03-24T08:28:46.558Z"
   },
   {
    "duration": 10,
    "start_time": "2024-03-24T08:28:46.576Z"
   },
   {
    "duration": 251,
    "start_time": "2024-03-24T08:28:46.588Z"
   },
   {
    "duration": 6,
    "start_time": "2024-03-24T10:54:57.267Z"
   },
   {
    "duration": 5,
    "start_time": "2024-03-24T10:57:15.321Z"
   },
   {
    "duration": 7,
    "start_time": "2024-03-24T10:57:28.073Z"
   },
   {
    "duration": 6,
    "start_time": "2024-03-24T10:57:37.062Z"
   },
   {
    "duration": 6,
    "start_time": "2024-03-24T10:59:14.003Z"
   },
   {
    "duration": 81,
    "start_time": "2024-03-24T11:00:31.092Z"
   },
   {
    "duration": 7,
    "start_time": "2024-03-24T11:04:14.362Z"
   },
   {
    "duration": 138,
    "start_time": "2024-03-24T12:27:56.848Z"
   },
   {
    "duration": 1335,
    "start_time": "2024-03-24T12:34:19.167Z"
   },
   {
    "duration": 71,
    "start_time": "2024-03-24T12:34:20.504Z"
   },
   {
    "duration": 30,
    "start_time": "2024-03-24T12:34:20.577Z"
   },
   {
    "duration": 17,
    "start_time": "2024-03-24T12:34:20.609Z"
   },
   {
    "duration": 14,
    "start_time": "2024-03-24T12:34:20.627Z"
   },
   {
    "duration": 28,
    "start_time": "2024-03-24T12:34:20.642Z"
   },
   {
    "duration": 4,
    "start_time": "2024-03-24T12:34:20.672Z"
   },
   {
    "duration": 20,
    "start_time": "2024-03-24T12:34:20.677Z"
   },
   {
    "duration": 27,
    "start_time": "2024-03-24T12:34:20.699Z"
   },
   {
    "duration": 4,
    "start_time": "2024-03-24T12:34:20.729Z"
   },
   {
    "duration": 42,
    "start_time": "2024-03-24T12:34:20.734Z"
   },
   {
    "duration": 11,
    "start_time": "2024-03-24T12:34:20.777Z"
   },
   {
    "duration": 4,
    "start_time": "2024-03-24T12:34:20.790Z"
   },
   {
    "duration": 8,
    "start_time": "2024-03-24T12:34:20.796Z"
   },
   {
    "duration": 10,
    "start_time": "2024-03-24T12:34:20.806Z"
   },
   {
    "duration": 32,
    "start_time": "2024-03-24T12:34:20.818Z"
   },
   {
    "duration": 23,
    "start_time": "2024-03-24T12:34:20.851Z"
   },
   {
    "duration": 11,
    "start_time": "2024-03-24T12:34:20.875Z"
   },
   {
    "duration": 8,
    "start_time": "2024-03-24T12:34:20.888Z"
   },
   {
    "duration": 24,
    "start_time": "2024-03-24T12:34:20.897Z"
   },
   {
    "duration": 18,
    "start_time": "2024-03-24T12:34:20.922Z"
   },
   {
    "duration": 16,
    "start_time": "2024-03-24T12:34:20.942Z"
   },
   {
    "duration": 4,
    "start_time": "2024-03-24T12:34:20.959Z"
   },
   {
    "duration": 12,
    "start_time": "2024-03-24T12:34:20.964Z"
   },
   {
    "duration": 8,
    "start_time": "2024-03-24T12:34:20.977Z"
   },
   {
    "duration": 164,
    "start_time": "2024-03-24T12:34:20.986Z"
   },
   {
    "duration": 5,
    "start_time": "2024-03-24T12:34:21.152Z"
   },
   {
    "duration": 135,
    "start_time": "2024-03-24T12:34:21.174Z"
   },
   {
    "duration": 185,
    "start_time": "2024-03-24T12:34:21.311Z"
   },
   {
    "duration": 10,
    "start_time": "2024-03-24T12:34:21.497Z"
   },
   {
    "duration": 10,
    "start_time": "2024-03-24T12:34:21.509Z"
   },
   {
    "duration": 17,
    "start_time": "2024-03-24T12:34:21.520Z"
   },
   {
    "duration": 213,
    "start_time": "2024-03-24T12:34:21.539Z"
   },
   {
    "duration": 19,
    "start_time": "2024-03-24T12:34:21.754Z"
   },
   {
    "duration": 7,
    "start_time": "2024-03-24T12:34:21.775Z"
   },
   {
    "duration": 12,
    "start_time": "2024-03-24T12:34:21.784Z"
   },
   {
    "duration": 267,
    "start_time": "2024-03-24T12:34:21.798Z"
   },
   {
    "duration": 30,
    "start_time": "2024-03-24T12:34:22.067Z"
   },
   {
    "duration": 10,
    "start_time": "2024-03-24T12:34:22.099Z"
   },
   {
    "duration": 7,
    "start_time": "2024-03-24T12:34:22.111Z"
   },
   {
    "duration": 9,
    "start_time": "2024-03-24T12:34:22.121Z"
   },
   {
    "duration": 234,
    "start_time": "2024-03-24T12:34:22.132Z"
   },
   {
    "duration": 11,
    "start_time": "2024-03-24T12:34:22.367Z"
   },
   {
    "duration": 6,
    "start_time": "2024-03-24T12:34:22.380Z"
   },
   {
    "duration": 9,
    "start_time": "2024-03-24T12:34:22.387Z"
   },
   {
    "duration": 278,
    "start_time": "2024-03-24T12:34:22.397Z"
   },
   {
    "duration": 7,
    "start_time": "2024-03-24T12:34:22.677Z"
   },
   {
    "duration": 7,
    "start_time": "2024-03-24T12:34:22.686Z"
   },
   {
    "duration": 4,
    "start_time": "2024-03-24T12:34:22.694Z"
   },
   {
    "duration": 6,
    "start_time": "2024-03-24T12:34:22.700Z"
   },
   {
    "duration": 29,
    "start_time": "2024-03-24T12:34:22.707Z"
   },
   {
    "duration": 15,
    "start_time": "2024-03-24T12:34:22.738Z"
   },
   {
    "duration": 20,
    "start_time": "2024-03-24T12:34:22.755Z"
   },
   {
    "duration": 37,
    "start_time": "2024-03-24T12:34:22.777Z"
   },
   {
    "duration": 113,
    "start_time": "2024-03-24T12:34:22.816Z"
   },
   {
    "duration": 5,
    "start_time": "2024-03-24T12:34:22.930Z"
   },
   {
    "duration": 19,
    "start_time": "2024-03-24T12:34:22.936Z"
   },
   {
    "duration": 17,
    "start_time": "2024-03-24T12:34:22.972Z"
   },
   {
    "duration": 5,
    "start_time": "2024-03-24T12:34:22.991Z"
   },
   {
    "duration": 5,
    "start_time": "2024-03-24T12:34:22.997Z"
   },
   {
    "duration": 7,
    "start_time": "2024-03-24T12:34:23.003Z"
   },
   {
    "duration": 5,
    "start_time": "2024-03-24T12:34:23.012Z"
   },
   {
    "duration": 12,
    "start_time": "2024-03-24T12:34:23.019Z"
   },
   {
    "duration": 13,
    "start_time": "2024-03-24T12:34:23.072Z"
   },
   {
    "duration": 38,
    "start_time": "2024-03-24T12:34:23.086Z"
   },
   {
    "duration": 54,
    "start_time": "2024-03-24T12:34:23.125Z"
   },
   {
    "duration": 187,
    "start_time": "2024-03-24T12:34:23.180Z"
   },
   {
    "duration": 226,
    "start_time": "2024-03-24T12:34:23.368Z"
   },
   {
    "duration": 5,
    "start_time": "2024-03-24T12:34:23.595Z"
   },
   {
    "duration": 34,
    "start_time": "2024-03-24T12:34:23.602Z"
   },
   {
    "duration": 42,
    "start_time": "2024-03-24T12:34:23.637Z"
   },
   {
    "duration": 15,
    "start_time": "2024-03-24T12:34:23.681Z"
   },
   {
    "duration": 13,
    "start_time": "2024-03-24T12:34:23.697Z"
   },
   {
    "duration": 13,
    "start_time": "2024-03-24T12:34:23.712Z"
   },
   {
    "duration": 11,
    "start_time": "2024-03-24T12:34:23.727Z"
   },
   {
    "duration": 40,
    "start_time": "2024-03-24T12:34:23.739Z"
   },
   {
    "duration": 8,
    "start_time": "2024-03-24T12:34:23.780Z"
   },
   {
    "duration": 7,
    "start_time": "2024-03-24T12:34:23.789Z"
   },
   {
    "duration": 10,
    "start_time": "2024-03-24T12:34:23.797Z"
   },
   {
    "duration": 13,
    "start_time": "2024-03-24T12:34:23.809Z"
   },
   {
    "duration": 11,
    "start_time": "2024-03-24T12:34:23.824Z"
   },
   {
    "duration": 19,
    "start_time": "2024-03-24T12:34:23.841Z"
   },
   {
    "duration": 5,
    "start_time": "2024-03-24T12:34:23.861Z"
   },
   {
    "duration": 4,
    "start_time": "2024-03-24T12:34:23.874Z"
   },
   {
    "duration": 5,
    "start_time": "2024-03-24T12:34:23.879Z"
   },
   {
    "duration": 55,
    "start_time": "2024-03-24T12:34:23.885Z"
   },
   {
    "duration": 1597,
    "start_time": "2024-03-24T12:34:23.942Z"
   },
   {
    "duration": 127,
    "start_time": "2024-03-24T12:34:25.540Z"
   },
   {
    "duration": 4,
    "start_time": "2024-03-24T12:34:25.669Z"
   },
   {
    "duration": 266,
    "start_time": "2024-03-24T12:34:25.675Z"
   },
   {
    "duration": 5,
    "start_time": "2024-03-24T12:34:25.943Z"
   },
   {
    "duration": 26,
    "start_time": "2024-03-24T12:34:25.950Z"
   },
   {
    "duration": 289,
    "start_time": "2024-03-24T12:34:25.977Z"
   },
   {
    "duration": 36468,
    "start_time": "2024-03-24T12:34:26.272Z"
   },
   {
    "duration": 256,
    "start_time": "2024-03-24T12:37:27.343Z"
   },
   {
    "duration": 203,
    "start_time": "2024-03-24T12:39:42.004Z"
   },
   {
    "duration": 159,
    "start_time": "2024-03-24T12:41:30.607Z"
   },
   {
    "duration": 2,
    "start_time": "2024-03-24T12:43:22.557Z"
   },
   {
    "duration": 3,
    "start_time": "2024-03-24T12:43:26.745Z"
   },
   {
    "duration": 215,
    "start_time": "2024-03-24T12:43:32.532Z"
   },
   {
    "duration": 153,
    "start_time": "2024-03-24T12:46:07.519Z"
   },
   {
    "duration": 168,
    "start_time": "2024-03-24T12:47:57.574Z"
   },
   {
    "duration": 1217,
    "start_time": "2024-03-24T12:48:05.233Z"
   },
   {
    "duration": 30,
    "start_time": "2024-03-24T12:48:06.451Z"
   },
   {
    "duration": 30,
    "start_time": "2024-03-24T12:48:06.483Z"
   },
   {
    "duration": 15,
    "start_time": "2024-03-24T12:48:06.515Z"
   },
   {
    "duration": 13,
    "start_time": "2024-03-24T12:48:06.531Z"
   },
   {
    "duration": 11,
    "start_time": "2024-03-24T12:48:06.546Z"
   },
   {
    "duration": 10,
    "start_time": "2024-03-24T12:48:06.558Z"
   },
   {
    "duration": 8,
    "start_time": "2024-03-24T12:48:06.570Z"
   },
   {
    "duration": 13,
    "start_time": "2024-03-24T12:48:06.580Z"
   },
   {
    "duration": 4,
    "start_time": "2024-03-24T12:48:06.595Z"
   },
   {
    "duration": 18,
    "start_time": "2024-03-24T12:48:06.600Z"
   },
   {
    "duration": 14,
    "start_time": "2024-03-24T12:48:06.619Z"
   },
   {
    "duration": 19,
    "start_time": "2024-03-24T12:48:06.635Z"
   },
   {
    "duration": 12,
    "start_time": "2024-03-24T12:48:06.656Z"
   },
   {
    "duration": 11,
    "start_time": "2024-03-24T12:48:06.670Z"
   },
   {
    "duration": 9,
    "start_time": "2024-03-24T12:48:06.682Z"
   },
   {
    "duration": 13,
    "start_time": "2024-03-24T12:48:06.693Z"
   },
   {
    "duration": 13,
    "start_time": "2024-03-24T12:48:06.708Z"
   },
   {
    "duration": 9,
    "start_time": "2024-03-24T12:48:06.722Z"
   },
   {
    "duration": 14,
    "start_time": "2024-03-24T12:48:06.732Z"
   },
   {
    "duration": 4,
    "start_time": "2024-03-24T12:48:06.747Z"
   },
   {
    "duration": 27,
    "start_time": "2024-03-24T12:48:06.753Z"
   },
   {
    "duration": 4,
    "start_time": "2024-03-24T12:48:06.781Z"
   },
   {
    "duration": 13,
    "start_time": "2024-03-24T12:48:06.787Z"
   },
   {
    "duration": 10,
    "start_time": "2024-03-24T12:48:06.801Z"
   },
   {
    "duration": 183,
    "start_time": "2024-03-24T12:48:06.812Z"
   },
   {
    "duration": 7,
    "start_time": "2024-03-24T12:48:06.996Z"
   },
   {
    "duration": 167,
    "start_time": "2024-03-24T12:48:07.008Z"
   },
   {
    "duration": 198,
    "start_time": "2024-03-24T12:48:07.177Z"
   },
   {
    "duration": 7,
    "start_time": "2024-03-24T12:48:07.377Z"
   },
   {
    "duration": 12,
    "start_time": "2024-03-24T12:48:07.385Z"
   },
   {
    "duration": 14,
    "start_time": "2024-03-24T12:48:07.398Z"
   },
   {
    "duration": 201,
    "start_time": "2024-03-24T12:48:07.414Z"
   },
   {
    "duration": 8,
    "start_time": "2024-03-24T12:48:07.617Z"
   },
   {
    "duration": 7,
    "start_time": "2024-03-24T12:48:07.626Z"
   },
   {
    "duration": 12,
    "start_time": "2024-03-24T12:48:07.635Z"
   },
   {
    "duration": 267,
    "start_time": "2024-03-24T12:48:07.649Z"
   },
   {
    "duration": 8,
    "start_time": "2024-03-24T12:48:07.918Z"
   },
   {
    "duration": 29,
    "start_time": "2024-03-24T12:48:07.927Z"
   },
   {
    "duration": 10,
    "start_time": "2024-03-24T12:48:07.957Z"
   },
   {
    "duration": 17,
    "start_time": "2024-03-24T12:48:07.969Z"
   },
   {
    "duration": 221,
    "start_time": "2024-03-24T12:48:07.987Z"
   },
   {
    "duration": 9,
    "start_time": "2024-03-24T12:48:08.209Z"
   },
   {
    "duration": 6,
    "start_time": "2024-03-24T12:48:08.220Z"
   },
   {
    "duration": 6,
    "start_time": "2024-03-24T12:48:08.228Z"
   },
   {
    "duration": 286,
    "start_time": "2024-03-24T12:48:08.235Z"
   },
   {
    "duration": 7,
    "start_time": "2024-03-24T12:48:08.523Z"
   },
   {
    "duration": 9,
    "start_time": "2024-03-24T12:48:08.531Z"
   },
   {
    "duration": 10,
    "start_time": "2024-03-24T12:48:08.541Z"
   },
   {
    "duration": 22,
    "start_time": "2024-03-24T12:48:08.552Z"
   },
   {
    "duration": 4,
    "start_time": "2024-03-24T12:48:08.575Z"
   },
   {
    "duration": 14,
    "start_time": "2024-03-24T12:48:08.580Z"
   },
   {
    "duration": 16,
    "start_time": "2024-03-24T12:48:08.596Z"
   },
   {
    "duration": 60,
    "start_time": "2024-03-24T12:48:08.614Z"
   },
   {
    "duration": 98,
    "start_time": "2024-03-24T12:48:08.675Z"
   },
   {
    "duration": 5,
    "start_time": "2024-03-24T12:48:08.774Z"
   },
   {
    "duration": 18,
    "start_time": "2024-03-24T12:48:08.781Z"
   },
   {
    "duration": 16,
    "start_time": "2024-03-24T12:48:08.800Z"
   },
   {
    "duration": 12,
    "start_time": "2024-03-24T12:48:08.818Z"
   },
   {
    "duration": 27,
    "start_time": "2024-03-24T12:48:08.832Z"
   },
   {
    "duration": 21,
    "start_time": "2024-03-24T12:48:08.860Z"
   },
   {
    "duration": 14,
    "start_time": "2024-03-24T12:48:08.882Z"
   },
   {
    "duration": 16,
    "start_time": "2024-03-24T12:48:08.897Z"
   },
   {
    "duration": 13,
    "start_time": "2024-03-24T12:48:08.914Z"
   },
   {
    "duration": 51,
    "start_time": "2024-03-24T12:48:08.929Z"
   },
   {
    "duration": 36,
    "start_time": "2024-03-24T12:48:08.981Z"
   },
   {
    "duration": 181,
    "start_time": "2024-03-24T12:48:09.018Z"
   },
   {
    "duration": 194,
    "start_time": "2024-03-24T12:48:09.201Z"
   },
   {
    "duration": 5,
    "start_time": "2024-03-24T12:48:09.396Z"
   },
   {
    "duration": 38,
    "start_time": "2024-03-24T12:48:09.402Z"
   },
   {
    "duration": 33,
    "start_time": "2024-03-24T12:48:09.442Z"
   },
   {
    "duration": 17,
    "start_time": "2024-03-24T12:48:09.477Z"
   },
   {
    "duration": 13,
    "start_time": "2024-03-24T12:48:09.495Z"
   },
   {
    "duration": 13,
    "start_time": "2024-03-24T12:48:09.510Z"
   },
   {
    "duration": 13,
    "start_time": "2024-03-24T12:48:09.525Z"
   },
   {
    "duration": 38,
    "start_time": "2024-03-24T12:48:09.539Z"
   },
   {
    "duration": 20,
    "start_time": "2024-03-24T12:48:09.578Z"
   },
   {
    "duration": 14,
    "start_time": "2024-03-24T12:48:09.599Z"
   },
   {
    "duration": 11,
    "start_time": "2024-03-24T12:48:09.614Z"
   },
   {
    "duration": 11,
    "start_time": "2024-03-24T12:48:09.626Z"
   },
   {
    "duration": 13,
    "start_time": "2024-03-24T12:48:09.639Z"
   },
   {
    "duration": 5,
    "start_time": "2024-03-24T12:48:09.659Z"
   },
   {
    "duration": 21,
    "start_time": "2024-03-24T12:48:09.666Z"
   },
   {
    "duration": 16,
    "start_time": "2024-03-24T12:48:09.689Z"
   },
   {
    "duration": 7,
    "start_time": "2024-03-24T12:48:09.707Z"
   },
   {
    "duration": 68,
    "start_time": "2024-03-24T12:48:09.716Z"
   },
   {
    "duration": 1566,
    "start_time": "2024-03-24T12:48:09.786Z"
   },
   {
    "duration": 91,
    "start_time": "2024-03-24T12:48:11.354Z"
   },
   {
    "duration": 5,
    "start_time": "2024-03-24T12:48:11.446Z"
   },
   {
    "duration": 261,
    "start_time": "2024-03-24T12:48:11.453Z"
   },
   {
    "duration": 5,
    "start_time": "2024-03-24T12:48:11.716Z"
   },
   {
    "duration": 9,
    "start_time": "2024-03-24T12:48:11.723Z"
   },
   {
    "duration": 257,
    "start_time": "2024-03-24T12:48:11.733Z"
   },
   {
    "duration": 118,
    "start_time": "2024-03-24T12:48:11.991Z"
   },
   {
    "duration": 160,
    "start_time": "2024-03-24T12:49:48.905Z"
   },
   {
    "duration": 161,
    "start_time": "2024-03-24T12:52:10.888Z"
   },
   {
    "duration": 259,
    "start_time": "2024-03-24T12:56:44.480Z"
   },
   {
    "duration": 244,
    "start_time": "2024-03-24T12:59:18.804Z"
   },
   {
    "duration": 1286,
    "start_time": "2024-03-24T15:59:14.677Z"
   },
   {
    "duration": 30,
    "start_time": "2024-03-24T15:59:15.965Z"
   },
   {
    "duration": 30,
    "start_time": "2024-03-24T15:59:15.996Z"
   },
   {
    "duration": 16,
    "start_time": "2024-03-24T15:59:16.029Z"
   },
   {
    "duration": 13,
    "start_time": "2024-03-24T15:59:16.046Z"
   },
   {
    "duration": 11,
    "start_time": "2024-03-24T15:59:16.061Z"
   },
   {
    "duration": 8,
    "start_time": "2024-03-24T15:59:16.073Z"
   },
   {
    "duration": 10,
    "start_time": "2024-03-24T15:59:16.082Z"
   },
   {
    "duration": 13,
    "start_time": "2024-03-24T15:59:16.094Z"
   },
   {
    "duration": 11,
    "start_time": "2024-03-24T15:59:16.110Z"
   },
   {
    "duration": 16,
    "start_time": "2024-03-24T15:59:16.123Z"
   },
   {
    "duration": 32,
    "start_time": "2024-03-24T15:59:16.141Z"
   },
   {
    "duration": 4,
    "start_time": "2024-03-24T15:59:16.175Z"
   },
   {
    "duration": 8,
    "start_time": "2024-03-24T15:59:16.181Z"
   },
   {
    "duration": 11,
    "start_time": "2024-03-24T15:59:16.191Z"
   },
   {
    "duration": 8,
    "start_time": "2024-03-24T15:59:16.203Z"
   },
   {
    "duration": 6,
    "start_time": "2024-03-24T15:59:16.213Z"
   },
   {
    "duration": 13,
    "start_time": "2024-03-24T15:59:16.220Z"
   },
   {
    "duration": 39,
    "start_time": "2024-03-24T15:59:16.235Z"
   },
   {
    "duration": 6,
    "start_time": "2024-03-24T15:59:16.275Z"
   },
   {
    "duration": 3,
    "start_time": "2024-03-24T15:59:16.282Z"
   },
   {
    "duration": 11,
    "start_time": "2024-03-24T15:59:16.287Z"
   },
   {
    "duration": 6,
    "start_time": "2024-03-24T15:59:16.300Z"
   },
   {
    "duration": 11,
    "start_time": "2024-03-24T15:59:16.307Z"
   },
   {
    "duration": 25,
    "start_time": "2024-03-24T15:59:16.319Z"
   },
   {
    "duration": 175,
    "start_time": "2024-03-24T15:59:16.345Z"
   },
   {
    "duration": 6,
    "start_time": "2024-03-24T15:59:16.522Z"
   },
   {
    "duration": 185,
    "start_time": "2024-03-24T15:59:16.532Z"
   },
   {
    "duration": 178,
    "start_time": "2024-03-24T15:59:16.718Z"
   },
   {
    "duration": 8,
    "start_time": "2024-03-24T15:59:16.898Z"
   },
   {
    "duration": 9,
    "start_time": "2024-03-24T15:59:16.908Z"
   },
   {
    "duration": 6,
    "start_time": "2024-03-24T15:59:16.919Z"
   },
   {
    "duration": 272,
    "start_time": "2024-03-24T15:59:16.927Z"
   },
   {
    "duration": 9,
    "start_time": "2024-03-24T15:59:17.200Z"
   },
   {
    "duration": 8,
    "start_time": "2024-03-24T15:59:17.211Z"
   },
   {
    "duration": 9,
    "start_time": "2024-03-24T15:59:17.221Z"
   },
   {
    "duration": 289,
    "start_time": "2024-03-24T15:59:17.232Z"
   },
   {
    "duration": 8,
    "start_time": "2024-03-24T15:59:17.523Z"
   },
   {
    "duration": 6,
    "start_time": "2024-03-24T15:59:17.533Z"
   },
   {
    "duration": 6,
    "start_time": "2024-03-24T15:59:17.540Z"
   },
   {
    "duration": 26,
    "start_time": "2024-03-24T15:59:17.548Z"
   },
   {
    "duration": 207,
    "start_time": "2024-03-24T15:59:17.576Z"
   },
   {
    "duration": 8,
    "start_time": "2024-03-24T15:59:17.784Z"
   },
   {
    "duration": 9,
    "start_time": "2024-03-24T15:59:17.794Z"
   },
   {
    "duration": 9,
    "start_time": "2024-03-24T15:59:17.804Z"
   },
   {
    "duration": 290,
    "start_time": "2024-03-24T15:59:17.815Z"
   },
   {
    "duration": 10,
    "start_time": "2024-03-24T15:59:18.107Z"
   },
   {
    "duration": 9,
    "start_time": "2024-03-24T15:59:18.119Z"
   },
   {
    "duration": 4,
    "start_time": "2024-03-24T15:59:18.130Z"
   },
   {
    "duration": 5,
    "start_time": "2024-03-24T15:59:18.136Z"
   },
   {
    "duration": 32,
    "start_time": "2024-03-24T15:59:18.143Z"
   },
   {
    "duration": 12,
    "start_time": "2024-03-24T15:59:18.177Z"
   },
   {
    "duration": 10,
    "start_time": "2024-03-24T15:59:18.191Z"
   },
   {
    "duration": 33,
    "start_time": "2024-03-24T15:59:18.202Z"
   },
   {
    "duration": 122,
    "start_time": "2024-03-24T15:59:18.237Z"
   },
   {
    "duration": 15,
    "start_time": "2024-03-24T15:59:18.361Z"
   },
   {
    "duration": 22,
    "start_time": "2024-03-24T15:59:18.378Z"
   },
   {
    "duration": 15,
    "start_time": "2024-03-24T15:59:18.402Z"
   },
   {
    "duration": 3,
    "start_time": "2024-03-24T15:59:18.419Z"
   },
   {
    "duration": 7,
    "start_time": "2024-03-24T15:59:18.423Z"
   },
   {
    "duration": 43,
    "start_time": "2024-03-24T15:59:18.431Z"
   },
   {
    "duration": 6,
    "start_time": "2024-03-24T15:59:18.476Z"
   },
   {
    "duration": 15,
    "start_time": "2024-03-24T15:59:18.484Z"
   },
   {
    "duration": 15,
    "start_time": "2024-03-24T15:59:18.500Z"
   },
   {
    "duration": 74,
    "start_time": "2024-03-24T15:59:18.516Z"
   },
   {
    "duration": 35,
    "start_time": "2024-03-24T15:59:18.592Z"
   },
   {
    "duration": 185,
    "start_time": "2024-03-24T15:59:18.629Z"
   },
   {
    "duration": 200,
    "start_time": "2024-03-24T15:59:18.815Z"
   },
   {
    "duration": 4,
    "start_time": "2024-03-24T15:59:19.017Z"
   },
   {
    "duration": 40,
    "start_time": "2024-03-24T15:59:19.022Z"
   },
   {
    "duration": 16,
    "start_time": "2024-03-24T15:59:19.072Z"
   },
   {
    "duration": 19,
    "start_time": "2024-03-24T15:59:19.089Z"
   },
   {
    "duration": 12,
    "start_time": "2024-03-24T15:59:19.110Z"
   },
   {
    "duration": 19,
    "start_time": "2024-03-24T15:59:19.123Z"
   },
   {
    "duration": 29,
    "start_time": "2024-03-24T15:59:19.144Z"
   },
   {
    "duration": 11,
    "start_time": "2024-03-24T15:59:19.175Z"
   },
   {
    "duration": 5,
    "start_time": "2024-03-24T15:59:19.187Z"
   },
   {
    "duration": 4,
    "start_time": "2024-03-24T15:59:19.193Z"
   },
   {
    "duration": 4,
    "start_time": "2024-03-24T15:59:19.198Z"
   },
   {
    "duration": 6,
    "start_time": "2024-03-24T15:59:19.203Z"
   },
   {
    "duration": 10,
    "start_time": "2024-03-24T15:59:19.211Z"
   },
   {
    "duration": 4,
    "start_time": "2024-03-24T15:59:19.226Z"
   },
   {
    "duration": 5,
    "start_time": "2024-03-24T15:59:19.231Z"
   },
   {
    "duration": 38,
    "start_time": "2024-03-24T15:59:19.237Z"
   },
   {
    "duration": 5,
    "start_time": "2024-03-24T15:59:19.277Z"
   },
   {
    "duration": 47,
    "start_time": "2024-03-24T15:59:19.283Z"
   },
   {
    "duration": 1559,
    "start_time": "2024-03-24T15:59:19.332Z"
   },
   {
    "duration": 97,
    "start_time": "2024-03-24T15:59:20.893Z"
   },
   {
    "duration": 5,
    "start_time": "2024-03-24T15:59:20.991Z"
   },
   {
    "duration": 254,
    "start_time": "2024-03-24T15:59:20.997Z"
   },
   {
    "duration": 266,
    "start_time": "2024-03-24T16:07:02.043Z"
   },
   {
    "duration": 265,
    "start_time": "2024-03-24T16:10:16.269Z"
   },
   {
    "duration": 1627,
    "start_time": "2024-03-24T16:23:56.486Z"
   },
   {
    "duration": 10,
    "start_time": "2024-03-24T16:24:38.727Z"
   },
   {
    "duration": 1286,
    "start_time": "2024-03-24T16:26:14.889Z"
   },
   {
    "duration": 1307,
    "start_time": "2024-03-24T16:26:29.983Z"
   },
   {
    "duration": 1263,
    "start_time": "2024-03-24T16:26:39.501Z"
   },
   {
    "duration": 1281,
    "start_time": "2024-03-24T16:27:24.010Z"
   },
   {
    "duration": 1315,
    "start_time": "2024-03-24T16:29:21.632Z"
   },
   {
    "duration": 139,
    "start_time": "2024-03-24T16:29:58.323Z"
   },
   {
    "duration": 144,
    "start_time": "2024-03-24T16:30:04.440Z"
   },
   {
    "duration": 1625,
    "start_time": "2024-03-24T16:30:21.174Z"
   },
   {
    "duration": 1615,
    "start_time": "2024-03-24T16:31:50.621Z"
   },
   {
    "duration": 1853,
    "start_time": "2024-03-24T16:32:02.672Z"
   },
   {
    "duration": 346,
    "start_time": "2024-03-24T17:03:53.848Z"
   },
   {
    "duration": 4,
    "start_time": "2024-03-24T17:12:15.299Z"
   },
   {
    "duration": 3,
    "start_time": "2024-03-24T17:12:19.533Z"
   },
   {
    "duration": 1176,
    "start_time": "2024-03-24T17:12:48.022Z"
   },
   {
    "duration": 30,
    "start_time": "2024-03-24T17:12:49.200Z"
   },
   {
    "duration": 30,
    "start_time": "2024-03-24T17:12:49.231Z"
   },
   {
    "duration": 16,
    "start_time": "2024-03-24T17:12:49.263Z"
   },
   {
    "duration": 12,
    "start_time": "2024-03-24T17:12:49.281Z"
   },
   {
    "duration": 18,
    "start_time": "2024-03-24T17:12:49.294Z"
   },
   {
    "duration": 7,
    "start_time": "2024-03-24T17:12:49.314Z"
   },
   {
    "duration": 12,
    "start_time": "2024-03-24T17:12:49.323Z"
   },
   {
    "duration": 23,
    "start_time": "2024-03-24T17:12:49.337Z"
   },
   {
    "duration": 6,
    "start_time": "2024-03-24T17:12:49.363Z"
   },
   {
    "duration": 13,
    "start_time": "2024-03-24T17:12:49.373Z"
   },
   {
    "duration": 15,
    "start_time": "2024-03-24T17:12:49.388Z"
   },
   {
    "duration": 7,
    "start_time": "2024-03-24T17:12:49.404Z"
   },
   {
    "duration": 7,
    "start_time": "2024-03-24T17:12:49.413Z"
   },
   {
    "duration": 11,
    "start_time": "2024-03-24T17:12:49.421Z"
   },
   {
    "duration": 8,
    "start_time": "2024-03-24T17:12:49.434Z"
   },
   {
    "duration": 29,
    "start_time": "2024-03-24T17:12:49.444Z"
   },
   {
    "duration": 10,
    "start_time": "2024-03-24T17:12:49.475Z"
   },
   {
    "duration": 9,
    "start_time": "2024-03-24T17:12:49.486Z"
   },
   {
    "duration": 11,
    "start_time": "2024-03-24T17:12:49.496Z"
   },
   {
    "duration": 4,
    "start_time": "2024-03-24T17:12:49.508Z"
   },
   {
    "duration": 11,
    "start_time": "2024-03-24T17:12:49.513Z"
   },
   {
    "duration": 4,
    "start_time": "2024-03-24T17:12:49.525Z"
   },
   {
    "duration": 13,
    "start_time": "2024-03-24T17:12:49.530Z"
   },
   {
    "duration": 28,
    "start_time": "2024-03-24T17:12:49.545Z"
   },
   {
    "duration": 174,
    "start_time": "2024-03-24T17:12:49.575Z"
   },
   {
    "duration": 7,
    "start_time": "2024-03-24T17:12:49.750Z"
   },
   {
    "duration": 143,
    "start_time": "2024-03-24T17:12:49.774Z"
   },
   {
    "duration": 193,
    "start_time": "2024-03-24T17:12:49.919Z"
   },
   {
    "duration": 7,
    "start_time": "2024-03-24T17:12:50.115Z"
   },
   {
    "duration": 12,
    "start_time": "2024-03-24T17:12:50.124Z"
   },
   {
    "duration": 5,
    "start_time": "2024-03-24T17:12:50.137Z"
   },
   {
    "duration": 206,
    "start_time": "2024-03-24T17:12:50.144Z"
   },
   {
    "duration": 9,
    "start_time": "2024-03-24T17:12:50.352Z"
   },
   {
    "duration": 11,
    "start_time": "2024-03-24T17:12:50.372Z"
   },
   {
    "duration": 7,
    "start_time": "2024-03-24T17:12:50.384Z"
   },
   {
    "duration": 257,
    "start_time": "2024-03-24T17:12:50.392Z"
   },
   {
    "duration": 9,
    "start_time": "2024-03-24T17:12:50.650Z"
   },
   {
    "duration": 16,
    "start_time": "2024-03-24T17:12:50.661Z"
   },
   {
    "duration": 15,
    "start_time": "2024-03-24T17:12:50.679Z"
   },
   {
    "duration": 5,
    "start_time": "2024-03-24T17:12:50.696Z"
   },
   {
    "duration": 197,
    "start_time": "2024-03-24T17:12:50.702Z"
   },
   {
    "duration": 8,
    "start_time": "2024-03-24T17:12:50.901Z"
   },
   {
    "duration": 18,
    "start_time": "2024-03-24T17:12:50.910Z"
   },
   {
    "duration": 6,
    "start_time": "2024-03-24T17:12:50.930Z"
   },
   {
    "duration": 281,
    "start_time": "2024-03-24T17:12:50.938Z"
   },
   {
    "duration": 7,
    "start_time": "2024-03-24T17:12:51.220Z"
   },
   {
    "duration": 9,
    "start_time": "2024-03-24T17:12:51.229Z"
   },
   {
    "duration": 8,
    "start_time": "2024-03-24T17:12:51.240Z"
   },
   {
    "duration": 16,
    "start_time": "2024-03-24T17:12:51.250Z"
   },
   {
    "duration": 6,
    "start_time": "2024-03-24T17:12:51.273Z"
   },
   {
    "duration": 14,
    "start_time": "2024-03-24T17:12:51.281Z"
   },
   {
    "duration": 13,
    "start_time": "2024-03-24T17:12:51.297Z"
   },
   {
    "duration": 32,
    "start_time": "2024-03-24T17:12:51.312Z"
   },
   {
    "duration": 102,
    "start_time": "2024-03-24T17:12:51.346Z"
   },
   {
    "duration": 4,
    "start_time": "2024-03-24T17:12:51.450Z"
   },
   {
    "duration": 29,
    "start_time": "2024-03-24T17:12:51.455Z"
   },
   {
    "duration": 14,
    "start_time": "2024-03-24T17:12:51.486Z"
   },
   {
    "duration": 4,
    "start_time": "2024-03-24T17:12:51.502Z"
   },
   {
    "duration": 4,
    "start_time": "2024-03-24T17:12:51.507Z"
   },
   {
    "duration": 9,
    "start_time": "2024-03-24T17:12:51.512Z"
   },
   {
    "duration": 20,
    "start_time": "2024-03-24T17:12:51.523Z"
   },
   {
    "duration": 39,
    "start_time": "2024-03-24T17:12:51.545Z"
   },
   {
    "duration": 26,
    "start_time": "2024-03-24T17:12:51.586Z"
   },
   {
    "duration": 54,
    "start_time": "2024-03-24T17:12:51.613Z"
   },
   {
    "duration": 34,
    "start_time": "2024-03-24T17:12:51.669Z"
   },
   {
    "duration": 174,
    "start_time": "2024-03-24T17:12:51.705Z"
   },
   {
    "duration": 197,
    "start_time": "2024-03-24T17:12:51.881Z"
   },
   {
    "duration": 5,
    "start_time": "2024-03-24T17:12:52.080Z"
   },
   {
    "duration": 40,
    "start_time": "2024-03-24T17:12:52.086Z"
   },
   {
    "duration": 16,
    "start_time": "2024-03-24T17:12:52.127Z"
   },
   {
    "duration": 34,
    "start_time": "2024-03-24T17:12:52.144Z"
   },
   {
    "duration": 11,
    "start_time": "2024-03-24T17:12:52.180Z"
   },
   {
    "duration": 14,
    "start_time": "2024-03-24T17:12:52.193Z"
   },
   {
    "duration": 12,
    "start_time": "2024-03-24T17:12:52.208Z"
   },
   {
    "duration": 16,
    "start_time": "2024-03-24T17:12:52.221Z"
   },
   {
    "duration": 13,
    "start_time": "2024-03-24T17:12:52.239Z"
   },
   {
    "duration": 23,
    "start_time": "2024-03-24T17:12:52.253Z"
   },
   {
    "duration": 17,
    "start_time": "2024-03-24T17:12:52.278Z"
   },
   {
    "duration": 8,
    "start_time": "2024-03-24T17:12:52.297Z"
   },
   {
    "duration": 7,
    "start_time": "2024-03-24T17:12:52.306Z"
   },
   {
    "duration": 6,
    "start_time": "2024-03-24T17:12:52.321Z"
   },
   {
    "duration": 7,
    "start_time": "2024-03-24T17:12:52.328Z"
   },
   {
    "duration": 6,
    "start_time": "2024-03-24T17:12:52.337Z"
   },
   {
    "duration": 29,
    "start_time": "2024-03-24T17:12:52.345Z"
   },
   {
    "duration": 1669,
    "start_time": "2024-03-24T17:12:52.375Z"
   },
   {
    "duration": 99,
    "start_time": "2024-03-24T17:12:54.046Z"
   },
   {
    "duration": 4,
    "start_time": "2024-03-24T17:12:54.146Z"
   },
   {
    "duration": 322,
    "start_time": "2024-03-24T17:12:54.151Z"
   },
   {
    "duration": 269,
    "start_time": "2024-03-24T17:12:54.474Z"
   },
   {
    "duration": 48,
    "start_time": "2024-03-24T17:13:40.578Z"
   },
   {
    "duration": 55,
    "start_time": "2024-03-24T17:13:56.795Z"
   },
   {
    "duration": 4,
    "start_time": "2024-03-24T17:14:12.814Z"
   },
   {
    "duration": 4,
    "start_time": "2024-03-24T17:14:40.220Z"
   },
   {
    "duration": 4,
    "start_time": "2024-03-24T17:15:03.780Z"
   },
   {
    "duration": 1198,
    "start_time": "2024-03-24T17:15:17.238Z"
   },
   {
    "duration": 29,
    "start_time": "2024-03-24T17:15:18.438Z"
   },
   {
    "duration": 29,
    "start_time": "2024-03-24T17:15:18.468Z"
   },
   {
    "duration": 16,
    "start_time": "2024-03-24T17:15:18.499Z"
   },
   {
    "duration": 11,
    "start_time": "2024-03-24T17:15:18.517Z"
   },
   {
    "duration": 10,
    "start_time": "2024-03-24T17:15:18.530Z"
   },
   {
    "duration": 9,
    "start_time": "2024-03-24T17:15:18.541Z"
   },
   {
    "duration": 14,
    "start_time": "2024-03-24T17:15:18.551Z"
   },
   {
    "duration": 12,
    "start_time": "2024-03-24T17:15:18.567Z"
   },
   {
    "duration": 3,
    "start_time": "2024-03-24T17:15:18.581Z"
   },
   {
    "duration": 11,
    "start_time": "2024-03-24T17:15:18.585Z"
   },
   {
    "duration": 20,
    "start_time": "2024-03-24T17:15:18.598Z"
   },
   {
    "duration": 19,
    "start_time": "2024-03-24T17:15:18.620Z"
   },
   {
    "duration": 16,
    "start_time": "2024-03-24T17:15:18.640Z"
   },
   {
    "duration": 20,
    "start_time": "2024-03-24T17:15:18.658Z"
   },
   {
    "duration": 8,
    "start_time": "2024-03-24T17:15:18.679Z"
   },
   {
    "duration": 11,
    "start_time": "2024-03-24T17:15:18.689Z"
   },
   {
    "duration": 12,
    "start_time": "2024-03-24T17:15:18.702Z"
   },
   {
    "duration": 16,
    "start_time": "2024-03-24T17:15:18.716Z"
   },
   {
    "duration": 19,
    "start_time": "2024-03-24T17:15:18.733Z"
   },
   {
    "duration": 19,
    "start_time": "2024-03-24T17:15:18.753Z"
   },
   {
    "duration": 21,
    "start_time": "2024-03-24T17:15:18.774Z"
   },
   {
    "duration": 11,
    "start_time": "2024-03-24T17:15:18.796Z"
   },
   {
    "duration": 23,
    "start_time": "2024-03-24T17:15:18.808Z"
   },
   {
    "duration": 17,
    "start_time": "2024-03-24T17:15:18.832Z"
   },
   {
    "duration": 183,
    "start_time": "2024-03-24T17:15:18.850Z"
   },
   {
    "duration": 6,
    "start_time": "2024-03-24T17:15:19.035Z"
   },
   {
    "duration": 145,
    "start_time": "2024-03-24T17:15:19.045Z"
   },
   {
    "duration": 185,
    "start_time": "2024-03-24T17:15:19.192Z"
   },
   {
    "duration": 8,
    "start_time": "2024-03-24T17:15:19.378Z"
   },
   {
    "duration": 21,
    "start_time": "2024-03-24T17:15:19.387Z"
   },
   {
    "duration": 24,
    "start_time": "2024-03-24T17:15:19.409Z"
   },
   {
    "duration": 193,
    "start_time": "2024-03-24T17:15:19.434Z"
   },
   {
    "duration": 9,
    "start_time": "2024-03-24T17:15:19.628Z"
   },
   {
    "duration": 12,
    "start_time": "2024-03-24T17:15:19.638Z"
   },
   {
    "duration": 12,
    "start_time": "2024-03-24T17:15:19.651Z"
   },
   {
    "duration": 252,
    "start_time": "2024-03-24T17:15:19.665Z"
   },
   {
    "duration": 9,
    "start_time": "2024-03-24T17:15:19.919Z"
   },
   {
    "duration": 17,
    "start_time": "2024-03-24T17:15:19.929Z"
   },
   {
    "duration": 10,
    "start_time": "2024-03-24T17:15:19.947Z"
   },
   {
    "duration": 14,
    "start_time": "2024-03-24T17:15:19.959Z"
   },
   {
    "duration": 223,
    "start_time": "2024-03-24T17:15:19.975Z"
   },
   {
    "duration": 8,
    "start_time": "2024-03-24T17:15:20.199Z"
   },
   {
    "duration": 6,
    "start_time": "2024-03-24T17:15:20.209Z"
   },
   {
    "duration": 8,
    "start_time": "2024-03-24T17:15:20.217Z"
   },
   {
    "duration": 279,
    "start_time": "2024-03-24T17:15:20.227Z"
   },
   {
    "duration": 7,
    "start_time": "2024-03-24T17:15:20.507Z"
   },
   {
    "duration": 11,
    "start_time": "2024-03-24T17:15:20.516Z"
   },
   {
    "duration": 6,
    "start_time": "2024-03-24T17:15:20.529Z"
   },
   {
    "duration": 7,
    "start_time": "2024-03-24T17:15:20.536Z"
   },
   {
    "duration": 5,
    "start_time": "2024-03-24T17:15:20.545Z"
   },
   {
    "duration": 28,
    "start_time": "2024-03-24T17:15:20.551Z"
   },
   {
    "duration": 10,
    "start_time": "2024-03-24T17:15:20.580Z"
   },
   {
    "duration": 32,
    "start_time": "2024-03-24T17:15:20.591Z"
   },
   {
    "duration": 113,
    "start_time": "2024-03-24T17:15:20.625Z"
   },
   {
    "duration": 4,
    "start_time": "2024-03-24T17:15:20.740Z"
   },
   {
    "duration": 29,
    "start_time": "2024-03-24T17:15:20.745Z"
   },
   {
    "duration": 16,
    "start_time": "2024-03-24T17:15:20.775Z"
   },
   {
    "duration": 4,
    "start_time": "2024-03-24T17:15:20.792Z"
   },
   {
    "duration": 7,
    "start_time": "2024-03-24T17:15:20.798Z"
   },
   {
    "duration": 7,
    "start_time": "2024-03-24T17:15:20.807Z"
   },
   {
    "duration": 17,
    "start_time": "2024-03-24T17:15:20.815Z"
   },
   {
    "duration": 12,
    "start_time": "2024-03-24T17:15:20.834Z"
   },
   {
    "duration": 32,
    "start_time": "2024-03-24T17:15:20.848Z"
   },
   {
    "duration": 36,
    "start_time": "2024-03-24T17:15:20.882Z"
   },
   {
    "duration": 54,
    "start_time": "2024-03-24T17:15:20.920Z"
   },
   {
    "duration": 177,
    "start_time": "2024-03-24T17:15:20.975Z"
   },
   {
    "duration": 203,
    "start_time": "2024-03-24T17:15:21.154Z"
   },
   {
    "duration": 4,
    "start_time": "2024-03-24T17:15:21.359Z"
   },
   {
    "duration": 33,
    "start_time": "2024-03-24T17:15:21.372Z"
   },
   {
    "duration": 16,
    "start_time": "2024-03-24T17:15:21.406Z"
   },
   {
    "duration": 14,
    "start_time": "2024-03-24T17:15:21.424Z"
   },
   {
    "duration": 37,
    "start_time": "2024-03-24T17:15:21.439Z"
   },
   {
    "duration": 17,
    "start_time": "2024-03-24T17:15:21.478Z"
   },
   {
    "duration": 20,
    "start_time": "2024-03-24T17:15:21.496Z"
   },
   {
    "duration": 9,
    "start_time": "2024-03-24T17:15:21.518Z"
   },
   {
    "duration": 22,
    "start_time": "2024-03-24T17:15:21.529Z"
   },
   {
    "duration": 5,
    "start_time": "2024-03-24T17:15:21.553Z"
   },
   {
    "duration": 14,
    "start_time": "2024-03-24T17:15:21.559Z"
   },
   {
    "duration": 5,
    "start_time": "2024-03-24T17:15:21.575Z"
   },
   {
    "duration": 11,
    "start_time": "2024-03-24T17:15:21.582Z"
   },
   {
    "duration": 4,
    "start_time": "2024-03-24T17:15:21.598Z"
   },
   {
    "duration": 13,
    "start_time": "2024-03-24T17:15:21.604Z"
   },
   {
    "duration": 6,
    "start_time": "2024-03-24T17:15:21.618Z"
   },
   {
    "duration": 5,
    "start_time": "2024-03-24T17:15:21.625Z"
   },
   {
    "duration": 1635,
    "start_time": "2024-03-24T17:15:21.632Z"
   },
   {
    "duration": 86,
    "start_time": "2024-03-24T17:15:23.268Z"
   },
   {
    "duration": 17,
    "start_time": "2024-03-24T17:15:23.356Z"
   },
   {
    "duration": 337,
    "start_time": "2024-03-24T17:15:23.374Z"
   },
   {
    "duration": 237,
    "start_time": "2024-03-24T17:15:23.713Z"
   },
   {
    "duration": 46,
    "start_time": "2024-03-24T17:15:58.712Z"
   },
   {
    "duration": 47,
    "start_time": "2024-03-24T17:19:52.996Z"
   },
   {
    "duration": 791,
    "start_time": "2024-03-24T17:20:14.537Z"
   },
   {
    "duration": 106,
    "start_time": "2024-03-24T17:22:39.973Z"
   },
   {
    "duration": 9,
    "start_time": "2024-03-24T17:23:25.695Z"
   },
   {
    "duration": 1286,
    "start_time": "2024-03-24T17:23:32.658Z"
   },
   {
    "duration": 31,
    "start_time": "2024-03-24T17:23:33.953Z"
   },
   {
    "duration": 29,
    "start_time": "2024-03-24T17:23:33.986Z"
   },
   {
    "duration": 15,
    "start_time": "2024-03-24T17:23:34.017Z"
   },
   {
    "duration": 18,
    "start_time": "2024-03-24T17:23:34.034Z"
   },
   {
    "duration": 12,
    "start_time": "2024-03-24T17:23:34.053Z"
   },
   {
    "duration": 6,
    "start_time": "2024-03-24T17:23:34.066Z"
   },
   {
    "duration": 25,
    "start_time": "2024-03-24T17:23:34.073Z"
   },
   {
    "duration": 20,
    "start_time": "2024-03-24T17:23:34.099Z"
   },
   {
    "duration": 4,
    "start_time": "2024-03-24T17:23:34.122Z"
   },
   {
    "duration": 10,
    "start_time": "2024-03-24T17:23:34.128Z"
   },
   {
    "duration": 23,
    "start_time": "2024-03-24T17:23:34.140Z"
   },
   {
    "duration": 32,
    "start_time": "2024-03-24T17:23:34.165Z"
   },
   {
    "duration": 28,
    "start_time": "2024-03-24T17:23:34.198Z"
   },
   {
    "duration": 23,
    "start_time": "2024-03-24T17:23:34.227Z"
   },
   {
    "duration": 14,
    "start_time": "2024-03-24T17:23:34.252Z"
   },
   {
    "duration": 13,
    "start_time": "2024-03-24T17:23:34.267Z"
   },
   {
    "duration": 25,
    "start_time": "2024-03-24T17:23:34.281Z"
   },
   {
    "duration": 11,
    "start_time": "2024-03-24T17:23:34.307Z"
   },
   {
    "duration": 17,
    "start_time": "2024-03-24T17:23:34.319Z"
   },
   {
    "duration": 12,
    "start_time": "2024-03-24T17:23:34.338Z"
   },
   {
    "duration": 16,
    "start_time": "2024-03-24T17:23:34.351Z"
   },
   {
    "duration": 25,
    "start_time": "2024-03-24T17:23:34.368Z"
   },
   {
    "duration": 18,
    "start_time": "2024-03-24T17:23:34.394Z"
   },
   {
    "duration": 34,
    "start_time": "2024-03-24T17:23:34.413Z"
   },
   {
    "duration": 181,
    "start_time": "2024-03-24T17:23:34.448Z"
   },
   {
    "duration": 6,
    "start_time": "2024-03-24T17:23:34.630Z"
   },
   {
    "duration": 144,
    "start_time": "2024-03-24T17:23:34.640Z"
   },
   {
    "duration": 176,
    "start_time": "2024-03-24T17:23:34.786Z"
   },
   {
    "duration": 16,
    "start_time": "2024-03-24T17:23:34.964Z"
   },
   {
    "duration": 12,
    "start_time": "2024-03-24T17:23:34.982Z"
   },
   {
    "duration": 7,
    "start_time": "2024-03-24T17:23:34.995Z"
   },
   {
    "duration": 204,
    "start_time": "2024-03-24T17:23:35.003Z"
   },
   {
    "duration": 10,
    "start_time": "2024-03-24T17:23:35.208Z"
   },
   {
    "duration": 8,
    "start_time": "2024-03-24T17:23:35.220Z"
   },
   {
    "duration": 19,
    "start_time": "2024-03-24T17:23:35.230Z"
   },
   {
    "duration": 266,
    "start_time": "2024-03-24T17:23:35.251Z"
   },
   {
    "duration": 10,
    "start_time": "2024-03-24T17:23:35.519Z"
   },
   {
    "duration": 9,
    "start_time": "2024-03-24T17:23:35.531Z"
   },
   {
    "duration": 19,
    "start_time": "2024-03-24T17:23:35.541Z"
   },
   {
    "duration": 16,
    "start_time": "2024-03-24T17:23:35.562Z"
   },
   {
    "duration": 216,
    "start_time": "2024-03-24T17:23:35.580Z"
   },
   {
    "duration": 9,
    "start_time": "2024-03-24T17:23:35.798Z"
   },
   {
    "duration": 18,
    "start_time": "2024-03-24T17:23:35.808Z"
   },
   {
    "duration": 21,
    "start_time": "2024-03-24T17:23:35.828Z"
   },
   {
    "duration": 282,
    "start_time": "2024-03-24T17:23:35.850Z"
   },
   {
    "duration": 8,
    "start_time": "2024-03-24T17:23:36.134Z"
   },
   {
    "duration": 10,
    "start_time": "2024-03-24T17:23:36.144Z"
   },
   {
    "duration": 19,
    "start_time": "2024-03-24T17:23:36.156Z"
   },
   {
    "duration": 20,
    "start_time": "2024-03-24T17:23:36.176Z"
   },
   {
    "duration": 27,
    "start_time": "2024-03-24T17:23:36.197Z"
   },
   {
    "duration": 24,
    "start_time": "2024-03-24T17:23:36.226Z"
   },
   {
    "duration": 24,
    "start_time": "2024-03-24T17:23:36.251Z"
   },
   {
    "duration": 35,
    "start_time": "2024-03-24T17:23:36.277Z"
   },
   {
    "duration": 94,
    "start_time": "2024-03-24T17:23:36.313Z"
   },
   {
    "duration": 4,
    "start_time": "2024-03-24T17:23:36.409Z"
   },
   {
    "duration": 25,
    "start_time": "2024-03-24T17:23:36.414Z"
   },
   {
    "duration": 14,
    "start_time": "2024-03-24T17:23:36.441Z"
   },
   {
    "duration": 4,
    "start_time": "2024-03-24T17:23:36.473Z"
   },
   {
    "duration": 17,
    "start_time": "2024-03-24T17:23:36.479Z"
   },
   {
    "duration": 9,
    "start_time": "2024-03-24T17:23:36.498Z"
   },
   {
    "duration": 16,
    "start_time": "2024-03-24T17:23:36.509Z"
   },
   {
    "duration": 14,
    "start_time": "2024-03-24T17:23:36.527Z"
   },
   {
    "duration": 10,
    "start_time": "2024-03-24T17:23:36.542Z"
   },
   {
    "duration": 49,
    "start_time": "2024-03-24T17:23:36.554Z"
   },
   {
    "duration": 35,
    "start_time": "2024-03-24T17:23:36.604Z"
   },
   {
    "duration": 192,
    "start_time": "2024-03-24T17:23:36.641Z"
   },
   {
    "duration": 202,
    "start_time": "2024-03-24T17:23:36.835Z"
   },
   {
    "duration": 7,
    "start_time": "2024-03-24T17:23:37.039Z"
   },
   {
    "duration": 66,
    "start_time": "2024-03-24T17:23:37.048Z"
   },
   {
    "duration": 19,
    "start_time": "2024-03-24T17:23:37.115Z"
   },
   {
    "duration": 14,
    "start_time": "2024-03-24T17:23:37.135Z"
   },
   {
    "duration": 28,
    "start_time": "2024-03-24T17:23:37.151Z"
   },
   {
    "duration": 13,
    "start_time": "2024-03-24T17:23:37.181Z"
   },
   {
    "duration": 13,
    "start_time": "2024-03-24T17:23:37.195Z"
   },
   {
    "duration": 13,
    "start_time": "2024-03-24T17:23:37.209Z"
   },
   {
    "duration": 22,
    "start_time": "2024-03-24T17:23:37.224Z"
   },
   {
    "duration": 19,
    "start_time": "2024-03-24T17:23:37.247Z"
   },
   {
    "duration": 28,
    "start_time": "2024-03-24T17:23:37.268Z"
   },
   {
    "duration": 12,
    "start_time": "2024-03-24T17:23:37.297Z"
   },
   {
    "duration": 9,
    "start_time": "2024-03-24T17:23:37.311Z"
   },
   {
    "duration": 5,
    "start_time": "2024-03-24T17:23:37.325Z"
   },
   {
    "duration": 23,
    "start_time": "2024-03-24T17:23:37.331Z"
   },
   {
    "duration": 13,
    "start_time": "2024-03-24T17:23:37.355Z"
   },
   {
    "duration": 21,
    "start_time": "2024-03-24T17:23:37.370Z"
   },
   {
    "duration": 1587,
    "start_time": "2024-03-24T17:23:37.393Z"
   },
   {
    "duration": 96,
    "start_time": "2024-03-24T17:23:38.982Z"
   },
   {
    "duration": 114,
    "start_time": "2024-03-24T17:23:39.080Z"
   },
   {
    "duration": 0,
    "start_time": "2024-03-24T17:23:39.195Z"
   },
   {
    "duration": 0,
    "start_time": "2024-03-24T17:23:39.196Z"
   },
   {
    "duration": 136,
    "start_time": "2024-03-24T17:26:13.799Z"
   },
   {
    "duration": 1153,
    "start_time": "2024-03-24T17:26:24.302Z"
   },
   {
    "duration": 29,
    "start_time": "2024-03-24T17:26:25.457Z"
   },
   {
    "duration": 29,
    "start_time": "2024-03-24T17:26:25.487Z"
   },
   {
    "duration": 16,
    "start_time": "2024-03-24T17:26:25.517Z"
   },
   {
    "duration": 11,
    "start_time": "2024-03-24T17:26:25.534Z"
   },
   {
    "duration": 26,
    "start_time": "2024-03-24T17:26:25.547Z"
   },
   {
    "duration": 15,
    "start_time": "2024-03-24T17:26:25.574Z"
   },
   {
    "duration": 16,
    "start_time": "2024-03-24T17:26:25.590Z"
   },
   {
    "duration": 13,
    "start_time": "2024-03-24T17:26:25.608Z"
   },
   {
    "duration": 4,
    "start_time": "2024-03-24T17:26:25.624Z"
   },
   {
    "duration": 7,
    "start_time": "2024-03-24T17:26:25.629Z"
   },
   {
    "duration": 14,
    "start_time": "2024-03-24T17:26:25.638Z"
   },
   {
    "duration": 4,
    "start_time": "2024-03-24T17:26:25.654Z"
   },
   {
    "duration": 15,
    "start_time": "2024-03-24T17:26:25.659Z"
   },
   {
    "duration": 9,
    "start_time": "2024-03-24T17:26:25.675Z"
   },
   {
    "duration": 8,
    "start_time": "2024-03-24T17:26:25.686Z"
   },
   {
    "duration": 15,
    "start_time": "2024-03-24T17:26:25.695Z"
   },
   {
    "duration": 11,
    "start_time": "2024-03-24T17:26:25.712Z"
   },
   {
    "duration": 9,
    "start_time": "2024-03-24T17:26:25.724Z"
   },
   {
    "duration": 6,
    "start_time": "2024-03-24T17:26:25.734Z"
   },
   {
    "duration": 32,
    "start_time": "2024-03-24T17:26:25.741Z"
   },
   {
    "duration": 13,
    "start_time": "2024-03-24T17:26:25.774Z"
   },
   {
    "duration": 4,
    "start_time": "2024-03-24T17:26:25.789Z"
   },
   {
    "duration": 18,
    "start_time": "2024-03-24T17:26:25.794Z"
   },
   {
    "duration": 21,
    "start_time": "2024-03-24T17:26:25.814Z"
   },
   {
    "duration": 157,
    "start_time": "2024-03-24T17:26:25.837Z"
   },
   {
    "duration": 7,
    "start_time": "2024-03-24T17:26:25.995Z"
   },
   {
    "duration": 145,
    "start_time": "2024-03-24T17:26:26.006Z"
   },
   {
    "duration": 187,
    "start_time": "2024-03-24T17:26:26.152Z"
   },
   {
    "duration": 8,
    "start_time": "2024-03-24T17:26:26.340Z"
   },
   {
    "duration": 23,
    "start_time": "2024-03-24T17:26:26.350Z"
   },
   {
    "duration": 6,
    "start_time": "2024-03-24T17:26:26.375Z"
   },
   {
    "duration": 212,
    "start_time": "2024-03-24T17:26:26.383Z"
   },
   {
    "duration": 9,
    "start_time": "2024-03-24T17:26:26.598Z"
   },
   {
    "duration": 7,
    "start_time": "2024-03-24T17:26:26.609Z"
   },
   {
    "duration": 7,
    "start_time": "2024-03-24T17:26:26.617Z"
   },
   {
    "duration": 281,
    "start_time": "2024-03-24T17:26:26.625Z"
   },
   {
    "duration": 9,
    "start_time": "2024-03-24T17:26:26.908Z"
   },
   {
    "duration": 9,
    "start_time": "2024-03-24T17:26:26.918Z"
   },
   {
    "duration": 5,
    "start_time": "2024-03-24T17:26:26.929Z"
   },
   {
    "duration": 8,
    "start_time": "2024-03-24T17:26:26.935Z"
   },
   {
    "duration": 225,
    "start_time": "2024-03-24T17:26:26.945Z"
   },
   {
    "duration": 9,
    "start_time": "2024-03-24T17:26:27.173Z"
   },
   {
    "duration": 7,
    "start_time": "2024-03-24T17:26:27.184Z"
   },
   {
    "duration": 8,
    "start_time": "2024-03-24T17:26:27.193Z"
   },
   {
    "duration": 285,
    "start_time": "2024-03-24T17:26:27.203Z"
   },
   {
    "duration": 8,
    "start_time": "2024-03-24T17:26:27.489Z"
   },
   {
    "duration": 18,
    "start_time": "2024-03-24T17:26:27.499Z"
   },
   {
    "duration": 4,
    "start_time": "2024-03-24T17:26:27.519Z"
   },
   {
    "duration": 8,
    "start_time": "2024-03-24T17:26:27.524Z"
   },
   {
    "duration": 6,
    "start_time": "2024-03-24T17:26:27.533Z"
   },
   {
    "duration": 34,
    "start_time": "2024-03-24T17:26:27.541Z"
   },
   {
    "duration": 14,
    "start_time": "2024-03-24T17:26:27.577Z"
   },
   {
    "duration": 37,
    "start_time": "2024-03-24T17:26:27.593Z"
   },
   {
    "duration": 112,
    "start_time": "2024-03-24T17:26:27.631Z"
   },
   {
    "duration": 5,
    "start_time": "2024-03-24T17:26:27.744Z"
   },
   {
    "duration": 38,
    "start_time": "2024-03-24T17:26:27.750Z"
   },
   {
    "duration": 27,
    "start_time": "2024-03-24T17:26:27.789Z"
   },
   {
    "duration": 3,
    "start_time": "2024-03-24T17:26:27.818Z"
   },
   {
    "duration": 6,
    "start_time": "2024-03-24T17:26:27.823Z"
   },
   {
    "duration": 14,
    "start_time": "2024-03-24T17:26:27.831Z"
   },
   {
    "duration": 5,
    "start_time": "2024-03-24T17:26:27.846Z"
   },
   {
    "duration": 25,
    "start_time": "2024-03-24T17:26:27.853Z"
   },
   {
    "duration": 11,
    "start_time": "2024-03-24T17:26:27.879Z"
   },
   {
    "duration": 36,
    "start_time": "2024-03-24T17:26:27.892Z"
   },
   {
    "duration": 56,
    "start_time": "2024-03-24T17:26:27.930Z"
   },
   {
    "duration": 188,
    "start_time": "2024-03-24T17:26:27.987Z"
   },
   {
    "duration": 198,
    "start_time": "2024-03-24T17:26:28.177Z"
   },
   {
    "duration": 5,
    "start_time": "2024-03-24T17:26:28.376Z"
   },
   {
    "duration": 32,
    "start_time": "2024-03-24T17:26:28.382Z"
   },
   {
    "duration": 16,
    "start_time": "2024-03-24T17:26:28.416Z"
   },
   {
    "duration": 40,
    "start_time": "2024-03-24T17:26:28.434Z"
   },
   {
    "duration": 13,
    "start_time": "2024-03-24T17:26:28.475Z"
   },
   {
    "duration": 13,
    "start_time": "2024-03-24T17:26:28.490Z"
   },
   {
    "duration": 12,
    "start_time": "2024-03-24T17:26:28.504Z"
   },
   {
    "duration": 8,
    "start_time": "2024-03-24T17:26:28.518Z"
   },
   {
    "duration": 7,
    "start_time": "2024-03-24T17:26:28.527Z"
   },
   {
    "duration": 39,
    "start_time": "2024-03-24T17:26:28.535Z"
   },
   {
    "duration": 4,
    "start_time": "2024-03-24T17:26:28.575Z"
   },
   {
    "duration": 5,
    "start_time": "2024-03-24T17:26:28.580Z"
   },
   {
    "duration": 7,
    "start_time": "2024-03-24T17:26:28.587Z"
   },
   {
    "duration": 5,
    "start_time": "2024-03-24T17:26:28.599Z"
   },
   {
    "duration": 5,
    "start_time": "2024-03-24T17:26:28.605Z"
   },
   {
    "duration": 6,
    "start_time": "2024-03-24T17:26:28.611Z"
   },
   {
    "duration": 5,
    "start_time": "2024-03-24T17:26:28.618Z"
   },
   {
    "duration": 1648,
    "start_time": "2024-03-24T17:26:28.625Z"
   },
   {
    "duration": 103,
    "start_time": "2024-03-24T17:26:30.275Z"
   },
   {
    "duration": 168,
    "start_time": "2024-03-24T17:26:30.380Z"
   },
   {
    "duration": 328,
    "start_time": "2024-03-24T17:26:30.550Z"
   },
   {
    "duration": 266,
    "start_time": "2024-03-24T17:26:30.880Z"
   },
   {
    "duration": 14,
    "start_time": "2024-03-24T17:26:53.162Z"
   },
   {
    "duration": 1224,
    "start_time": "2024-03-24T17:27:35.725Z"
   },
   {
    "duration": 29,
    "start_time": "2024-03-24T17:27:36.951Z"
   },
   {
    "duration": 29,
    "start_time": "2024-03-24T17:27:36.982Z"
   },
   {
    "duration": 16,
    "start_time": "2024-03-24T17:27:37.013Z"
   },
   {
    "duration": 12,
    "start_time": "2024-03-24T17:27:37.030Z"
   },
   {
    "duration": 16,
    "start_time": "2024-03-24T17:27:37.044Z"
   },
   {
    "duration": 13,
    "start_time": "2024-03-24T17:27:37.061Z"
   },
   {
    "duration": 16,
    "start_time": "2024-03-24T17:27:37.076Z"
   },
   {
    "duration": 15,
    "start_time": "2024-03-24T17:27:37.093Z"
   },
   {
    "duration": 13,
    "start_time": "2024-03-24T17:27:37.110Z"
   },
   {
    "duration": 20,
    "start_time": "2024-03-24T17:27:37.124Z"
   },
   {
    "duration": 10,
    "start_time": "2024-03-24T17:27:37.145Z"
   },
   {
    "duration": 8,
    "start_time": "2024-03-24T17:27:37.156Z"
   },
   {
    "duration": 14,
    "start_time": "2024-03-24T17:27:37.166Z"
   },
   {
    "duration": 11,
    "start_time": "2024-03-24T17:27:37.181Z"
   },
   {
    "duration": 8,
    "start_time": "2024-03-24T17:27:37.194Z"
   },
   {
    "duration": 15,
    "start_time": "2024-03-24T17:27:37.204Z"
   },
   {
    "duration": 10,
    "start_time": "2024-03-24T17:27:37.221Z"
   },
   {
    "duration": 22,
    "start_time": "2024-03-24T17:27:37.233Z"
   },
   {
    "duration": 15,
    "start_time": "2024-03-24T17:27:37.256Z"
   },
   {
    "duration": 7,
    "start_time": "2024-03-24T17:27:37.273Z"
   },
   {
    "duration": 17,
    "start_time": "2024-03-24T17:27:37.281Z"
   },
   {
    "duration": 3,
    "start_time": "2024-03-24T17:27:37.300Z"
   },
   {
    "duration": 6,
    "start_time": "2024-03-24T17:27:37.305Z"
   },
   {
    "duration": 10,
    "start_time": "2024-03-24T17:27:37.313Z"
   },
   {
    "duration": 175,
    "start_time": "2024-03-24T17:27:37.324Z"
   },
   {
    "duration": 6,
    "start_time": "2024-03-24T17:27:37.501Z"
   },
   {
    "duration": 139,
    "start_time": "2024-03-24T17:27:37.512Z"
   },
   {
    "duration": 180,
    "start_time": "2024-03-24T17:27:37.653Z"
   },
   {
    "duration": 7,
    "start_time": "2024-03-24T17:27:37.834Z"
   },
   {
    "duration": 16,
    "start_time": "2024-03-24T17:27:37.843Z"
   },
   {
    "duration": 13,
    "start_time": "2024-03-24T17:27:37.861Z"
   },
   {
    "duration": 202,
    "start_time": "2024-03-24T17:27:37.876Z"
   },
   {
    "duration": 9,
    "start_time": "2024-03-24T17:27:38.079Z"
   },
   {
    "duration": 10,
    "start_time": "2024-03-24T17:27:38.090Z"
   },
   {
    "duration": 16,
    "start_time": "2024-03-24T17:27:38.102Z"
   },
   {
    "duration": 275,
    "start_time": "2024-03-24T17:27:38.120Z"
   },
   {
    "duration": 10,
    "start_time": "2024-03-24T17:27:38.396Z"
   },
   {
    "duration": 7,
    "start_time": "2024-03-24T17:27:38.408Z"
   },
   {
    "duration": 6,
    "start_time": "2024-03-24T17:27:38.416Z"
   },
   {
    "duration": 5,
    "start_time": "2024-03-24T17:27:38.424Z"
   },
   {
    "duration": 222,
    "start_time": "2024-03-24T17:27:38.431Z"
   },
   {
    "duration": 9,
    "start_time": "2024-03-24T17:27:38.655Z"
   },
   {
    "duration": 7,
    "start_time": "2024-03-24T17:27:38.673Z"
   },
   {
    "duration": 11,
    "start_time": "2024-03-24T17:27:38.681Z"
   },
   {
    "duration": 261,
    "start_time": "2024-03-24T17:27:38.693Z"
   },
   {
    "duration": 17,
    "start_time": "2024-03-24T17:27:38.956Z"
   },
   {
    "duration": 7,
    "start_time": "2024-03-24T17:27:38.974Z"
   },
   {
    "duration": 4,
    "start_time": "2024-03-24T17:27:38.982Z"
   },
   {
    "duration": 17,
    "start_time": "2024-03-24T17:27:38.988Z"
   },
   {
    "duration": 5,
    "start_time": "2024-03-24T17:27:39.007Z"
   },
   {
    "duration": 11,
    "start_time": "2024-03-24T17:27:39.014Z"
   },
   {
    "duration": 9,
    "start_time": "2024-03-24T17:27:39.026Z"
   },
   {
    "duration": 54,
    "start_time": "2024-03-24T17:27:39.037Z"
   },
   {
    "duration": 97,
    "start_time": "2024-03-24T17:27:39.093Z"
   },
   {
    "duration": 4,
    "start_time": "2024-03-24T17:27:39.192Z"
   },
   {
    "duration": 21,
    "start_time": "2024-03-24T17:27:39.197Z"
   },
   {
    "duration": 14,
    "start_time": "2024-03-24T17:27:39.220Z"
   },
   {
    "duration": 8,
    "start_time": "2024-03-24T17:27:39.236Z"
   },
   {
    "duration": 28,
    "start_time": "2024-03-24T17:27:39.246Z"
   },
   {
    "duration": 7,
    "start_time": "2024-03-24T17:27:39.275Z"
   },
   {
    "duration": 10,
    "start_time": "2024-03-24T17:27:39.283Z"
   },
   {
    "duration": 13,
    "start_time": "2024-03-24T17:27:39.294Z"
   },
   {
    "duration": 11,
    "start_time": "2024-03-24T17:27:39.309Z"
   },
   {
    "duration": 66,
    "start_time": "2024-03-24T17:27:39.321Z"
   },
   {
    "duration": 37,
    "start_time": "2024-03-24T17:27:39.389Z"
   },
   {
    "duration": 192,
    "start_time": "2024-03-24T17:27:39.428Z"
   },
   {
    "duration": 195,
    "start_time": "2024-03-24T17:27:39.622Z"
   },
   {
    "duration": 4,
    "start_time": "2024-03-24T17:27:39.819Z"
   },
   {
    "duration": 41,
    "start_time": "2024-03-24T17:27:39.825Z"
   },
   {
    "duration": 17,
    "start_time": "2024-03-24T17:27:39.872Z"
   },
   {
    "duration": 14,
    "start_time": "2024-03-24T17:27:39.890Z"
   },
   {
    "duration": 11,
    "start_time": "2024-03-24T17:27:39.905Z"
   },
   {
    "duration": 12,
    "start_time": "2024-03-24T17:27:39.918Z"
   },
   {
    "duration": 45,
    "start_time": "2024-03-24T17:27:39.931Z"
   },
   {
    "duration": 10,
    "start_time": "2024-03-24T17:27:39.978Z"
   },
   {
    "duration": 11,
    "start_time": "2024-03-24T17:27:39.989Z"
   },
   {
    "duration": 14,
    "start_time": "2024-03-24T17:27:40.002Z"
   },
   {
    "duration": 37,
    "start_time": "2024-03-24T17:27:40.018Z"
   },
   {
    "duration": 8,
    "start_time": "2024-03-24T17:27:40.058Z"
   },
   {
    "duration": 12,
    "start_time": "2024-03-24T17:27:40.068Z"
   },
   {
    "duration": 6,
    "start_time": "2024-03-24T17:27:40.085Z"
   },
   {
    "duration": 6,
    "start_time": "2024-03-24T17:27:40.092Z"
   },
   {
    "duration": 18,
    "start_time": "2024-03-24T17:27:40.100Z"
   },
   {
    "duration": 26,
    "start_time": "2024-03-24T17:27:40.120Z"
   },
   {
    "duration": 1662,
    "start_time": "2024-03-24T17:27:40.149Z"
   },
   {
    "duration": 105,
    "start_time": "2024-03-24T17:27:41.813Z"
   },
   {
    "duration": 157,
    "start_time": "2024-03-24T17:27:41.920Z"
   },
   {
    "duration": 20,
    "start_time": "2024-03-24T17:27:42.079Z"
   },
   {
    "duration": 349,
    "start_time": "2024-03-24T17:27:42.101Z"
   },
   {
    "duration": 279,
    "start_time": "2024-03-24T17:27:42.452Z"
   },
   {
    "duration": 4,
    "start_time": "2024-03-24T17:28:14.011Z"
   },
   {
    "duration": 138,
    "start_time": "2024-03-24T17:57:14.254Z"
   },
   {
    "duration": 134,
    "start_time": "2024-03-24T17:57:57.819Z"
   },
   {
    "duration": 140,
    "start_time": "2024-03-24T17:58:17.881Z"
   },
   {
    "duration": 1173,
    "start_time": "2024-03-24T18:00:40.975Z"
   },
   {
    "duration": 30,
    "start_time": "2024-03-24T18:00:42.150Z"
   },
   {
    "duration": 30,
    "start_time": "2024-03-24T18:00:42.181Z"
   },
   {
    "duration": 16,
    "start_time": "2024-03-24T18:00:42.213Z"
   },
   {
    "duration": 12,
    "start_time": "2024-03-24T18:00:42.231Z"
   },
   {
    "duration": 13,
    "start_time": "2024-03-24T18:00:42.244Z"
   },
   {
    "duration": 16,
    "start_time": "2024-03-24T18:00:42.258Z"
   },
   {
    "duration": 10,
    "start_time": "2024-03-24T18:00:42.276Z"
   },
   {
    "duration": 20,
    "start_time": "2024-03-24T18:00:42.288Z"
   },
   {
    "duration": 9,
    "start_time": "2024-03-24T18:00:42.311Z"
   },
   {
    "duration": 11,
    "start_time": "2024-03-24T18:00:42.321Z"
   },
   {
    "duration": 19,
    "start_time": "2024-03-24T18:00:42.333Z"
   },
   {
    "duration": 9,
    "start_time": "2024-03-24T18:00:42.353Z"
   },
   {
    "duration": 11,
    "start_time": "2024-03-24T18:00:42.364Z"
   },
   {
    "duration": 11,
    "start_time": "2024-03-24T18:00:42.377Z"
   },
   {
    "duration": 11,
    "start_time": "2024-03-24T18:00:42.390Z"
   },
   {
    "duration": 6,
    "start_time": "2024-03-24T18:00:42.403Z"
   },
   {
    "duration": 9,
    "start_time": "2024-03-24T18:00:42.411Z"
   },
   {
    "duration": 8,
    "start_time": "2024-03-24T18:00:42.421Z"
   },
   {
    "duration": 8,
    "start_time": "2024-03-24T18:00:42.430Z"
   },
   {
    "duration": 7,
    "start_time": "2024-03-24T18:00:42.439Z"
   },
   {
    "duration": 32,
    "start_time": "2024-03-24T18:00:42.447Z"
   },
   {
    "duration": 3,
    "start_time": "2024-03-24T18:00:42.481Z"
   },
   {
    "duration": 6,
    "start_time": "2024-03-24T18:00:42.485Z"
   },
   {
    "duration": 7,
    "start_time": "2024-03-24T18:00:42.493Z"
   },
   {
    "duration": 182,
    "start_time": "2024-03-24T18:00:42.502Z"
   },
   {
    "duration": 5,
    "start_time": "2024-03-24T18:00:42.686Z"
   },
   {
    "duration": 140,
    "start_time": "2024-03-24T18:00:42.695Z"
   },
   {
    "duration": 187,
    "start_time": "2024-03-24T18:00:42.837Z"
   },
   {
    "duration": 8,
    "start_time": "2024-03-24T18:00:43.025Z"
   },
   {
    "duration": 23,
    "start_time": "2024-03-24T18:00:43.034Z"
   },
   {
    "duration": 20,
    "start_time": "2024-03-24T18:00:43.058Z"
   },
   {
    "duration": 220,
    "start_time": "2024-03-24T18:00:43.080Z"
   },
   {
    "duration": 9,
    "start_time": "2024-03-24T18:00:43.301Z"
   },
   {
    "duration": 7,
    "start_time": "2024-03-24T18:00:43.311Z"
   },
   {
    "duration": 6,
    "start_time": "2024-03-24T18:00:43.320Z"
   },
   {
    "duration": 282,
    "start_time": "2024-03-24T18:00:43.327Z"
   },
   {
    "duration": 9,
    "start_time": "2024-03-24T18:00:43.611Z"
   },
   {
    "duration": 10,
    "start_time": "2024-03-24T18:00:43.621Z"
   },
   {
    "duration": 6,
    "start_time": "2024-03-24T18:00:43.633Z"
   },
   {
    "duration": 6,
    "start_time": "2024-03-24T18:00:43.641Z"
   },
   {
    "duration": 213,
    "start_time": "2024-03-24T18:00:43.648Z"
   },
   {
    "duration": 16,
    "start_time": "2024-03-24T18:00:43.863Z"
   },
   {
    "duration": 8,
    "start_time": "2024-03-24T18:00:43.881Z"
   },
   {
    "duration": 12,
    "start_time": "2024-03-24T18:00:43.891Z"
   },
   {
    "duration": 288,
    "start_time": "2024-03-24T18:00:43.904Z"
   },
   {
    "duration": 8,
    "start_time": "2024-03-24T18:00:44.194Z"
   },
   {
    "duration": 11,
    "start_time": "2024-03-24T18:00:44.204Z"
   },
   {
    "duration": 4,
    "start_time": "2024-03-24T18:00:44.217Z"
   },
   {
    "duration": 4,
    "start_time": "2024-03-24T18:00:44.223Z"
   },
   {
    "duration": 6,
    "start_time": "2024-03-24T18:00:44.229Z"
   },
   {
    "duration": 11,
    "start_time": "2024-03-24T18:00:44.273Z"
   },
   {
    "duration": 17,
    "start_time": "2024-03-24T18:00:44.286Z"
   },
   {
    "duration": 35,
    "start_time": "2024-03-24T18:00:44.304Z"
   },
   {
    "duration": 117,
    "start_time": "2024-03-24T18:00:44.341Z"
   },
   {
    "duration": 14,
    "start_time": "2024-03-24T18:00:44.459Z"
   },
   {
    "duration": 20,
    "start_time": "2024-03-24T18:00:44.475Z"
   },
   {
    "duration": 17,
    "start_time": "2024-03-24T18:00:44.496Z"
   },
   {
    "duration": 4,
    "start_time": "2024-03-24T18:00:44.514Z"
   },
   {
    "duration": 4,
    "start_time": "2024-03-24T18:00:44.519Z"
   },
   {
    "duration": 18,
    "start_time": "2024-03-24T18:00:44.525Z"
   },
   {
    "duration": 29,
    "start_time": "2024-03-24T18:00:44.545Z"
   },
   {
    "duration": 14,
    "start_time": "2024-03-24T18:00:44.575Z"
   },
   {
    "duration": 11,
    "start_time": "2024-03-24T18:00:44.591Z"
   },
   {
    "duration": 38,
    "start_time": "2024-03-24T18:00:44.604Z"
   },
   {
    "duration": 62,
    "start_time": "2024-03-24T18:00:44.644Z"
   },
   {
    "duration": 191,
    "start_time": "2024-03-24T18:00:44.708Z"
   },
   {
    "duration": 197,
    "start_time": "2024-03-24T18:00:44.901Z"
   },
   {
    "duration": 5,
    "start_time": "2024-03-24T18:00:45.100Z"
   },
   {
    "duration": 57,
    "start_time": "2024-03-24T18:00:45.107Z"
   },
   {
    "duration": 17,
    "start_time": "2024-03-24T18:00:45.166Z"
   },
   {
    "duration": 14,
    "start_time": "2024-03-24T18:00:45.185Z"
   },
   {
    "duration": 22,
    "start_time": "2024-03-24T18:00:45.201Z"
   },
   {
    "duration": 46,
    "start_time": "2024-03-24T18:00:45.225Z"
   },
   {
    "duration": 26,
    "start_time": "2024-03-24T18:00:45.273Z"
   },
   {
    "duration": 16,
    "start_time": "2024-03-24T18:00:45.301Z"
   },
   {
    "duration": 55,
    "start_time": "2024-03-24T18:00:45.319Z"
   },
   {
    "duration": 31,
    "start_time": "2024-03-24T18:00:45.376Z"
   },
   {
    "duration": 24,
    "start_time": "2024-03-24T18:00:45.408Z"
   },
   {
    "duration": 31,
    "start_time": "2024-03-24T18:00:45.434Z"
   },
   {
    "duration": 25,
    "start_time": "2024-03-24T18:00:45.466Z"
   },
   {
    "duration": 13,
    "start_time": "2024-03-24T18:00:45.497Z"
   },
   {
    "duration": 15,
    "start_time": "2024-03-24T18:00:45.512Z"
   },
   {
    "duration": 18,
    "start_time": "2024-03-24T18:00:45.528Z"
   },
   {
    "duration": 32,
    "start_time": "2024-03-24T18:00:45.548Z"
   },
   {
    "duration": 158,
    "start_time": "2024-03-24T18:00:45.581Z"
   },
   {
    "duration": 1661,
    "start_time": "2024-03-24T18:00:45.741Z"
   },
   {
    "duration": 246,
    "start_time": "2024-03-24T18:00:47.404Z"
   },
   {
    "duration": 1628,
    "start_time": "2024-03-24T18:03:21.641Z"
   },
   {
    "duration": 1696,
    "start_time": "2024-03-24T18:05:58.301Z"
   },
   {
    "duration": 1710,
    "start_time": "2024-03-24T18:09:40.849Z"
   },
   {
    "duration": 137,
    "start_time": "2024-03-24T18:09:43.165Z"
   },
   {
    "duration": 1264,
    "start_time": "2024-03-24T18:17:34.779Z"
   },
   {
    "duration": 30,
    "start_time": "2024-03-24T18:17:36.044Z"
   },
   {
    "duration": 32,
    "start_time": "2024-03-24T18:17:36.076Z"
   },
   {
    "duration": 22,
    "start_time": "2024-03-24T18:17:36.110Z"
   },
   {
    "duration": 13,
    "start_time": "2024-03-24T18:17:36.134Z"
   },
   {
    "duration": 15,
    "start_time": "2024-03-24T18:17:36.148Z"
   },
   {
    "duration": 13,
    "start_time": "2024-03-24T18:17:36.165Z"
   },
   {
    "duration": 16,
    "start_time": "2024-03-24T18:17:36.180Z"
   },
   {
    "duration": 13,
    "start_time": "2024-03-24T18:17:36.197Z"
   },
   {
    "duration": 4,
    "start_time": "2024-03-24T18:17:36.212Z"
   },
   {
    "duration": 9,
    "start_time": "2024-03-24T18:17:36.218Z"
   },
   {
    "duration": 11,
    "start_time": "2024-03-24T18:17:36.228Z"
   },
   {
    "duration": 4,
    "start_time": "2024-03-24T18:17:36.240Z"
   },
   {
    "duration": 27,
    "start_time": "2024-03-24T18:17:36.246Z"
   },
   {
    "duration": 14,
    "start_time": "2024-03-24T18:17:36.274Z"
   },
   {
    "duration": 9,
    "start_time": "2024-03-24T18:17:36.289Z"
   },
   {
    "duration": 12,
    "start_time": "2024-03-24T18:17:36.299Z"
   },
   {
    "duration": 10,
    "start_time": "2024-03-24T18:17:36.313Z"
   },
   {
    "duration": 9,
    "start_time": "2024-03-24T18:17:36.325Z"
   },
   {
    "duration": 5,
    "start_time": "2024-03-24T18:17:36.335Z"
   },
   {
    "duration": 12,
    "start_time": "2024-03-24T18:17:36.342Z"
   },
   {
    "duration": 34,
    "start_time": "2024-03-24T18:17:36.355Z"
   },
   {
    "duration": 3,
    "start_time": "2024-03-24T18:17:36.391Z"
   },
   {
    "duration": 12,
    "start_time": "2024-03-24T18:17:36.395Z"
   },
   {
    "duration": 6,
    "start_time": "2024-03-24T18:17:36.408Z"
   },
   {
    "duration": 175,
    "start_time": "2024-03-24T18:17:36.415Z"
   },
   {
    "duration": 6,
    "start_time": "2024-03-24T18:17:36.591Z"
   },
   {
    "duration": 147,
    "start_time": "2024-03-24T18:17:36.602Z"
   },
   {
    "duration": 188,
    "start_time": "2024-03-24T18:17:36.750Z"
   },
   {
    "duration": 7,
    "start_time": "2024-03-24T18:17:36.940Z"
   },
   {
    "duration": 11,
    "start_time": "2024-03-24T18:17:36.949Z"
   },
   {
    "duration": 7,
    "start_time": "2024-03-24T18:17:36.973Z"
   },
   {
    "duration": 212,
    "start_time": "2024-03-24T18:17:36.982Z"
   },
   {
    "duration": 9,
    "start_time": "2024-03-24T18:17:37.195Z"
   },
   {
    "duration": 23,
    "start_time": "2024-03-24T18:17:37.205Z"
   },
   {
    "duration": 21,
    "start_time": "2024-03-24T18:17:37.229Z"
   },
   {
    "duration": 262,
    "start_time": "2024-03-24T18:17:37.251Z"
   },
   {
    "duration": 10,
    "start_time": "2024-03-24T18:17:37.515Z"
   },
   {
    "duration": 8,
    "start_time": "2024-03-24T18:17:37.527Z"
   },
   {
    "duration": 6,
    "start_time": "2024-03-24T18:17:37.537Z"
   },
   {
    "duration": 7,
    "start_time": "2024-03-24T18:17:37.573Z"
   },
   {
    "duration": 206,
    "start_time": "2024-03-24T18:17:37.582Z"
   },
   {
    "duration": 9,
    "start_time": "2024-03-24T18:17:37.791Z"
   },
   {
    "duration": 8,
    "start_time": "2024-03-24T18:17:37.802Z"
   },
   {
    "duration": 8,
    "start_time": "2024-03-24T18:17:37.811Z"
   },
   {
    "duration": 320,
    "start_time": "2024-03-24T18:17:37.821Z"
   },
   {
    "duration": 7,
    "start_time": "2024-03-24T18:17:38.143Z"
   },
   {
    "duration": 24,
    "start_time": "2024-03-24T18:17:38.152Z"
   },
   {
    "duration": 5,
    "start_time": "2024-03-24T18:17:38.178Z"
   },
   {
    "duration": 6,
    "start_time": "2024-03-24T18:17:38.185Z"
   },
   {
    "duration": 5,
    "start_time": "2024-03-24T18:17:38.192Z"
   },
   {
    "duration": 12,
    "start_time": "2024-03-24T18:17:38.198Z"
   },
   {
    "duration": 9,
    "start_time": "2024-03-24T18:17:38.212Z"
   },
   {
    "duration": 70,
    "start_time": "2024-03-24T18:17:38.222Z"
   },
   {
    "duration": 98,
    "start_time": "2024-03-24T18:17:38.294Z"
   },
   {
    "duration": 4,
    "start_time": "2024-03-24T18:17:38.393Z"
   },
   {
    "duration": 20,
    "start_time": "2024-03-24T18:17:38.398Z"
   },
   {
    "duration": 17,
    "start_time": "2024-03-24T18:17:38.419Z"
   },
   {
    "duration": 9,
    "start_time": "2024-03-24T18:17:38.438Z"
   },
   {
    "duration": 25,
    "start_time": "2024-03-24T18:17:38.449Z"
   },
   {
    "duration": 6,
    "start_time": "2024-03-24T18:17:38.475Z"
   },
   {
    "duration": 6,
    "start_time": "2024-03-24T18:17:38.482Z"
   },
   {
    "duration": 13,
    "start_time": "2024-03-24T18:17:38.489Z"
   },
   {
    "duration": 12,
    "start_time": "2024-03-24T18:17:38.503Z"
   },
   {
    "duration": 69,
    "start_time": "2024-03-24T18:17:38.516Z"
   },
   {
    "duration": 36,
    "start_time": "2024-03-24T18:17:38.587Z"
   },
   {
    "duration": 182,
    "start_time": "2024-03-24T18:17:38.624Z"
   },
   {
    "duration": 193,
    "start_time": "2024-03-24T18:17:38.808Z"
   },
   {
    "duration": 4,
    "start_time": "2024-03-24T18:17:39.003Z"
   },
   {
    "duration": 33,
    "start_time": "2024-03-24T18:17:39.009Z"
   },
   {
    "duration": 40,
    "start_time": "2024-03-24T18:17:39.043Z"
   },
   {
    "duration": 15,
    "start_time": "2024-03-24T18:17:39.084Z"
   },
   {
    "duration": 14,
    "start_time": "2024-03-24T18:17:39.100Z"
   },
   {
    "duration": 13,
    "start_time": "2024-03-24T18:17:39.115Z"
   },
   {
    "duration": 12,
    "start_time": "2024-03-24T18:17:39.129Z"
   },
   {
    "duration": 38,
    "start_time": "2024-03-24T18:17:39.143Z"
   },
   {
    "duration": 12,
    "start_time": "2024-03-24T18:17:39.183Z"
   },
   {
    "duration": 7,
    "start_time": "2024-03-24T18:17:39.196Z"
   },
   {
    "duration": 4,
    "start_time": "2024-03-24T18:17:39.204Z"
   },
   {
    "duration": 5,
    "start_time": "2024-03-24T18:17:39.210Z"
   },
   {
    "duration": 4,
    "start_time": "2024-03-24T18:17:39.217Z"
   },
   {
    "duration": 5,
    "start_time": "2024-03-24T18:17:39.226Z"
   },
   {
    "duration": 42,
    "start_time": "2024-03-24T18:17:39.232Z"
   },
   {
    "duration": 4,
    "start_time": "2024-03-24T18:17:39.276Z"
   },
   {
    "duration": 7,
    "start_time": "2024-03-24T18:17:39.281Z"
   },
   {
    "duration": 1643,
    "start_time": "2024-03-24T18:17:39.289Z"
   },
   {
    "duration": 152,
    "start_time": "2024-03-24T18:17:40.934Z"
   },
   {
    "duration": 5,
    "start_time": "2024-03-24T18:17:41.088Z"
   },
   {
    "duration": 251,
    "start_time": "2024-03-24T18:17:41.095Z"
   },
   {
    "duration": 1247,
    "start_time": "2024-03-24T18:21:47.894Z"
   },
   {
    "duration": 31,
    "start_time": "2024-03-24T18:21:49.143Z"
   },
   {
    "duration": 29,
    "start_time": "2024-03-24T18:21:49.175Z"
   },
   {
    "duration": 16,
    "start_time": "2024-03-24T18:21:49.206Z"
   },
   {
    "duration": 12,
    "start_time": "2024-03-24T18:21:49.224Z"
   },
   {
    "duration": 10,
    "start_time": "2024-03-24T18:21:49.238Z"
   },
   {
    "duration": 6,
    "start_time": "2024-03-24T18:21:49.250Z"
   },
   {
    "duration": 10,
    "start_time": "2024-03-24T18:21:49.257Z"
   },
   {
    "duration": 11,
    "start_time": "2024-03-24T18:21:49.273Z"
   },
   {
    "duration": 4,
    "start_time": "2024-03-24T18:21:49.287Z"
   },
   {
    "duration": 10,
    "start_time": "2024-03-24T18:21:49.292Z"
   },
   {
    "duration": 13,
    "start_time": "2024-03-24T18:21:49.304Z"
   },
   {
    "duration": 11,
    "start_time": "2024-03-24T18:21:49.318Z"
   },
   {
    "duration": 8,
    "start_time": "2024-03-24T18:21:49.330Z"
   },
   {
    "duration": 35,
    "start_time": "2024-03-24T18:21:49.339Z"
   },
   {
    "duration": 9,
    "start_time": "2024-03-24T18:21:49.375Z"
   },
   {
    "duration": 11,
    "start_time": "2024-03-24T18:21:49.386Z"
   },
   {
    "duration": 14,
    "start_time": "2024-03-24T18:21:49.399Z"
   },
   {
    "duration": 12,
    "start_time": "2024-03-24T18:21:49.415Z"
   },
   {
    "duration": 12,
    "start_time": "2024-03-24T18:21:49.429Z"
   },
   {
    "duration": 4,
    "start_time": "2024-03-24T18:21:49.443Z"
   },
   {
    "duration": 11,
    "start_time": "2024-03-24T18:21:49.472Z"
   },
   {
    "duration": 5,
    "start_time": "2024-03-24T18:21:49.485Z"
   },
   {
    "duration": 7,
    "start_time": "2024-03-24T18:21:49.491Z"
   },
   {
    "duration": 11,
    "start_time": "2024-03-24T18:21:49.500Z"
   },
   {
    "duration": 185,
    "start_time": "2024-03-24T18:21:49.512Z"
   },
   {
    "duration": 5,
    "start_time": "2024-03-24T18:21:49.699Z"
   },
   {
    "duration": 139,
    "start_time": "2024-03-24T18:21:49.708Z"
   },
   {
    "duration": 174,
    "start_time": "2024-03-24T18:21:49.848Z"
   },
   {
    "duration": 8,
    "start_time": "2024-03-24T18:21:50.023Z"
   },
   {
    "duration": 30,
    "start_time": "2024-03-24T18:21:50.032Z"
   },
   {
    "duration": 14,
    "start_time": "2024-03-24T18:21:50.063Z"
   },
   {
    "duration": 209,
    "start_time": "2024-03-24T18:21:50.079Z"
   },
   {
    "duration": 8,
    "start_time": "2024-03-24T18:21:50.290Z"
   },
   {
    "duration": 7,
    "start_time": "2024-03-24T18:21:50.300Z"
   },
   {
    "duration": 7,
    "start_time": "2024-03-24T18:21:50.308Z"
   },
   {
    "duration": 270,
    "start_time": "2024-03-24T18:21:50.317Z"
   },
   {
    "duration": 9,
    "start_time": "2024-03-24T18:21:50.589Z"
   },
   {
    "duration": 7,
    "start_time": "2024-03-24T18:21:50.599Z"
   },
   {
    "duration": 12,
    "start_time": "2024-03-24T18:21:50.607Z"
   },
   {
    "duration": 7,
    "start_time": "2024-03-24T18:21:50.620Z"
   },
   {
    "duration": 231,
    "start_time": "2024-03-24T18:21:50.628Z"
   },
   {
    "duration": 13,
    "start_time": "2024-03-24T18:21:50.861Z"
   },
   {
    "duration": 8,
    "start_time": "2024-03-24T18:21:50.875Z"
   },
   {
    "duration": 7,
    "start_time": "2024-03-24T18:21:50.885Z"
   },
   {
    "duration": 275,
    "start_time": "2024-03-24T18:21:50.893Z"
   },
   {
    "duration": 8,
    "start_time": "2024-03-24T18:21:51.169Z"
   },
   {
    "duration": 6,
    "start_time": "2024-03-24T18:21:51.178Z"
   },
   {
    "duration": 4,
    "start_time": "2024-03-24T18:21:51.186Z"
   },
   {
    "duration": 12,
    "start_time": "2024-03-24T18:21:51.191Z"
   },
   {
    "duration": 9,
    "start_time": "2024-03-24T18:21:51.204Z"
   },
   {
    "duration": 11,
    "start_time": "2024-03-24T18:21:51.215Z"
   },
   {
    "duration": 9,
    "start_time": "2024-03-24T18:21:51.228Z"
   },
   {
    "duration": 62,
    "start_time": "2024-03-24T18:21:51.239Z"
   },
   {
    "duration": 102,
    "start_time": "2024-03-24T18:21:51.303Z"
   },
   {
    "duration": 5,
    "start_time": "2024-03-24T18:21:51.407Z"
   },
   {
    "duration": 18,
    "start_time": "2024-03-24T18:21:51.414Z"
   },
   {
    "duration": 39,
    "start_time": "2024-03-24T18:21:51.434Z"
   },
   {
    "duration": 4,
    "start_time": "2024-03-24T18:21:51.475Z"
   },
   {
    "duration": 5,
    "start_time": "2024-03-24T18:21:51.480Z"
   },
   {
    "duration": 7,
    "start_time": "2024-03-24T18:21:51.486Z"
   },
   {
    "duration": 5,
    "start_time": "2024-03-24T18:21:51.495Z"
   },
   {
    "duration": 18,
    "start_time": "2024-03-24T18:21:51.502Z"
   },
   {
    "duration": 11,
    "start_time": "2024-03-24T18:21:51.521Z"
   },
   {
    "duration": 69,
    "start_time": "2024-03-24T18:21:51.533Z"
   },
   {
    "duration": 35,
    "start_time": "2024-03-24T18:21:51.604Z"
   },
   {
    "duration": 185,
    "start_time": "2024-03-24T18:21:51.641Z"
   },
   {
    "duration": 205,
    "start_time": "2024-03-24T18:21:51.827Z"
   },
   {
    "duration": 4,
    "start_time": "2024-03-24T18:21:52.034Z"
   },
   {
    "duration": 47,
    "start_time": "2024-03-24T18:21:52.040Z"
   },
   {
    "duration": 18,
    "start_time": "2024-03-24T18:21:52.089Z"
   },
   {
    "duration": 14,
    "start_time": "2024-03-24T18:21:52.108Z"
   },
   {
    "duration": 34,
    "start_time": "2024-03-24T18:21:52.124Z"
   },
   {
    "duration": 19,
    "start_time": "2024-03-24T18:21:52.159Z"
   },
   {
    "duration": 17,
    "start_time": "2024-03-24T18:21:52.180Z"
   },
   {
    "duration": 15,
    "start_time": "2024-03-24T18:21:52.198Z"
   },
   {
    "duration": 9,
    "start_time": "2024-03-24T18:21:52.214Z"
   },
   {
    "duration": 25,
    "start_time": "2024-03-24T18:21:52.224Z"
   },
   {
    "duration": 6,
    "start_time": "2024-03-24T18:21:52.251Z"
   },
   {
    "duration": 18,
    "start_time": "2024-03-24T18:21:52.258Z"
   },
   {
    "duration": 4,
    "start_time": "2024-03-24T18:21:52.277Z"
   },
   {
    "duration": 6,
    "start_time": "2024-03-24T18:21:52.286Z"
   },
   {
    "duration": 6,
    "start_time": "2024-03-24T18:21:52.293Z"
   },
   {
    "duration": 4,
    "start_time": "2024-03-24T18:21:52.300Z"
   },
   {
    "duration": 5,
    "start_time": "2024-03-24T18:21:52.305Z"
   },
   {
    "duration": 1636,
    "start_time": "2024-03-24T18:21:52.312Z"
   },
   {
    "duration": 153,
    "start_time": "2024-03-24T18:21:53.950Z"
   },
   {
    "duration": 7,
    "start_time": "2024-03-24T18:21:54.105Z"
   },
   {
    "duration": 262,
    "start_time": "2024-03-24T18:21:54.115Z"
   },
   {
    "duration": 142,
    "start_time": "2024-03-24T18:37:43.607Z"
   },
   {
    "duration": 1276,
    "start_time": "2024-03-24T19:14:23.358Z"
   },
   {
    "duration": 30,
    "start_time": "2024-03-24T19:14:24.636Z"
   },
   {
    "duration": 37,
    "start_time": "2024-03-24T19:14:24.668Z"
   },
   {
    "duration": 15,
    "start_time": "2024-03-24T19:14:24.708Z"
   },
   {
    "duration": 24,
    "start_time": "2024-03-24T19:14:24.725Z"
   },
   {
    "duration": 11,
    "start_time": "2024-03-24T19:14:24.750Z"
   },
   {
    "duration": 11,
    "start_time": "2024-03-24T19:14:24.763Z"
   },
   {
    "duration": 14,
    "start_time": "2024-03-24T19:14:24.775Z"
   },
   {
    "duration": 11,
    "start_time": "2024-03-24T19:14:24.791Z"
   },
   {
    "duration": 4,
    "start_time": "2024-03-24T19:14:24.804Z"
   },
   {
    "duration": 10,
    "start_time": "2024-03-24T19:14:24.809Z"
   },
   {
    "duration": 12,
    "start_time": "2024-03-24T19:14:24.820Z"
   },
   {
    "duration": 5,
    "start_time": "2024-03-24T19:14:24.834Z"
   },
   {
    "duration": 12,
    "start_time": "2024-03-24T19:14:24.873Z"
   },
   {
    "duration": 11,
    "start_time": "2024-03-24T19:14:24.888Z"
   },
   {
    "duration": 8,
    "start_time": "2024-03-24T19:14:24.901Z"
   },
   {
    "duration": 14,
    "start_time": "2024-03-24T19:14:24.910Z"
   },
   {
    "duration": 11,
    "start_time": "2024-03-24T19:14:24.925Z"
   },
   {
    "duration": 8,
    "start_time": "2024-03-24T19:14:24.938Z"
   },
   {
    "duration": 33,
    "start_time": "2024-03-24T19:14:24.947Z"
   },
   {
    "duration": 11,
    "start_time": "2024-03-24T19:14:24.983Z"
   },
   {
    "duration": 11,
    "start_time": "2024-03-24T19:14:24.996Z"
   },
   {
    "duration": 3,
    "start_time": "2024-03-24T19:14:25.009Z"
   },
   {
    "duration": 7,
    "start_time": "2024-03-24T19:14:25.014Z"
   },
   {
    "duration": 5,
    "start_time": "2024-03-24T19:14:25.022Z"
   },
   {
    "duration": 208,
    "start_time": "2024-03-24T19:14:25.029Z"
   },
   {
    "duration": 6,
    "start_time": "2024-03-24T19:14:25.238Z"
   },
   {
    "duration": 150,
    "start_time": "2024-03-24T19:14:25.249Z"
   },
   {
    "duration": 197,
    "start_time": "2024-03-24T19:14:25.400Z"
   },
   {
    "duration": 8,
    "start_time": "2024-03-24T19:14:25.599Z"
   },
   {
    "duration": 7,
    "start_time": "2024-03-24T19:14:25.608Z"
   },
   {
    "duration": 12,
    "start_time": "2024-03-24T19:14:25.616Z"
   },
   {
    "duration": 243,
    "start_time": "2024-03-24T19:14:25.630Z"
   },
   {
    "duration": 13,
    "start_time": "2024-03-24T19:14:25.875Z"
   },
   {
    "duration": 7,
    "start_time": "2024-03-24T19:14:25.890Z"
   },
   {
    "duration": 11,
    "start_time": "2024-03-24T19:14:25.899Z"
   },
   {
    "duration": 290,
    "start_time": "2024-03-24T19:14:25.912Z"
   },
   {
    "duration": 9,
    "start_time": "2024-03-24T19:14:26.204Z"
   },
   {
    "duration": 7,
    "start_time": "2024-03-24T19:14:26.214Z"
   },
   {
    "duration": 7,
    "start_time": "2024-03-24T19:14:26.222Z"
   },
   {
    "duration": 7,
    "start_time": "2024-03-24T19:14:26.230Z"
   },
   {
    "duration": 243,
    "start_time": "2024-03-24T19:14:26.239Z"
   },
   {
    "duration": 11,
    "start_time": "2024-03-24T19:14:26.484Z"
   },
   {
    "duration": 8,
    "start_time": "2024-03-24T19:14:26.497Z"
   },
   {
    "duration": 7,
    "start_time": "2024-03-24T19:14:26.507Z"
   },
   {
    "duration": 302,
    "start_time": "2024-03-24T19:14:26.516Z"
   },
   {
    "duration": 7,
    "start_time": "2024-03-24T19:14:26.819Z"
   },
   {
    "duration": 7,
    "start_time": "2024-03-24T19:14:26.828Z"
   },
   {
    "duration": 3,
    "start_time": "2024-03-24T19:14:26.837Z"
   },
   {
    "duration": 6,
    "start_time": "2024-03-24T19:14:26.841Z"
   },
   {
    "duration": 28,
    "start_time": "2024-03-24T19:14:26.848Z"
   },
   {
    "duration": 15,
    "start_time": "2024-03-24T19:14:26.878Z"
   },
   {
    "duration": 14,
    "start_time": "2024-03-24T19:14:26.895Z"
   },
   {
    "duration": 37,
    "start_time": "2024-03-24T19:14:26.911Z"
   },
   {
    "duration": 114,
    "start_time": "2024-03-24T19:14:26.972Z"
   },
   {
    "duration": 8,
    "start_time": "2024-03-24T19:14:27.089Z"
   },
   {
    "duration": 25,
    "start_time": "2024-03-24T19:14:27.098Z"
   },
   {
    "duration": 23,
    "start_time": "2024-03-24T19:14:27.124Z"
   },
   {
    "duration": 37,
    "start_time": "2024-03-24T19:14:27.149Z"
   },
   {
    "duration": 9,
    "start_time": "2024-03-24T19:14:27.188Z"
   },
   {
    "duration": 6,
    "start_time": "2024-03-24T19:14:27.200Z"
   },
   {
    "duration": 12,
    "start_time": "2024-03-24T19:14:27.207Z"
   },
   {
    "duration": 16,
    "start_time": "2024-03-24T19:14:27.221Z"
   },
   {
    "duration": 34,
    "start_time": "2024-03-24T19:14:27.239Z"
   },
   {
    "duration": 41,
    "start_time": "2024-03-24T19:14:27.276Z"
   },
   {
    "duration": 35,
    "start_time": "2024-03-24T19:14:27.319Z"
   },
   {
    "duration": 207,
    "start_time": "2024-03-24T19:14:27.355Z"
   },
   {
    "duration": 200,
    "start_time": "2024-03-24T19:14:27.564Z"
   },
   {
    "duration": 11,
    "start_time": "2024-03-24T19:14:27.765Z"
   },
   {
    "duration": 35,
    "start_time": "2024-03-24T19:14:27.778Z"
   },
   {
    "duration": 16,
    "start_time": "2024-03-24T19:14:27.814Z"
   },
   {
    "duration": 13,
    "start_time": "2024-03-24T19:14:27.832Z"
   },
   {
    "duration": 19,
    "start_time": "2024-03-24T19:14:27.874Z"
   },
   {
    "duration": 13,
    "start_time": "2024-03-24T19:14:27.894Z"
   },
   {
    "duration": 12,
    "start_time": "2024-03-24T19:14:27.910Z"
   },
   {
    "duration": 17,
    "start_time": "2024-03-24T19:14:27.924Z"
   },
   {
    "duration": 6,
    "start_time": "2024-03-24T19:14:27.943Z"
   },
   {
    "duration": 6,
    "start_time": "2024-03-24T19:14:27.974Z"
   },
   {
    "duration": 8,
    "start_time": "2024-03-24T19:14:27.982Z"
   },
   {
    "duration": 7,
    "start_time": "2024-03-24T19:14:27.991Z"
   },
   {
    "duration": 5,
    "start_time": "2024-03-24T19:14:28.000Z"
   },
   {
    "duration": 5,
    "start_time": "2024-03-24T19:14:28.011Z"
   },
   {
    "duration": 13,
    "start_time": "2024-03-24T19:14:28.018Z"
   },
   {
    "duration": 50,
    "start_time": "2024-03-24T19:14:28.033Z"
   },
   {
    "duration": 6,
    "start_time": "2024-03-24T19:14:28.085Z"
   },
   {
    "duration": 1747,
    "start_time": "2024-03-24T19:14:28.092Z"
   },
   {
    "duration": 179,
    "start_time": "2024-03-24T19:14:29.840Z"
   },
   {
    "duration": 6,
    "start_time": "2024-03-24T19:14:30.021Z"
   },
   {
    "duration": 350,
    "start_time": "2024-03-24T19:14:30.028Z"
   },
   {
    "duration": 172,
    "start_time": "2024-03-24T20:15:11.485Z"
   },
   {
    "duration": 196,
    "start_time": "2024-03-24T20:15:12.130Z"
   },
   {
    "duration": 1263,
    "start_time": "2024-03-25T00:11:37.018Z"
   },
   {
    "duration": 75,
    "start_time": "2024-03-25T00:11:38.283Z"
   },
   {
    "duration": 86,
    "start_time": "2024-03-25T00:11:38.359Z"
   },
   {
    "duration": 65,
    "start_time": "2024-03-25T00:11:38.447Z"
   },
   {
    "duration": 10,
    "start_time": "2024-03-25T00:11:38.514Z"
   },
   {
    "duration": 14,
    "start_time": "2024-03-25T00:11:38.526Z"
   },
   {
    "duration": 31,
    "start_time": "2024-03-25T00:11:38.541Z"
   },
   {
    "duration": 25,
    "start_time": "2024-03-25T00:11:38.573Z"
   },
   {
    "duration": 20,
    "start_time": "2024-03-25T00:11:38.599Z"
   },
   {
    "duration": 4,
    "start_time": "2024-03-25T00:11:38.622Z"
   },
   {
    "duration": 8,
    "start_time": "2024-03-25T00:11:38.627Z"
   },
   {
    "duration": 8,
    "start_time": "2024-03-25T00:11:38.637Z"
   },
   {
    "duration": 11,
    "start_time": "2024-03-25T00:11:38.647Z"
   },
   {
    "duration": 9,
    "start_time": "2024-03-25T00:11:38.660Z"
   },
   {
    "duration": 8,
    "start_time": "2024-03-25T00:11:38.670Z"
   },
   {
    "duration": 8,
    "start_time": "2024-03-25T00:11:38.679Z"
   },
   {
    "duration": 13,
    "start_time": "2024-03-25T00:11:38.688Z"
   },
   {
    "duration": 21,
    "start_time": "2024-03-25T00:11:38.703Z"
   },
   {
    "duration": 7,
    "start_time": "2024-03-25T00:11:38.725Z"
   },
   {
    "duration": 7,
    "start_time": "2024-03-25T00:11:38.733Z"
   },
   {
    "duration": 4,
    "start_time": "2024-03-25T00:11:38.741Z"
   },
   {
    "duration": 9,
    "start_time": "2024-03-25T00:11:38.746Z"
   },
   {
    "duration": 3,
    "start_time": "2024-03-25T00:11:38.756Z"
   },
   {
    "duration": 4,
    "start_time": "2024-03-25T00:11:38.760Z"
   },
   {
    "duration": 6,
    "start_time": "2024-03-25T00:11:38.765Z"
   },
   {
    "duration": 157,
    "start_time": "2024-03-25T00:11:38.772Z"
   },
   {
    "duration": 6,
    "start_time": "2024-03-25T00:11:38.930Z"
   },
   {
    "duration": 138,
    "start_time": "2024-03-25T00:11:38.939Z"
   },
   {
    "duration": 160,
    "start_time": "2024-03-25T00:11:39.079Z"
   },
   {
    "duration": 6,
    "start_time": "2024-03-25T00:11:39.240Z"
   },
   {
    "duration": 8,
    "start_time": "2024-03-25T00:11:39.248Z"
   },
   {
    "duration": 26,
    "start_time": "2024-03-25T00:11:39.257Z"
   },
   {
    "duration": 164,
    "start_time": "2024-03-25T00:11:39.284Z"
   },
   {
    "duration": 14,
    "start_time": "2024-03-25T00:11:39.449Z"
   },
   {
    "duration": 14,
    "start_time": "2024-03-25T00:11:39.465Z"
   },
   {
    "duration": 9,
    "start_time": "2024-03-25T00:11:39.480Z"
   },
   {
    "duration": 216,
    "start_time": "2024-03-25T00:11:39.490Z"
   },
   {
    "duration": 10,
    "start_time": "2024-03-25T00:11:39.707Z"
   },
   {
    "duration": 11,
    "start_time": "2024-03-25T00:11:39.718Z"
   },
   {
    "duration": 5,
    "start_time": "2024-03-25T00:11:39.730Z"
   },
   {
    "duration": 14,
    "start_time": "2024-03-25T00:11:39.737Z"
   },
   {
    "duration": 176,
    "start_time": "2024-03-25T00:11:39.753Z"
   },
   {
    "duration": 7,
    "start_time": "2024-03-25T00:11:39.931Z"
   },
   {
    "duration": 41,
    "start_time": "2024-03-25T00:11:39.939Z"
   },
   {
    "duration": 6,
    "start_time": "2024-03-25T00:11:39.981Z"
   },
   {
    "duration": 224,
    "start_time": "2024-03-25T00:11:39.989Z"
   },
   {
    "duration": 7,
    "start_time": "2024-03-25T00:11:40.215Z"
   },
   {
    "duration": 13,
    "start_time": "2024-03-25T00:11:40.223Z"
   },
   {
    "duration": 4,
    "start_time": "2024-03-25T00:11:40.237Z"
   },
   {
    "duration": 8,
    "start_time": "2024-03-25T00:11:40.242Z"
   },
   {
    "duration": 6,
    "start_time": "2024-03-25T00:11:40.251Z"
   },
   {
    "duration": 25,
    "start_time": "2024-03-25T00:11:40.258Z"
   },
   {
    "duration": 18,
    "start_time": "2024-03-25T00:11:40.284Z"
   },
   {
    "duration": 39,
    "start_time": "2024-03-25T00:11:40.304Z"
   },
   {
    "duration": 95,
    "start_time": "2024-03-25T00:11:40.344Z"
   },
   {
    "duration": 4,
    "start_time": "2024-03-25T00:11:40.441Z"
   },
   {
    "duration": 16,
    "start_time": "2024-03-25T00:11:40.446Z"
   },
   {
    "duration": 12,
    "start_time": "2024-03-25T00:11:40.463Z"
   },
   {
    "duration": 11,
    "start_time": "2024-03-25T00:11:40.476Z"
   },
   {
    "duration": 4,
    "start_time": "2024-03-25T00:11:40.504Z"
   },
   {
    "duration": 10,
    "start_time": "2024-03-25T00:11:40.509Z"
   },
   {
    "duration": 8,
    "start_time": "2024-03-25T00:11:40.521Z"
   },
   {
    "duration": 13,
    "start_time": "2024-03-25T00:11:40.529Z"
   },
   {
    "duration": 9,
    "start_time": "2024-03-25T00:11:40.543Z"
   },
   {
    "duration": 27,
    "start_time": "2024-03-25T00:11:40.553Z"
   },
   {
    "duration": 43,
    "start_time": "2024-03-25T00:11:40.582Z"
   },
   {
    "duration": 142,
    "start_time": "2024-03-25T00:11:40.626Z"
   },
   {
    "duration": 157,
    "start_time": "2024-03-25T00:11:40.770Z"
   },
   {
    "duration": 4,
    "start_time": "2024-03-25T00:11:40.928Z"
   },
   {
    "duration": 25,
    "start_time": "2024-03-25T00:11:40.933Z"
   },
   {
    "duration": 12,
    "start_time": "2024-03-25T00:11:40.959Z"
   },
   {
    "duration": 35,
    "start_time": "2024-03-25T00:11:40.973Z"
   },
   {
    "duration": 12,
    "start_time": "2024-03-25T00:11:41.010Z"
   },
   {
    "duration": 26,
    "start_time": "2024-03-25T00:11:41.023Z"
   },
   {
    "duration": 16,
    "start_time": "2024-03-25T00:11:41.050Z"
   },
   {
    "duration": 57,
    "start_time": "2024-03-25T00:11:41.067Z"
   },
   {
    "duration": 44,
    "start_time": "2024-03-25T00:11:41.125Z"
   },
   {
    "duration": 5,
    "start_time": "2024-03-25T00:11:41.171Z"
   },
   {
    "duration": 6,
    "start_time": "2024-03-25T00:11:41.178Z"
   },
   {
    "duration": 13,
    "start_time": "2024-03-25T00:11:41.185Z"
   },
   {
    "duration": 5,
    "start_time": "2024-03-25T00:11:41.200Z"
   },
   {
    "duration": 4,
    "start_time": "2024-03-25T00:11:41.216Z"
   },
   {
    "duration": 5,
    "start_time": "2024-03-25T00:11:41.222Z"
   },
   {
    "duration": 8,
    "start_time": "2024-03-25T00:11:41.229Z"
   },
   {
    "duration": 25,
    "start_time": "2024-03-25T00:11:41.238Z"
   },
   {
    "duration": 1213,
    "start_time": "2024-03-25T00:11:41.264Z"
   },
   {
    "duration": 131,
    "start_time": "2024-03-25T00:11:42.478Z"
   },
   {
    "duration": 5,
    "start_time": "2024-03-25T00:11:42.611Z"
   },
   {
    "duration": 275,
    "start_time": "2024-03-25T00:11:42.617Z"
   },
   {
    "duration": 5,
    "start_time": "2024-03-25T00:15:07.413Z"
   },
   {
    "duration": 1093,
    "start_time": "2024-03-25T01:04:34.801Z"
   },
   {
    "duration": 32,
    "start_time": "2024-03-25T01:04:35.896Z"
   },
   {
    "duration": 32,
    "start_time": "2024-03-25T01:04:35.929Z"
   },
   {
    "duration": 15,
    "start_time": "2024-03-25T01:04:35.963Z"
   },
   {
    "duration": 25,
    "start_time": "2024-03-25T01:04:35.979Z"
   },
   {
    "duration": 23,
    "start_time": "2024-03-25T01:04:36.006Z"
   },
   {
    "duration": 10,
    "start_time": "2024-03-25T01:04:36.030Z"
   },
   {
    "duration": 15,
    "start_time": "2024-03-25T01:04:36.042Z"
   },
   {
    "duration": 34,
    "start_time": "2024-03-25T01:04:36.058Z"
   },
   {
    "duration": 9,
    "start_time": "2024-03-25T01:04:36.095Z"
   },
   {
    "duration": 10,
    "start_time": "2024-03-25T01:04:36.106Z"
   },
   {
    "duration": 30,
    "start_time": "2024-03-25T01:04:36.117Z"
   },
   {
    "duration": 6,
    "start_time": "2024-03-25T01:04:36.149Z"
   },
   {
    "duration": 9,
    "start_time": "2024-03-25T01:04:36.156Z"
   },
   {
    "duration": 21,
    "start_time": "2024-03-25T01:04:36.167Z"
   },
   {
    "duration": 19,
    "start_time": "2024-03-25T01:04:36.189Z"
   },
   {
    "duration": 11,
    "start_time": "2024-03-25T01:04:36.210Z"
   },
   {
    "duration": 8,
    "start_time": "2024-03-25T01:04:36.223Z"
   },
   {
    "duration": 7,
    "start_time": "2024-03-25T01:04:36.232Z"
   },
   {
    "duration": 5,
    "start_time": "2024-03-25T01:04:36.241Z"
   },
   {
    "duration": 8,
    "start_time": "2024-03-25T01:04:36.248Z"
   },
   {
    "duration": 10,
    "start_time": "2024-03-25T01:04:36.257Z"
   },
   {
    "duration": 5,
    "start_time": "2024-03-25T01:04:36.268Z"
   },
   {
    "duration": 17,
    "start_time": "2024-03-25T01:04:36.274Z"
   },
   {
    "duration": 13,
    "start_time": "2024-03-25T01:04:36.293Z"
   },
   {
    "duration": 147,
    "start_time": "2024-03-25T01:04:36.307Z"
   },
   {
    "duration": 5,
    "start_time": "2024-03-25T01:04:36.455Z"
   },
   {
    "duration": 122,
    "start_time": "2024-03-25T01:04:36.463Z"
   },
   {
    "duration": 152,
    "start_time": "2024-03-25T01:04:36.586Z"
   },
   {
    "duration": 6,
    "start_time": "2024-03-25T01:04:36.739Z"
   },
   {
    "duration": 6,
    "start_time": "2024-03-25T01:04:36.746Z"
   },
   {
    "duration": 6,
    "start_time": "2024-03-25T01:04:36.753Z"
   },
   {
    "duration": 179,
    "start_time": "2024-03-25T01:04:36.760Z"
   },
   {
    "duration": 6,
    "start_time": "2024-03-25T01:04:36.941Z"
   },
   {
    "duration": 6,
    "start_time": "2024-03-25T01:04:36.948Z"
   },
   {
    "duration": 6,
    "start_time": "2024-03-25T01:04:36.955Z"
   },
   {
    "duration": 227,
    "start_time": "2024-03-25T01:04:36.962Z"
   },
   {
    "duration": 16,
    "start_time": "2024-03-25T01:04:37.191Z"
   },
   {
    "duration": 7,
    "start_time": "2024-03-25T01:04:37.208Z"
   },
   {
    "duration": 5,
    "start_time": "2024-03-25T01:04:37.217Z"
   },
   {
    "duration": 6,
    "start_time": "2024-03-25T01:04:37.224Z"
   },
   {
    "duration": 186,
    "start_time": "2024-03-25T01:04:37.231Z"
   },
   {
    "duration": 7,
    "start_time": "2024-03-25T01:04:37.418Z"
   },
   {
    "duration": 6,
    "start_time": "2024-03-25T01:04:37.426Z"
   },
   {
    "duration": 8,
    "start_time": "2024-03-25T01:04:37.433Z"
   },
   {
    "duration": 236,
    "start_time": "2024-03-25T01:04:37.443Z"
   },
   {
    "duration": 5,
    "start_time": "2024-03-25T01:04:37.680Z"
   },
   {
    "duration": 15,
    "start_time": "2024-03-25T01:04:37.687Z"
   },
   {
    "duration": 4,
    "start_time": "2024-03-25T01:04:37.704Z"
   },
   {
    "duration": 6,
    "start_time": "2024-03-25T01:04:37.710Z"
   },
   {
    "duration": 4,
    "start_time": "2024-03-25T01:04:37.717Z"
   },
   {
    "duration": 14,
    "start_time": "2024-03-25T01:04:37.722Z"
   },
   {
    "duration": 7,
    "start_time": "2024-03-25T01:04:37.738Z"
   },
   {
    "duration": 26,
    "start_time": "2024-03-25T01:04:37.746Z"
   },
   {
    "duration": 86,
    "start_time": "2024-03-25T01:04:37.773Z"
   },
   {
    "duration": 3,
    "start_time": "2024-03-25T01:04:37.861Z"
   },
   {
    "duration": 20,
    "start_time": "2024-03-25T01:04:37.865Z"
   },
   {
    "duration": 28,
    "start_time": "2024-03-25T01:04:37.886Z"
   },
   {
    "duration": 4,
    "start_time": "2024-03-25T01:04:37.915Z"
   },
   {
    "duration": 4,
    "start_time": "2024-03-25T01:04:37.920Z"
   },
   {
    "duration": 5,
    "start_time": "2024-03-25T01:04:37.925Z"
   },
   {
    "duration": 11,
    "start_time": "2024-03-25T01:04:37.931Z"
   },
   {
    "duration": 10,
    "start_time": "2024-03-25T01:04:37.943Z"
   },
   {
    "duration": 9,
    "start_time": "2024-03-25T01:04:37.954Z"
   },
   {
    "duration": 61,
    "start_time": "2024-03-25T01:04:37.964Z"
   },
   {
    "duration": 29,
    "start_time": "2024-03-25T01:04:38.026Z"
   },
   {
    "duration": 158,
    "start_time": "2024-03-25T01:04:38.056Z"
   },
   {
    "duration": 159,
    "start_time": "2024-03-25T01:04:38.216Z"
   },
   {
    "duration": 4,
    "start_time": "2024-03-25T01:04:38.376Z"
   },
   {
    "duration": 36,
    "start_time": "2024-03-25T01:04:38.381Z"
   },
   {
    "duration": 13,
    "start_time": "2024-03-25T01:04:38.418Z"
   },
   {
    "duration": 10,
    "start_time": "2024-03-25T01:04:38.432Z"
   },
   {
    "duration": 9,
    "start_time": "2024-03-25T01:04:38.443Z"
   },
   {
    "duration": 10,
    "start_time": "2024-03-25T01:04:38.453Z"
   },
   {
    "duration": 9,
    "start_time": "2024-03-25T01:04:38.464Z"
   },
   {
    "duration": 38,
    "start_time": "2024-03-25T01:04:38.474Z"
   },
   {
    "duration": 5,
    "start_time": "2024-03-25T01:04:38.513Z"
   },
   {
    "duration": 4,
    "start_time": "2024-03-25T01:04:38.520Z"
   },
   {
    "duration": 4,
    "start_time": "2024-03-25T01:04:38.525Z"
   },
   {
    "duration": 5,
    "start_time": "2024-03-25T01:04:38.530Z"
   },
   {
    "duration": 14,
    "start_time": "2024-03-25T01:04:38.536Z"
   },
   {
    "duration": 10,
    "start_time": "2024-03-25T01:04:38.555Z"
   },
   {
    "duration": 5,
    "start_time": "2024-03-25T01:04:38.566Z"
   },
   {
    "duration": 5,
    "start_time": "2024-03-25T01:04:38.572Z"
   },
   {
    "duration": 24,
    "start_time": "2024-03-25T01:04:38.578Z"
   },
   {
    "duration": 1238,
    "start_time": "2024-03-25T01:04:38.603Z"
   },
   {
    "duration": 141,
    "start_time": "2024-03-25T01:04:39.842Z"
   },
   {
    "duration": 19,
    "start_time": "2024-03-25T01:04:39.984Z"
   },
   {
    "duration": 239,
    "start_time": "2024-03-25T01:04:40.004Z"
   },
   {
    "duration": 1065,
    "start_time": "2024-03-25T01:13:04.849Z"
   },
   {
    "duration": 28,
    "start_time": "2024-03-25T01:13:05.916Z"
   },
   {
    "duration": 26,
    "start_time": "2024-03-25T01:13:05.946Z"
   },
   {
    "duration": 16,
    "start_time": "2024-03-25T01:13:05.974Z"
   },
   {
    "duration": 11,
    "start_time": "2024-03-25T01:13:05.991Z"
   },
   {
    "duration": 27,
    "start_time": "2024-03-25T01:13:06.003Z"
   },
   {
    "duration": 11,
    "start_time": "2024-03-25T01:13:06.031Z"
   },
   {
    "duration": 8,
    "start_time": "2024-03-25T01:13:06.043Z"
   },
   {
    "duration": 14,
    "start_time": "2024-03-25T01:13:06.053Z"
   },
   {
    "duration": 4,
    "start_time": "2024-03-25T01:13:06.070Z"
   },
   {
    "duration": 19,
    "start_time": "2024-03-25T01:13:06.075Z"
   },
   {
    "duration": 12,
    "start_time": "2024-03-25T01:13:06.095Z"
   },
   {
    "duration": 7,
    "start_time": "2024-03-25T01:13:06.109Z"
   },
   {
    "duration": 10,
    "start_time": "2024-03-25T01:13:06.117Z"
   },
   {
    "duration": 12,
    "start_time": "2024-03-25T01:13:06.128Z"
   },
   {
    "duration": 8,
    "start_time": "2024-03-25T01:13:06.141Z"
   },
   {
    "duration": 13,
    "start_time": "2024-03-25T01:13:06.151Z"
   },
   {
    "duration": 10,
    "start_time": "2024-03-25T01:13:06.165Z"
   },
   {
    "duration": 7,
    "start_time": "2024-03-25T01:13:06.177Z"
   },
   {
    "duration": 5,
    "start_time": "2024-03-25T01:13:06.185Z"
   },
   {
    "duration": 13,
    "start_time": "2024-03-25T01:13:06.191Z"
   },
   {
    "duration": 11,
    "start_time": "2024-03-25T01:13:06.205Z"
   },
   {
    "duration": 8,
    "start_time": "2024-03-25T01:13:06.217Z"
   },
   {
    "duration": 9,
    "start_time": "2024-03-25T01:13:06.226Z"
   },
   {
    "duration": 8,
    "start_time": "2024-03-25T01:13:06.236Z"
   },
   {
    "duration": 151,
    "start_time": "2024-03-25T01:13:06.245Z"
   },
   {
    "duration": 6,
    "start_time": "2024-03-25T01:13:06.397Z"
   },
   {
    "duration": 116,
    "start_time": "2024-03-25T01:13:06.408Z"
   },
   {
    "duration": 145,
    "start_time": "2024-03-25T01:13:06.525Z"
   },
   {
    "duration": 7,
    "start_time": "2024-03-25T01:13:06.671Z"
   },
   {
    "duration": 9,
    "start_time": "2024-03-25T01:13:06.679Z"
   },
   {
    "duration": 14,
    "start_time": "2024-03-25T01:13:06.689Z"
   },
   {
    "duration": 167,
    "start_time": "2024-03-25T01:13:06.705Z"
   },
   {
    "duration": 6,
    "start_time": "2024-03-25T01:13:06.874Z"
   },
   {
    "duration": 19,
    "start_time": "2024-03-25T01:13:06.881Z"
   },
   {
    "duration": 11,
    "start_time": "2024-03-25T01:13:06.901Z"
   },
   {
    "duration": 223,
    "start_time": "2024-03-25T01:13:06.914Z"
   },
   {
    "duration": 9,
    "start_time": "2024-03-25T01:13:07.138Z"
   },
   {
    "duration": 7,
    "start_time": "2024-03-25T01:13:07.148Z"
   },
   {
    "duration": 31,
    "start_time": "2024-03-25T01:13:07.156Z"
   },
   {
    "duration": 8,
    "start_time": "2024-03-25T01:13:07.188Z"
   },
   {
    "duration": 198,
    "start_time": "2024-03-25T01:13:07.197Z"
   },
   {
    "duration": 7,
    "start_time": "2024-03-25T01:13:07.397Z"
   },
   {
    "duration": 13,
    "start_time": "2024-03-25T01:13:07.406Z"
   },
   {
    "duration": 7,
    "start_time": "2024-03-25T01:13:07.421Z"
   },
   {
    "duration": 221,
    "start_time": "2024-03-25T01:13:07.429Z"
   },
   {
    "duration": 6,
    "start_time": "2024-03-25T01:13:07.652Z"
   },
   {
    "duration": 33,
    "start_time": "2024-03-25T01:13:07.660Z"
   },
   {
    "duration": 27,
    "start_time": "2024-03-25T01:13:07.694Z"
   },
   {
    "duration": 6,
    "start_time": "2024-03-25T01:13:07.722Z"
   },
   {
    "duration": 10,
    "start_time": "2024-03-25T01:13:07.729Z"
   },
   {
    "duration": 8,
    "start_time": "2024-03-25T01:13:07.740Z"
   },
   {
    "duration": 18,
    "start_time": "2024-03-25T01:13:07.750Z"
   },
   {
    "duration": 30,
    "start_time": "2024-03-25T01:13:07.770Z"
   },
   {
    "duration": 80,
    "start_time": "2024-03-25T01:13:07.802Z"
   },
   {
    "duration": 5,
    "start_time": "2024-03-25T01:13:07.883Z"
   },
   {
    "duration": 33,
    "start_time": "2024-03-25T01:13:07.889Z"
   },
   {
    "duration": 12,
    "start_time": "2024-03-25T01:13:07.924Z"
   },
   {
    "duration": 8,
    "start_time": "2024-03-25T01:13:07.937Z"
   },
   {
    "duration": 11,
    "start_time": "2024-03-25T01:13:07.946Z"
   },
   {
    "duration": 12,
    "start_time": "2024-03-25T01:13:07.958Z"
   },
   {
    "duration": 20,
    "start_time": "2024-03-25T01:13:07.972Z"
   },
   {
    "duration": 11,
    "start_time": "2024-03-25T01:13:07.994Z"
   },
   {
    "duration": 13,
    "start_time": "2024-03-25T01:13:08.006Z"
   },
   {
    "duration": 37,
    "start_time": "2024-03-25T01:13:08.021Z"
   },
   {
    "duration": 29,
    "start_time": "2024-03-25T01:13:08.059Z"
   },
   {
    "duration": 160,
    "start_time": "2024-03-25T01:13:08.089Z"
   },
   {
    "duration": 170,
    "start_time": "2024-03-25T01:13:08.250Z"
   },
   {
    "duration": 4,
    "start_time": "2024-03-25T01:13:08.422Z"
   },
   {
    "duration": 25,
    "start_time": "2024-03-25T01:13:08.427Z"
   },
   {
    "duration": 15,
    "start_time": "2024-03-25T01:13:08.454Z"
   },
   {
    "duration": 32,
    "start_time": "2024-03-25T01:13:08.470Z"
   },
   {
    "duration": 13,
    "start_time": "2024-03-25T01:13:08.504Z"
   },
   {
    "duration": 10,
    "start_time": "2024-03-25T01:13:08.518Z"
   },
   {
    "duration": 9,
    "start_time": "2024-03-25T01:13:08.530Z"
   },
   {
    "duration": 7,
    "start_time": "2024-03-25T01:13:08.541Z"
   },
   {
    "duration": 5,
    "start_time": "2024-03-25T01:13:08.549Z"
   },
   {
    "duration": 12,
    "start_time": "2024-03-25T01:13:08.555Z"
   },
   {
    "duration": 15,
    "start_time": "2024-03-25T01:13:08.568Z"
   },
   {
    "duration": 20,
    "start_time": "2024-03-25T01:13:08.584Z"
   },
   {
    "duration": 15,
    "start_time": "2024-03-25T01:13:08.605Z"
   },
   {
    "duration": 5,
    "start_time": "2024-03-25T01:13:08.625Z"
   },
   {
    "duration": 5,
    "start_time": "2024-03-25T01:13:08.631Z"
   },
   {
    "duration": 4,
    "start_time": "2024-03-25T01:13:08.637Z"
   },
   {
    "duration": 6,
    "start_time": "2024-03-25T01:13:08.642Z"
   },
   {
    "duration": 1275,
    "start_time": "2024-03-25T01:13:08.649Z"
   },
   {
    "duration": 141,
    "start_time": "2024-03-25T01:13:09.925Z"
   },
   {
    "duration": 5,
    "start_time": "2024-03-25T01:13:10.067Z"
   },
   {
    "duration": 233,
    "start_time": "2024-03-25T01:13:10.073Z"
   },
   {
    "duration": 1176,
    "start_time": "2024-03-25T11:46:47.386Z"
   },
   {
    "duration": 32,
    "start_time": "2024-03-25T11:46:48.566Z"
   },
   {
    "duration": 29,
    "start_time": "2024-03-25T11:46:48.599Z"
   },
   {
    "duration": 15,
    "start_time": "2024-03-25T11:46:48.630Z"
   },
   {
    "duration": 12,
    "start_time": "2024-03-25T11:46:48.646Z"
   },
   {
    "duration": 11,
    "start_time": "2024-03-25T11:46:48.659Z"
   },
   {
    "duration": 17,
    "start_time": "2024-03-25T11:46:48.672Z"
   },
   {
    "duration": 12,
    "start_time": "2024-03-25T11:46:48.691Z"
   },
   {
    "duration": 14,
    "start_time": "2024-03-25T11:46:48.705Z"
   },
   {
    "duration": 4,
    "start_time": "2024-03-25T11:46:48.721Z"
   },
   {
    "duration": 10,
    "start_time": "2024-03-25T11:46:48.727Z"
   },
   {
    "duration": 12,
    "start_time": "2024-03-25T11:46:48.738Z"
   },
   {
    "duration": 17,
    "start_time": "2024-03-25T11:46:48.751Z"
   },
   {
    "duration": 14,
    "start_time": "2024-03-25T11:46:48.770Z"
   },
   {
    "duration": 11,
    "start_time": "2024-03-25T11:46:48.786Z"
   },
   {
    "duration": 8,
    "start_time": "2024-03-25T11:46:48.798Z"
   },
   {
    "duration": 8,
    "start_time": "2024-03-25T11:46:48.807Z"
   },
   {
    "duration": 24,
    "start_time": "2024-03-25T11:46:48.816Z"
   },
   {
    "duration": 29,
    "start_time": "2024-03-25T11:46:48.842Z"
   },
   {
    "duration": 19,
    "start_time": "2024-03-25T11:46:48.873Z"
   },
   {
    "duration": 9,
    "start_time": "2024-03-25T11:46:48.894Z"
   },
   {
    "duration": 14,
    "start_time": "2024-03-25T11:46:48.905Z"
   },
   {
    "duration": 6,
    "start_time": "2024-03-25T11:46:48.921Z"
   },
   {
    "duration": 6,
    "start_time": "2024-03-25T11:46:48.929Z"
   },
   {
    "duration": 16,
    "start_time": "2024-03-25T11:46:48.937Z"
   },
   {
    "duration": 164,
    "start_time": "2024-03-25T11:46:48.955Z"
   },
   {
    "duration": 6,
    "start_time": "2024-03-25T11:46:49.120Z"
   },
   {
    "duration": 127,
    "start_time": "2024-03-25T11:46:49.130Z"
   },
   {
    "duration": 170,
    "start_time": "2024-03-25T11:46:49.259Z"
   },
   {
    "duration": 8,
    "start_time": "2024-03-25T11:46:49.431Z"
   },
   {
    "duration": 9,
    "start_time": "2024-03-25T11:46:49.440Z"
   },
   {
    "duration": 19,
    "start_time": "2024-03-25T11:46:49.450Z"
   },
   {
    "duration": 206,
    "start_time": "2024-03-25T11:46:49.470Z"
   },
   {
    "duration": 11,
    "start_time": "2024-03-25T11:46:49.678Z"
   },
   {
    "duration": 11,
    "start_time": "2024-03-25T11:46:49.691Z"
   },
   {
    "duration": 7,
    "start_time": "2024-03-25T11:46:49.703Z"
   },
   {
    "duration": 281,
    "start_time": "2024-03-25T11:46:49.711Z"
   },
   {
    "duration": 9,
    "start_time": "2024-03-25T11:46:49.994Z"
   },
   {
    "duration": 14,
    "start_time": "2024-03-25T11:46:50.005Z"
   },
   {
    "duration": 22,
    "start_time": "2024-03-25T11:46:50.020Z"
   },
   {
    "duration": 7,
    "start_time": "2024-03-25T11:46:50.044Z"
   },
   {
    "duration": 189,
    "start_time": "2024-03-25T11:46:50.052Z"
   },
   {
    "duration": 8,
    "start_time": "2024-03-25T11:46:50.243Z"
   },
   {
    "duration": 21,
    "start_time": "2024-03-25T11:46:50.252Z"
   },
   {
    "duration": 14,
    "start_time": "2024-03-25T11:46:50.275Z"
   },
   {
    "duration": 257,
    "start_time": "2024-03-25T11:46:50.292Z"
   },
   {
    "duration": 14,
    "start_time": "2024-03-25T11:46:50.551Z"
   },
   {
    "duration": 8,
    "start_time": "2024-03-25T11:46:50.567Z"
   },
   {
    "duration": 17,
    "start_time": "2024-03-25T11:46:50.577Z"
   },
   {
    "duration": 7,
    "start_time": "2024-03-25T11:46:50.596Z"
   },
   {
    "duration": 11,
    "start_time": "2024-03-25T11:46:50.604Z"
   },
   {
    "duration": 13,
    "start_time": "2024-03-25T11:46:50.617Z"
   },
   {
    "duration": 11,
    "start_time": "2024-03-25T11:46:50.631Z"
   },
   {
    "duration": 47,
    "start_time": "2024-03-25T11:46:50.643Z"
   },
   {
    "duration": 114,
    "start_time": "2024-03-25T11:46:50.692Z"
   },
   {
    "duration": 5,
    "start_time": "2024-03-25T11:46:50.808Z"
   },
   {
    "duration": 29,
    "start_time": "2024-03-25T11:46:50.815Z"
   },
   {
    "duration": 38,
    "start_time": "2024-03-25T11:46:50.846Z"
   },
   {
    "duration": 5,
    "start_time": "2024-03-25T11:46:50.886Z"
   },
   {
    "duration": 18,
    "start_time": "2024-03-25T11:46:50.893Z"
   },
   {
    "duration": 10,
    "start_time": "2024-03-25T11:46:50.912Z"
   },
   {
    "duration": 9,
    "start_time": "2024-03-25T11:46:50.923Z"
   },
   {
    "duration": 35,
    "start_time": "2024-03-25T11:46:50.933Z"
   },
   {
    "duration": 18,
    "start_time": "2024-03-25T11:46:50.970Z"
   },
   {
    "duration": 38,
    "start_time": "2024-03-25T11:46:50.989Z"
   },
   {
    "duration": 71,
    "start_time": "2024-03-25T11:46:51.028Z"
   },
   {
    "duration": 182,
    "start_time": "2024-03-25T11:46:51.101Z"
   },
   {
    "duration": 184,
    "start_time": "2024-03-25T11:46:51.285Z"
   },
   {
    "duration": 5,
    "start_time": "2024-03-25T11:46:51.472Z"
   },
   {
    "duration": 45,
    "start_time": "2024-03-25T11:46:51.478Z"
   },
   {
    "duration": 17,
    "start_time": "2024-03-25T11:46:51.525Z"
   },
   {
    "duration": 33,
    "start_time": "2024-03-25T11:46:51.543Z"
   },
   {
    "duration": 17,
    "start_time": "2024-03-25T11:46:51.578Z"
   },
   {
    "duration": 13,
    "start_time": "2024-03-25T11:46:51.596Z"
   },
   {
    "duration": 10,
    "start_time": "2024-03-25T11:46:51.611Z"
   },
   {
    "duration": 8,
    "start_time": "2024-03-25T11:46:51.623Z"
   },
   {
    "duration": 36,
    "start_time": "2024-03-25T11:46:51.632Z"
   },
   {
    "duration": 5,
    "start_time": "2024-03-25T11:46:51.670Z"
   },
   {
    "duration": 18,
    "start_time": "2024-03-25T11:46:51.677Z"
   },
   {
    "duration": 27,
    "start_time": "2024-03-25T11:46:51.697Z"
   },
   {
    "duration": 9,
    "start_time": "2024-03-25T11:46:51.726Z"
   },
   {
    "duration": 7,
    "start_time": "2024-03-25T11:46:51.739Z"
   },
   {
    "duration": 25,
    "start_time": "2024-03-25T11:46:51.748Z"
   },
   {
    "duration": 22,
    "start_time": "2024-03-25T11:46:51.775Z"
   },
   {
    "duration": 14,
    "start_time": "2024-03-25T11:46:51.799Z"
   },
   {
    "duration": 1569,
    "start_time": "2024-03-25T11:46:51.814Z"
   },
   {
    "duration": 145,
    "start_time": "2024-03-25T11:46:53.385Z"
   },
   {
    "duration": 6,
    "start_time": "2024-03-25T11:46:53.531Z"
   },
   {
    "duration": 369,
    "start_time": "2024-03-25T11:46:53.538Z"
   },
   {
    "duration": 163,
    "start_time": "2024-03-25T12:16:35.920Z"
   },
   {
    "duration": 1251,
    "start_time": "2024-03-25T12:19:08.859Z"
   },
   {
    "duration": 30,
    "start_time": "2024-03-25T12:19:10.112Z"
   },
   {
    "duration": 29,
    "start_time": "2024-03-25T12:19:10.143Z"
   },
   {
    "duration": 16,
    "start_time": "2024-03-25T12:19:10.175Z"
   },
   {
    "duration": 22,
    "start_time": "2024-03-25T12:19:10.193Z"
   },
   {
    "duration": 24,
    "start_time": "2024-03-25T12:19:10.217Z"
   },
   {
    "duration": 43,
    "start_time": "2024-03-25T12:19:10.243Z"
   },
   {
    "duration": 25,
    "start_time": "2024-03-25T12:19:10.288Z"
   },
   {
    "duration": 42,
    "start_time": "2024-03-25T12:19:10.314Z"
   },
   {
    "duration": 34,
    "start_time": "2024-03-25T12:19:10.358Z"
   },
   {
    "duration": 30,
    "start_time": "2024-03-25T12:19:10.393Z"
   },
   {
    "duration": 47,
    "start_time": "2024-03-25T12:19:10.425Z"
   },
   {
    "duration": 21,
    "start_time": "2024-03-25T12:19:10.474Z"
   },
   {
    "duration": 26,
    "start_time": "2024-03-25T12:19:10.497Z"
   },
   {
    "duration": 46,
    "start_time": "2024-03-25T12:19:10.524Z"
   },
   {
    "duration": 27,
    "start_time": "2024-03-25T12:19:10.572Z"
   },
   {
    "duration": 43,
    "start_time": "2024-03-25T12:19:10.600Z"
   },
   {
    "duration": 36,
    "start_time": "2024-03-25T12:19:10.644Z"
   },
   {
    "duration": 32,
    "start_time": "2024-03-25T12:19:10.682Z"
   },
   {
    "duration": 44,
    "start_time": "2024-03-25T12:19:10.716Z"
   },
   {
    "duration": 60,
    "start_time": "2024-03-25T12:19:10.761Z"
   },
   {
    "duration": 41,
    "start_time": "2024-03-25T12:19:10.822Z"
   },
   {
    "duration": 69,
    "start_time": "2024-03-25T12:19:10.865Z"
   },
   {
    "duration": 43,
    "start_time": "2024-03-25T12:19:10.935Z"
   },
   {
    "duration": 29,
    "start_time": "2024-03-25T12:19:10.980Z"
   },
   {
    "duration": 187,
    "start_time": "2024-03-25T12:19:11.011Z"
   },
   {
    "duration": 7,
    "start_time": "2024-03-25T12:19:11.200Z"
   },
   {
    "duration": 140,
    "start_time": "2024-03-25T12:19:11.210Z"
   },
   {
    "duration": 175,
    "start_time": "2024-03-25T12:19:11.352Z"
   },
   {
    "duration": 9,
    "start_time": "2024-03-25T12:19:11.528Z"
   },
   {
    "duration": 66,
    "start_time": "2024-03-25T12:19:11.539Z"
   },
   {
    "duration": 38,
    "start_time": "2024-03-25T12:19:11.607Z"
   },
   {
    "duration": 214,
    "start_time": "2024-03-25T12:19:11.647Z"
   },
   {
    "duration": 12,
    "start_time": "2024-03-25T12:19:11.866Z"
   },
   {
    "duration": 28,
    "start_time": "2024-03-25T12:19:11.880Z"
   },
   {
    "duration": 8,
    "start_time": "2024-03-25T12:19:11.910Z"
   },
   {
    "duration": 264,
    "start_time": "2024-03-25T12:19:11.920Z"
   },
   {
    "duration": 9,
    "start_time": "2024-03-25T12:19:12.186Z"
   },
   {
    "duration": 22,
    "start_time": "2024-03-25T12:19:12.197Z"
   },
   {
    "duration": 15,
    "start_time": "2024-03-25T12:19:12.220Z"
   },
   {
    "duration": 9,
    "start_time": "2024-03-25T12:19:12.236Z"
   },
   {
    "duration": 182,
    "start_time": "2024-03-25T12:19:12.247Z"
   },
   {
    "duration": 8,
    "start_time": "2024-03-25T12:19:12.431Z"
   },
   {
    "duration": 25,
    "start_time": "2024-03-25T12:19:12.441Z"
   },
   {
    "duration": 7,
    "start_time": "2024-03-25T12:19:12.468Z"
   },
   {
    "duration": 273,
    "start_time": "2024-03-25T12:19:12.477Z"
   },
   {
    "duration": 21,
    "start_time": "2024-03-25T12:19:12.752Z"
   },
   {
    "duration": 17,
    "start_time": "2024-03-25T12:19:12.775Z"
   },
   {
    "duration": 10,
    "start_time": "2024-03-25T12:19:12.793Z"
   },
   {
    "duration": 10,
    "start_time": "2024-03-25T12:19:12.804Z"
   },
   {
    "duration": 16,
    "start_time": "2024-03-25T12:19:12.815Z"
   },
   {
    "duration": 17,
    "start_time": "2024-03-25T12:19:12.832Z"
   },
   {
    "duration": 27,
    "start_time": "2024-03-25T12:19:12.851Z"
   },
   {
    "duration": 49,
    "start_time": "2024-03-25T12:19:12.880Z"
   },
   {
    "duration": 99,
    "start_time": "2024-03-25T12:19:12.930Z"
   },
   {
    "duration": 4,
    "start_time": "2024-03-25T12:19:13.030Z"
   },
   {
    "duration": 31,
    "start_time": "2024-03-25T12:19:13.036Z"
   },
   {
    "duration": 25,
    "start_time": "2024-03-25T12:19:13.069Z"
   },
   {
    "duration": 13,
    "start_time": "2024-03-25T12:19:13.096Z"
   },
   {
    "duration": 17,
    "start_time": "2024-03-25T12:19:13.111Z"
   },
   {
    "duration": 21,
    "start_time": "2024-03-25T12:19:13.129Z"
   },
   {
    "duration": 21,
    "start_time": "2024-03-25T12:19:13.151Z"
   },
   {
    "duration": 35,
    "start_time": "2024-03-25T12:19:13.174Z"
   },
   {
    "duration": 24,
    "start_time": "2024-03-25T12:19:13.211Z"
   },
   {
    "duration": 48,
    "start_time": "2024-03-25T12:19:13.237Z"
   },
   {
    "duration": 35,
    "start_time": "2024-03-25T12:19:13.287Z"
   },
   {
    "duration": 176,
    "start_time": "2024-03-25T12:19:13.324Z"
   },
   {
    "duration": 167,
    "start_time": "2024-03-25T12:19:13.501Z"
   },
   {
    "duration": 8,
    "start_time": "2024-03-25T12:19:13.670Z"
   },
   {
    "duration": 37,
    "start_time": "2024-03-25T12:19:13.679Z"
   },
   {
    "duration": 15,
    "start_time": "2024-03-25T12:19:13.718Z"
   },
   {
    "duration": 43,
    "start_time": "2024-03-25T12:19:13.734Z"
   },
   {
    "duration": 13,
    "start_time": "2024-03-25T12:19:13.779Z"
   },
   {
    "duration": 25,
    "start_time": "2024-03-25T12:19:13.793Z"
   },
   {
    "duration": 12,
    "start_time": "2024-03-25T12:19:13.820Z"
   },
   {
    "duration": 12,
    "start_time": "2024-03-25T12:19:13.833Z"
   },
   {
    "duration": 23,
    "start_time": "2024-03-25T12:19:13.846Z"
   },
   {
    "duration": 13,
    "start_time": "2024-03-25T12:19:13.871Z"
   },
   {
    "duration": 18,
    "start_time": "2024-03-25T12:19:13.887Z"
   },
   {
    "duration": 26,
    "start_time": "2024-03-25T12:19:13.907Z"
   },
   {
    "duration": 15,
    "start_time": "2024-03-25T12:19:13.935Z"
   },
   {
    "duration": 5,
    "start_time": "2024-03-25T12:19:13.956Z"
   },
   {
    "duration": 17,
    "start_time": "2024-03-25T12:19:13.963Z"
   },
   {
    "duration": 6,
    "start_time": "2024-03-25T12:19:13.981Z"
   },
   {
    "duration": 16,
    "start_time": "2024-03-25T12:19:13.988Z"
   },
   {
    "duration": 1611,
    "start_time": "2024-03-25T12:19:14.005Z"
   },
   {
    "duration": 144,
    "start_time": "2024-03-25T12:19:15.617Z"
   },
   {
    "duration": 7,
    "start_time": "2024-03-25T12:19:15.766Z"
   },
   {
    "duration": 390,
    "start_time": "2024-03-25T12:19:15.775Z"
   },
   {
    "duration": 1337,
    "start_time": "2024-03-25T14:57:57.088Z"
   },
   {
    "duration": 71,
    "start_time": "2024-03-25T14:57:58.427Z"
   },
   {
    "duration": 77,
    "start_time": "2024-03-25T14:57:58.499Z"
   },
   {
    "duration": 57,
    "start_time": "2024-03-25T14:57:58.578Z"
   },
   {
    "duration": 11,
    "start_time": "2024-03-25T14:57:58.637Z"
   },
   {
    "duration": 14,
    "start_time": "2024-03-25T14:57:58.649Z"
   },
   {
    "duration": 5,
    "start_time": "2024-03-25T14:57:58.665Z"
   },
   {
    "duration": 10,
    "start_time": "2024-03-25T14:57:58.671Z"
   },
   {
    "duration": 12,
    "start_time": "2024-03-25T14:57:58.683Z"
   },
   {
    "duration": 3,
    "start_time": "2024-03-25T14:57:58.698Z"
   },
   {
    "duration": 12,
    "start_time": "2024-03-25T14:57:58.718Z"
   },
   {
    "duration": 9,
    "start_time": "2024-03-25T14:57:58.731Z"
   },
   {
    "duration": 10,
    "start_time": "2024-03-25T14:57:58.742Z"
   },
   {
    "duration": 9,
    "start_time": "2024-03-25T14:57:58.753Z"
   },
   {
    "duration": 10,
    "start_time": "2024-03-25T14:57:58.763Z"
   },
   {
    "duration": 7,
    "start_time": "2024-03-25T14:57:58.774Z"
   },
   {
    "duration": 5,
    "start_time": "2024-03-25T14:57:58.818Z"
   },
   {
    "duration": 19,
    "start_time": "2024-03-25T14:57:58.824Z"
   },
   {
    "duration": 8,
    "start_time": "2024-03-25T14:57:58.845Z"
   },
   {
    "duration": 16,
    "start_time": "2024-03-25T14:57:58.855Z"
   },
   {
    "duration": 12,
    "start_time": "2024-03-25T14:57:58.873Z"
   },
   {
    "duration": 18,
    "start_time": "2024-03-25T14:57:58.886Z"
   },
   {
    "duration": 13,
    "start_time": "2024-03-25T14:57:58.906Z"
   },
   {
    "duration": 26,
    "start_time": "2024-03-25T14:57:58.921Z"
   },
   {
    "duration": 11,
    "start_time": "2024-03-25T14:57:58.949Z"
   },
   {
    "duration": 174,
    "start_time": "2024-03-25T14:57:58.962Z"
   },
   {
    "duration": 6,
    "start_time": "2024-03-25T14:57:59.138Z"
   },
   {
    "duration": 166,
    "start_time": "2024-03-25T14:57:59.151Z"
   },
   {
    "duration": 48,
    "start_time": "2024-03-25T14:57:59.319Z"
   },
   {
    "duration": 1,
    "start_time": "2024-03-25T14:57:59.368Z"
   },
   {
    "duration": 0,
    "start_time": "2024-03-25T14:57:59.370Z"
   },
   {
    "duration": 0,
    "start_time": "2024-03-25T14:57:59.371Z"
   },
   {
    "duration": 0,
    "start_time": "2024-03-25T14:57:59.372Z"
   },
   {
    "duration": 0,
    "start_time": "2024-03-25T14:57:59.373Z"
   },
   {
    "duration": 0,
    "start_time": "2024-03-25T14:57:59.374Z"
   },
   {
    "duration": 0,
    "start_time": "2024-03-25T14:57:59.375Z"
   },
   {
    "duration": 0,
    "start_time": "2024-03-25T14:57:59.377Z"
   },
   {
    "duration": 0,
    "start_time": "2024-03-25T14:57:59.378Z"
   },
   {
    "duration": 0,
    "start_time": "2024-03-25T14:57:59.379Z"
   },
   {
    "duration": 0,
    "start_time": "2024-03-25T14:57:59.380Z"
   },
   {
    "duration": 0,
    "start_time": "2024-03-25T14:57:59.381Z"
   },
   {
    "duration": 0,
    "start_time": "2024-03-25T14:57:59.383Z"
   },
   {
    "duration": 0,
    "start_time": "2024-03-25T14:57:59.383Z"
   },
   {
    "duration": 0,
    "start_time": "2024-03-25T14:57:59.384Z"
   },
   {
    "duration": 0,
    "start_time": "2024-03-25T14:57:59.386Z"
   },
   {
    "duration": 0,
    "start_time": "2024-03-25T14:57:59.387Z"
   },
   {
    "duration": 0,
    "start_time": "2024-03-25T14:57:59.388Z"
   },
   {
    "duration": 0,
    "start_time": "2024-03-25T14:57:59.389Z"
   },
   {
    "duration": 0,
    "start_time": "2024-03-25T14:57:59.390Z"
   },
   {
    "duration": 0,
    "start_time": "2024-03-25T14:57:59.391Z"
   },
   {
    "duration": 0,
    "start_time": "2024-03-25T14:57:59.392Z"
   },
   {
    "duration": 0,
    "start_time": "2024-03-25T14:57:59.393Z"
   },
   {
    "duration": 0,
    "start_time": "2024-03-25T14:57:59.394Z"
   },
   {
    "duration": 0,
    "start_time": "2024-03-25T14:57:59.395Z"
   },
   {
    "duration": 0,
    "start_time": "2024-03-25T14:57:59.396Z"
   },
   {
    "duration": 0,
    "start_time": "2024-03-25T14:57:59.398Z"
   },
   {
    "duration": 0,
    "start_time": "2024-03-25T14:57:59.417Z"
   },
   {
    "duration": 0,
    "start_time": "2024-03-25T14:57:59.418Z"
   },
   {
    "duration": 0,
    "start_time": "2024-03-25T14:57:59.419Z"
   },
   {
    "duration": 0,
    "start_time": "2024-03-25T14:57:59.420Z"
   },
   {
    "duration": 0,
    "start_time": "2024-03-25T14:57:59.422Z"
   },
   {
    "duration": 0,
    "start_time": "2024-03-25T14:57:59.423Z"
   },
   {
    "duration": 0,
    "start_time": "2024-03-25T14:57:59.424Z"
   },
   {
    "duration": 0,
    "start_time": "2024-03-25T14:57:59.425Z"
   },
   {
    "duration": 0,
    "start_time": "2024-03-25T14:57:59.427Z"
   },
   {
    "duration": 0,
    "start_time": "2024-03-25T14:57:59.428Z"
   },
   {
    "duration": 0,
    "start_time": "2024-03-25T14:57:59.429Z"
   },
   {
    "duration": 0,
    "start_time": "2024-03-25T14:57:59.430Z"
   },
   {
    "duration": 0,
    "start_time": "2024-03-25T14:57:59.432Z"
   },
   {
    "duration": 0,
    "start_time": "2024-03-25T14:57:59.433Z"
   },
   {
    "duration": 0,
    "start_time": "2024-03-25T14:57:59.434Z"
   },
   {
    "duration": 0,
    "start_time": "2024-03-25T14:57:59.435Z"
   },
   {
    "duration": 0,
    "start_time": "2024-03-25T14:57:59.436Z"
   },
   {
    "duration": 0,
    "start_time": "2024-03-25T14:57:59.437Z"
   },
   {
    "duration": 1,
    "start_time": "2024-03-25T14:57:59.438Z"
   },
   {
    "duration": 0,
    "start_time": "2024-03-25T14:57:59.440Z"
   },
   {
    "duration": 0,
    "start_time": "2024-03-25T14:57:59.441Z"
   },
   {
    "duration": 0,
    "start_time": "2024-03-25T14:57:59.442Z"
   },
   {
    "duration": 0,
    "start_time": "2024-03-25T14:57:59.443Z"
   },
   {
    "duration": 0,
    "start_time": "2024-03-25T14:57:59.444Z"
   },
   {
    "duration": 0,
    "start_time": "2024-03-25T14:57:59.445Z"
   },
   {
    "duration": 0,
    "start_time": "2024-03-25T14:57:59.446Z"
   },
   {
    "duration": 0,
    "start_time": "2024-03-25T14:57:59.447Z"
   },
   {
    "duration": 0,
    "start_time": "2024-03-25T14:57:59.448Z"
   },
   {
    "duration": 0,
    "start_time": "2024-03-25T14:57:59.450Z"
   },
   {
    "duration": 0,
    "start_time": "2024-03-25T14:57:59.450Z"
   },
   {
    "duration": 0,
    "start_time": "2024-03-25T14:57:59.451Z"
   },
   {
    "duration": 0,
    "start_time": "2024-03-25T14:57:59.452Z"
   },
   {
    "duration": 0,
    "start_time": "2024-03-25T14:57:59.454Z"
   },
   {
    "duration": 0,
    "start_time": "2024-03-25T14:57:59.454Z"
   },
   {
    "duration": 0,
    "start_time": "2024-03-25T14:57:59.455Z"
   },
   {
    "duration": 5,
    "start_time": "2024-03-25T14:58:25.414Z"
   },
   {
    "duration": 5,
    "start_time": "2024-03-25T14:58:57.638Z"
   },
   {
    "duration": 9,
    "start_time": "2024-03-25T15:00:02.095Z"
   },
   {
    "duration": 116,
    "start_time": "2024-03-25T15:00:29.250Z"
   },
   {
    "duration": 14,
    "start_time": "2024-03-25T15:01:00.561Z"
   },
   {
    "duration": 8,
    "start_time": "2024-03-25T15:01:11.959Z"
   },
   {
    "duration": 6,
    "start_time": "2024-03-25T15:01:38.745Z"
   },
   {
    "duration": 6,
    "start_time": "2024-03-25T15:02:05.461Z"
   },
   {
    "duration": 6,
    "start_time": "2024-03-25T15:02:05.854Z"
   },
   {
    "duration": 6,
    "start_time": "2024-03-25T15:04:51.809Z"
   },
   {
    "duration": 6,
    "start_time": "2024-03-25T15:04:57.145Z"
   },
   {
    "duration": 5,
    "start_time": "2024-03-25T15:05:19.275Z"
   },
   {
    "duration": 6,
    "start_time": "2024-03-25T15:22:12.129Z"
   },
   {
    "duration": 6,
    "start_time": "2024-03-25T15:22:12.546Z"
   },
   {
    "duration": 7,
    "start_time": "2024-03-25T15:45:26.147Z"
   },
   {
    "duration": 6,
    "start_time": "2024-03-25T15:47:24.516Z"
   },
   {
    "duration": 6,
    "start_time": "2024-03-25T15:48:13.216Z"
   },
   {
    "duration": 7,
    "start_time": "2024-03-25T15:53:43.630Z"
   },
   {
    "duration": 60,
    "start_time": "2024-03-25T15:53:44.011Z"
   },
   {
    "duration": 11,
    "start_time": "2024-03-25T15:53:44.891Z"
   },
   {
    "duration": 9,
    "start_time": "2024-03-25T15:53:50.424Z"
   },
   {
    "duration": 3,
    "start_time": "2024-03-25T15:57:16.599Z"
   },
   {
    "duration": 18,
    "start_time": "2024-03-25T15:57:35.527Z"
   },
   {
    "duration": 3,
    "start_time": "2024-03-25T15:58:24.362Z"
   },
   {
    "duration": 16,
    "start_time": "2024-03-25T15:58:25.983Z"
   },
   {
    "duration": 18,
    "start_time": "2024-03-25T15:59:02.976Z"
   },
   {
    "duration": 16,
    "start_time": "2024-03-25T15:59:26.372Z"
   },
   {
    "duration": 2,
    "start_time": "2024-03-25T15:59:44.561Z"
   },
   {
    "duration": 16,
    "start_time": "2024-03-25T15:59:47.172Z"
   },
   {
    "duration": 16,
    "start_time": "2024-03-25T15:59:48.687Z"
   },
   {
    "duration": 15,
    "start_time": "2024-03-25T15:59:50.011Z"
   },
   {
    "duration": 184,
    "start_time": "2024-03-25T16:02:18.500Z"
   },
   {
    "duration": 9,
    "start_time": "2024-03-25T16:02:18.805Z"
   },
   {
    "duration": 6,
    "start_time": "2024-03-25T16:02:19.870Z"
   },
   {
    "duration": 242,
    "start_time": "2024-03-25T16:02:29.780Z"
   },
   {
    "duration": 11,
    "start_time": "2024-03-25T16:05:18.291Z"
   },
   {
    "duration": 56,
    "start_time": "2024-03-25T16:05:35.999Z"
   },
   {
    "duration": 0,
    "start_time": "2024-03-25T16:05:36.057Z"
   },
   {
    "duration": 0,
    "start_time": "2024-03-25T16:05:36.058Z"
   },
   {
    "duration": 0,
    "start_time": "2024-03-25T16:05:36.059Z"
   },
   {
    "duration": 0,
    "start_time": "2024-03-25T16:05:36.060Z"
   },
   {
    "duration": 0,
    "start_time": "2024-03-25T16:05:36.061Z"
   },
   {
    "duration": 0,
    "start_time": "2024-03-25T16:05:36.062Z"
   },
   {
    "duration": 0,
    "start_time": "2024-03-25T16:05:36.063Z"
   },
   {
    "duration": 0,
    "start_time": "2024-03-25T16:05:36.064Z"
   },
   {
    "duration": 0,
    "start_time": "2024-03-25T16:05:36.065Z"
   },
   {
    "duration": 0,
    "start_time": "2024-03-25T16:05:36.066Z"
   },
   {
    "duration": 0,
    "start_time": "2024-03-25T16:05:36.067Z"
   },
   {
    "duration": 0,
    "start_time": "2024-03-25T16:05:36.068Z"
   },
   {
    "duration": 0,
    "start_time": "2024-03-25T16:05:36.069Z"
   },
   {
    "duration": 0,
    "start_time": "2024-03-25T16:05:36.070Z"
   },
   {
    "duration": 0,
    "start_time": "2024-03-25T16:05:36.071Z"
   },
   {
    "duration": 0,
    "start_time": "2024-03-25T16:05:36.072Z"
   },
   {
    "duration": 0,
    "start_time": "2024-03-25T16:05:36.073Z"
   },
   {
    "duration": 1,
    "start_time": "2024-03-25T16:05:36.074Z"
   },
   {
    "duration": 0,
    "start_time": "2024-03-25T16:05:36.076Z"
   },
   {
    "duration": 0,
    "start_time": "2024-03-25T16:05:36.077Z"
   },
   {
    "duration": 0,
    "start_time": "2024-03-25T16:05:36.078Z"
   },
   {
    "duration": 0,
    "start_time": "2024-03-25T16:05:36.079Z"
   },
   {
    "duration": 70,
    "start_time": "2024-03-25T16:05:36.082Z"
   },
   {
    "duration": 0,
    "start_time": "2024-03-25T16:05:36.154Z"
   },
   {
    "duration": 0,
    "start_time": "2024-03-25T16:05:36.155Z"
   },
   {
    "duration": 0,
    "start_time": "2024-03-25T16:05:36.156Z"
   },
   {
    "duration": 0,
    "start_time": "2024-03-25T16:05:36.157Z"
   },
   {
    "duration": 0,
    "start_time": "2024-03-25T16:05:36.158Z"
   },
   {
    "duration": 0,
    "start_time": "2024-03-25T16:05:36.159Z"
   },
   {
    "duration": 0,
    "start_time": "2024-03-25T16:05:36.161Z"
   },
   {
    "duration": 0,
    "start_time": "2024-03-25T16:05:36.161Z"
   },
   {
    "duration": 5,
    "start_time": "2024-03-25T16:05:36.291Z"
   },
   {
    "duration": 0,
    "start_time": "2024-03-25T16:05:36.297Z"
   },
   {
    "duration": 0,
    "start_time": "2024-03-25T16:05:36.299Z"
   },
   {
    "duration": 9,
    "start_time": "2024-03-25T16:05:36.306Z"
   },
   {
    "duration": 0,
    "start_time": "2024-03-25T16:05:36.317Z"
   },
   {
    "duration": 0,
    "start_time": "2024-03-25T16:05:36.319Z"
   },
   {
    "duration": 0,
    "start_time": "2024-03-25T16:05:36.320Z"
   },
   {
    "duration": 0,
    "start_time": "2024-03-25T16:05:36.321Z"
   },
   {
    "duration": 0,
    "start_time": "2024-03-25T16:05:36.323Z"
   },
   {
    "duration": 0,
    "start_time": "2024-03-25T16:05:36.324Z"
   },
   {
    "duration": 0,
    "start_time": "2024-03-25T16:05:36.325Z"
   },
   {
    "duration": 0,
    "start_time": "2024-03-25T16:05:36.327Z"
   },
   {
    "duration": 0,
    "start_time": "2024-03-25T16:05:36.328Z"
   },
   {
    "duration": 0,
    "start_time": "2024-03-25T16:05:36.330Z"
   },
   {
    "duration": 0,
    "start_time": "2024-03-25T16:05:36.331Z"
   },
   {
    "duration": 0,
    "start_time": "2024-03-25T16:05:36.332Z"
   },
   {
    "duration": 7,
    "start_time": "2024-03-25T16:05:36.335Z"
   },
   {
    "duration": 0,
    "start_time": "2024-03-25T16:05:36.344Z"
   },
   {
    "duration": 0,
    "start_time": "2024-03-25T16:05:36.346Z"
   },
   {
    "duration": 0,
    "start_time": "2024-03-25T16:05:36.347Z"
   },
   {
    "duration": 0,
    "start_time": "2024-03-25T16:05:36.348Z"
   },
   {
    "duration": 0,
    "start_time": "2024-03-25T16:05:36.350Z"
   },
   {
    "duration": 0,
    "start_time": "2024-03-25T16:05:36.351Z"
   },
   {
    "duration": 0,
    "start_time": "2024-03-25T16:05:36.353Z"
   },
   {
    "duration": 0,
    "start_time": "2024-03-25T16:05:36.354Z"
   },
   {
    "duration": 0,
    "start_time": "2024-03-25T16:05:36.355Z"
   },
   {
    "duration": 1,
    "start_time": "2024-03-25T16:05:36.356Z"
   },
   {
    "duration": 0,
    "start_time": "2024-03-25T16:05:36.358Z"
   },
   {
    "duration": 0,
    "start_time": "2024-03-25T16:05:36.359Z"
   },
   {
    "duration": 0,
    "start_time": "2024-03-25T16:05:36.418Z"
   },
   {
    "duration": 0,
    "start_time": "2024-03-25T16:05:36.420Z"
   },
   {
    "duration": 0,
    "start_time": "2024-03-25T16:05:36.421Z"
   },
   {
    "duration": 0,
    "start_time": "2024-03-25T16:05:36.423Z"
   },
   {
    "duration": 0,
    "start_time": "2024-03-25T16:05:36.424Z"
   },
   {
    "duration": 0,
    "start_time": "2024-03-25T16:05:36.425Z"
   },
   {
    "duration": 0,
    "start_time": "2024-03-25T16:05:36.426Z"
   },
   {
    "duration": 0,
    "start_time": "2024-03-25T16:05:36.428Z"
   },
   {
    "duration": 0,
    "start_time": "2024-03-25T16:05:36.429Z"
   },
   {
    "duration": 0,
    "start_time": "2024-03-25T16:05:36.430Z"
   },
   {
    "duration": 0,
    "start_time": "2024-03-25T16:05:36.432Z"
   },
   {
    "duration": 7,
    "start_time": "2024-03-25T16:05:36.436Z"
   },
   {
    "duration": 0,
    "start_time": "2024-03-25T16:05:36.444Z"
   },
   {
    "duration": 0,
    "start_time": "2024-03-25T16:05:36.446Z"
   },
   {
    "duration": 0,
    "start_time": "2024-03-25T16:05:36.447Z"
   },
   {
    "duration": 0,
    "start_time": "2024-03-25T16:05:36.448Z"
   },
   {
    "duration": 0,
    "start_time": "2024-03-25T16:05:36.449Z"
   },
   {
    "duration": 0,
    "start_time": "2024-03-25T16:05:36.450Z"
   },
   {
    "duration": 0,
    "start_time": "2024-03-25T16:05:36.451Z"
   },
   {
    "duration": 0,
    "start_time": "2024-03-25T16:05:36.452Z"
   },
   {
    "duration": 0,
    "start_time": "2024-03-25T16:05:36.453Z"
   },
   {
    "duration": 0,
    "start_time": "2024-03-25T16:05:36.453Z"
   },
   {
    "duration": 0,
    "start_time": "2024-03-25T16:05:36.455Z"
   },
   {
    "duration": 0,
    "start_time": "2024-03-25T16:05:36.455Z"
   },
   {
    "duration": 0,
    "start_time": "2024-03-25T16:05:36.456Z"
   },
   {
    "duration": 0,
    "start_time": "2024-03-25T16:05:36.457Z"
   },
   {
    "duration": 0,
    "start_time": "2024-03-25T16:05:36.518Z"
   },
   {
    "duration": 7,
    "start_time": "2024-03-25T16:05:57.324Z"
   },
   {
    "duration": 1112,
    "start_time": "2024-03-25T16:06:38.140Z"
   },
   {
    "duration": 61,
    "start_time": "2024-03-25T16:06:45.237Z"
   },
   {
    "duration": 9,
    "start_time": "2024-03-25T16:07:26.278Z"
   },
   {
    "duration": 10,
    "start_time": "2024-03-25T16:09:06.416Z"
   },
   {
    "duration": 1147,
    "start_time": "2024-03-25T16:10:05.958Z"
   },
   {
    "duration": 28,
    "start_time": "2024-03-25T16:10:07.107Z"
   },
   {
    "duration": 27,
    "start_time": "2024-03-25T16:10:07.137Z"
   },
   {
    "duration": 15,
    "start_time": "2024-03-25T16:10:07.166Z"
   },
   {
    "duration": 3,
    "start_time": "2024-03-25T16:10:07.182Z"
   },
   {
    "duration": 21,
    "start_time": "2024-03-25T16:10:07.186Z"
   },
   {
    "duration": 17,
    "start_time": "2024-03-25T16:10:07.208Z"
   },
   {
    "duration": 16,
    "start_time": "2024-03-25T16:10:07.227Z"
   },
   {
    "duration": 7,
    "start_time": "2024-03-25T16:10:07.245Z"
   },
   {
    "duration": 11,
    "start_time": "2024-03-25T16:10:07.255Z"
   },
   {
    "duration": 8,
    "start_time": "2024-03-25T16:10:07.268Z"
   },
   {
    "duration": 41,
    "start_time": "2024-03-25T16:10:07.277Z"
   },
   {
    "duration": 6,
    "start_time": "2024-03-25T16:10:07.320Z"
   },
   {
    "duration": 12,
    "start_time": "2024-03-25T16:10:07.328Z"
   },
   {
    "duration": 9,
    "start_time": "2024-03-25T16:10:07.341Z"
   },
   {
    "duration": 6,
    "start_time": "2024-03-25T16:10:07.352Z"
   },
   {
    "duration": 4,
    "start_time": "2024-03-25T16:10:07.360Z"
   },
   {
    "duration": 52,
    "start_time": "2024-03-25T16:10:07.366Z"
   },
   {
    "duration": 4,
    "start_time": "2024-03-25T16:10:07.420Z"
   },
   {
    "duration": 5,
    "start_time": "2024-03-25T16:10:07.426Z"
   },
   {
    "duration": 6,
    "start_time": "2024-03-25T16:10:07.433Z"
   },
   {
    "duration": 183,
    "start_time": "2024-03-25T16:10:07.441Z"
   },
   {
    "duration": 6,
    "start_time": "2024-03-25T16:10:07.625Z"
   },
   {
    "duration": 149,
    "start_time": "2024-03-25T16:10:07.633Z"
   },
   {
    "duration": 7,
    "start_time": "2024-03-25T16:10:07.784Z"
   },
   {
    "duration": 25,
    "start_time": "2024-03-25T16:10:07.793Z"
   },
   {
    "duration": 184,
    "start_time": "2024-03-25T16:10:07.820Z"
   },
   {
    "duration": 14,
    "start_time": "2024-03-25T16:10:08.008Z"
   },
   {
    "duration": 6,
    "start_time": "2024-03-25T16:10:08.023Z"
   },
   {
    "duration": 6,
    "start_time": "2024-03-25T16:10:08.030Z"
   },
   {
    "duration": 207,
    "start_time": "2024-03-25T16:10:08.038Z"
   },
   {
    "duration": 9,
    "start_time": "2024-03-25T16:10:08.247Z"
   },
   {
    "duration": 7,
    "start_time": "2024-03-25T16:10:08.258Z"
   },
   {
    "duration": 7,
    "start_time": "2024-03-25T16:10:08.266Z"
   },
   {
    "duration": 272,
    "start_time": "2024-03-25T16:10:08.274Z"
   },
   {
    "duration": 9,
    "start_time": "2024-03-25T16:10:08.548Z"
   },
   {
    "duration": 7,
    "start_time": "2024-03-25T16:10:08.559Z"
   },
   {
    "duration": 10,
    "start_time": "2024-03-25T16:10:08.567Z"
   },
   {
    "duration": 7,
    "start_time": "2024-03-25T16:10:08.579Z"
   },
   {
    "duration": 205,
    "start_time": "2024-03-25T16:10:08.588Z"
   },
   {
    "duration": 8,
    "start_time": "2024-03-25T16:10:08.794Z"
   },
   {
    "duration": 18,
    "start_time": "2024-03-25T16:10:08.804Z"
   },
   {
    "duration": 11,
    "start_time": "2024-03-25T16:10:08.824Z"
   },
   {
    "duration": 247,
    "start_time": "2024-03-25T16:10:08.836Z"
   },
   {
    "duration": 5,
    "start_time": "2024-03-25T16:10:09.085Z"
   },
   {
    "duration": 15,
    "start_time": "2024-03-25T16:10:09.092Z"
   },
   {
    "duration": 11,
    "start_time": "2024-03-25T16:10:09.108Z"
   },
   {
    "duration": 4,
    "start_time": "2024-03-25T16:10:09.120Z"
   },
   {
    "duration": 4,
    "start_time": "2024-03-25T16:10:09.126Z"
   },
   {
    "duration": 20,
    "start_time": "2024-03-25T16:10:09.131Z"
   },
   {
    "duration": 12,
    "start_time": "2024-03-25T16:10:09.153Z"
   },
   {
    "duration": 31,
    "start_time": "2024-03-25T16:10:09.167Z"
   },
   {
    "duration": 91,
    "start_time": "2024-03-25T16:10:09.217Z"
   },
   {
    "duration": 5,
    "start_time": "2024-03-25T16:10:09.318Z"
   },
   {
    "duration": 17,
    "start_time": "2024-03-25T16:10:09.325Z"
   },
   {
    "duration": 15,
    "start_time": "2024-03-25T16:10:09.344Z"
   },
   {
    "duration": 5,
    "start_time": "2024-03-25T16:10:09.361Z"
   },
   {
    "duration": 9,
    "start_time": "2024-03-25T16:10:09.368Z"
   },
   {
    "duration": 41,
    "start_time": "2024-03-25T16:10:09.378Z"
   },
   {
    "duration": 6,
    "start_time": "2024-03-25T16:10:09.420Z"
   },
   {
    "duration": 13,
    "start_time": "2024-03-25T16:10:09.427Z"
   },
   {
    "duration": 13,
    "start_time": "2024-03-25T16:10:09.441Z"
   },
   {
    "duration": 35,
    "start_time": "2024-03-25T16:10:09.455Z"
   },
   {
    "duration": 59,
    "start_time": "2024-03-25T16:10:09.492Z"
   },
   {
    "duration": 172,
    "start_time": "2024-03-25T16:10:09.553Z"
   },
   {
    "duration": 188,
    "start_time": "2024-03-25T16:10:09.727Z"
   },
   {
    "duration": 4,
    "start_time": "2024-03-25T16:10:09.916Z"
   },
   {
    "duration": 30,
    "start_time": "2024-03-25T16:10:09.921Z"
   },
   {
    "duration": 15,
    "start_time": "2024-03-25T16:10:09.952Z"
   },
   {
    "duration": 13,
    "start_time": "2024-03-25T16:10:09.968Z"
   },
   {
    "duration": 37,
    "start_time": "2024-03-25T16:10:09.982Z"
   },
   {
    "duration": 36,
    "start_time": "2024-03-25T16:10:10.020Z"
   },
   {
    "duration": 12,
    "start_time": "2024-03-25T16:10:10.057Z"
   },
   {
    "duration": 11,
    "start_time": "2024-03-25T16:10:10.071Z"
   },
   {
    "duration": 10,
    "start_time": "2024-03-25T16:10:10.083Z"
   },
   {
    "duration": 5,
    "start_time": "2024-03-25T16:10:10.094Z"
   },
   {
    "duration": 5,
    "start_time": "2024-03-25T16:10:10.100Z"
   },
   {
    "duration": 16,
    "start_time": "2024-03-25T16:10:10.107Z"
   },
   {
    "duration": 7,
    "start_time": "2024-03-25T16:10:10.124Z"
   },
   {
    "duration": 5,
    "start_time": "2024-03-25T16:10:10.133Z"
   },
   {
    "duration": 6,
    "start_time": "2024-03-25T16:10:10.139Z"
   },
   {
    "duration": 4,
    "start_time": "2024-03-25T16:10:10.150Z"
   },
   {
    "duration": 5,
    "start_time": "2024-03-25T16:10:10.155Z"
   },
   {
    "duration": 1539,
    "start_time": "2024-03-25T16:10:10.161Z"
   },
   {
    "duration": 137,
    "start_time": "2024-03-25T16:10:11.702Z"
   },
   {
    "duration": 5,
    "start_time": "2024-03-25T16:10:11.841Z"
   },
   {
    "duration": 244,
    "start_time": "2024-03-25T16:10:11.848Z"
   },
   {
    "duration": 5,
    "start_time": "2024-03-25T16:11:17.055Z"
   },
   {
    "duration": 57,
    "start_time": "2024-03-25T16:20:24.709Z"
   },
   {
    "duration": 5,
    "start_time": "2024-03-25T16:20:49.747Z"
   },
   {
    "duration": 136,
    "start_time": "2024-03-25T16:21:47.782Z"
   },
   {
    "duration": 49,
    "start_time": "2024-03-25T16:23:07.410Z"
   },
   {
    "duration": 53,
    "start_time": "2024-03-25T16:44:47.268Z"
   },
   {
    "duration": 1185,
    "start_time": "2024-03-25T16:48:28.546Z"
   },
   {
    "duration": 30,
    "start_time": "2024-03-25T16:48:29.733Z"
   },
   {
    "duration": 34,
    "start_time": "2024-03-25T16:48:29.765Z"
   },
   {
    "duration": 16,
    "start_time": "2024-03-25T16:48:29.801Z"
   },
   {
    "duration": 4,
    "start_time": "2024-03-25T16:48:29.819Z"
   },
   {
    "duration": 35,
    "start_time": "2024-03-25T16:48:29.824Z"
   },
   {
    "duration": 20,
    "start_time": "2024-03-25T16:48:29.861Z"
   },
   {
    "duration": 40,
    "start_time": "2024-03-25T16:48:29.883Z"
   },
   {
    "duration": 10,
    "start_time": "2024-03-25T16:48:29.924Z"
   },
   {
    "duration": 11,
    "start_time": "2024-03-25T16:48:29.938Z"
   },
   {
    "duration": 8,
    "start_time": "2024-03-25T16:48:29.951Z"
   },
   {
    "duration": 11,
    "start_time": "2024-03-25T16:48:29.961Z"
   },
   {
    "duration": 17,
    "start_time": "2024-03-25T16:48:29.973Z"
   },
   {
    "duration": 30,
    "start_time": "2024-03-25T16:48:29.991Z"
   },
   {
    "duration": 14,
    "start_time": "2024-03-25T16:48:30.023Z"
   },
   {
    "duration": 29,
    "start_time": "2024-03-25T16:48:30.039Z"
   },
   {
    "duration": 38,
    "start_time": "2024-03-25T16:48:30.069Z"
   },
   {
    "duration": 46,
    "start_time": "2024-03-25T16:48:30.108Z"
   },
   {
    "duration": 34,
    "start_time": "2024-03-25T16:48:30.155Z"
   },
   {
    "duration": 44,
    "start_time": "2024-03-25T16:48:30.190Z"
   },
   {
    "duration": 75,
    "start_time": "2024-03-25T16:48:30.235Z"
   },
   {
    "duration": 242,
    "start_time": "2024-03-25T16:48:30.311Z"
   },
   {
    "duration": 6,
    "start_time": "2024-03-25T16:48:30.554Z"
   },
   {
    "duration": 238,
    "start_time": "2024-03-25T16:48:30.561Z"
   },
   {
    "duration": 7,
    "start_time": "2024-03-25T16:48:30.801Z"
   },
   {
    "duration": 269,
    "start_time": "2024-03-25T16:48:30.818Z"
   },
   {
    "duration": 267,
    "start_time": "2024-03-25T16:48:31.089Z"
   },
   {
    "duration": 8,
    "start_time": "2024-03-25T16:48:31.360Z"
   },
   {
    "duration": 39,
    "start_time": "2024-03-25T16:48:31.369Z"
   },
   {
    "duration": 48,
    "start_time": "2024-03-25T16:48:31.409Z"
   },
   {
    "duration": 242,
    "start_time": "2024-03-25T16:48:31.459Z"
   },
   {
    "duration": 24,
    "start_time": "2024-03-25T16:48:31.703Z"
   },
   {
    "duration": 28,
    "start_time": "2024-03-25T16:48:31.729Z"
   },
   {
    "duration": 25,
    "start_time": "2024-03-25T16:48:31.759Z"
   },
   {
    "duration": 283,
    "start_time": "2024-03-25T16:48:31.785Z"
   },
   {
    "duration": 9,
    "start_time": "2024-03-25T16:48:32.070Z"
   },
   {
    "duration": 27,
    "start_time": "2024-03-25T16:48:32.080Z"
   },
   {
    "duration": 15,
    "start_time": "2024-03-25T16:48:32.108Z"
   },
   {
    "duration": 25,
    "start_time": "2024-03-25T16:48:32.125Z"
   },
   {
    "duration": 209,
    "start_time": "2024-03-25T16:48:32.151Z"
   },
   {
    "duration": 9,
    "start_time": "2024-03-25T16:48:32.362Z"
   },
   {
    "duration": 16,
    "start_time": "2024-03-25T16:48:32.372Z"
   },
   {
    "duration": 11,
    "start_time": "2024-03-25T16:48:32.390Z"
   },
   {
    "duration": 273,
    "start_time": "2024-03-25T16:48:32.419Z"
   },
   {
    "duration": 7,
    "start_time": "2024-03-25T16:48:32.694Z"
   },
   {
    "duration": 15,
    "start_time": "2024-03-25T16:48:32.718Z"
   },
   {
    "duration": 8,
    "start_time": "2024-03-25T16:48:32.736Z"
   },
   {
    "duration": 13,
    "start_time": "2024-03-25T16:48:32.746Z"
   },
   {
    "duration": 5,
    "start_time": "2024-03-25T16:48:32.761Z"
   },
   {
    "duration": 21,
    "start_time": "2024-03-25T16:48:32.768Z"
   },
   {
    "duration": 11,
    "start_time": "2024-03-25T16:48:32.791Z"
   },
   {
    "duration": 46,
    "start_time": "2024-03-25T16:48:32.818Z"
   },
   {
    "duration": 115,
    "start_time": "2024-03-25T16:48:32.866Z"
   },
   {
    "duration": 4,
    "start_time": "2024-03-25T16:48:32.983Z"
   },
   {
    "duration": 33,
    "start_time": "2024-03-25T16:48:32.989Z"
   },
   {
    "duration": 23,
    "start_time": "2024-03-25T16:48:33.025Z"
   },
   {
    "duration": 4,
    "start_time": "2024-03-25T16:48:33.049Z"
   },
   {
    "duration": 7,
    "start_time": "2024-03-25T16:48:33.055Z"
   },
   {
    "duration": 21,
    "start_time": "2024-03-25T16:48:33.064Z"
   },
   {
    "duration": 7,
    "start_time": "2024-03-25T16:48:33.087Z"
   },
   {
    "duration": 22,
    "start_time": "2024-03-25T16:48:33.118Z"
   },
   {
    "duration": 12,
    "start_time": "2024-03-25T16:48:33.142Z"
   },
   {
    "duration": 66,
    "start_time": "2024-03-25T16:48:33.156Z"
   },
   {
    "duration": 44,
    "start_time": "2024-03-25T16:48:33.225Z"
   },
   {
    "duration": 195,
    "start_time": "2024-03-25T16:48:33.271Z"
   },
   {
    "duration": 207,
    "start_time": "2024-03-25T16:48:33.468Z"
   },
   {
    "duration": 5,
    "start_time": "2024-03-25T16:48:33.676Z"
   },
   {
    "duration": 46,
    "start_time": "2024-03-25T16:48:33.683Z"
   },
   {
    "duration": 26,
    "start_time": "2024-03-25T16:48:33.730Z"
   },
   {
    "duration": 15,
    "start_time": "2024-03-25T16:48:33.758Z"
   },
   {
    "duration": 27,
    "start_time": "2024-03-25T16:48:33.774Z"
   },
   {
    "duration": 23,
    "start_time": "2024-03-25T16:48:33.819Z"
   },
   {
    "duration": 13,
    "start_time": "2024-03-25T16:48:33.843Z"
   },
   {
    "duration": 10,
    "start_time": "2024-03-25T16:48:33.857Z"
   },
   {
    "duration": 6,
    "start_time": "2024-03-25T16:48:33.869Z"
   },
   {
    "duration": 19,
    "start_time": "2024-03-25T16:48:33.876Z"
   },
   {
    "duration": 9,
    "start_time": "2024-03-25T16:48:33.919Z"
   },
   {
    "duration": 7,
    "start_time": "2024-03-25T16:48:33.930Z"
   },
   {
    "duration": 6,
    "start_time": "2024-03-25T16:48:33.939Z"
   },
   {
    "duration": 16,
    "start_time": "2024-03-25T16:48:33.946Z"
   },
   {
    "duration": 5,
    "start_time": "2024-03-25T16:48:33.964Z"
   },
   {
    "duration": 5,
    "start_time": "2024-03-25T16:48:33.974Z"
   },
   {
    "duration": 1692,
    "start_time": "2024-03-25T16:48:33.981Z"
   },
   {
    "duration": 173,
    "start_time": "2024-03-25T16:48:35.675Z"
   },
   {
    "duration": 6,
    "start_time": "2024-03-25T16:48:35.850Z"
   },
   {
    "duration": 255,
    "start_time": "2024-03-25T16:48:35.857Z"
   },
   {
    "duration": 1213,
    "start_time": "2024-03-26T09:20:29.815Z"
   },
   {
    "duration": 72,
    "start_time": "2024-03-26T09:20:31.030Z"
   },
   {
    "duration": 76,
    "start_time": "2024-03-26T09:20:31.104Z"
   },
   {
    "duration": 57,
    "start_time": "2024-03-26T09:20:31.182Z"
   },
   {
    "duration": 3,
    "start_time": "2024-03-26T09:20:31.241Z"
   },
   {
    "duration": 93,
    "start_time": "2024-03-26T09:20:31.245Z"
   },
   {
    "duration": 49,
    "start_time": "2024-03-26T09:20:31.339Z"
   },
   {
    "duration": 43,
    "start_time": "2024-03-26T09:20:31.389Z"
   },
   {
    "duration": 80,
    "start_time": "2024-03-26T09:20:31.433Z"
   },
   {
    "duration": 71,
    "start_time": "2024-03-26T09:20:31.515Z"
   },
   {
    "duration": 61,
    "start_time": "2024-03-26T09:20:31.587Z"
   },
   {
    "duration": 55,
    "start_time": "2024-03-26T09:20:31.650Z"
   },
   {
    "duration": 63,
    "start_time": "2024-03-26T09:20:31.706Z"
   },
   {
    "duration": 39,
    "start_time": "2024-03-26T09:20:31.770Z"
   },
   {
    "duration": 50,
    "start_time": "2024-03-26T09:20:31.811Z"
   },
   {
    "duration": 23,
    "start_time": "2024-03-26T09:20:31.863Z"
   },
   {
    "duration": 44,
    "start_time": "2024-03-26T09:20:31.888Z"
   },
   {
    "duration": 79,
    "start_time": "2024-03-26T09:20:31.934Z"
   },
   {
    "duration": 20,
    "start_time": "2024-03-26T09:20:32.015Z"
   },
   {
    "duration": 23,
    "start_time": "2024-03-26T09:20:32.036Z"
   },
   {
    "duration": 38,
    "start_time": "2024-03-26T09:20:32.061Z"
   },
   {
    "duration": 189,
    "start_time": "2024-03-26T09:20:32.101Z"
   },
   {
    "duration": 6,
    "start_time": "2024-03-26T09:20:32.292Z"
   },
   {
    "duration": 151,
    "start_time": "2024-03-26T09:20:32.299Z"
   },
   {
    "duration": 15,
    "start_time": "2024-03-26T09:20:32.451Z"
   },
   {
    "duration": 6,
    "start_time": "2024-03-26T09:20:32.468Z"
   },
   {
    "duration": 183,
    "start_time": "2024-03-26T09:20:32.475Z"
   },
   {
    "duration": 9,
    "start_time": "2024-03-26T09:20:32.667Z"
   },
   {
    "duration": 12,
    "start_time": "2024-03-26T09:20:32.677Z"
   },
   {
    "duration": 16,
    "start_time": "2024-03-26T09:20:32.691Z"
   },
   {
    "duration": 187,
    "start_time": "2024-03-26T09:20:32.709Z"
   },
   {
    "duration": 8,
    "start_time": "2024-03-26T09:20:32.898Z"
   },
   {
    "duration": 15,
    "start_time": "2024-03-26T09:20:32.907Z"
   },
   {
    "duration": 8,
    "start_time": "2024-03-26T09:20:32.924Z"
   },
   {
    "duration": 244,
    "start_time": "2024-03-26T09:20:32.934Z"
   },
   {
    "duration": 8,
    "start_time": "2024-03-26T09:20:33.180Z"
   },
   {
    "duration": 13,
    "start_time": "2024-03-26T09:20:33.189Z"
   },
   {
    "duration": 8,
    "start_time": "2024-03-26T09:20:33.204Z"
   },
   {
    "duration": 11,
    "start_time": "2024-03-26T09:20:33.213Z"
   },
   {
    "duration": 195,
    "start_time": "2024-03-26T09:20:33.225Z"
   },
   {
    "duration": 8,
    "start_time": "2024-03-26T09:20:33.421Z"
   },
   {
    "duration": 7,
    "start_time": "2024-03-26T09:20:33.431Z"
   },
   {
    "duration": 7,
    "start_time": "2024-03-26T09:20:33.439Z"
   },
   {
    "duration": 265,
    "start_time": "2024-03-26T09:20:33.447Z"
   },
   {
    "duration": 7,
    "start_time": "2024-03-26T09:20:33.714Z"
   },
   {
    "duration": 15,
    "start_time": "2024-03-26T09:20:33.722Z"
   },
   {
    "duration": 5,
    "start_time": "2024-03-26T09:20:33.739Z"
   },
   {
    "duration": 30,
    "start_time": "2024-03-26T09:20:33.745Z"
   },
   {
    "duration": 7,
    "start_time": "2024-03-26T09:20:33.777Z"
   },
   {
    "duration": 21,
    "start_time": "2024-03-26T09:20:33.786Z"
   },
   {
    "duration": 11,
    "start_time": "2024-03-26T09:20:33.809Z"
   },
   {
    "duration": 44,
    "start_time": "2024-03-26T09:20:33.822Z"
   },
   {
    "duration": 101,
    "start_time": "2024-03-26T09:20:33.868Z"
   },
   {
    "duration": 5,
    "start_time": "2024-03-26T09:20:33.970Z"
   },
   {
    "duration": 33,
    "start_time": "2024-03-26T09:20:33.976Z"
   },
   {
    "duration": 37,
    "start_time": "2024-03-26T09:20:34.011Z"
   },
   {
    "duration": 6,
    "start_time": "2024-03-26T09:20:34.050Z"
   },
   {
    "duration": 4,
    "start_time": "2024-03-26T09:20:34.057Z"
   },
   {
    "duration": 8,
    "start_time": "2024-03-26T09:20:34.063Z"
   },
   {
    "duration": 5,
    "start_time": "2024-03-26T09:20:34.072Z"
   },
   {
    "duration": 12,
    "start_time": "2024-03-26T09:20:34.078Z"
   },
   {
    "duration": 10,
    "start_time": "2024-03-26T09:20:34.092Z"
   },
   {
    "duration": 63,
    "start_time": "2024-03-26T09:20:34.104Z"
   },
   {
    "duration": 33,
    "start_time": "2024-03-26T09:20:34.168Z"
   },
   {
    "duration": 169,
    "start_time": "2024-03-26T09:20:34.202Z"
   },
   {
    "duration": 182,
    "start_time": "2024-03-26T09:20:34.372Z"
   },
   {
    "duration": 11,
    "start_time": "2024-03-26T09:20:34.555Z"
   },
   {
    "duration": 30,
    "start_time": "2024-03-26T09:20:34.568Z"
   },
   {
    "duration": 13,
    "start_time": "2024-03-26T09:20:34.600Z"
   },
   {
    "duration": 12,
    "start_time": "2024-03-26T09:20:34.615Z"
   },
   {
    "duration": 12,
    "start_time": "2024-03-26T09:20:34.628Z"
   },
   {
    "duration": 12,
    "start_time": "2024-03-26T09:20:34.666Z"
   },
   {
    "duration": 10,
    "start_time": "2024-03-26T09:20:34.680Z"
   },
   {
    "duration": 8,
    "start_time": "2024-03-26T09:20:34.692Z"
   },
   {
    "duration": 5,
    "start_time": "2024-03-26T09:20:34.702Z"
   },
   {
    "duration": 4,
    "start_time": "2024-03-26T09:20:34.708Z"
   },
   {
    "duration": 8,
    "start_time": "2024-03-26T09:20:34.713Z"
   },
   {
    "duration": 43,
    "start_time": "2024-03-26T09:20:34.723Z"
   },
   {
    "duration": 5,
    "start_time": "2024-03-26T09:20:34.767Z"
   },
   {
    "duration": 9,
    "start_time": "2024-03-26T09:20:34.773Z"
   },
   {
    "duration": 12,
    "start_time": "2024-03-26T09:20:34.783Z"
   },
   {
    "duration": 4,
    "start_time": "2024-03-26T09:20:34.799Z"
   },
   {
    "duration": 1596,
    "start_time": "2024-03-26T09:20:34.805Z"
   },
   {
    "duration": 142,
    "start_time": "2024-03-26T09:20:36.402Z"
   },
   {
    "duration": 6,
    "start_time": "2024-03-26T09:20:36.546Z"
   },
   {
    "duration": 285,
    "start_time": "2024-03-26T09:20:36.568Z"
   },
   {
    "duration": 1130,
    "start_time": "2024-03-26T09:33:50.007Z"
   },
   {
    "duration": 29,
    "start_time": "2024-03-26T09:33:51.139Z"
   },
   {
    "duration": 28,
    "start_time": "2024-03-26T09:33:51.169Z"
   },
   {
    "duration": 17,
    "start_time": "2024-03-26T09:33:51.199Z"
   },
   {
    "duration": 3,
    "start_time": "2024-03-26T09:33:51.217Z"
   },
   {
    "duration": 47,
    "start_time": "2024-03-26T09:33:51.221Z"
   },
   {
    "duration": 22,
    "start_time": "2024-03-26T09:33:51.270Z"
   },
   {
    "duration": 17,
    "start_time": "2024-03-26T09:33:51.293Z"
   },
   {
    "duration": 22,
    "start_time": "2024-03-26T09:33:51.311Z"
   },
   {
    "duration": 21,
    "start_time": "2024-03-26T09:33:51.336Z"
   },
   {
    "duration": 46,
    "start_time": "2024-03-26T09:33:51.359Z"
   },
   {
    "duration": 36,
    "start_time": "2024-03-26T09:33:51.406Z"
   },
   {
    "duration": 8,
    "start_time": "2024-03-26T09:33:51.443Z"
   },
   {
    "duration": 9,
    "start_time": "2024-03-26T09:33:51.452Z"
   },
   {
    "duration": 15,
    "start_time": "2024-03-26T09:33:51.463Z"
   },
   {
    "duration": 13,
    "start_time": "2024-03-26T09:33:51.479Z"
   },
   {
    "duration": 19,
    "start_time": "2024-03-26T09:33:51.494Z"
   },
   {
    "duration": 18,
    "start_time": "2024-03-26T09:33:51.514Z"
   },
   {
    "duration": 4,
    "start_time": "2024-03-26T09:33:51.533Z"
   },
   {
    "duration": 8,
    "start_time": "2024-03-26T09:33:51.539Z"
   },
   {
    "duration": 16,
    "start_time": "2024-03-26T09:33:51.549Z"
   },
   {
    "duration": 184,
    "start_time": "2024-03-26T09:33:51.567Z"
   },
   {
    "duration": 6,
    "start_time": "2024-03-26T09:33:51.753Z"
   },
   {
    "duration": 153,
    "start_time": "2024-03-26T09:33:51.765Z"
   },
   {
    "duration": 9,
    "start_time": "2024-03-26T09:33:51.919Z"
   },
   {
    "duration": 10,
    "start_time": "2024-03-26T09:33:51.931Z"
   },
   {
    "duration": 180,
    "start_time": "2024-03-26T09:33:51.944Z"
   },
   {
    "duration": 8,
    "start_time": "2024-03-26T09:33:52.129Z"
   },
   {
    "duration": 54,
    "start_time": "2024-03-26T09:33:52.139Z"
   },
   {
    "duration": 21,
    "start_time": "2024-03-26T09:33:52.195Z"
   },
   {
    "duration": 220,
    "start_time": "2024-03-26T09:33:52.217Z"
   },
   {
    "duration": 9,
    "start_time": "2024-03-26T09:33:52.439Z"
   },
   {
    "duration": 19,
    "start_time": "2024-03-26T09:33:52.449Z"
   },
   {
    "duration": 10,
    "start_time": "2024-03-26T09:33:52.470Z"
   },
   {
    "duration": 252,
    "start_time": "2024-03-26T09:33:52.482Z"
   },
   {
    "duration": 8,
    "start_time": "2024-03-26T09:33:52.736Z"
   },
   {
    "duration": 7,
    "start_time": "2024-03-26T09:33:52.745Z"
   },
   {
    "duration": 9,
    "start_time": "2024-03-26T09:33:52.765Z"
   },
   {
    "duration": 32,
    "start_time": "2024-03-26T09:33:52.776Z"
   },
   {
    "duration": 196,
    "start_time": "2024-03-26T09:33:52.810Z"
   },
   {
    "duration": 10,
    "start_time": "2024-03-26T09:33:53.008Z"
   },
   {
    "duration": 8,
    "start_time": "2024-03-26T09:33:53.020Z"
   },
   {
    "duration": 9,
    "start_time": "2024-03-26T09:33:53.030Z"
   },
   {
    "duration": 304,
    "start_time": "2024-03-26T09:33:53.041Z"
   },
   {
    "duration": 8,
    "start_time": "2024-03-26T09:33:53.347Z"
   },
   {
    "duration": 8,
    "start_time": "2024-03-26T09:33:53.365Z"
   },
   {
    "duration": 7,
    "start_time": "2024-03-26T09:33:53.375Z"
   },
   {
    "duration": 6,
    "start_time": "2024-03-26T09:33:53.383Z"
   },
   {
    "duration": 7,
    "start_time": "2024-03-26T09:33:53.390Z"
   },
   {
    "duration": 18,
    "start_time": "2024-03-26T09:33:53.398Z"
   },
   {
    "duration": 15,
    "start_time": "2024-03-26T09:33:53.418Z"
   },
   {
    "duration": 33,
    "start_time": "2024-03-26T09:33:53.467Z"
   },
   {
    "duration": 112,
    "start_time": "2024-03-26T09:33:53.501Z"
   },
   {
    "duration": 5,
    "start_time": "2024-03-26T09:33:53.615Z"
   },
   {
    "duration": 19,
    "start_time": "2024-03-26T09:33:53.622Z"
   },
   {
    "duration": 38,
    "start_time": "2024-03-26T09:33:53.642Z"
   },
   {
    "duration": 3,
    "start_time": "2024-03-26T09:33:53.682Z"
   },
   {
    "duration": 4,
    "start_time": "2024-03-26T09:33:53.687Z"
   },
   {
    "duration": 14,
    "start_time": "2024-03-26T09:33:53.693Z"
   },
   {
    "duration": 6,
    "start_time": "2024-03-26T09:33:53.709Z"
   },
   {
    "duration": 12,
    "start_time": "2024-03-26T09:33:53.717Z"
   },
   {
    "duration": 45,
    "start_time": "2024-03-26T09:33:53.731Z"
   },
   {
    "duration": 36,
    "start_time": "2024-03-26T09:33:53.778Z"
   },
   {
    "duration": 54,
    "start_time": "2024-03-26T09:33:53.816Z"
   },
   {
    "duration": 173,
    "start_time": "2024-03-26T09:33:53.872Z"
   },
   {
    "duration": 192,
    "start_time": "2024-03-26T09:33:54.047Z"
   },
   {
    "duration": 5,
    "start_time": "2024-03-26T09:33:54.241Z"
   },
   {
    "duration": 41,
    "start_time": "2024-03-26T09:33:54.248Z"
   },
   {
    "duration": 16,
    "start_time": "2024-03-26T09:33:54.291Z"
   },
   {
    "duration": 21,
    "start_time": "2024-03-26T09:33:54.309Z"
   },
   {
    "duration": 33,
    "start_time": "2024-03-26T09:33:54.332Z"
   },
   {
    "duration": 12,
    "start_time": "2024-03-26T09:33:54.367Z"
   },
   {
    "duration": 12,
    "start_time": "2024-03-26T09:33:54.380Z"
   },
   {
    "duration": 11,
    "start_time": "2024-03-26T09:33:54.393Z"
   },
   {
    "duration": 16,
    "start_time": "2024-03-26T09:33:54.405Z"
   },
   {
    "duration": 5,
    "start_time": "2024-03-26T09:33:54.423Z"
   },
   {
    "duration": 9,
    "start_time": "2024-03-26T09:33:54.429Z"
   },
   {
    "duration": 28,
    "start_time": "2024-03-26T09:33:54.439Z"
   },
   {
    "duration": 8,
    "start_time": "2024-03-26T09:33:54.469Z"
   },
   {
    "duration": 5,
    "start_time": "2024-03-26T09:33:54.478Z"
   },
   {
    "duration": 8,
    "start_time": "2024-03-26T09:33:54.485Z"
   },
   {
    "duration": 4,
    "start_time": "2024-03-26T09:33:54.499Z"
   },
   {
    "duration": 1558,
    "start_time": "2024-03-26T09:33:54.504Z"
   },
   {
    "duration": 147,
    "start_time": "2024-03-26T09:33:56.065Z"
   },
   {
    "duration": 5,
    "start_time": "2024-03-26T09:33:56.214Z"
   },
   {
    "duration": 260,
    "start_time": "2024-03-26T09:33:56.221Z"
   },
   {
    "duration": 1220,
    "start_time": "2024-08-13T02:41:47.511Z"
   },
   {
    "duration": 76,
    "start_time": "2024-08-13T02:41:48.733Z"
   },
   {
    "duration": 163,
    "start_time": "2024-08-13T02:41:48.810Z"
   },
   {
    "duration": 69,
    "start_time": "2024-08-13T02:41:48.975Z"
   },
   {
    "duration": 4,
    "start_time": "2024-08-13T02:41:49.046Z"
   },
   {
    "duration": 33,
    "start_time": "2024-08-13T02:41:49.051Z"
   },
   {
    "duration": 21,
    "start_time": "2024-08-13T02:41:49.085Z"
   },
   {
    "duration": 14,
    "start_time": "2024-08-13T02:41:49.108Z"
   },
   {
    "duration": 6,
    "start_time": "2024-08-13T02:41:49.123Z"
   },
   {
    "duration": 26,
    "start_time": "2024-08-13T02:41:49.131Z"
   },
   {
    "duration": 86,
    "start_time": "2024-08-13T02:41:49.159Z"
   },
   {
    "duration": 74,
    "start_time": "2024-08-13T02:41:49.246Z"
   },
   {
    "duration": 34,
    "start_time": "2024-08-13T02:41:49.322Z"
   },
   {
    "duration": 17,
    "start_time": "2024-08-13T02:41:49.358Z"
   },
   {
    "duration": 7,
    "start_time": "2024-08-13T02:41:49.377Z"
   },
   {
    "duration": 16,
    "start_time": "2024-08-13T02:41:49.385Z"
   },
   {
    "duration": 10,
    "start_time": "2024-08-13T02:41:49.402Z"
   },
   {
    "duration": 15,
    "start_time": "2024-08-13T02:41:49.413Z"
   },
   {
    "duration": 5,
    "start_time": "2024-08-13T02:41:49.430Z"
   },
   {
    "duration": 12,
    "start_time": "2024-08-13T02:41:49.437Z"
   },
   {
    "duration": 7,
    "start_time": "2024-08-13T02:41:49.450Z"
   },
   {
    "duration": 137,
    "start_time": "2024-08-13T02:41:49.458Z"
   },
   {
    "duration": 6,
    "start_time": "2024-08-13T02:41:49.596Z"
   },
   {
    "duration": 178,
    "start_time": "2024-08-13T02:41:49.603Z"
   },
   {
    "duration": 6,
    "start_time": "2024-08-13T02:41:49.782Z"
   },
   {
    "duration": 13,
    "start_time": "2024-08-13T02:41:49.790Z"
   },
   {
    "duration": 323,
    "start_time": "2024-08-13T02:41:49.804Z"
   },
   {
    "duration": 8,
    "start_time": "2024-08-13T02:41:50.131Z"
   },
   {
    "duration": 19,
    "start_time": "2024-08-13T02:41:50.140Z"
   },
   {
    "duration": 17,
    "start_time": "2024-08-13T02:41:50.160Z"
   },
   {
    "duration": 158,
    "start_time": "2024-08-13T02:41:50.178Z"
   },
   {
    "duration": 7,
    "start_time": "2024-08-13T02:41:50.338Z"
   },
   {
    "duration": 18,
    "start_time": "2024-08-13T02:41:50.346Z"
   },
   {
    "duration": 36,
    "start_time": "2024-08-13T02:41:50.365Z"
   },
   {
    "duration": 222,
    "start_time": "2024-08-13T02:41:50.403Z"
   },
   {
    "duration": 7,
    "start_time": "2024-08-13T02:41:50.626Z"
   },
   {
    "duration": 17,
    "start_time": "2024-08-13T02:41:50.634Z"
   },
   {
    "duration": 5,
    "start_time": "2024-08-13T02:41:50.652Z"
   },
   {
    "duration": 22,
    "start_time": "2024-08-13T02:41:50.658Z"
   },
   {
    "duration": 163,
    "start_time": "2024-08-13T02:41:50.682Z"
   },
   {
    "duration": 7,
    "start_time": "2024-08-13T02:41:50.846Z"
   },
   {
    "duration": 16,
    "start_time": "2024-08-13T02:41:50.854Z"
   },
   {
    "duration": 6,
    "start_time": "2024-08-13T02:41:50.871Z"
   },
   {
    "duration": 216,
    "start_time": "2024-08-13T02:41:50.879Z"
   },
   {
    "duration": 8,
    "start_time": "2024-08-13T02:41:51.096Z"
   },
   {
    "duration": 14,
    "start_time": "2024-08-13T02:41:51.105Z"
   },
   {
    "duration": 21,
    "start_time": "2024-08-13T02:41:51.120Z"
   },
   {
    "duration": 84,
    "start_time": "2024-08-13T02:41:51.142Z"
   },
   {
    "duration": 84,
    "start_time": "2024-08-13T02:41:51.227Z"
   },
   {
    "duration": 25,
    "start_time": "2024-08-13T02:41:51.312Z"
   },
   {
    "duration": 22,
    "start_time": "2024-08-13T02:41:51.339Z"
   },
   {
    "duration": 49,
    "start_time": "2024-08-13T02:41:51.362Z"
   },
   {
    "duration": 71,
    "start_time": "2024-08-13T02:41:51.412Z"
   },
   {
    "duration": 3,
    "start_time": "2024-08-13T02:41:51.485Z"
   },
   {
    "duration": 26,
    "start_time": "2024-08-13T02:41:51.489Z"
   },
   {
    "duration": 12,
    "start_time": "2024-08-13T02:41:51.516Z"
   },
   {
    "duration": 26,
    "start_time": "2024-08-13T02:41:51.529Z"
   },
   {
    "duration": 28,
    "start_time": "2024-08-13T02:41:51.556Z"
   },
   {
    "duration": 82,
    "start_time": "2024-08-13T02:41:51.585Z"
   },
   {
    "duration": 22,
    "start_time": "2024-08-13T02:41:51.668Z"
   },
   {
    "duration": 19,
    "start_time": "2024-08-13T02:41:51.691Z"
   },
   {
    "duration": 10,
    "start_time": "2024-08-13T02:41:51.711Z"
   },
   {
    "duration": 41,
    "start_time": "2024-08-13T02:41:51.722Z"
   },
   {
    "duration": 28,
    "start_time": "2024-08-13T02:41:51.764Z"
   },
   {
    "duration": 210,
    "start_time": "2024-08-13T02:41:51.793Z"
   },
   {
    "duration": 158,
    "start_time": "2024-08-13T02:41:52.004Z"
   },
   {
    "duration": 4,
    "start_time": "2024-08-13T02:41:52.164Z"
   },
   {
    "duration": 40,
    "start_time": "2024-08-13T02:41:52.170Z"
   },
   {
    "duration": 17,
    "start_time": "2024-08-13T02:41:52.212Z"
   },
   {
    "duration": 27,
    "start_time": "2024-08-13T02:41:52.230Z"
   },
   {
    "duration": 17,
    "start_time": "2024-08-13T02:41:52.259Z"
   },
   {
    "duration": 19,
    "start_time": "2024-08-13T02:41:52.278Z"
   },
   {
    "duration": 12,
    "start_time": "2024-08-13T02:41:52.301Z"
   },
   {
    "duration": 8,
    "start_time": "2024-08-13T02:41:52.314Z"
   },
   {
    "duration": 16,
    "start_time": "2024-08-13T02:41:52.323Z"
   },
   {
    "duration": 6,
    "start_time": "2024-08-13T02:41:52.340Z"
   },
   {
    "duration": 11,
    "start_time": "2024-08-13T02:41:52.347Z"
   },
   {
    "duration": 17,
    "start_time": "2024-08-13T02:41:52.359Z"
   },
   {
    "duration": 7,
    "start_time": "2024-08-13T02:41:52.378Z"
   },
   {
    "duration": 12,
    "start_time": "2024-08-13T02:41:52.387Z"
   },
   {
    "duration": 13,
    "start_time": "2024-08-13T02:41:52.401Z"
   },
   {
    "duration": 14,
    "start_time": "2024-08-13T02:41:52.419Z"
   },
   {
    "duration": 1170,
    "start_time": "2024-08-13T02:41:52.435Z"
   },
   {
    "duration": 127,
    "start_time": "2024-08-13T02:41:53.607Z"
   },
   {
    "duration": 5,
    "start_time": "2024-08-13T02:41:53.735Z"
   },
   {
    "duration": 244,
    "start_time": "2024-08-13T02:41:53.741Z"
   }
  ],
  "kernelspec": {
   "display_name": "Python 3 (ipykernel)",
   "language": "python",
   "name": "python3"
  },
  "language_info": {
   "codemirror_mode": {
    "name": "ipython",
    "version": 3
   },
   "file_extension": ".py",
   "mimetype": "text/x-python",
   "name": "python",
   "nbconvert_exporter": "python",
   "pygments_lexer": "ipython3",
   "version": "3.11.5"
  },
  "toc": {
   "base_numbering": 1,
   "nav_menu": {},
   "number_sections": true,
   "sideBar": true,
   "skip_h1_title": true,
   "title_cell": "Table of Contents",
   "title_sidebar": "Contents",
   "toc_cell": false,
   "toc_position": {
    "height": "calc(100% - 180px)",
    "left": "10px",
    "top": "150px",
    "width": "426.667px"
   },
   "toc_section_display": true,
   "toc_window_display": true
  }
 },
 "nbformat": 4,
 "nbformat_minor": 5
}
